{
 "cells": [
  {
   "cell_type": "markdown",
   "id": "d5cfa5c5",
   "metadata": {},
   "source": [
    "# Import libraries\n",
    "Download any libraries that you don't have."
   ]
  },
  {
   "cell_type": "code",
   "execution_count": 16,
   "id": "2132e8e7",
   "metadata": {},
   "outputs": [],
   "source": [
    "from collections import Counter\n",
    "import pandas as pd\n",
    "import numpy as np\n",
    "from sklearn.decomposition import PCA\n",
    "from umap.umap_ import UMAP\n",
    "import plotly.express as px\n",
    "from sklearn.cluster import KMeans\n",
    "#from sklearn.neighbors import NearestNeighbors\n",
    "from sklearn.metrics import silhouette_score\n",
    "from sklearn.metrics.pairwise import cosine_similarity\n",
    "import matplotlib.pyplot as plt\n",
    "import seaborn as sns\n",
    "import statsmodels.api as sm\n",
    "from statsmodels.formula.api import ols\n",
    "from statsmodels.stats.multitest import multipletests\n",
    "from sklearn.preprocessing import StandardScaler"
   ]
  },
  {
   "cell_type": "markdown",
   "id": "5810d433",
   "metadata": {},
   "source": [
    "# Setup\n",
    "Create a configuration dictionary and functions used throughout the script"
   ]
  },
  {
   "cell_type": "code",
   "execution_count": 17,
   "id": "f5234bad",
   "metadata": {},
   "outputs": [],
   "source": [
    "# Create a configuration dictionary to store parameters\n",
    "config = {\n",
    "    'file_path': 'faculty_mesh_terms_matrix.xlsx',\n",
    "    'pca_components_to_try': range(1, 7),\n",
    "    'final_pca_components': 5,\n",
    "    #'dbscan_eps': 0.05,\n",
    "    #'dbscan_min_samples': 2,\n",
    "    #'leiden_resolution_pca': 0.2,\n",
    "    #'leiden_resolution_umap': 0.8,\n",
    "    'kmeans_n_clusters': 5,\n",
    "    'silhouette_k_range': range(2, 20),\n",
    "    'anova_alpha': 0.05,\n",
    "    'top_n_features_to_plot': 10,\n",
    "    'cluster_output_path': 'Professors_in_clusters.csv',\n",
    "    'anova_output_path': 'significant_terms_per_cluster.csv', \n",
    "    'top_mesh_terms_output_path': 'Top_Mesh_Terms_Per_Professor.csv',\n",
    "}\n",
    "\n",
    "# Create a function to load and preprocess the data\n",
    "def load_and_preprocess_data(file_path, index_col='Faculty_Full_Name'):\n",
    "    \"\"\"Loads and preprocesses the raw data.\"\"\"\n",
    "    raw_data = pd.read_excel(file_path, index_col=index_col)\n",
    "    raw_data.reset_index(inplace=True)\n",
    "    faculty_names_df = pd.read_excel(file_path, usecols=['Faculty_Full_Name'])\n",
    "    feature_matrix = raw_data.drop(columns=['Faculty_Full_Name'])\n",
    "    raw_data.columns = raw_data.columns.str.replace(' ', '_').str.replace('-', '_').str.replace(',', '_')\n",
    "    feature_matrix.columns = feature_matrix.columns.str.replace(' ', '_').str.replace('-', '_').str.replace(',', '_')\n",
    "    return raw_data, feature_matrix, faculty_names_df\n",
    "\n",
    "# Create a function to format the figures\n",
    "def fig_show(fig):\n",
    "    fig.update_layout(plot_bgcolor='#255799')\n",
    "    fig.update_xaxes(title_text=\"\")\n",
    "    fig.update_yaxes(title_text=\"\")\n",
    "    fig.update_xaxes(showticklabels=False)\n",
    "    fig.update_yaxes(showticklabels=False)\n",
    "    fig.show()\n",
    "\n",
    "raw_data, feature_matrix, faculty_names_df = load_and_preprocess_data(config['file_path'])"
   ]
  },
  {
   "cell_type": "markdown",
   "id": "2481bfe1",
   "metadata": {},
   "source": [
    "# Calculate the top 5 MeSH terms for each faculty member"
   ]
  },
  {
   "cell_type": "code",
   "execution_count": 18,
   "id": "6ab33ca8",
   "metadata": {},
   "outputs": [],
   "source": [
    "mesh_term_columns = [col for col in feature_matrix.columns]\n",
    "top_mesh_terms_list = []\n",
    "faculty_names = []\n",
    "\n",
    "for index, row in raw_data.iterrows():\n",
    "    professor_name = row['Faculty_Full_Name']\n",
    "    mesh_term_counts = Counter()\n",
    "    \n",
    "    for term in mesh_term_columns:\n",
    "        count = row[term]\n",
    "        if isinstance(count, (int, float)) and count > 0:\n",
    "            mesh_term_counts[term] = count\n",
    "\n",
    "    top_mesh_terms = [term for term, count in mesh_term_counts.most_common(5)]\n",
    "    top_mesh_terms_list.append(top_mesh_terms)\n",
    "    faculty_names.append(professor_name)\n",
    "\n",
    "top_mesh_terms_df = pd.DataFrame({'Faculty_Full_Name': faculty_names, 'Top_Mesh_Terms': top_mesh_terms_list})\n",
    "top_mesh_terms_df.set_index('Faculty_Full_Name', inplace=True)\n",
    "top_mesh_terms_df.to_csv(config['top_mesh_terms_output_path'])"
   ]
  },
  {
   "cell_type": "markdown",
   "id": "7ddf1039",
   "metadata": {},
   "source": [
    "# Principal Component Analysis (PCA)"
   ]
  },
  {
   "cell_type": "code",
   "execution_count": 19,
   "id": "370c3001",
   "metadata": {},
   "outputs": [
    {
     "data": {
      "image/png": "[encoded data removed]",
      "text/plain": [
       "<Figure size 640x480 with 1 Axes>"
      ]
     },
     "metadata": {},
     "output_type": "display_data"
    },
    {
     "name": "stdout",
     "output_type": "stream",
     "text": [
      "The plot below shows that the faculty members are not well separated with just two components. Therefore, additional components are needed to further separate the faculty members. A couple of outliers appear and who may be driving differences.\n"
     ]
    },
    {
     "data": {
      "application/vnd.plotly.v1+json": {
       "config": {
        "plotlyServerURL": "https://plot.ly"
       },
       "data": [
        {
         "customdata": [
          [
           [
            "Soil",
            "Droughts",
            "Resilience__Psychological",
            "Temperature",
            "Interdisciplinary_Research"
           ]
          ],
          [
           [
            "Phosphorylation",
            "Computational_Biology",
            "Genetics",
            "Hippo_Signaling_Pathway",
            "Cell_Line__Tumor"
           ]
          ],
          [
           [
            "Molecular_Biology",
            "Immunity",
            "Carcinogenesis",
            "T_Lymphocytes",
            "Phosphorylation"
           ]
          ],
          [
           [
            "Biomechanical_Phenomena",
            "Aging",
            "Temperature"
           ]
          ],
          [
           []
          ],
          [
           [
            "Phosphorylation",
            "Ligands",
            "Diabetes_Mellitus",
            "Child",
            "Alleles"
           ]
          ],
          [
           [
            "Obesity",
            "Pregnancy",
            "Chromatin",
            "Multiomics",
            "DNA"
           ]
          ],
          [
           [
            "Induced_Pluripotent_Stem_Cells",
            "Cytokines",
            "Macrophages",
            "Disease_Progression",
            "Monocytes"
           ]
          ],
          [
           [
            "Biodiversity",
            "Ecological_and_Environmental_Phenomena"
           ]
          ],
          [
           [
            "Phylogeny",
            "Clustered_Regularly_Interspaced_Short_Palindromic_Repeats",
            "Evolution__Molecular"
           ]
          ],
          [
           []
          ],
          [
           [
            "Down_Syndrome",
            "Cognitive_Dysfunction",
            "Proteomics",
            "Pregnancy",
            "Amyloid_beta_Peptides"
           ]
          ],
          [
           [
            "Magnetic_Resonance_Imaging"
           ]
          ],
          [
           [
            "Gene_Regulatory_Networks",
            "Chromatin",
            "Multiomics",
            "Cell_Differentiation",
            "Computational_Biology"
           ]
          ],
          [
           [
            "Neuroimaging",
            "Magnetic_Resonance_Imaging",
            "Pregnancy",
            "Computer_Simulation",
            "Adolescent"
           ]
          ],
          [
           [
            "Cell_Line",
            "Computational_Biology",
            "Aging"
           ]
          ],
          [
           [
            "Magnetic_Resonance_Imaging",
            "Temperature",
            "Genotype",
            "Ligands"
           ]
          ],
          [
           [
            "Synapses"
           ]
          ],
          [
           [
            "Diet",
            "Temperature"
           ]
          ],
          [
           [
            "Neuronal_Plasticity",
            "Synapses",
            "Astrocytes",
            "Apoptosis",
            "Proteomics"
           ]
          ],
          [
           [
            "Biomechanical_Phenomena",
            "Resilience__Psychological",
            "Interdisciplinary_Research",
            "Computer_Simulation"
           ]
          ],
          [
           [
            "Neurodegenerative_Diseases",
            "Stem_Cells",
            "Chromatin",
            "Cell_Line"
           ]
          ],
          [
           [
            "Antiviral_Agents",
            "Virus_Diseases",
            "RNA",
            "Cell_Line",
            "Single_Cell_Gene_Expression_Analysis"
           ]
          ],
          [
           [
            "CRISPR_Cas_Systems",
            "Tumor_Microenvironment",
            "Nutrients",
            "Ligands",
            "Alleles"
           ]
          ],
          [
           [
            "Genotype",
            "Alleles",
            "Evolution__Molecular",
            "Chromatin",
            "Gene_Regulatory_Networks"
           ]
          ],
          [
           [
            "Zebrafish",
            "Cell_Communication",
            "Macrophages"
           ]
          ],
          [
           [
            "Temperature",
            "Soil",
            "Resilience__Psychological",
            "Droughts",
            "Computer_Simulation"
           ]
          ],
          [
           [
            "Substance_Related_Disorders"
           ]
          ],
          [
           [
            "Nicotine",
            "Chromatin",
            "Microscopy",
            "Clustered_Regularly_Interspaced_Short_Palindromic_Repeats",
            "Cocaine"
           ]
          ],
          [
           [
            "Biological_Evolution",
            "Computer_Simulation",
            "Computational_Biology",
            "Ecological_and_Environmental_Phenomena",
            "Genetics"
           ]
          ],
          [
           [
            "Astrocytes",
            "Magnetic_Resonance_Imaging",
            "Neuronal_Plasticity",
            "Neuroimaging"
           ]
          ],
          [
           [
            "Cell_Line",
            "Cell_Proliferation",
            "Apoptosis",
            "Child",
            "Heterografts"
           ]
          ],
          [
           [
            "Genetic_Variation",
            "Chromatin",
            "Epigenomics",
            "Temperature",
            "Droughts"
           ]
          ],
          [
           [
            "Diet",
            "Zebrafish",
            "Proteomics",
            "Temperature",
            "Ecological_and_Environmental_Phenomena"
           ]
          ],
          [
           [
            "Proteomics",
            "Mass_Spectrometry",
            "Escherichia_coli",
            "DNA",
            "Antiviral_Agents"
           ]
          ],
          [
           [
            "Aging",
            "Bacteriophages",
            "Immunity",
            "Neurodegenerative_Diseases",
            "Amyloid_beta_Peptides"
           ]
          ],
          [
           [
            "Cryoelectron_Microscopy",
            "Bacteriophages",
            "Microscopy",
            "Gastrointestinal_Microbiome",
            "Anti_Bacterial_Agents"
           ]
          ],
          [
           [
            "Anti_Bacterial_Agents",
            "Pandemics",
            "Nutrients",
            "Molecular_Biology",
            "Ligands"
           ]
          ],
          [
           [
            "Cell_Proliferation",
            "Amyloid_beta_Peptides",
            "Monocytes",
            "Bone_Marrow",
            "Macrophages"
           ]
          ],
          [
           [
            "Ligands",
            "Magnetic_Resonance_Imaging",
            "Neuroimaging",
            "Child",
            "Oxidation_Reduction"
           ]
          ],
          [
           [
            "Amyloid_beta_Peptides",
            "Aged__80_and_over",
            "Cognitive_Dysfunction",
            "Disease_Progression",
            "Neurodegenerative_Diseases"
           ]
          ],
          [
           [
            "Neurodegenerative_Diseases",
            "Anti_Bacterial_Agents",
            "Computer_Simulation",
            "Anti_Infective_Agents",
            "Computational_Biology"
           ]
          ],
          [
           [
            "Pancreatic_Neoplasms",
            "Tumor_Microenvironment",
            "Fibroblasts",
            "Oxidation_Reduction",
            "Liver_Neoplasms"
           ]
          ],
          [
           [
            "Gastrointestinal_Microbiome",
            "Parasites",
            "Ecological_and_Environmental_Phenomena",
            "Genetics",
            "Diet"
           ]
          ],
          [
           [
            "Nitrogenase",
            "Escherichia_coli",
            "Cell_Line__Tumor",
            "Aged__80_and_over",
            "Phylogeny"
           ]
          ],
          [
           [
            "Colorectal_Neoplasms",
            "Incidence",
            "Survival_Rate",
            "Astrocytes",
            "Tumor_Microenvironment"
           ]
          ],
          [
           [
            "Temperature",
            "Ecological_and_Environmental_Phenomena",
            "Soil",
            "Nutrients",
            "Biodiversity"
           ]
          ],
          [
           [
            "Hematopoietic_Stem_Cell_Transplantation",
            "Graft_vs_Host_Disease",
            "T_Lymphocytes__Regulatory",
            "Bone_Marrow",
            "Apoptosis"
           ]
          ],
          [
           [
            "CRISPR_Cas_Systems",
            "Genetics",
            "RNA",
            "Magnetic_Resonance_Imaging",
            "Cell_Death"
           ]
          ],
          [
           [
            "Aged__80_and_over",
            "Cognitive_Dysfunction",
            "Aging",
            "Magnetic_Resonance_Imaging",
            "Incidence"
           ]
          ],
          [
           [
            "Adolescent",
            "Genotype"
           ]
          ],
          [
           [
            "Colorectal_Neoplasms",
            "Nutrients",
            "Carcinogenesis",
            "Heterografts",
            "AMP_Activated_Protein_Kinases"
           ]
          ],
          [
           []
          ],
          [
           [
            "Chromatin",
            "Organoids",
            "Alleles",
            "Phylogeny",
            "Evolution__Molecular"
           ]
          ],
          [
           [
            "Amyloid_beta_Peptides",
            "Proteomics",
            "Aged__80_and_over",
            "Induced_Pluripotent_Stem_Cells",
            "Single_Cell_Gene_Expression_Analysis"
           ]
          ],
          [
           [
            "Temperature",
            "Ecological_and_Environmental_Phenomena",
            "Biodiversity"
           ]
          ],
          [
           [
            "Stem_Cells",
            "RNA",
            "Cell_Differentiation",
            "Computational_Biology",
            "Single_Cell_Analysis"
           ]
          ],
          [
           [
            "COVID_19",
            "Neuroinflammatory_Diseases",
            "Pandemics",
            "Multiple_Sclerosis",
            "Virus_Diseases"
           ]
          ],
          [
           [
            "Aging",
            "Cell_Proliferation",
            "Cues",
            "Cell_Differentiation",
            "Microscopy"
           ]
          ],
          [
           [
            "Parasites",
            "Diet",
            "Epigenomics",
            "Evolution__Molecular",
            "Nutrients"
           ]
          ],
          [
           [
            "Toxoplasma",
            "Parasites",
            "Monocytes",
            "Phagocytosis",
            "Cytokines"
           ]
          ],
          [
           [
            "Genotype",
            "Aging",
            "Macrophages",
            "Persistent_Infection",
            "CRISPR_Cas_Systems"
           ]
          ],
          [
           [
            "Computational_Biology",
            "T_Lymphocytes",
            "Hippo_Signaling_Pathway",
            "Escherichia_coli",
            "Cell_Line__Tumor"
           ]
          ],
          [
           [
            "Aging",
            "Synapses",
            "Computer_Simulation",
            "Memory_Consolidation",
            "Genetics"
           ]
          ],
          [
           [
            "Temperature",
            "Ecological_and_Environmental_Phenomena"
           ]
          ],
          [
           [
            "Amyloid_beta_Peptides",
            "Gastrointestinal_Microbiome",
            "Astrocytes",
            "Disease_Progression",
            "T_Lymphocytes__Regulatory"
           ]
          ],
          [
           [
            "Reward",
            "Substance_Related_Disorders",
            "Genetics",
            "Adolescent",
            "Neuronal_Plasticity"
           ]
          ],
          [
           [
            "Biomechanical_Phenomena",
            "Biological_Evolution",
            "Ecological_and_Environmental_Phenomena",
            "Evolution__Molecular",
            "Phylogeny"
           ]
          ],
          [
           [
            "Temperature",
            "Ecological_and_Environmental_Phenomena",
            "Biodiversity",
            "Genetics",
            "Anti_Bacterial_Agents"
           ]
          ],
          [
           [
            "Soil",
            "Gastrointestinal_Microbiome",
            "Diet",
            "Diabetes_Mellitus",
            "Anti_Bacterial_Agents"
           ]
          ],
          [
           [
            "Biomechanical_Phenomena",
            "Cues",
            "Ecological_and_Environmental_Phenomena",
            "Zebrafish"
           ]
          ],
          [
           [
            "Sleep",
            "Cues",
            "Neuronal_Plasticity",
            "Synapses",
            "Memory_Consolidation"
           ]
          ],
          [
           [
            "Inflammasomes",
            "NLR_Family__Pyrin_Domain_Containing_3_Protein",
            "Cryoelectron_Microscopy",
            "CRISPR_Cas_Systems",
            "Apoptosis"
           ]
          ],
          [
           [
            "Nicotine",
            "Cognitive_Dysfunction"
           ]
          ],
          [
           [
            "Biological_Evolution",
            "Droughts",
            "Alleles",
            "Genetic_Variation",
            "Biodiversity"
           ]
          ],
          [
           [
            "Immunity__Innate",
            "Virus_Diseases",
            "Antiviral_Agents",
            "Incidence",
            "Pandemics"
           ]
          ],
          [
           [
            "Parasites",
            "Toxoplasma",
            "Ligands",
            "Fibroblasts"
           ]
          ],
          [
           [
            "Aging",
            "Amyloid_beta_Peptides",
            "Gene_Regulatory_Networks",
            "Single_Cell_Analysis",
            "Chromatin"
           ]
          ],
          [
           [
            "Cytokines",
            "Flow_Cytometry",
            "Cell_Line",
            "Single_Cell_Gene_Expression_Analysis",
            "T_Lymphocytes"
           ]
          ],
          [
           [
            "Cell_Communication",
            "Gene_Regulatory_Networks",
            "Single_Cell_Analysis",
            "Single_Cell_Gene_Expression_Analysis",
            "Computational_Biology"
           ]
          ],
          [
           [
            "Zebrafish",
            "Pancreatic_Neoplasms",
            "Gastrointestinal_Microbiome",
            "Disease_Progression",
            "Child"
           ]
          ],
          [
           []
          ],
          [
           [
            "Single_Cell_Gene_Expression_Analysis",
            "Stem_Cells",
            "Fibroblasts",
            "Cell_Communication",
            "Aging"
           ]
          ],
          [
           [
            "Evolution__Molecular",
            "Phylogeny",
            "Ecological_and_Environmental_Phenomena",
            "Biological_Evolution",
            "Genetics"
           ]
          ],
          [
           [
            "Triple_Negative_Breast_Neoplasms",
            "Oxidative_Phosphorylation",
            "Mitochondria",
            "Survival_Rate",
            "Immune_Checkpoint_Inhibitors"
           ]
          ],
          [
           [
            "Soil",
            "Droughts",
            "Biological_Evolution",
            "Pandemics",
            "Ecological_and_Environmental_Phenomena"
           ]
          ],
          [
           [
            "Nitrogenase",
            "Oxidation_Reduction",
            "Escherichia_coli",
            "Phylogeny",
            "Evolution__Molecular"
           ]
          ],
          [
           [
            "Nutrients",
            "Biodiversity",
            "Escherichia_coli",
            "Anti_Bacterial_Agents",
            "Evolution__Molecular"
           ]
          ],
          [
           [
            "Sleep",
            "Memory_Consolidation",
            "Cues",
            "Magnetic_Resonance_Imaging",
            "Neuroimaging"
           ]
          ],
          [
           [
            "Zebrafish",
            "Computer_Simulation",
            "Cell_Proliferation",
            "Biomechanical_Phenomena",
            "Biological_Evolution"
           ]
          ],
          [
           [
            "Proteomics",
            "Mass_Spectrometry",
            "Astrocytes",
            "Microscopy",
            "Multiomics"
           ]
          ],
          [
           [
            "Biodiversity",
            "Ecological_and_Environmental_Phenomena",
            "Temperature"
           ]
          ],
          [
           [
            "Aging",
            "Magnetic_Resonance_Imaging",
            "Cognitive_Dysfunction",
            "Neuroimaging",
            "Amyloid_beta_Peptides"
           ]
          ],
          [
           [
            "Biological_Evolution"
           ]
          ],
          [
           [
            "Microscopy",
            "RNA",
            "Stem_Cells",
            "Pregnancy",
            "Escherichia_coli"
           ]
          ],
          [
           [
            "Nicotine",
            "Reward",
            "Pregnancy",
            "Cognitive_Dysfunction",
            "Cytokines"
           ]
          ],
          [
           [
            "Incidence",
            "Cell_Proliferation",
            "Tumor_Microenvironment",
            "RNA",
            "Carcinogenesis"
           ]
          ],
          [
           [
            "White_Matter",
            "Neurodegenerative_Diseases",
            "Neuroinflammatory_Diseases",
            "Astrocytes",
            "Proteomics"
           ]
          ],
          [
           [
            "Biodiversity",
            "Interdisciplinary_Research",
            "Temperature",
            "Resilience__Psychological",
            "Diet"
           ]
          ],
          [
           [
            "Neuroinflammatory_Diseases",
            "Phagocytosis",
            "Neurodegenerative_Diseases",
            "Amyloid_beta_Peptides",
            "Astrocytes"
           ]
          ],
          [
           [
            "Alleles",
            "Mitochondria",
            "Cell_Death",
            "Neurodegenerative_Diseases"
           ]
          ],
          [
           [
            "Induced_Pluripotent_Stem_Cells",
            "Neurodegenerative_Diseases",
            "Clustered_Regularly_Interspaced_Short_Palindromic_Repeats",
            "Disease_Progression",
            "Cognitive_Dysfunction"
           ]
          ],
          [
           [
            "Ecological_and_Environmental_Phenomena",
            "Phylogeny",
            "Computer_Simulation",
            "Alleles"
           ]
          ],
          [
           [
            "CD8_Positive_T_Lymphocytes",
            "Immune_Checkpoint_Inhibitors",
            "Persistent_Infection",
            "Virus_Diseases",
            "HIV_Infections"
           ]
          ],
          [
           [
            "Soil",
            "Temperature",
            "Resilience__Psychological",
            "Droughts",
            "Genotype"
           ]
          ],
          [
           [
            "COVID_19",
            "Child",
            "Magnetic_Resonance_Imaging",
            "Aged__80_and_over",
            "Cell_Differentiation"
           ]
          ],
          [
           [
            "T_Lymphocytes__Regulatory",
            "Multiple_Sclerosis",
            "Stem_Cells",
            "White_Matter",
            "Macrophages"
           ]
          ],
          [
           [
            "Hippo_Signaling_Pathway",
            "Cell_Proliferation",
            "Carcinogenesis",
            "Apoptosis",
            "Child"
           ]
          ],
          [
           [
            "Genetics",
            "Hippo_Signaling_Pathway",
            "Phosphorylation",
            "Cell_Line__Tumor"
           ]
          ],
          [
           [
            "Bacteriophages",
            "Anti_Bacterial_Agents",
            "Gastrointestinal_Microbiome",
            "Escherichia_coli",
            "Nutrients"
           ]
          ],
          [
           [
            "Zebrafish",
            "Gastrointestinal_Microbiome",
            "Bacteriophages",
            "Anti_Bacterial_Agents",
            "Soil"
           ]
          ],
          [
           [
            "Substance_Related_Disorders",
            "Cocaine",
            "Cues",
            "Reward",
            "Neuronal_Plasticity"
           ]
          ],
          [
           [
            "Gastrointestinal_Microbiome",
            "Phylogeny"
           ]
          ],
          [
           [
            "Magnetic_Resonance_Imaging",
            "Neuroimaging",
            "Cognitive_Dysfunction",
            "Interdisciplinary_Research",
            "Child"
           ]
          ]
         ],
         "hovertemplate": "<b>%{hovertext}</b><br><br>Top_Mesh_Terms=%{customdata[0]}<extra></extra>",
         "hovertext": [
          "Allison, Steven",
          "Arora, Kavita",
          "Atwood, Scott",
          "Azizi, Emanuel",
          "Baker, Nicholas",
          "Bardwell, Lee",
          "Blumberg, Bruce",
          "Blurton-Jones, Mathew",
          "Bracken, Matthew",
          "Briscoe, Adriana",
          "Burley, Nancy",
          "Busciglio, Jorge",
          "Cahill, Larry",
          "Cho, Ken",
          "Chrastil, Elizabeth",
          "Cinquin, Olivier",
          "Cocco, Melanie",
          "Cohen-Cory, Susana",
          "Connor, Kwasi",
          "Cramer, Karina",
          "Daley, Monica",
          "Donovan, Peter",
          "Drayman, Nir",
          "Edinger, Aimee",
          "Emerson, J.J.",
          "Eom, Dae Seok",
          "Faiola, Celia",
          "Fortin, Norbert",
          "Fowler, Christie",
          "Frank, Steven",
          "Frostig, Ron",
          "Fruman, David",
          "Gaut, Brandon",
          "German, Donovan",
          "Gershon, Paul",
          "Glabe, Charles",
          "Gonen, Shane",
          "Goulding, Celia",
          "Green, Kim",
          "Green, Michael",
          "Grill, Joshua",
          "Gross, Steven",
          "Halbrook, Christopher",
          "Hammer, Tobin",
          "Hu, Yilin",
          "Hughes, Christopher",
          "Huxman, Travis",
          "Inlay, Matthew",
          "James, Anthony",
          "Kawas, Claudia",
          "Kim, Seungsoo",
          "Kong, Mei",
          "Konieczny, Piotr",
          "Kvon, Evgeny",
          "LaFerla, Frank",
          "Lamb, Joleah",
          "Lander, Arthur",
          "Lane, Thomas",
          "Lara-Gonzalez, Pablo",
          "Lee, Grace",
          "Lodoen, Melissa",
          "Long, Anthony",
          "Luo, Ray",
          "Lur, Gyorgy",
          "Lutterschmidt, Deborah",
          "MacGregor, Grant",
          "Mahler, Stephen",
          "Martinez, Christopher",
          "Martiny, Adam",
          "Martiny, Jennifer",
          "McHenry, Matthew",
          "McNaughton, Bruce",
          "McNulty, Reginald",
          "Metherate, Raju",
          "Mooney, Kailen",
          "Morehouse, Benjamin",
          "Morrissette, Naomi",
          "Mortazavi, Ali",
          "Nicholas, Dequina",
          "Nie, Qing",
          "Parsons, Michael",
          "Pizzagalli, Diego",
          "Plikus, Maksim",
          "Ranz, Jose",
          "Razorenova, Olga",
          "Rebolleda-Gomez, Maria",
          "Ribbe, Markus",
          "Rodriguez Verdugo, Alejandra",
          "Schechtman-Drayman, Eitan",
          "Schilling, Thomas",
          "Shi, Xiaoyu",
          "Sorte, Cascade",
          "Stark, Craig",
          "Striedter, Georg",
          "Suetterlin, Christine",
          "Sumikawa, Katumi",
          "Sun, Sha",
          "Swarup, Vivek",
          "Symons, Celia",
          "Tenner, Andrea",
          "Thompson-Peer, Katherine",
          "Thompson, Leslie",
          "Thornton, Kevin",
          "Tinoco, Roberto",
          "Treseder, Kathleen",
          "Tsai, Shiou-Chuan",
          "Walsh, Craig",
          "Wang, Wenqi",
          "Warrior, Rahul",
          "Whiteson, Katrine",
          "Wiles, Travis",
          "Wood, Marcelo",
          "Xue, Katherine",
          "Yassa, Michael"
         ],
         "legendgroup": "",
         "marker": {
          "color": "#636efa",
          "symbol": "circle"
         },
         "mode": "markers",
         "name": "",
         "orientation": "v",
         "showlegend": false,
         "type": "scatter",
         "x": [
          -0.002551906927528494,
          -0.006687732114373536,
          -0.007132264142221517,
          -0.0062381065416901235,
          -0.006317879032741684,
          -0.007241003180926913,
          -0.007180970669449224,
          -0.007213891756322746,
          -0.006645210237165186,
          -0.006493827331932057,
          -0.006317879032741684,
          -0.007463821848440528,
          -0.00782486533077206,
          -0.0068482853400517844,
          -0.007130391248399274,
          -0.007234904467032805,
          -0.006689711084431901,
          -0.007060529565101329,
          -0.006531290074967599,
          -0.00243951098215772,
          -0.006147759501420166,
          -0.00728963590336503,
          -0.006966900151013788,
          -0.0067557070868440984,
          -0.006222106021065969,
          -0.008792526144145905,
          -0.006415442524685064,
          -0.006423191533641697,
          -0.007409384943733634,
          0.07105910598712004,
          -0.0070336762075827175,
          -0.00710122344888633,
          -0.0019909241392950553,
          -0.0019037301128597946,
          -0.007153050967846691,
          -0.007058462578810523,
          -0.0073137772603582216,
          -0.006783933827380576,
          -0.007622468365916484,
          -0.007033379622522425,
          -0.007477071317334014,
          -0.006621508716587567,
          -0.007513573058759184,
          -0.00019439765762568347,
          -0.007182317277337756,
          -0.006732529565681307,
          -0.006671857800418063,
          -0.007474887833075242,
          -0.006473146861347892,
          -0.008184984963607683,
          -0.00639827554686943,
          -0.007222788246530641,
          -0.006317879032741684,
          -0.006695903963672167,
          -0.007537570350562046,
          -0.006531268046660462,
          -0.007006367748387923,
          -0.007190500719400285,
          -0.007222364071713567,
          0.0016128059010384556,
          -0.007761295706514658,
          0.004465622222390775,
          -0.006511952135373873,
          -0.006778771925198873,
          -0.006653000009842273,
          -0.007313501463186334,
          -0.00677686566284221,
          0.03276148708120084,
          -0.0066180324931664055,
          0.00005692613962517995,
          -0.00590940273855502,
          -0.007079440753820744,
          -0.007260769186282247,
          -0.007201970733412333,
          0.02542895074395961,
          0.001231661294019157,
          -0.006695122270742795,
          -0.007394395739422443,
          -0.007072640901221555,
          -0.007435804563561345,
          -0.0071359665275660105,
          -0.006317879032741684,
          -0.005067758330454846,
          0.01680582879276019,
          -0.007193242425880898,
          0.024145987919547886,
          -0.007573354873092469,
          0.006373000617231727,
          -0.007847806978819597,
          -0.0015166884388917454,
          -0.008000675150857707,
          -0.006707326200111473,
          -0.008027354594236428,
          0.49308912867479715,
          -0.006967974737378098,
          -0.007460349251851464,
          0.002211501213374808,
          -0.007337192031474495,
          -0.006947601185920602,
          -0.007789036391347176,
          -0.006675506480423853,
          -0.007152525427856198,
          -0.005960349039348629,
          -0.007403369654368637,
          -0.0065420549320180125,
          -0.006890937659823723,
          -0.007581926581518936,
          -0.00736218735681264,
          -0.006629762388797166,
          -0.006116394766167744,
          -0.001218300592223114,
          -0.007438668390585834,
          -0.009162428583376158,
          -0.007443968271842281
         ],
         "xaxis": "x",
         "y": [
          0.0006749110173300013,
          -0.008127784923333539,
          -0.00837916748577081,
          -0.006544755896506755,
          -0.005595545322520608,
          -0.006796319102832793,
          -0.00803127483067266,
          -0.008056321793266756,
          0.008548346024569239,
          0.012484496478242556,
          -0.00559554532252061,
          -0.010150422788089463,
          -0.012841563127193537,
          -0.007819117137765204,
          -0.00615965955923664,
          -0.011551235432412503,
          -0.006710424851330157,
          -0.008473896360564948,
          -0.004819425057162038,
          -0.0066658637491750885,
          -0.0034928322455411126,
          -0.00911931694036439,
          -0.008273728063498654,
          -0.005688938564289722,
          -0.0023223897436126842,
          0.0012093465228073521,
          -0.00021643513316577716,
          -0.006028909121213214,
          -0.009964312567516983,
          0.010489210905539576,
          -0.008733416676869195,
          -0.008501351905730137,
          0.009058891629043582,
          0.008203046733966522,
          -0.008341358027903952,
          -0.007505978126858571,
          0.008513170729920241,
          -0.005872694663270209,
          -0.0065966453526220695,
          -0.00841256596292402,
          -0.01017450010713141,
          -0.0020769246894606274,
          -0.00944445939343545,
          0.03643861440895145,
          -0.0024241406422512725,
          -0.007223260914589743,
          0.00435754872880634,
          -0.010771995429478518,
          -0.006360965032961972,
          -0.013990971834388166,
          -0.0060136148067043566,
          -0.008980009667778299,
          -0.00559554532252061,
          0.00028232389323172395,
          -0.006149819175021261,
          0.0006133767456483742,
          -0.007965942176145381,
          -0.00888053579073022,
          -0.00913278290730703,
          -0.0002975746857021116,
          -0.010493630192894919,
          -0.002129181276478633,
          -0.006493076013935519,
          -0.002659406659009622,
          0.015392387721366255,
          -0.00009055229077065238,
          -0.007586893696818687,
          0.009569499185550698,
          0.009858095053278853,
          0.021956262230512714,
          -0.0013426943027963073,
          -0.007076418232451988,
          -0.008296269815411506,
          -0.009604194174530798,
          -0.0021775651705013997,
          0.0002958163107033716,
          -0.006648356797697501,
          -0.009555573609914166,
          -0.005591951432497125,
          -0.008091703112044997,
          0.0072976824229238355,
          -0.00559554532252061,
          -0.0058824588749290235,
          0.02860508408563,
          -0.009012511923763527,
          -0.00043028680287242587,
          -0.0019170762790755027,
          0.003357611792259183,
          -0.012439334899145026,
          0.0018951225095834323,
          -0.011945906608612491,
          0.011429485436928854,
          -0.013198303623320461,
          -0.0045549931364542145,
          -0.007643918850378998,
          -0.010367384171789808,
          -0.007779525367737759,
          -0.009147819975386027,
          -0.0013545825746641294,
          -0.0028437819618020435,
          -0.001041619734685736,
          -0.008562280793252108,
          0.13557204318188382,
          -0.010129377099178528,
          0.00014317008173927857,
          -0.007910712588833734,
          -0.010495037111470961,
          -0.00993616377958252,
          -0.007171466329302186,
          0.00786819958461541,
          0.04472733798582618,
          -0.010147141666907666,
          0.2144765968276914,
          -0.00910074356378986
         ],
         "yaxis": "y"
        }
       ],
       "layout": {
        "legend": {
         "tracegroupgap": 0
        },
        "margin": {
         "t": 60
        },
        "template": {
         "data": {
          "bar": [
           {
            "error_x": {
             "color": "#2a3f5f"
            },
            "error_y": {
             "color": "#2a3f5f"
            },
            "marker": {
             "line": {
              "color": "#E5ECF6",
              "width": 0.5
             },
             "pattern": {
              "fillmode": "overlay",
              "size": 10,
              "solidity": 0.2
             }
            },
            "type": "bar"
           }
          ],
          "barpolar": [
           {
            "marker": {
             "line": {
              "color": "#E5ECF6",
              "width": 0.5
             },
             "pattern": {
              "fillmode": "overlay",
              "size": 10,
              "solidity": 0.2
             }
            },
            "type": "barpolar"
           }
          ],
          "carpet": [
           {
            "aaxis": {
             "endlinecolor": "#2a3f5f",
             "gridcolor": "white",
             "linecolor": "white",
             "minorgridcolor": "white",
             "startlinecolor": "#2a3f5f"
            },
            "baxis": {
             "endlinecolor": "#2a3f5f",
             "gridcolor": "white",
             "linecolor": "white",
             "minorgridcolor": "white",
             "startlinecolor": "#2a3f5f"
            },
            "type": "carpet"
           }
          ],
          "choropleth": [
           {
            "colorbar": {
             "outlinewidth": 0,
             "ticks": ""
            },
            "type": "choropleth"
           }
          ],
          "contour": [
           {
            "colorbar": {
             "outlinewidth": 0,
             "ticks": ""
            },
            "colorscale": [
             [
              0,
              "#0d0887"
             ],
             [
              0.1111111111111111,
              "#46039f"
             ],
             [
              0.2222222222222222,
              "#7201a8"
             ],
             [
              0.3333333333333333,
              "#9c179e"
             ],
             [
              0.4444444444444444,
              "#bd3786"
             ],
             [
              0.5555555555555556,
              "#d8576b"
             ],
             [
              0.6666666666666666,
              "#ed7953"
             ],
             [
              0.7777777777777778,
              "#fb9f3a"
             ],
             [
              0.8888888888888888,
              "#fdca26"
             ],
             [
              1,
              "#f0f921"
             ]
            ],
            "type": "contour"
           }
          ],
          "contourcarpet": [
           {
            "colorbar": {
             "outlinewidth": 0,
             "ticks": ""
            },
            "type": "contourcarpet"
           }
          ],
          "heatmap": [
           {
            "colorbar": {
             "outlinewidth": 0,
             "ticks": ""
            },
            "colorscale": [
             [
              0,
              "#0d0887"
             ],
             [
              0.1111111111111111,
              "#46039f"
             ],
             [
              0.2222222222222222,
              "#7201a8"
             ],
             [
              0.3333333333333333,
              "#9c179e"
             ],
             [
              0.4444444444444444,
              "#bd3786"
             ],
             [
              0.5555555555555556,
              "#d8576b"
             ],
             [
              0.6666666666666666,
              "#ed7953"
             ],
             [
              0.7777777777777778,
              "#fb9f3a"
             ],
             [
              0.8888888888888888,
              "#fdca26"
             ],
             [
              1,
              "#f0f921"
             ]
            ],
            "type": "heatmap"
           }
          ],
          "heatmapgl": [
           {
            "colorbar": {
             "outlinewidth": 0,
             "ticks": ""
            },
            "colorscale": [
             [
              0,
              "#0d0887"
             ],
             [
              0.1111111111111111,
              "#46039f"
             ],
             [
              0.2222222222222222,
              "#7201a8"
             ],
             [
              0.3333333333333333,
              "#9c179e"
             ],
             [
              0.4444444444444444,
              "#bd3786"
             ],
             [
              0.5555555555555556,
              "#d8576b"
             ],
             [
              0.6666666666666666,
              "#ed7953"
             ],
             [
              0.7777777777777778,
              "#fb9f3a"
             ],
             [
              0.8888888888888888,
              "#fdca26"
             ],
             [
              1,
              "#f0f921"
             ]
            ],
            "type": "heatmapgl"
           }
          ],
          "histogram": [
           {
            "marker": {
             "pattern": {
              "fillmode": "overlay",
              "size": 10,
              "solidity": 0.2
             }
            },
            "type": "histogram"
           }
          ],
          "histogram2d": [
           {
            "colorbar": {
             "outlinewidth": 0,
             "ticks": ""
            },
            "colorscale": [
             [
              0,
              "#0d0887"
             ],
             [
              0.1111111111111111,
              "#46039f"
             ],
             [
              0.2222222222222222,
              "#7201a8"
             ],
             [
              0.3333333333333333,
              "#9c179e"
             ],
             [
              0.4444444444444444,
              "#bd3786"
             ],
             [
              0.5555555555555556,
              "#d8576b"
             ],
             [
              0.6666666666666666,
              "#ed7953"
             ],
             [
              0.7777777777777778,
              "#fb9f3a"
             ],
             [
              0.8888888888888888,
              "#fdca26"
             ],
             [
              1,
              "#f0f921"
             ]
            ],
            "type": "histogram2d"
           }
          ],
          "histogram2dcontour": [
           {
            "colorbar": {
             "outlinewidth": 0,
             "ticks": ""
            },
            "colorscale": [
             [
              0,
              "#0d0887"
             ],
             [
              0.1111111111111111,
              "#46039f"
             ],
             [
              0.2222222222222222,
              "#7201a8"
             ],
             [
              0.3333333333333333,
              "#9c179e"
             ],
             [
              0.4444444444444444,
              "#bd3786"
             ],
             [
              0.5555555555555556,
              "#d8576b"
             ],
             [
              0.6666666666666666,
              "#ed7953"
             ],
             [
              0.7777777777777778,
              "#fb9f3a"
             ],
             [
              0.8888888888888888,
              "#fdca26"
             ],
             [
              1,
              "#f0f921"
             ]
            ],
            "type": "histogram2dcontour"
           }
          ],
          "mesh3d": [
           {
            "colorbar": {
             "outlinewidth": 0,
             "ticks": ""
            },
            "type": "mesh3d"
           }
          ],
          "parcoords": [
           {
            "line": {
             "colorbar": {
              "outlinewidth": 0,
              "ticks": ""
             }
            },
            "type": "parcoords"
           }
          ],
          "pie": [
           {
            "automargin": true,
            "type": "pie"
           }
          ],
          "scatter": [
           {
            "fillpattern": {
             "fillmode": "overlay",
             "size": 10,
             "solidity": 0.2
            },
            "type": "scatter"
           }
          ],
          "scatter3d": [
           {
            "line": {
             "colorbar": {
              "outlinewidth": 0,
              "ticks": ""
             }
            },
            "marker": {
             "colorbar": {
              "outlinewidth": 0,
              "ticks": ""
             }
            },
            "type": "scatter3d"
           }
          ],
          "scattercarpet": [
           {
            "marker": {
             "colorbar": {
              "outlinewidth": 0,
              "ticks": ""
             }
            },
            "type": "scattercarpet"
           }
          ],
          "scattergeo": [
           {
            "marker": {
             "colorbar": {
              "outlinewidth": 0,
              "ticks": ""
             }
            },
            "type": "scattergeo"
           }
          ],
          "scattergl": [
           {
            "marker": {
             "colorbar": {
              "outlinewidth": 0,
              "ticks": ""
             }
            },
            "type": "scattergl"
           }
          ],
          "scattermapbox": [
           {
            "marker": {
             "colorbar": {
              "outlinewidth": 0,
              "ticks": ""
             }
            },
            "type": "scattermapbox"
           }
          ],
          "scatterpolar": [
           {
            "marker": {
             "colorbar": {
              "outlinewidth": 0,
              "ticks": ""
             }
            },
            "type": "scatterpolar"
           }
          ],
          "scatterpolargl": [
           {
            "marker": {
             "colorbar": {
              "outlinewidth": 0,
              "ticks": ""
             }
            },
            "type": "scatterpolargl"
           }
          ],
          "scatterternary": [
           {
            "marker": {
             "colorbar": {
              "outlinewidth": 0,
              "ticks": ""
             }
            },
            "type": "scatterternary"
           }
          ],
          "surface": [
           {
            "colorbar": {
             "outlinewidth": 0,
             "ticks": ""
            },
            "colorscale": [
             [
              0,
              "#0d0887"
             ],
             [
              0.1111111111111111,
              "#46039f"
             ],
             [
              0.2222222222222222,
              "#7201a8"
             ],
             [
              0.3333333333333333,
              "#9c179e"
             ],
             [
              0.4444444444444444,
              "#bd3786"
             ],
             [
              0.5555555555555556,
              "#d8576b"
             ],
             [
              0.6666666666666666,
              "#ed7953"
             ],
             [
              0.7777777777777778,
              "#fb9f3a"
             ],
             [
              0.8888888888888888,
              "#fdca26"
             ],
             [
              1,
              "#f0f921"
             ]
            ],
            "type": "surface"
           }
          ],
          "table": [
           {
            "cells": {
             "fill": {
              "color": "#EBF0F8"
             },
             "line": {
              "color": "white"
             }
            },
            "header": {
             "fill": {
              "color": "#C8D4E3"
             },
             "line": {
              "color": "white"
             }
            },
            "type": "table"
           }
          ]
         },
         "layout": {
          "annotationdefaults": {
           "arrowcolor": "#2a3f5f",
           "arrowhead": 0,
           "arrowwidth": 1
          },
          "autotypenumbers": "strict",
          "coloraxis": {
           "colorbar": {
            "outlinewidth": 0,
            "ticks": ""
           }
          },
          "colorscale": {
           "diverging": [
            [
             0,
             "#8e0152"
            ],
            [
             0.1,
             "#c51b7d"
            ],
            [
             0.2,
             "#de77ae"
            ],
            [
             0.3,
             "#f1b6da"
            ],
            [
             0.4,
             "#fde0ef"
            ],
            [
             0.5,
             "#f7f7f7"
            ],
            [
             0.6,
             "#e6f5d0"
            ],
            [
             0.7,
             "#b8e186"
            ],
            [
             0.8,
             "#7fbc41"
            ],
            [
             0.9,
             "#4d9221"
            ],
            [
             1,
             "#276419"
            ]
           ],
           "sequential": [
            [
             0,
             "#0d0887"
            ],
            [
             0.1111111111111111,
             "#46039f"
            ],
            [
             0.2222222222222222,
             "#7201a8"
            ],
            [
             0.3333333333333333,
             "#9c179e"
            ],
            [
             0.4444444444444444,
             "#bd3786"
            ],
            [
             0.5555555555555556,
             "#d8576b"
            ],
            [
             0.6666666666666666,
             "#ed7953"
            ],
            [
             0.7777777777777778,
             "#fb9f3a"
            ],
            [
             0.8888888888888888,
             "#fdca26"
            ],
            [
             1,
             "#f0f921"
            ]
           ],
           "sequentialminus": [
            [
             0,
             "#0d0887"
            ],
            [
             0.1111111111111111,
             "#46039f"
            ],
            [
             0.2222222222222222,
             "#7201a8"
            ],
            [
             0.3333333333333333,
             "#9c179e"
            ],
            [
             0.4444444444444444,
             "#bd3786"
            ],
            [
             0.5555555555555556,
             "#d8576b"
            ],
            [
             0.6666666666666666,
             "#ed7953"
            ],
            [
             0.7777777777777778,
             "#fb9f3a"
            ],
            [
             0.8888888888888888,
             "#fdca26"
            ],
            [
             1,
             "#f0f921"
            ]
           ]
          },
          "colorway": [
           "#636efa",
           "#EF553B",
           "#00cc96",
           "#ab63fa",
           "#FFA15A",
           "#19d3f3",
           "#FF6692",
           "#B6E880",
           "#FF97FF",
           "#FECB52"
          ],
          "font": {
           "color": "#2a3f5f"
          },
          "geo": {
           "bgcolor": "white",
           "lakecolor": "white",
           "landcolor": "#E5ECF6",
           "showlakes": true,
           "showland": true,
           "subunitcolor": "white"
          },
          "hoverlabel": {
           "align": "left"
          },
          "hovermode": "closest",
          "mapbox": {
           "style": "light"
          },
          "paper_bgcolor": "white",
          "plot_bgcolor": "#E5ECF6",
          "polar": {
           "angularaxis": {
            "gridcolor": "white",
            "linecolor": "white",
            "ticks": ""
           },
           "bgcolor": "#E5ECF6",
           "radialaxis": {
            "gridcolor": "white",
            "linecolor": "white",
            "ticks": ""
           }
          },
          "scene": {
           "xaxis": {
            "backgroundcolor": "#E5ECF6",
            "gridcolor": "white",
            "gridwidth": 2,
            "linecolor": "white",
            "showbackground": true,
            "ticks": "",
            "zerolinecolor": "white"
           },
           "yaxis": {
            "backgroundcolor": "#E5ECF6",
            "gridcolor": "white",
            "gridwidth": 2,
            "linecolor": "white",
            "showbackground": true,
            "ticks": "",
            "zerolinecolor": "white"
           },
           "zaxis": {
            "backgroundcolor": "#E5ECF6",
            "gridcolor": "white",
            "gridwidth": 2,
            "linecolor": "white",
            "showbackground": true,
            "ticks": "",
            "zerolinecolor": "white"
           }
          },
          "shapedefaults": {
           "line": {
            "color": "#2a3f5f"
           }
          },
          "ternary": {
           "aaxis": {
            "gridcolor": "white",
            "linecolor": "white",
            "ticks": ""
           },
           "baxis": {
            "gridcolor": "white",
            "linecolor": "white",
            "ticks": ""
           },
           "bgcolor": "#E5ECF6",
           "caxis": {
            "gridcolor": "white",
            "linecolor": "white",
            "ticks": ""
           }
          },
          "title": {
           "x": 0.05
          },
          "xaxis": {
           "automargin": true,
           "gridcolor": "white",
           "linecolor": "white",
           "ticks": "",
           "title": {
            "standoff": 15
           },
           "zerolinecolor": "white",
           "zerolinewidth": 2
          },
          "yaxis": {
           "automargin": true,
           "gridcolor": "white",
           "linecolor": "white",
           "ticks": "",
           "title": {
            "standoff": 15
           },
           "zerolinecolor": "white",
           "zerolinewidth": 2
          }
         }
        },
        "xaxis": {
         "anchor": "y",
         "domain": [
          0,
          1
         ],
         "title": {
          "text": "PC1"
         }
        },
        "yaxis": {
         "anchor": "x",
         "domain": [
          0,
          1
         ],
         "title": {
          "text": "PC2"
         }
        }
       }
      }
     },
     "metadata": {},
     "output_type": "display_data"
    }
   ],
   "source": [
    "# Set up and run PCA on the raw data (columns = MeSH terms, rows = faculty members, values = frquency of terms)\n",
    "pca = PCA()\n",
    "pca_embeddings = pca.fit_transform(feature_matrix)\n",
    "\n",
    "# Visualize explained variance\n",
    "explained_variance = pca.explained_variance_ratio_\n",
    "plt.figure()\n",
    "plt.plot(np.cumsum(explained_variance))\n",
    "plt.xlabel('Number of Components')\n",
    "plt.ylabel('Variance (%)') \n",
    "plt.title('Explained Variance')\n",
    "plt.show()\n",
    "\n",
    "# Run PCA scatter plot\n",
    "pca_embeddings_df = pd.DataFrame(pca_embeddings, columns=[f'PC{i+1}' for i in range(pca_embeddings.shape[1])])\n",
    "pca_embeddings_df['Faculty_Full_Name'] = raw_data['Faculty_Full_Name']\n",
    "pca_embeddings_df = pca_embeddings_df.merge(top_mesh_terms_df, on='Faculty_Full_Name', how='left')\n",
    "fig = px.scatter(pca_embeddings_df, x='PC1', y='PC2', hover_name='Faculty_Full_Name',\n",
    "                 hover_data={'PC1': False, 'PC2': False,\n",
    "                             'Top_Mesh_Terms': True})\n",
    "print(f\"The plot below shows that the faculty members are not well separated with just two components. Therefore, additional components are needed to further separate the faculty members. A couple of outliers appear and who may be driving differences.\")\n",
    "fig.show()"
   ]
  },
  {
   "cell_type": "markdown",
   "id": "d4f9ab64",
   "metadata": {},
   "source": [
    "# Uniform Manifold Approximation and Projection (UMAP)\n",
    "UMAP is a non-linear dimensionality reduction technique that has more power than PCA. "
   ]
  },
  {
   "cell_type": "code",
   "execution_count": 20,
   "id": "f0bcf2f6",
   "metadata": {},
   "outputs": [
    {
     "data": {
      "application/vnd.plotly.v1+json": {
       "config": {
        "plotlyServerURL": "https://plot.ly"
       },
       "data": [
        {
         "customdata": [
          [
           [
            "Soil",
            "Droughts",
            "Resilience__Psychological",
            "Temperature",
            "Interdisciplinary_Research"
           ]
          ],
          [
           [
            "Phosphorylation",
            "Computational_Biology",
            "Genetics",
            "Hippo_Signaling_Pathway",
            "Cell_Line__Tumor"
           ]
          ],
          [
           [
            "Molecular_Biology",
            "Immunity",
            "Carcinogenesis",
            "T_Lymphocytes",
            "Phosphorylation"
           ]
          ],
          [
           [
            "Biomechanical_Phenomena",
            "Aging",
            "Temperature"
           ]
          ],
          [
           []
          ],
          [
           [
            "Phosphorylation",
            "Ligands",
            "Diabetes_Mellitus",
            "Child",
            "Alleles"
           ]
          ],
          [
           [
            "Obesity",
            "Pregnancy",
            "Chromatin",
            "Multiomics",
            "DNA"
           ]
          ],
          [
           [
            "Induced_Pluripotent_Stem_Cells",
            "Cytokines",
            "Macrophages",
            "Disease_Progression",
            "Monocytes"
           ]
          ],
          [
           [
            "Biodiversity",
            "Ecological_and_Environmental_Phenomena"
           ]
          ],
          [
           [
            "Phylogeny",
            "Clustered_Regularly_Interspaced_Short_Palindromic_Repeats",
            "Evolution__Molecular"
           ]
          ],
          [
           []
          ],
          [
           [
            "Down_Syndrome",
            "Cognitive_Dysfunction",
            "Proteomics",
            "Pregnancy",
            "Amyloid_beta_Peptides"
           ]
          ],
          [
           [
            "Magnetic_Resonance_Imaging"
           ]
          ],
          [
           [
            "Gene_Regulatory_Networks",
            "Chromatin",
            "Multiomics",
            "Cell_Differentiation",
            "Computational_Biology"
           ]
          ],
          [
           [
            "Neuroimaging",
            "Magnetic_Resonance_Imaging",
            "Pregnancy",
            "Computer_Simulation",
            "Adolescent"
           ]
          ],
          [
           [
            "Cell_Line",
            "Computational_Biology",
            "Aging"
           ]
          ],
          [
           [
            "Magnetic_Resonance_Imaging",
            "Temperature",
            "Genotype",
            "Ligands"
           ]
          ],
          [
           [
            "Synapses"
           ]
          ],
          [
           [
            "Diet",
            "Temperature"
           ]
          ],
          [
           [
            "Neuronal_Plasticity",
            "Synapses",
            "Astrocytes",
            "Apoptosis",
            "Proteomics"
           ]
          ],
          [
           [
            "Biomechanical_Phenomena",
            "Resilience__Psychological",
            "Interdisciplinary_Research",
            "Computer_Simulation"
           ]
          ],
          [
           [
            "Neurodegenerative_Diseases",
            "Stem_Cells",
            "Chromatin",
            "Cell_Line"
           ]
          ],
          [
           [
            "Antiviral_Agents",
            "Virus_Diseases",
            "RNA",
            "Cell_Line",
            "Single_Cell_Gene_Expression_Analysis"
           ]
          ],
          [
           [
            "CRISPR_Cas_Systems",
            "Tumor_Microenvironment",
            "Nutrients",
            "Ligands",
            "Alleles"
           ]
          ],
          [
           [
            "Genotype",
            "Alleles",
            "Evolution__Molecular",
            "Chromatin",
            "Gene_Regulatory_Networks"
           ]
          ],
          [
           [
            "Zebrafish",
            "Cell_Communication",
            "Macrophages"
           ]
          ],
          [
           [
            "Temperature",
            "Soil",
            "Resilience__Psychological",
            "Droughts",
            "Computer_Simulation"
           ]
          ],
          [
           [
            "Substance_Related_Disorders"
           ]
          ],
          [
           [
            "Nicotine",
            "Chromatin",
            "Microscopy",
            "Clustered_Regularly_Interspaced_Short_Palindromic_Repeats",
            "Cocaine"
           ]
          ],
          [
           [
            "Biological_Evolution",
            "Computer_Simulation",
            "Computational_Biology",
            "Ecological_and_Environmental_Phenomena",
            "Genetics"
           ]
          ],
          [
           [
            "Astrocytes",
            "Magnetic_Resonance_Imaging",
            "Neuronal_Plasticity",
            "Neuroimaging"
           ]
          ],
          [
           [
            "Cell_Line",
            "Cell_Proliferation",
            "Apoptosis",
            "Child",
            "Heterografts"
           ]
          ],
          [
           [
            "Genetic_Variation",
            "Chromatin",
            "Epigenomics",
            "Temperature",
            "Droughts"
           ]
          ],
          [
           [
            "Diet",
            "Zebrafish",
            "Proteomics",
            "Temperature",
            "Ecological_and_Environmental_Phenomena"
           ]
          ],
          [
           [
            "Proteomics",
            "Mass_Spectrometry",
            "Escherichia_coli",
            "DNA",
            "Antiviral_Agents"
           ]
          ],
          [
           [
            "Aging",
            "Bacteriophages",
            "Immunity",
            "Neurodegenerative_Diseases",
            "Amyloid_beta_Peptides"
           ]
          ],
          [
           [
            "Cryoelectron_Microscopy",
            "Bacteriophages",
            "Microscopy",
            "Gastrointestinal_Microbiome",
            "Anti_Bacterial_Agents"
           ]
          ],
          [
           [
            "Anti_Bacterial_Agents",
            "Pandemics",
            "Nutrients",
            "Molecular_Biology",
            "Ligands"
           ]
          ],
          [
           [
            "Cell_Proliferation",
            "Amyloid_beta_Peptides",
            "Monocytes",
            "Bone_Marrow",
            "Macrophages"
           ]
          ],
          [
           [
            "Ligands",
            "Magnetic_Resonance_Imaging",
            "Neuroimaging",
            "Child",
            "Oxidation_Reduction"
           ]
          ],
          [
           [
            "Amyloid_beta_Peptides",
            "Aged__80_and_over",
            "Cognitive_Dysfunction",
            "Disease_Progression",
            "Neurodegenerative_Diseases"
           ]
          ],
          [
           [
            "Neurodegenerative_Diseases",
            "Anti_Bacterial_Agents",
            "Computer_Simulation",
            "Anti_Infective_Agents",
            "Computational_Biology"
           ]
          ],
          [
           [
            "Pancreatic_Neoplasms",
            "Tumor_Microenvironment",
            "Fibroblasts",
            "Oxidation_Reduction",
            "Liver_Neoplasms"
           ]
          ],
          [
           [
            "Gastrointestinal_Microbiome",
            "Parasites",
            "Ecological_and_Environmental_Phenomena",
            "Genetics",
            "Diet"
           ]
          ],
          [
           [
            "Nitrogenase",
            "Escherichia_coli",
            "Cell_Line__Tumor",
            "Aged__80_and_over",
            "Phylogeny"
           ]
          ],
          [
           [
            "Colorectal_Neoplasms",
            "Incidence",
            "Survival_Rate",
            "Astrocytes",
            "Tumor_Microenvironment"
           ]
          ],
          [
           [
            "Temperature",
            "Ecological_and_Environmental_Phenomena",
            "Soil",
            "Nutrients",
            "Biodiversity"
           ]
          ],
          [
           [
            "Hematopoietic_Stem_Cell_Transplantation",
            "Graft_vs_Host_Disease",
            "T_Lymphocytes__Regulatory",
            "Bone_Marrow",
            "Apoptosis"
           ]
          ],
          [
           [
            "CRISPR_Cas_Systems",
            "Genetics",
            "RNA",
            "Magnetic_Resonance_Imaging",
            "Cell_Death"
           ]
          ],
          [
           [
            "Aged__80_and_over",
            "Cognitive_Dysfunction",
            "Aging",
            "Magnetic_Resonance_Imaging",
            "Incidence"
           ]
          ],
          [
           [
            "Adolescent",
            "Genotype"
           ]
          ],
          [
           [
            "Colorectal_Neoplasms",
            "Nutrients",
            "Carcinogenesis",
            "Heterografts",
            "AMP_Activated_Protein_Kinases"
           ]
          ],
          [
           []
          ],
          [
           [
            "Chromatin",
            "Organoids",
            "Alleles",
            "Phylogeny",
            "Evolution__Molecular"
           ]
          ],
          [
           [
            "Amyloid_beta_Peptides",
            "Proteomics",
            "Aged__80_and_over",
            "Induced_Pluripotent_Stem_Cells",
            "Single_Cell_Gene_Expression_Analysis"
           ]
          ],
          [
           [
            "Temperature",
            "Ecological_and_Environmental_Phenomena",
            "Biodiversity"
           ]
          ],
          [
           [
            "Stem_Cells",
            "RNA",
            "Cell_Differentiation",
            "Computational_Biology",
            "Single_Cell_Analysis"
           ]
          ],
          [
           [
            "COVID_19",
            "Neuroinflammatory_Diseases",
            "Pandemics",
            "Multiple_Sclerosis",
            "Virus_Diseases"
           ]
          ],
          [
           [
            "Aging",
            "Cell_Proliferation",
            "Cues",
            "Cell_Differentiation",
            "Microscopy"
           ]
          ],
          [
           [
            "Parasites",
            "Diet",
            "Epigenomics",
            "Evolution__Molecular",
            "Nutrients"
           ]
          ],
          [
           [
            "Toxoplasma",
            "Parasites",
            "Monocytes",
            "Phagocytosis",
            "Cytokines"
           ]
          ],
          [
           [
            "Genotype",
            "Aging",
            "Macrophages",
            "Persistent_Infection",
            "CRISPR_Cas_Systems"
           ]
          ],
          [
           [
            "Computational_Biology",
            "T_Lymphocytes",
            "Hippo_Signaling_Pathway",
            "Escherichia_coli",
            "Cell_Line__Tumor"
           ]
          ],
          [
           [
            "Aging",
            "Synapses",
            "Computer_Simulation",
            "Memory_Consolidation",
            "Genetics"
           ]
          ],
          [
           [
            "Temperature",
            "Ecological_and_Environmental_Phenomena"
           ]
          ],
          [
           [
            "Amyloid_beta_Peptides",
            "Gastrointestinal_Microbiome",
            "Astrocytes",
            "Disease_Progression",
            "T_Lymphocytes__Regulatory"
           ]
          ],
          [
           [
            "Reward",
            "Substance_Related_Disorders",
            "Genetics",
            "Adolescent",
            "Neuronal_Plasticity"
           ]
          ],
          [
           [
            "Biomechanical_Phenomena",
            "Biological_Evolution",
            "Ecological_and_Environmental_Phenomena",
            "Evolution__Molecular",
            "Phylogeny"
           ]
          ],
          [
           [
            "Temperature",
            "Ecological_and_Environmental_Phenomena",
            "Biodiversity",
            "Genetics",
            "Anti_Bacterial_Agents"
           ]
          ],
          [
           [
            "Soil",
            "Gastrointestinal_Microbiome",
            "Diet",
            "Diabetes_Mellitus",
            "Anti_Bacterial_Agents"
           ]
          ],
          [
           [
            "Biomechanical_Phenomena",
            "Cues",
            "Ecological_and_Environmental_Phenomena",
            "Zebrafish"
           ]
          ],
          [
           [
            "Sleep",
            "Cues",
            "Neuronal_Plasticity",
            "Synapses",
            "Memory_Consolidation"
           ]
          ],
          [
           [
            "Inflammasomes",
            "NLR_Family__Pyrin_Domain_Containing_3_Protein",
            "Cryoelectron_Microscopy",
            "CRISPR_Cas_Systems",
            "Apoptosis"
           ]
          ],
          [
           [
            "Nicotine",
            "Cognitive_Dysfunction"
           ]
          ],
          [
           [
            "Biological_Evolution",
            "Droughts",
            "Alleles",
            "Genetic_Variation",
            "Biodiversity"
           ]
          ],
          [
           [
            "Immunity__Innate",
            "Virus_Diseases",
            "Antiviral_Agents",
            "Incidence",
            "Pandemics"
           ]
          ],
          [
           [
            "Parasites",
            "Toxoplasma",
            "Ligands",
            "Fibroblasts"
           ]
          ],
          [
           [
            "Aging",
            "Amyloid_beta_Peptides",
            "Gene_Regulatory_Networks",
            "Single_Cell_Analysis",
            "Chromatin"
           ]
          ],
          [
           [
            "Cytokines",
            "Flow_Cytometry",
            "Cell_Line",
            "Single_Cell_Gene_Expression_Analysis",
            "T_Lymphocytes"
           ]
          ],
          [
           [
            "Cell_Communication",
            "Gene_Regulatory_Networks",
            "Single_Cell_Analysis",
            "Single_Cell_Gene_Expression_Analysis",
            "Computational_Biology"
           ]
          ],
          [
           [
            "Zebrafish",
            "Pancreatic_Neoplasms",
            "Gastrointestinal_Microbiome",
            "Disease_Progression",
            "Child"
           ]
          ],
          [
           []
          ],
          [
           [
            "Single_Cell_Gene_Expression_Analysis",
            "Stem_Cells",
            "Fibroblasts",
            "Cell_Communication",
            "Aging"
           ]
          ],
          [
           [
            "Evolution__Molecular",
            "Phylogeny",
            "Ecological_and_Environmental_Phenomena",
            "Biological_Evolution",
            "Genetics"
           ]
          ],
          [
           [
            "Triple_Negative_Breast_Neoplasms",
            "Oxidative_Phosphorylation",
            "Mitochondria",
            "Survival_Rate",
            "Immune_Checkpoint_Inhibitors"
           ]
          ],
          [
           [
            "Soil",
            "Droughts",
            "Biological_Evolution",
            "Pandemics",
            "Ecological_and_Environmental_Phenomena"
           ]
          ],
          [
           [
            "Nitrogenase",
            "Oxidation_Reduction",
            "Escherichia_coli",
            "Phylogeny",
            "Evolution__Molecular"
           ]
          ],
          [
           [
            "Nutrients",
            "Biodiversity",
            "Escherichia_coli",
            "Anti_Bacterial_Agents",
            "Evolution__Molecular"
           ]
          ],
          [
           [
            "Sleep",
            "Memory_Consolidation",
            "Cues",
            "Magnetic_Resonance_Imaging",
            "Neuroimaging"
           ]
          ],
          [
           [
            "Zebrafish",
            "Computer_Simulation",
            "Cell_Proliferation",
            "Biomechanical_Phenomena",
            "Biological_Evolution"
           ]
          ],
          [
           [
            "Proteomics",
            "Mass_Spectrometry",
            "Astrocytes",
            "Microscopy",
            "Multiomics"
           ]
          ],
          [
           [
            "Biodiversity",
            "Ecological_and_Environmental_Phenomena",
            "Temperature"
           ]
          ],
          [
           [
            "Aging",
            "Magnetic_Resonance_Imaging",
            "Cognitive_Dysfunction",
            "Neuroimaging",
            "Amyloid_beta_Peptides"
           ]
          ],
          [
           [
            "Biological_Evolution"
           ]
          ],
          [
           [
            "Microscopy",
            "RNA",
            "Stem_Cells",
            "Pregnancy",
            "Escherichia_coli"
           ]
          ],
          [
           [
            "Nicotine",
            "Reward",
            "Pregnancy",
            "Cognitive_Dysfunction",
            "Cytokines"
           ]
          ],
          [
           [
            "Incidence",
            "Cell_Proliferation",
            "Tumor_Microenvironment",
            "RNA",
            "Carcinogenesis"
           ]
          ],
          [
           [
            "White_Matter",
            "Neurodegenerative_Diseases",
            "Neuroinflammatory_Diseases",
            "Astrocytes",
            "Proteomics"
           ]
          ],
          [
           [
            "Biodiversity",
            "Interdisciplinary_Research",
            "Temperature",
            "Resilience__Psychological",
            "Diet"
           ]
          ],
          [
           [
            "Neuroinflammatory_Diseases",
            "Phagocytosis",
            "Neurodegenerative_Diseases",
            "Amyloid_beta_Peptides",
            "Astrocytes"
           ]
          ],
          [
           [
            "Alleles",
            "Mitochondria",
            "Cell_Death",
            "Neurodegenerative_Diseases"
           ]
          ],
          [
           [
            "Induced_Pluripotent_Stem_Cells",
            "Neurodegenerative_Diseases",
            "Clustered_Regularly_Interspaced_Short_Palindromic_Repeats",
            "Disease_Progression",
            "Cognitive_Dysfunction"
           ]
          ],
          [
           [
            "Ecological_and_Environmental_Phenomena",
            "Phylogeny",
            "Computer_Simulation",
            "Alleles"
           ]
          ],
          [
           [
            "CD8_Positive_T_Lymphocytes",
            "Immune_Checkpoint_Inhibitors",
            "Persistent_Infection",
            "Virus_Diseases",
            "HIV_Infections"
           ]
          ],
          [
           [
            "Soil",
            "Temperature",
            "Resilience__Psychological",
            "Droughts",
            "Genotype"
           ]
          ],
          [
           [
            "COVID_19",
            "Child",
            "Magnetic_Resonance_Imaging",
            "Aged__80_and_over",
            "Cell_Differentiation"
           ]
          ],
          [
           [
            "T_Lymphocytes__Regulatory",
            "Multiple_Sclerosis",
            "Stem_Cells",
            "White_Matter",
            "Macrophages"
           ]
          ],
          [
           [
            "Hippo_Signaling_Pathway",
            "Cell_Proliferation",
            "Carcinogenesis",
            "Apoptosis",
            "Child"
           ]
          ],
          [
           [
            "Genetics",
            "Hippo_Signaling_Pathway",
            "Phosphorylation",
            "Cell_Line__Tumor"
           ]
          ],
          [
           [
            "Bacteriophages",
            "Anti_Bacterial_Agents",
            "Gastrointestinal_Microbiome",
            "Escherichia_coli",
            "Nutrients"
           ]
          ],
          [
           [
            "Zebrafish",
            "Gastrointestinal_Microbiome",
            "Bacteriophages",
            "Anti_Bacterial_Agents",
            "Soil"
           ]
          ],
          [
           [
            "Substance_Related_Disorders",
            "Cocaine",
            "Cues",
            "Reward",
            "Neuronal_Plasticity"
           ]
          ],
          [
           [
            "Gastrointestinal_Microbiome",
            "Phylogeny"
           ]
          ],
          [
           [
            "Magnetic_Resonance_Imaging",
            "Neuroimaging",
            "Cognitive_Dysfunction",
            "Interdisciplinary_Research",
            "Child"
           ]
          ]
         ],
         "hovertemplate": "<b>%{hovertext}</b><br><br>Top_Mesh_Terms=%{customdata[0]}<extra></extra>",
         "hovertext": [
          "Allison, Steven",
          "Arora, Kavita",
          "Atwood, Scott",
          "Azizi, Emanuel",
          "Baker, Nicholas",
          "Bardwell, Lee",
          "Blumberg, Bruce",
          "Blurton-Jones, Mathew",
          "Bracken, Matthew",
          "Briscoe, Adriana",
          "Burley, Nancy",
          "Busciglio, Jorge",
          "Cahill, Larry",
          "Cho, Ken",
          "Chrastil, Elizabeth",
          "Cinquin, Olivier",
          "Cocco, Melanie",
          "Cohen-Cory, Susana",
          "Connor, Kwasi",
          "Cramer, Karina",
          "Daley, Monica",
          "Donovan, Peter",
          "Drayman, Nir",
          "Edinger, Aimee",
          "Emerson, J.J.",
          "Eom, Dae Seok",
          "Faiola, Celia",
          "Fortin, Norbert",
          "Fowler, Christie",
          "Frank, Steven",
          "Frostig, Ron",
          "Fruman, David",
          "Gaut, Brandon",
          "German, Donovan",
          "Gershon, Paul",
          "Glabe, Charles",
          "Gonen, Shane",
          "Goulding, Celia",
          "Green, Kim",
          "Green, Michael",
          "Grill, Joshua",
          "Gross, Steven",
          "Halbrook, Christopher",
          "Hammer, Tobin",
          "Hu, Yilin",
          "Hughes, Christopher",
          "Huxman, Travis",
          "Inlay, Matthew",
          "James, Anthony",
          "Kawas, Claudia",
          "Kim, Seungsoo",
          "Kong, Mei",
          "Konieczny, Piotr",
          "Kvon, Evgeny",
          "LaFerla, Frank",
          "Lamb, Joleah",
          "Lander, Arthur",
          "Lane, Thomas",
          "Lara-Gonzalez, Pablo",
          "Lee, Grace",
          "Lodoen, Melissa",
          "Long, Anthony",
          "Luo, Ray",
          "Lur, Gyorgy",
          "Lutterschmidt, Deborah",
          "MacGregor, Grant",
          "Mahler, Stephen",
          "Martinez, Christopher",
          "Martiny, Adam",
          "Martiny, Jennifer",
          "McHenry, Matthew",
          "McNaughton, Bruce",
          "McNulty, Reginald",
          "Metherate, Raju",
          "Mooney, Kailen",
          "Morehouse, Benjamin",
          "Morrissette, Naomi",
          "Mortazavi, Ali",
          "Nicholas, Dequina",
          "Nie, Qing",
          "Parsons, Michael",
          "Pizzagalli, Diego",
          "Plikus, Maksim",
          "Ranz, Jose",
          "Razorenova, Olga",
          "Rebolleda-Gomez, Maria",
          "Ribbe, Markus",
          "Rodriguez Verdugo, Alejandra",
          "Schechtman-Drayman, Eitan",
          "Schilling, Thomas",
          "Shi, Xiaoyu",
          "Sorte, Cascade",
          "Stark, Craig",
          "Striedter, Georg",
          "Suetterlin, Christine",
          "Sumikawa, Katumi",
          "Sun, Sha",
          "Swarup, Vivek",
          "Symons, Celia",
          "Tenner, Andrea",
          "Thompson-Peer, Katherine",
          "Thompson, Leslie",
          "Thornton, Kevin",
          "Tinoco, Roberto",
          "Treseder, Kathleen",
          "Tsai, Shiou-Chuan",
          "Walsh, Craig",
          "Wang, Wenqi",
          "Warrior, Rahul",
          "Whiteson, Katrine",
          "Wiles, Travis",
          "Wood, Marcelo",
          "Xue, Katherine",
          "Yassa, Michael"
         ],
         "legendgroup": "",
         "marker": {
          "color": "#fecc07",
          "symbol": "circle"
         },
         "mode": "markers",
         "name": "",
         "orientation": "v",
         "showlegend": false,
         "type": "scatter",
         "x": [
          4.220648,
          6.3434825,
          6.0711284,
          4.8482795,
          6.636775,
          6.317143,
          7.1490965,
          8.556419,
          3.8243892,
          6.774069,
          7.451921,
          7.8162937,
          6.646036,
          7.379333,
          6.706156,
          6.316918,
          6.3295736,
          7.107001,
          5.8548326,
          6.9686956,
          4.8776793,
          8.156688,
          7.0659533,
          6.8571677,
          6.2711077,
          5.962694,
          4.90322,
          5.8330517,
          5.6777477,
          4.732884,
          6.6982617,
          6.4590645,
          5.016235,
          5.6148853,
          7.5784154,
          7.4555197,
          6.7149396,
          6.941918,
          8.201268,
          6.5158043,
          7.940058,
          7.618486,
          5.8032875,
          6.5800467,
          5.5704403,
          6.1373315,
          3.9738731,
          6.0569634,
          6.597148,
          7.560231,
          6.382128,
          5.8274937,
          7.2322073,
          6.9372907,
          8.116494,
          4.281619,
          7.6659765,
          8.14627,
          7.134643,
          5.6572194,
          7.999265,
          6.607509,
          5.6499114,
          7.22985,
          4.038315,
          8.210631,
          6.0524564,
          4.719661,
          4.1830106,
          4.228947,
          4.9651437,
          7.2997317,
          6.9363112,
          5.7066574,
          5.0072293,
          7.3256235,
          7.749916,
          7.94915,
          7.2905235,
          7.56793,
          5.8942933,
          7.443138,
          7.477061,
          4.218317,
          7.650461,
          4.5938306,
          5.6002793,
          4.472655,
          6.910334,
          5.810356,
          7.889288,
          3.6665876,
          7.242498,
          4.650962,
          6.9813204,
          5.619077,
          5.7956924,
          7.8487854,
          3.6348653,
          8.31131,
          6.989233,
          8.547608,
          4.054322,
          7.1698966,
          4.045767,
          7.94515,
          8.435478,
          6.0816903,
          6.274842,
          6.924727,
          6.247855,
          5.9292912,
          6.4429064,
          7.044345
         ],
         "xaxis": "x",
         "y": [
          11.20141,
          12.129173,
          13.355015,
          12.965742,
          12.91107,
          11.785087,
          13.333308,
          13.125525,
          11.945788,
          14.013043,
          12.453805,
          11.876171,
          10.796228,
          13.459884,
          10.889227,
          13.567786,
          11.34597,
          11.836857,
          12.726275,
          11.6338215,
          12.937003,
          12.87622,
          12.683733,
          12.325694,
          12.818659,
          14.916943,
          12.144135,
          12.100394,
          11.241328,
          11.434402,
          11.667299,
          13.356223,
          11.918236,
          12.881092,
          13.324705,
          12.392384,
          14.267753,
          12.954118,
          12.468509,
          11.234904,
          11.528207,
          12.812683,
          14.105002,
          14.087838,
          12.4605055,
          13.838892,
          12.173747,
          12.805421,
          12.137201,
          10.987978,
          12.6814995,
          13.816496,
          13.944769,
          13.304933,
          11.82317,
          12.326245,
          13.826788,
          13.866903,
          13.067655,
          12.921721,
          13.056232,
          12.526009,
          13.366011,
          12.210539,
          12.351299,
          12.0853405,
          12.188169,
          13.030918,
          12.008281,
          11.107467,
          13.008217,
          11.881927,
          12.33595,
          11.225092,
          11.533003,
          13.25206,
          13.097244,
          12.29187,
          12.873793,
          14.153983,
          14.542945,
          12.905502,
          14.258381,
          13.10301,
          13.424823,
          11.1266985,
          12.350155,
          12.158261,
          11.343732,
          14.824695,
          13.333525,
          12.023456,
          10.921698,
          11.4674425,
          13.643757,
          11.370896,
          13.793475,
          12.613828,
          12.232498,
          12.360087,
          13.213642,
          12.996572,
          12.782297,
          13.514544,
          11.283387,
          13.958176,
          13.435315,
          13.430717,
          12.079942,
          14.503039,
          14.778948,
          11.958939,
          14.450125,
          10.829993
         ],
         "yaxis": "y"
        }
       ],
       "layout": {
        "height": 1000,
        "legend": {
         "tracegroupgap": 0
        },
        "plot_bgcolor": "#255799",
        "template": {
         "data": {
          "bar": [
           {
            "error_x": {
             "color": "#2a3f5f"
            },
            "error_y": {
             "color": "#2a3f5f"
            },
            "marker": {
             "line": {
              "color": "#E5ECF6",
              "width": 0.5
             },
             "pattern": {
              "fillmode": "overlay",
              "size": 10,
              "solidity": 0.2
             }
            },
            "type": "bar"
           }
          ],
          "barpolar": [
           {
            "marker": {
             "line": {
              "color": "#E5ECF6",
              "width": 0.5
             },
             "pattern": {
              "fillmode": "overlay",
              "size": 10,
              "solidity": 0.2
             }
            },
            "type": "barpolar"
           }
          ],
          "carpet": [
           {
            "aaxis": {
             "endlinecolor": "#2a3f5f",
             "gridcolor": "white",
             "linecolor": "white",
             "minorgridcolor": "white",
             "startlinecolor": "#2a3f5f"
            },
            "baxis": {
             "endlinecolor": "#2a3f5f",
             "gridcolor": "white",
             "linecolor": "white",
             "minorgridcolor": "white",
             "startlinecolor": "#2a3f5f"
            },
            "type": "carpet"
           }
          ],
          "choropleth": [
           {
            "colorbar": {
             "outlinewidth": 0,
             "ticks": ""
            },
            "type": "choropleth"
           }
          ],
          "contour": [
           {
            "colorbar": {
             "outlinewidth": 0,
             "ticks": ""
            },
            "colorscale": [
             [
              0,
              "#0d0887"
             ],
             [
              0.1111111111111111,
              "#46039f"
             ],
             [
              0.2222222222222222,
              "#7201a8"
             ],
             [
              0.3333333333333333,
              "#9c179e"
             ],
             [
              0.4444444444444444,
              "#bd3786"
             ],
             [
              0.5555555555555556,
              "#d8576b"
             ],
             [
              0.6666666666666666,
              "#ed7953"
             ],
             [
              0.7777777777777778,
              "#fb9f3a"
             ],
             [
              0.8888888888888888,
              "#fdca26"
             ],
             [
              1,
              "#f0f921"
             ]
            ],
            "type": "contour"
           }
          ],
          "contourcarpet": [
           {
            "colorbar": {
             "outlinewidth": 0,
             "ticks": ""
            },
            "type": "contourcarpet"
           }
          ],
          "heatmap": [
           {
            "colorbar": {
             "outlinewidth": 0,
             "ticks": ""
            },
            "colorscale": [
             [
              0,
              "#0d0887"
             ],
             [
              0.1111111111111111,
              "#46039f"
             ],
             [
              0.2222222222222222,
              "#7201a8"
             ],
             [
              0.3333333333333333,
              "#9c179e"
             ],
             [
              0.4444444444444444,
              "#bd3786"
             ],
             [
              0.5555555555555556,
              "#d8576b"
             ],
             [
              0.6666666666666666,
              "#ed7953"
             ],
             [
              0.7777777777777778,
              "#fb9f3a"
             ],
             [
              0.8888888888888888,
              "#fdca26"
             ],
             [
              1,
              "#f0f921"
             ]
            ],
            "type": "heatmap"
           }
          ],
          "heatmapgl": [
           {
            "colorbar": {
             "outlinewidth": 0,
             "ticks": ""
            },
            "colorscale": [
             [
              0,
              "#0d0887"
             ],
             [
              0.1111111111111111,
              "#46039f"
             ],
             [
              0.2222222222222222,
              "#7201a8"
             ],
             [
              0.3333333333333333,
              "#9c179e"
             ],
             [
              0.4444444444444444,
              "#bd3786"
             ],
             [
              0.5555555555555556,
              "#d8576b"
             ],
             [
              0.6666666666666666,
              "#ed7953"
             ],
             [
              0.7777777777777778,
              "#fb9f3a"
             ],
             [
              0.8888888888888888,
              "#fdca26"
             ],
             [
              1,
              "#f0f921"
             ]
            ],
            "type": "heatmapgl"
           }
          ],
          "histogram": [
           {
            "marker": {
             "pattern": {
              "fillmode": "overlay",
              "size": 10,
              "solidity": 0.2
             }
            },
            "type": "histogram"
           }
          ],
          "histogram2d": [
           {
            "colorbar": {
             "outlinewidth": 0,
             "ticks": ""
            },
            "colorscale": [
             [
              0,
              "#0d0887"
             ],
             [
              0.1111111111111111,
              "#46039f"
             ],
             [
              0.2222222222222222,
              "#7201a8"
             ],
             [
              0.3333333333333333,
              "#9c179e"
             ],
             [
              0.4444444444444444,
              "#bd3786"
             ],
             [
              0.5555555555555556,
              "#d8576b"
             ],
             [
              0.6666666666666666,
              "#ed7953"
             ],
             [
              0.7777777777777778,
              "#fb9f3a"
             ],
             [
              0.8888888888888888,
              "#fdca26"
             ],
             [
              1,
              "#f0f921"
             ]
            ],
            "type": "histogram2d"
           }
          ],
          "histogram2dcontour": [
           {
            "colorbar": {
             "outlinewidth": 0,
             "ticks": ""
            },
            "colorscale": [
             [
              0,
              "#0d0887"
             ],
             [
              0.1111111111111111,
              "#46039f"
             ],
             [
              0.2222222222222222,
              "#7201a8"
             ],
             [
              0.3333333333333333,
              "#9c179e"
             ],
             [
              0.4444444444444444,
              "#bd3786"
             ],
             [
              0.5555555555555556,
              "#d8576b"
             ],
             [
              0.6666666666666666,
              "#ed7953"
             ],
             [
              0.7777777777777778,
              "#fb9f3a"
             ],
             [
              0.8888888888888888,
              "#fdca26"
             ],
             [
              1,
              "#f0f921"
             ]
            ],
            "type": "histogram2dcontour"
           }
          ],
          "mesh3d": [
           {
            "colorbar": {
             "outlinewidth": 0,
             "ticks": ""
            },
            "type": "mesh3d"
           }
          ],
          "parcoords": [
           {
            "line": {
             "colorbar": {
              "outlinewidth": 0,
              "ticks": ""
             }
            },
            "type": "parcoords"
           }
          ],
          "pie": [
           {
            "automargin": true,
            "type": "pie"
           }
          ],
          "scatter": [
           {
            "fillpattern": {
             "fillmode": "overlay",
             "size": 10,
             "solidity": 0.2
            },
            "type": "scatter"
           }
          ],
          "scatter3d": [
           {
            "line": {
             "colorbar": {
              "outlinewidth": 0,
              "ticks": ""
             }
            },
            "marker": {
             "colorbar": {
              "outlinewidth": 0,
              "ticks": ""
             }
            },
            "type": "scatter3d"
           }
          ],
          "scattercarpet": [
           {
            "marker": {
             "colorbar": {
              "outlinewidth": 0,
              "ticks": ""
             }
            },
            "type": "scattercarpet"
           }
          ],
          "scattergeo": [
           {
            "marker": {
             "colorbar": {
              "outlinewidth": 0,
              "ticks": ""
             }
            },
            "type": "scattergeo"
           }
          ],
          "scattergl": [
           {
            "marker": {
             "colorbar": {
              "outlinewidth": 0,
              "ticks": ""
             }
            },
            "type": "scattergl"
           }
          ],
          "scattermapbox": [
           {
            "marker": {
             "colorbar": {
              "outlinewidth": 0,
              "ticks": ""
             }
            },
            "type": "scattermapbox"
           }
          ],
          "scatterpolar": [
           {
            "marker": {
             "colorbar": {
              "outlinewidth": 0,
              "ticks": ""
             }
            },
            "type": "scatterpolar"
           }
          ],
          "scatterpolargl": [
           {
            "marker": {
             "colorbar": {
              "outlinewidth": 0,
              "ticks": ""
             }
            },
            "type": "scatterpolargl"
           }
          ],
          "scatterternary": [
           {
            "marker": {
             "colorbar": {
              "outlinewidth": 0,
              "ticks": ""
             }
            },
            "type": "scatterternary"
           }
          ],
          "surface": [
           {
            "colorbar": {
             "outlinewidth": 0,
             "ticks": ""
            },
            "colorscale": [
             [
              0,
              "#0d0887"
             ],
             [
              0.1111111111111111,
              "#46039f"
             ],
             [
              0.2222222222222222,
              "#7201a8"
             ],
             [
              0.3333333333333333,
              "#9c179e"
             ],
             [
              0.4444444444444444,
              "#bd3786"
             ],
             [
              0.5555555555555556,
              "#d8576b"
             ],
             [
              0.6666666666666666,
              "#ed7953"
             ],
             [
              0.7777777777777778,
              "#fb9f3a"
             ],
             [
              0.8888888888888888,
              "#fdca26"
             ],
             [
              1,
              "#f0f921"
             ]
            ],
            "type": "surface"
           }
          ],
          "table": [
           {
            "cells": {
             "fill": {
              "color": "#EBF0F8"
             },
             "line": {
              "color": "white"
             }
            },
            "header": {
             "fill": {
              "color": "#C8D4E3"
             },
             "line": {
              "color": "white"
             }
            },
            "type": "table"
           }
          ]
         },
         "layout": {
          "annotationdefaults": {
           "arrowcolor": "#2a3f5f",
           "arrowhead": 0,
           "arrowwidth": 1
          },
          "autotypenumbers": "strict",
          "coloraxis": {
           "colorbar": {
            "outlinewidth": 0,
            "ticks": ""
           }
          },
          "colorscale": {
           "diverging": [
            [
             0,
             "#8e0152"
            ],
            [
             0.1,
             "#c51b7d"
            ],
            [
             0.2,
             "#de77ae"
            ],
            [
             0.3,
             "#f1b6da"
            ],
            [
             0.4,
             "#fde0ef"
            ],
            [
             0.5,
             "#f7f7f7"
            ],
            [
             0.6,
             "#e6f5d0"
            ],
            [
             0.7,
             "#b8e186"
            ],
            [
             0.8,
             "#7fbc41"
            ],
            [
             0.9,
             "#4d9221"
            ],
            [
             1,
             "#276419"
            ]
           ],
           "sequential": [
            [
             0,
             "#0d0887"
            ],
            [
             0.1111111111111111,
             "#46039f"
            ],
            [
             0.2222222222222222,
             "#7201a8"
            ],
            [
             0.3333333333333333,
             "#9c179e"
            ],
            [
             0.4444444444444444,
             "#bd3786"
            ],
            [
             0.5555555555555556,
             "#d8576b"
            ],
            [
             0.6666666666666666,
             "#ed7953"
            ],
            [
             0.7777777777777778,
             "#fb9f3a"
            ],
            [
             0.8888888888888888,
             "#fdca26"
            ],
            [
             1,
             "#f0f921"
            ]
           ],
           "sequentialminus": [
            [
             0,
             "#0d0887"
            ],
            [
             0.1111111111111111,
             "#46039f"
            ],
            [
             0.2222222222222222,
             "#7201a8"
            ],
            [
             0.3333333333333333,
             "#9c179e"
            ],
            [
             0.4444444444444444,
             "#bd3786"
            ],
            [
             0.5555555555555556,
             "#d8576b"
            ],
            [
             0.6666666666666666,
             "#ed7953"
            ],
            [
             0.7777777777777778,
             "#fb9f3a"
            ],
            [
             0.8888888888888888,
             "#fdca26"
            ],
            [
             1,
             "#f0f921"
            ]
           ]
          },
          "colorway": [
           "#636efa",
           "#EF553B",
           "#00cc96",
           "#ab63fa",
           "#FFA15A",
           "#19d3f3",
           "#FF6692",
           "#B6E880",
           "#FF97FF",
           "#FECB52"
          ],
          "font": {
           "color": "#2a3f5f"
          },
          "geo": {
           "bgcolor": "white",
           "lakecolor": "white",
           "landcolor": "#E5ECF6",
           "showlakes": true,
           "showland": true,
           "subunitcolor": "white"
          },
          "hoverlabel": {
           "align": "left"
          },
          "hovermode": "closest",
          "mapbox": {
           "style": "light"
          },
          "paper_bgcolor": "white",
          "plot_bgcolor": "#E5ECF6",
          "polar": {
           "angularaxis": {
            "gridcolor": "white",
            "linecolor": "white",
            "ticks": ""
           },
           "bgcolor": "#E5ECF6",
           "radialaxis": {
            "gridcolor": "white",
            "linecolor": "white",
            "ticks": ""
           }
          },
          "scene": {
           "xaxis": {
            "backgroundcolor": "#E5ECF6",
            "gridcolor": "white",
            "gridwidth": 2,
            "linecolor": "white",
            "showbackground": true,
            "ticks": "",
            "zerolinecolor": "white"
           },
           "yaxis": {
            "backgroundcolor": "#E5ECF6",
            "gridcolor": "white",
            "gridwidth": 2,
            "linecolor": "white",
            "showbackground": true,
            "ticks": "",
            "zerolinecolor": "white"
           },
           "zaxis": {
            "backgroundcolor": "#E5ECF6",
            "gridcolor": "white",
            "gridwidth": 2,
            "linecolor": "white",
            "showbackground": true,
            "ticks": "",
            "zerolinecolor": "white"
           }
          },
          "shapedefaults": {
           "line": {
            "color": "#2a3f5f"
           }
          },
          "ternary": {
           "aaxis": {
            "gridcolor": "white",
            "linecolor": "white",
            "ticks": ""
           },
           "baxis": {
            "gridcolor": "white",
            "linecolor": "white",
            "ticks": ""
           },
           "bgcolor": "#E5ECF6",
           "caxis": {
            "gridcolor": "white",
            "linecolor": "white",
            "ticks": ""
           }
          },
          "title": {
           "x": 0.05
          },
          "xaxis": {
           "automargin": true,
           "gridcolor": "white",
           "linecolor": "white",
           "ticks": "",
           "title": {
            "standoff": 15
           },
           "zerolinecolor": "white",
           "zerolinewidth": 2
          },
          "yaxis": {
           "automargin": true,
           "gridcolor": "white",
           "linecolor": "white",
           "ticks": "",
           "title": {
            "standoff": 15
           },
           "zerolinecolor": "white",
           "zerolinewidth": 2
          }
         }
        },
        "title": {
         "text": "UMAP"
        },
        "width": 1000,
        "xaxis": {
         "anchor": "y",
         "domain": [
          0,
          1
         ],
         "showticklabels": false,
         "title": {
          "text": ""
         }
        },
        "yaxis": {
         "anchor": "x",
         "domain": [
          0,
          1
         ],
         "showticklabels": false,
         "title": {
          "text": ""
         }
        }
       }
      }
     },
     "metadata": {},
     "output_type": "display_data"
    }
   ],
   "source": [
    "# Set up UMAP\n",
    "umap_embeddings = UMAP().fit_transform(feature_matrix) # UMAP is running on the raw data\n",
    "\n",
    "# Run 2D UMAP plot\n",
    "# Here, we can manually subset faculty and then rerun the UMAP. This gives us more power to \"zoom in\". Later, can make this process more automated.\n",
    "umap_embeddings_df = pd.DataFrame(umap_embeddings, columns=[\"V1\", \"V2\"])\n",
    "umap_embeddings_df['Faculty_Full_Name'] = raw_data['Faculty_Full_Name']\n",
    "umap_embeddings_df = umap_embeddings_df.merge(top_mesh_terms_df, on='Faculty_Full_Name', how='left')\n",
    "fig = px.scatter(umap_embeddings_df, x=\"V1\", y=\"V2\", title=\"UMAP\", hover_name=\"Faculty_Full_Name\",\n",
    "                 hover_data={\"V1\": False, \"V2\": False,\n",
    "                             'Top_Mesh_Terms': True},\n",
    "                 width=1000, height=1000, color_discrete_sequence=['#fecc07'])\n",
    "fig_show(fig)"
   ]
  },
  {
   "cell_type": "markdown",
   "id": "95a805e6",
   "metadata": {},
   "source": [
    "# Elbow plot\n",
    "An elbow plot gives a rough value for the number of components to run UMAP on. Then, we will plug this number (where the elbow bends) into the num_components parameter in UMAP."
   ]
  },
  {
   "cell_type": "code",
   "execution_count": 21,
   "id": "5d81ad9f",
   "metadata": {},
   "outputs": [
    {
     "data": {
      "image/png": "[encoded data removed]",
      "text/plain": [
       "<Figure size 1000x600 with 1 Axes>"
      ]
     },
     "metadata": {},
     "output_type": "display_data"
    }
   ],
   "source": [
    "# Run an elbow plot\n",
    "numeric_data_umap = umap_embeddings_df.select_dtypes(include=['number'])\n",
    "scaler = StandardScaler()\n",
    "scaled_data_umap = scaler.fit_transform(numeric_data_umap)\n",
    "wcss = []\n",
    "for i in range(1, 11):\n",
    "    kmeans = KMeans(n_clusters=i, random_state=42, n_init=\"auto\")\n",
    "    kmeans.fit(scaled_data_umap)\n",
    "    wcss.append(kmeans.inertia_)\n",
    "plt.figure(figsize=(10, 6))\n",
    "plt.plot(range(1, 11), wcss, marker='o', linestyle='--')\n",
    "plt.title('Elbow Method (UMAP)')\n",
    "plt.xlabel('Number of Clusters')\n",
    "plt.ylabel('WCSS')\n",
    "plt.xticks(range(1, 11))\n",
    "plt.grid(True)\n",
    "plt.show()"
   ]
  },
  {
   "cell_type": "markdown",
   "id": "1e18236d",
   "metadata": {},
   "source": [
    "# UMAP iteration with different number of components"
   ]
  },
  {
   "cell_type": "code",
   "execution_count": 22,
   "id": "1420df55",
   "metadata": {},
   "outputs": [
    {
     "name": "stderr",
     "output_type": "stream",
     "text": [
      "/Users/mitalimittal/anaconda3/lib/python3.11/site-packages/umap/umap_.py:1943: UserWarning:\n",
      "\n",
      "n_jobs value -1 overridden to 1 by setting random_state. Use no seed for parallelism.\n",
      "\n"
     ]
    },
    {
     "data": {
      "application/vnd.plotly.v1+json": {
       "config": {
        "plotlyServerURL": "https://plot.ly"
       },
       "data": [
        {
         "customdata": [
          [
           [
            "Soil",
            "Droughts",
            "Resilience__Psychological",
            "Temperature",
            "Interdisciplinary_Research"
           ]
          ],
          [
           [
            "Phosphorylation",
            "Computational_Biology",
            "Genetics",
            "Hippo_Signaling_Pathway",
            "Cell_Line__Tumor"
           ]
          ],
          [
           [
            "Molecular_Biology",
            "Immunity",
            "Carcinogenesis",
            "T_Lymphocytes",
            "Phosphorylation"
           ]
          ],
          [
           [
            "Biomechanical_Phenomena",
            "Aging",
            "Temperature"
           ]
          ],
          [
           []
          ],
          [
           [
            "Phosphorylation",
            "Ligands",
            "Diabetes_Mellitus",
            "Child",
            "Alleles"
           ]
          ],
          [
           [
            "Obesity",
            "Pregnancy",
            "Chromatin",
            "Multiomics",
            "DNA"
           ]
          ],
          [
           [
            "Induced_Pluripotent_Stem_Cells",
            "Cytokines",
            "Macrophages",
            "Disease_Progression",
            "Monocytes"
           ]
          ],
          [
           [
            "Biodiversity",
            "Ecological_and_Environmental_Phenomena"
           ]
          ],
          [
           [
            "Phylogeny",
            "Clustered_Regularly_Interspaced_Short_Palindromic_Repeats",
            "Evolution__Molecular"
           ]
          ],
          [
           []
          ],
          [
           [
            "Down_Syndrome",
            "Cognitive_Dysfunction",
            "Proteomics",
            "Pregnancy",
            "Amyloid_beta_Peptides"
           ]
          ],
          [
           [
            "Magnetic_Resonance_Imaging"
           ]
          ],
          [
           [
            "Gene_Regulatory_Networks",
            "Chromatin",
            "Multiomics",
            "Cell_Differentiation",
            "Computational_Biology"
           ]
          ],
          [
           [
            "Neuroimaging",
            "Magnetic_Resonance_Imaging",
            "Pregnancy",
            "Computer_Simulation",
            "Adolescent"
           ]
          ],
          [
           [
            "Cell_Line",
            "Computational_Biology",
            "Aging"
           ]
          ],
          [
           [
            "Magnetic_Resonance_Imaging",
            "Temperature",
            "Genotype",
            "Ligands"
           ]
          ],
          [
           [
            "Synapses"
           ]
          ],
          [
           [
            "Diet",
            "Temperature"
           ]
          ],
          [
           [
            "Neuronal_Plasticity",
            "Synapses",
            "Astrocytes",
            "Apoptosis",
            "Proteomics"
           ]
          ],
          [
           [
            "Biomechanical_Phenomena",
            "Resilience__Psychological",
            "Interdisciplinary_Research",
            "Computer_Simulation"
           ]
          ],
          [
           [
            "Neurodegenerative_Diseases",
            "Stem_Cells",
            "Chromatin",
            "Cell_Line"
           ]
          ],
          [
           [
            "Antiviral_Agents",
            "Virus_Diseases",
            "RNA",
            "Cell_Line",
            "Single_Cell_Gene_Expression_Analysis"
           ]
          ],
          [
           [
            "CRISPR_Cas_Systems",
            "Tumor_Microenvironment",
            "Nutrients",
            "Ligands",
            "Alleles"
           ]
          ],
          [
           [
            "Genotype",
            "Alleles",
            "Evolution__Molecular",
            "Chromatin",
            "Gene_Regulatory_Networks"
           ]
          ],
          [
           [
            "Zebrafish",
            "Cell_Communication",
            "Macrophages"
           ]
          ],
          [
           [
            "Temperature",
            "Soil",
            "Resilience__Psychological",
            "Droughts",
            "Computer_Simulation"
           ]
          ],
          [
           [
            "Substance_Related_Disorders"
           ]
          ],
          [
           [
            "Nicotine",
            "Chromatin",
            "Microscopy",
            "Clustered_Regularly_Interspaced_Short_Palindromic_Repeats",
            "Cocaine"
           ]
          ],
          [
           [
            "Biological_Evolution",
            "Computer_Simulation",
            "Computational_Biology",
            "Ecological_and_Environmental_Phenomena",
            "Genetics"
           ]
          ],
          [
           [
            "Astrocytes",
            "Magnetic_Resonance_Imaging",
            "Neuronal_Plasticity",
            "Neuroimaging"
           ]
          ],
          [
           [
            "Cell_Line",
            "Cell_Proliferation",
            "Apoptosis",
            "Child",
            "Heterografts"
           ]
          ],
          [
           [
            "Genetic_Variation",
            "Chromatin",
            "Epigenomics",
            "Temperature",
            "Droughts"
           ]
          ],
          [
           [
            "Diet",
            "Zebrafish",
            "Proteomics",
            "Temperature",
            "Ecological_and_Environmental_Phenomena"
           ]
          ],
          [
           [
            "Proteomics",
            "Mass_Spectrometry",
            "Escherichia_coli",
            "DNA",
            "Antiviral_Agents"
           ]
          ],
          [
           [
            "Aging",
            "Bacteriophages",
            "Immunity",
            "Neurodegenerative_Diseases",
            "Amyloid_beta_Peptides"
           ]
          ],
          [
           [
            "Cryoelectron_Microscopy",
            "Bacteriophages",
            "Microscopy",
            "Gastrointestinal_Microbiome",
            "Anti_Bacterial_Agents"
           ]
          ],
          [
           [
            "Anti_Bacterial_Agents",
            "Pandemics",
            "Nutrients",
            "Molecular_Biology",
            "Ligands"
           ]
          ],
          [
           [
            "Cell_Proliferation",
            "Amyloid_beta_Peptides",
            "Monocytes",
            "Bone_Marrow",
            "Macrophages"
           ]
          ],
          [
           [
            "Ligands",
            "Magnetic_Resonance_Imaging",
            "Neuroimaging",
            "Child",
            "Oxidation_Reduction"
           ]
          ],
          [
           [
            "Amyloid_beta_Peptides",
            "Aged__80_and_over",
            "Cognitive_Dysfunction",
            "Disease_Progression",
            "Neurodegenerative_Diseases"
           ]
          ],
          [
           [
            "Neurodegenerative_Diseases",
            "Anti_Bacterial_Agents",
            "Computer_Simulation",
            "Anti_Infective_Agents",
            "Computational_Biology"
           ]
          ],
          [
           [
            "Pancreatic_Neoplasms",
            "Tumor_Microenvironment",
            "Fibroblasts",
            "Oxidation_Reduction",
            "Liver_Neoplasms"
           ]
          ],
          [
           [
            "Gastrointestinal_Microbiome",
            "Parasites",
            "Ecological_and_Environmental_Phenomena",
            "Genetics",
            "Diet"
           ]
          ],
          [
           [
            "Nitrogenase",
            "Escherichia_coli",
            "Cell_Line__Tumor",
            "Aged__80_and_over",
            "Phylogeny"
           ]
          ],
          [
           [
            "Colorectal_Neoplasms",
            "Incidence",
            "Survival_Rate",
            "Astrocytes",
            "Tumor_Microenvironment"
           ]
          ],
          [
           [
            "Temperature",
            "Ecological_and_Environmental_Phenomena",
            "Soil",
            "Nutrients",
            "Biodiversity"
           ]
          ],
          [
           [
            "Hematopoietic_Stem_Cell_Transplantation",
            "Graft_vs_Host_Disease",
            "T_Lymphocytes__Regulatory",
            "Bone_Marrow",
            "Apoptosis"
           ]
          ],
          [
           [
            "CRISPR_Cas_Systems",
            "Genetics",
            "RNA",
            "Magnetic_Resonance_Imaging",
            "Cell_Death"
           ]
          ],
          [
           [
            "Aged__80_and_over",
            "Cognitive_Dysfunction",
            "Aging",
            "Magnetic_Resonance_Imaging",
            "Incidence"
           ]
          ],
          [
           [
            "Adolescent",
            "Genotype"
           ]
          ],
          [
           [
            "Colorectal_Neoplasms",
            "Nutrients",
            "Carcinogenesis",
            "Heterografts",
            "AMP_Activated_Protein_Kinases"
           ]
          ],
          [
           []
          ],
          [
           [
            "Chromatin",
            "Organoids",
            "Alleles",
            "Phylogeny",
            "Evolution__Molecular"
           ]
          ],
          [
           [
            "Amyloid_beta_Peptides",
            "Proteomics",
            "Aged__80_and_over",
            "Induced_Pluripotent_Stem_Cells",
            "Single_Cell_Gene_Expression_Analysis"
           ]
          ],
          [
           [
            "Temperature",
            "Ecological_and_Environmental_Phenomena",
            "Biodiversity"
           ]
          ],
          [
           [
            "Stem_Cells",
            "RNA",
            "Cell_Differentiation",
            "Computational_Biology",
            "Single_Cell_Analysis"
           ]
          ],
          [
           [
            "COVID_19",
            "Neuroinflammatory_Diseases",
            "Pandemics",
            "Multiple_Sclerosis",
            "Virus_Diseases"
           ]
          ],
          [
           [
            "Aging",
            "Cell_Proliferation",
            "Cues",
            "Cell_Differentiation",
            "Microscopy"
           ]
          ],
          [
           [
            "Parasites",
            "Diet",
            "Epigenomics",
            "Evolution__Molecular",
            "Nutrients"
           ]
          ],
          [
           [
            "Toxoplasma",
            "Parasites",
            "Monocytes",
            "Phagocytosis",
            "Cytokines"
           ]
          ],
          [
           [
            "Genotype",
            "Aging",
            "Macrophages",
            "Persistent_Infection",
            "CRISPR_Cas_Systems"
           ]
          ],
          [
           [
            "Computational_Biology",
            "T_Lymphocytes",
            "Hippo_Signaling_Pathway",
            "Escherichia_coli",
            "Cell_Line__Tumor"
           ]
          ],
          [
           [
            "Aging",
            "Synapses",
            "Computer_Simulation",
            "Memory_Consolidation",
            "Genetics"
           ]
          ],
          [
           [
            "Temperature",
            "Ecological_and_Environmental_Phenomena"
           ]
          ],
          [
           [
            "Amyloid_beta_Peptides",
            "Gastrointestinal_Microbiome",
            "Astrocytes",
            "Disease_Progression",
            "T_Lymphocytes__Regulatory"
           ]
          ],
          [
           [
            "Reward",
            "Substance_Related_Disorders",
            "Genetics",
            "Adolescent",
            "Neuronal_Plasticity"
           ]
          ],
          [
           [
            "Biomechanical_Phenomena",
            "Biological_Evolution",
            "Ecological_and_Environmental_Phenomena",
            "Evolution__Molecular",
            "Phylogeny"
           ]
          ],
          [
           [
            "Temperature",
            "Ecological_and_Environmental_Phenomena",
            "Biodiversity",
            "Genetics",
            "Anti_Bacterial_Agents"
           ]
          ],
          [
           [
            "Soil",
            "Gastrointestinal_Microbiome",
            "Diet",
            "Diabetes_Mellitus",
            "Anti_Bacterial_Agents"
           ]
          ],
          [
           [
            "Biomechanical_Phenomena",
            "Cues",
            "Ecological_and_Environmental_Phenomena",
            "Zebrafish"
           ]
          ],
          [
           [
            "Sleep",
            "Cues",
            "Neuronal_Plasticity",
            "Synapses",
            "Memory_Consolidation"
           ]
          ],
          [
           [
            "Inflammasomes",
            "NLR_Family__Pyrin_Domain_Containing_3_Protein",
            "Cryoelectron_Microscopy",
            "CRISPR_Cas_Systems",
            "Apoptosis"
           ]
          ],
          [
           [
            "Nicotine",
            "Cognitive_Dysfunction"
           ]
          ],
          [
           [
            "Biological_Evolution",
            "Droughts",
            "Alleles",
            "Genetic_Variation",
            "Biodiversity"
           ]
          ],
          [
           [
            "Immunity__Innate",
            "Virus_Diseases",
            "Antiviral_Agents",
            "Incidence",
            "Pandemics"
           ]
          ],
          [
           [
            "Parasites",
            "Toxoplasma",
            "Ligands",
            "Fibroblasts"
           ]
          ],
          [
           [
            "Aging",
            "Amyloid_beta_Peptides",
            "Gene_Regulatory_Networks",
            "Single_Cell_Analysis",
            "Chromatin"
           ]
          ],
          [
           [
            "Cytokines",
            "Flow_Cytometry",
            "Cell_Line",
            "Single_Cell_Gene_Expression_Analysis",
            "T_Lymphocytes"
           ]
          ],
          [
           [
            "Cell_Communication",
            "Gene_Regulatory_Networks",
            "Single_Cell_Analysis",
            "Single_Cell_Gene_Expression_Analysis",
            "Computational_Biology"
           ]
          ],
          [
           [
            "Zebrafish",
            "Pancreatic_Neoplasms",
            "Gastrointestinal_Microbiome",
            "Disease_Progression",
            "Child"
           ]
          ],
          [
           []
          ],
          [
           [
            "Single_Cell_Gene_Expression_Analysis",
            "Stem_Cells",
            "Fibroblasts",
            "Cell_Communication",
            "Aging"
           ]
          ],
          [
           [
            "Evolution__Molecular",
            "Phylogeny",
            "Ecological_and_Environmental_Phenomena",
            "Biological_Evolution",
            "Genetics"
           ]
          ],
          [
           [
            "Triple_Negative_Breast_Neoplasms",
            "Oxidative_Phosphorylation",
            "Mitochondria",
            "Survival_Rate",
            "Immune_Checkpoint_Inhibitors"
           ]
          ],
          [
           [
            "Soil",
            "Droughts",
            "Biological_Evolution",
            "Pandemics",
            "Ecological_and_Environmental_Phenomena"
           ]
          ],
          [
           [
            "Nitrogenase",
            "Oxidation_Reduction",
            "Escherichia_coli",
            "Phylogeny",
            "Evolution__Molecular"
           ]
          ],
          [
           [
            "Nutrients",
            "Biodiversity",
            "Escherichia_coli",
            "Anti_Bacterial_Agents",
            "Evolution__Molecular"
           ]
          ],
          [
           [
            "Sleep",
            "Memory_Consolidation",
            "Cues",
            "Magnetic_Resonance_Imaging",
            "Neuroimaging"
           ]
          ],
          [
           [
            "Zebrafish",
            "Computer_Simulation",
            "Cell_Proliferation",
            "Biomechanical_Phenomena",
            "Biological_Evolution"
           ]
          ],
          [
           [
            "Proteomics",
            "Mass_Spectrometry",
            "Astrocytes",
            "Microscopy",
            "Multiomics"
           ]
          ],
          [
           [
            "Biodiversity",
            "Ecological_and_Environmental_Phenomena",
            "Temperature"
           ]
          ],
          [
           [
            "Aging",
            "Magnetic_Resonance_Imaging",
            "Cognitive_Dysfunction",
            "Neuroimaging",
            "Amyloid_beta_Peptides"
           ]
          ],
          [
           [
            "Biological_Evolution"
           ]
          ],
          [
           [
            "Microscopy",
            "RNA",
            "Stem_Cells",
            "Pregnancy",
            "Escherichia_coli"
           ]
          ],
          [
           [
            "Nicotine",
            "Reward",
            "Pregnancy",
            "Cognitive_Dysfunction",
            "Cytokines"
           ]
          ],
          [
           [
            "Incidence",
            "Cell_Proliferation",
            "Tumor_Microenvironment",
            "RNA",
            "Carcinogenesis"
           ]
          ],
          [
           [
            "White_Matter",
            "Neurodegenerative_Diseases",
            "Neuroinflammatory_Diseases",
            "Astrocytes",
            "Proteomics"
           ]
          ],
          [
           [
            "Biodiversity",
            "Interdisciplinary_Research",
            "Temperature",
            "Resilience__Psychological",
            "Diet"
           ]
          ],
          [
           [
            "Neuroinflammatory_Diseases",
            "Phagocytosis",
            "Neurodegenerative_Diseases",
            "Amyloid_beta_Peptides",
            "Astrocytes"
           ]
          ],
          [
           [
            "Alleles",
            "Mitochondria",
            "Cell_Death",
            "Neurodegenerative_Diseases"
           ]
          ],
          [
           [
            "Induced_Pluripotent_Stem_Cells",
            "Neurodegenerative_Diseases",
            "Clustered_Regularly_Interspaced_Short_Palindromic_Repeats",
            "Disease_Progression",
            "Cognitive_Dysfunction"
           ]
          ],
          [
           [
            "Ecological_and_Environmental_Phenomena",
            "Phylogeny",
            "Computer_Simulation",
            "Alleles"
           ]
          ],
          [
           [
            "CD8_Positive_T_Lymphocytes",
            "Immune_Checkpoint_Inhibitors",
            "Persistent_Infection",
            "Virus_Diseases",
            "HIV_Infections"
           ]
          ],
          [
           [
            "Soil",
            "Temperature",
            "Resilience__Psychological",
            "Droughts",
            "Genotype"
           ]
          ],
          [
           [
            "COVID_19",
            "Child",
            "Magnetic_Resonance_Imaging",
            "Aged__80_and_over",
            "Cell_Differentiation"
           ]
          ],
          [
           [
            "T_Lymphocytes__Regulatory",
            "Multiple_Sclerosis",
            "Stem_Cells",
            "White_Matter",
            "Macrophages"
           ]
          ],
          [
           [
            "Hippo_Signaling_Pathway",
            "Cell_Proliferation",
            "Carcinogenesis",
            "Apoptosis",
            "Child"
           ]
          ],
          [
           [
            "Genetics",
            "Hippo_Signaling_Pathway",
            "Phosphorylation",
            "Cell_Line__Tumor"
           ]
          ],
          [
           [
            "Bacteriophages",
            "Anti_Bacterial_Agents",
            "Gastrointestinal_Microbiome",
            "Escherichia_coli",
            "Nutrients"
           ]
          ],
          [
           [
            "Zebrafish",
            "Gastrointestinal_Microbiome",
            "Bacteriophages",
            "Anti_Bacterial_Agents",
            "Soil"
           ]
          ],
          [
           [
            "Substance_Related_Disorders",
            "Cocaine",
            "Cues",
            "Reward",
            "Neuronal_Plasticity"
           ]
          ],
          [
           [
            "Gastrointestinal_Microbiome",
            "Phylogeny"
           ]
          ],
          [
           [
            "Magnetic_Resonance_Imaging",
            "Neuroimaging",
            "Cognitive_Dysfunction",
            "Interdisciplinary_Research",
            "Child"
           ]
          ]
         ],
         "hovertemplate": "<b>%{hovertext}</b><br><br>Top_Mesh_Terms=%{customdata[0]}<extra></extra>",
         "hovertext": [
          "Allison, Steven",
          "Arora, Kavita",
          "Atwood, Scott",
          "Azizi, Emanuel",
          "Baker, Nicholas",
          "Bardwell, Lee",
          "Blumberg, Bruce",
          "Blurton-Jones, Mathew",
          "Bracken, Matthew",
          "Briscoe, Adriana",
          "Burley, Nancy",
          "Busciglio, Jorge",
          "Cahill, Larry",
          "Cho, Ken",
          "Chrastil, Elizabeth",
          "Cinquin, Olivier",
          "Cocco, Melanie",
          "Cohen-Cory, Susana",
          "Connor, Kwasi",
          "Cramer, Karina",
          "Daley, Monica",
          "Donovan, Peter",
          "Drayman, Nir",
          "Edinger, Aimee",
          "Emerson, J.J.",
          "Eom, Dae Seok",
          "Faiola, Celia",
          "Fortin, Norbert",
          "Fowler, Christie",
          "Frank, Steven",
          "Frostig, Ron",
          "Fruman, David",
          "Gaut, Brandon",
          "German, Donovan",
          "Gershon, Paul",
          "Glabe, Charles",
          "Gonen, Shane",
          "Goulding, Celia",
          "Green, Kim",
          "Green, Michael",
          "Grill, Joshua",
          "Gross, Steven",
          "Halbrook, Christopher",
          "Hammer, Tobin",
          "Hu, Yilin",
          "Hughes, Christopher",
          "Huxman, Travis",
          "Inlay, Matthew",
          "James, Anthony",
          "Kawas, Claudia",
          "Kim, Seungsoo",
          "Kong, Mei",
          "Konieczny, Piotr",
          "Kvon, Evgeny",
          "LaFerla, Frank",
          "Lamb, Joleah",
          "Lander, Arthur",
          "Lane, Thomas",
          "Lara-Gonzalez, Pablo",
          "Lee, Grace",
          "Lodoen, Melissa",
          "Long, Anthony",
          "Luo, Ray",
          "Lur, Gyorgy",
          "Lutterschmidt, Deborah",
          "MacGregor, Grant",
          "Mahler, Stephen",
          "Martinez, Christopher",
          "Martiny, Adam",
          "Martiny, Jennifer",
          "McHenry, Matthew",
          "McNaughton, Bruce",
          "McNulty, Reginald",
          "Metherate, Raju",
          "Mooney, Kailen",
          "Morehouse, Benjamin",
          "Morrissette, Naomi",
          "Mortazavi, Ali",
          "Nicholas, Dequina",
          "Nie, Qing",
          "Parsons, Michael",
          "Pizzagalli, Diego",
          "Plikus, Maksim",
          "Ranz, Jose",
          "Razorenova, Olga",
          "Rebolleda-Gomez, Maria",
          "Ribbe, Markus",
          "Rodriguez Verdugo, Alejandra",
          "Schechtman-Drayman, Eitan",
          "Schilling, Thomas",
          "Shi, Xiaoyu",
          "Sorte, Cascade",
          "Stark, Craig",
          "Striedter, Georg",
          "Suetterlin, Christine",
          "Sumikawa, Katumi",
          "Sun, Sha",
          "Swarup, Vivek",
          "Symons, Celia",
          "Tenner, Andrea",
          "Thompson-Peer, Katherine",
          "Thompson, Leslie",
          "Thornton, Kevin",
          "Tinoco, Roberto",
          "Treseder, Kathleen",
          "Tsai, Shiou-Chuan",
          "Walsh, Craig",
          "Wang, Wenqi",
          "Warrior, Rahul",
          "Whiteson, Katrine",
          "Wiles, Travis",
          "Wood, Marcelo",
          "Xue, Katherine",
          "Yassa, Michael"
         ],
         "legendgroup": "",
         "marker": {
          "color": "#fecc07",
          "symbol": "circle"
         },
         "mode": "markers",
         "name": "",
         "orientation": "v",
         "showlegend": false,
         "type": "scatter",
         "x": [
          12.128878,
          5.6414294,
          -3.827668,
          11.98809,
          11.96684,
          -5.8061686,
          -4.760673,
          -5.361816,
          5.4902496,
          11.144049,
          11.896141,
          -7.683327,
          -7.3718777,
          5.248186,
          -3.9228497,
          -5.662923,
          5.793181,
          -2.6874785,
          10.853144,
          12.073212,
          12.313172,
          -6.355095,
          -1.982948,
          5.635235,
          12.264883,
          -7.7568226,
          11.637532,
          11.496744,
          -7.508811,
          11.545741,
          -2.374053,
          -3.3581533,
          12.228611,
          12.268651,
          -4.208908,
          -2.6142988,
          -6.5093627,
          5.614928,
          -7.855027,
          -2.4285831,
          -7.7336683,
          5.4457645,
          -7.757674,
          12.1560755,
          -4.846471,
          5.5277295,
          5.5770497,
          -7.5148787,
          11.373625,
          -7.6396623,
          11.7796545,
          -5.4834814,
          11.716429,
          5.7299867,
          -7.878198,
          11.013788,
          -2.2568045,
          -4.914476,
          -5.619436,
          11.921943,
          -7.5063744,
          11.902589,
          11.0566025,
          5.3848743,
          5.401539,
          -6.662773,
          5.552644,
          11.550441,
          5.4572415,
          12.171737,
          12.620057,
          -2.9768972,
          -6.0930147,
          -5.1926517,
          11.6662445,
          12.039769,
          5.835341,
          -7.4533916,
          -2.8342698,
          -7.458108,
          -3.891568,
          11.896644,
          12.616392,
          11.525196,
          -4.979721,
          11.738295,
          -8.064183,
          11.669637,
          -7.3081875,
          12.156756,
          -7.5216722,
          5.7356567,
          -7.5200205,
          11.555041,
          -2.1430948,
          -7.5738473,
          11.870466,
          -6.808712,
          -1.9107075,
          -7.341614,
          5.7231226,
          -4.1643176,
          12.59123,
          -7.278327,
          11.043526,
          -1.6275151,
          -7.8662133,
          -7.00737,
          5.3143153,
          12.429707,
          12.007119,
          -7.6415253,
          -7.712179,
          -7.41565
         ],
         "xaxis": "x",
         "y": [
          13.861699,
          7.5176744,
          5.9384933,
          11.807126,
          11.754024,
          6.533584,
          6.1413326,
          6.2865996,
          7.9687924,
          10.658536,
          11.610366,
          9.336576,
          10.691941,
          6.563538,
          5.8076725,
          6.3342996,
          7.586866,
          5.8789535,
          10.390348,
          13.91614,
          11.905813,
          7.1034293,
          5.7854943,
          6.6924686,
          11.644293,
          10.974127,
          11.117823,
          10.957768,
          8.655283,
          15.285402,
          5.9484186,
          5.932015,
          14.071069,
          14.19327,
          6.0457234,
          6.1976213,
          7.308157,
          6.768775,
          10.308399,
          5.9213514,
          9.4872875,
          8.287328,
          9.720431,
          14.364149,
          6.2630897,
          7.094018,
          7.7083025,
          9.663694,
          10.815933,
          11.147441,
          11.172799,
          6.2083826,
          11.835701,
          7.426034,
          9.941814,
          10.54595,
          5.9178534,
          6.2772126,
          6.3667107,
          14.61634,
          10.565055,
          14.913013,
          10.576029,
          6.7282767,
          7.8603306,
          7.4712987,
          6.744384,
          15.242499,
          8.157771,
          14.473011,
          11.674776,
          5.9576335,
          6.8148956,
          6.429533,
          15.164802,
          14.668298,
          7.4545174,
          8.513768,
          5.9898014,
          8.953476,
          5.887907,
          11.6792555,
          11.738592,
          15.187762,
          6.367193,
          15.311325,
          10.101025,
          14.760183,
          10.770896,
          14.18088,
          11.042367,
          7.2902026,
          11.147438,
          15.055691,
          5.598831,
          9.246672,
          14.710037,
          7.6615505,
          5.704049,
          10.769006,
          7.6299944,
          5.9891067,
          11.563431,
          8.563268,
          10.581943,
          5.65747,
          10.081017,
          7.9689083,
          8.026282,
          11.883654,
          14.270303,
          8.998463,
          10.855128,
          9.144721
         ],
         "yaxis": "y"
        }
       ],
       "layout": {
        "height": 1000,
        "legend": {
         "tracegroupgap": 0
        },
        "plot_bgcolor": "#255799",
        "template": {
         "data": {
          "bar": [
           {
            "error_x": {
             "color": "#2a3f5f"
            },
            "error_y": {
             "color": "#2a3f5f"
            },
            "marker": {
             "line": {
              "color": "#E5ECF6",
              "width": 0.5
             },
             "pattern": {
              "fillmode": "overlay",
              "size": 10,
              "solidity": 0.2
             }
            },
            "type": "bar"
           }
          ],
          "barpolar": [
           {
            "marker": {
             "line": {
              "color": "#E5ECF6",
              "width": 0.5
             },
             "pattern": {
              "fillmode": "overlay",
              "size": 10,
              "solidity": 0.2
             }
            },
            "type": "barpolar"
           }
          ],
          "carpet": [
           {
            "aaxis": {
             "endlinecolor": "#2a3f5f",
             "gridcolor": "white",
             "linecolor": "white",
             "minorgridcolor": "white",
             "startlinecolor": "#2a3f5f"
            },
            "baxis": {
             "endlinecolor": "#2a3f5f",
             "gridcolor": "white",
             "linecolor": "white",
             "minorgridcolor": "white",
             "startlinecolor": "#2a3f5f"
            },
            "type": "carpet"
           }
          ],
          "choropleth": [
           {
            "colorbar": {
             "outlinewidth": 0,
             "ticks": ""
            },
            "type": "choropleth"
           }
          ],
          "contour": [
           {
            "colorbar": {
             "outlinewidth": 0,
             "ticks": ""
            },
            "colorscale": [
             [
              0,
              "#0d0887"
             ],
             [
              0.1111111111111111,
              "#46039f"
             ],
             [
              0.2222222222222222,
              "#7201a8"
             ],
             [
              0.3333333333333333,
              "#9c179e"
             ],
             [
              0.4444444444444444,
              "#bd3786"
             ],
             [
              0.5555555555555556,
              "#d8576b"
             ],
             [
              0.6666666666666666,
              "#ed7953"
             ],
             [
              0.7777777777777778,
              "#fb9f3a"
             ],
             [
              0.8888888888888888,
              "#fdca26"
             ],
             [
              1,
              "#f0f921"
             ]
            ],
            "type": "contour"
           }
          ],
          "contourcarpet": [
           {
            "colorbar": {
             "outlinewidth": 0,
             "ticks": ""
            },
            "type": "contourcarpet"
           }
          ],
          "heatmap": [
           {
            "colorbar": {
             "outlinewidth": 0,
             "ticks": ""
            },
            "colorscale": [
             [
              0,
              "#0d0887"
             ],
             [
              0.1111111111111111,
              "#46039f"
             ],
             [
              0.2222222222222222,
              "#7201a8"
             ],
             [
              0.3333333333333333,
              "#9c179e"
             ],
             [
              0.4444444444444444,
              "#bd3786"
             ],
             [
              0.5555555555555556,
              "#d8576b"
             ],
             [
              0.6666666666666666,
              "#ed7953"
             ],
             [
              0.7777777777777778,
              "#fb9f3a"
             ],
             [
              0.8888888888888888,
              "#fdca26"
             ],
             [
              1,
              "#f0f921"
             ]
            ],
            "type": "heatmap"
           }
          ],
          "heatmapgl": [
           {
            "colorbar": {
             "outlinewidth": 0,
             "ticks": ""
            },
            "colorscale": [
             [
              0,
              "#0d0887"
             ],
             [
              0.1111111111111111,
              "#46039f"
             ],
             [
              0.2222222222222222,
              "#7201a8"
             ],
             [
              0.3333333333333333,
              "#9c179e"
             ],
             [
              0.4444444444444444,
              "#bd3786"
             ],
             [
              0.5555555555555556,
              "#d8576b"
             ],
             [
              0.6666666666666666,
              "#ed7953"
             ],
             [
              0.7777777777777778,
              "#fb9f3a"
             ],
             [
              0.8888888888888888,
              "#fdca26"
             ],
             [
              1,
              "#f0f921"
             ]
            ],
            "type": "heatmapgl"
           }
          ],
          "histogram": [
           {
            "marker": {
             "pattern": {
              "fillmode": "overlay",
              "size": 10,
              "solidity": 0.2
             }
            },
            "type": "histogram"
           }
          ],
          "histogram2d": [
           {
            "colorbar": {
             "outlinewidth": 0,
             "ticks": ""
            },
            "colorscale": [
             [
              0,
              "#0d0887"
             ],
             [
              0.1111111111111111,
              "#46039f"
             ],
             [
              0.2222222222222222,
              "#7201a8"
             ],
             [
              0.3333333333333333,
              "#9c179e"
             ],
             [
              0.4444444444444444,
              "#bd3786"
             ],
             [
              0.5555555555555556,
              "#d8576b"
             ],
             [
              0.6666666666666666,
              "#ed7953"
             ],
             [
              0.7777777777777778,
              "#fb9f3a"
             ],
             [
              0.8888888888888888,
              "#fdca26"
             ],
             [
              1,
              "#f0f921"
             ]
            ],
            "type": "histogram2d"
           }
          ],
          "histogram2dcontour": [
           {
            "colorbar": {
             "outlinewidth": 0,
             "ticks": ""
            },
            "colorscale": [
             [
              0,
              "#0d0887"
             ],
             [
              0.1111111111111111,
              "#46039f"
             ],
             [
              0.2222222222222222,
              "#7201a8"
             ],
             [
              0.3333333333333333,
              "#9c179e"
             ],
             [
              0.4444444444444444,
              "#bd3786"
             ],
             [
              0.5555555555555556,
              "#d8576b"
             ],
             [
              0.6666666666666666,
              "#ed7953"
             ],
             [
              0.7777777777777778,
              "#fb9f3a"
             ],
             [
              0.8888888888888888,
              "#fdca26"
             ],
             [
              1,
              "#f0f921"
             ]
            ],
            "type": "histogram2dcontour"
           }
          ],
          "mesh3d": [
           {
            "colorbar": {
             "outlinewidth": 0,
             "ticks": ""
            },
            "type": "mesh3d"
           }
          ],
          "parcoords": [
           {
            "line": {
             "colorbar": {
              "outlinewidth": 0,
              "ticks": ""
             }
            },
            "type": "parcoords"
           }
          ],
          "pie": [
           {
            "automargin": true,
            "type": "pie"
           }
          ],
          "scatter": [
           {
            "fillpattern": {
             "fillmode": "overlay",
             "size": 10,
             "solidity": 0.2
            },
            "type": "scatter"
           }
          ],
          "scatter3d": [
           {
            "line": {
             "colorbar": {
              "outlinewidth": 0,
              "ticks": ""
             }
            },
            "marker": {
             "colorbar": {
              "outlinewidth": 0,
              "ticks": ""
             }
            },
            "type": "scatter3d"
           }
          ],
          "scattercarpet": [
           {
            "marker": {
             "colorbar": {
              "outlinewidth": 0,
              "ticks": ""
             }
            },
            "type": "scattercarpet"
           }
          ],
          "scattergeo": [
           {
            "marker": {
             "colorbar": {
              "outlinewidth": 0,
              "ticks": ""
             }
            },
            "type": "scattergeo"
           }
          ],
          "scattergl": [
           {
            "marker": {
             "colorbar": {
              "outlinewidth": 0,
              "ticks": ""
             }
            },
            "type": "scattergl"
           }
          ],
          "scattermapbox": [
           {
            "marker": {
             "colorbar": {
              "outlinewidth": 0,
              "ticks": ""
             }
            },
            "type": "scattermapbox"
           }
          ],
          "scatterpolar": [
           {
            "marker": {
             "colorbar": {
              "outlinewidth": 0,
              "ticks": ""
             }
            },
            "type": "scatterpolar"
           }
          ],
          "scatterpolargl": [
           {
            "marker": {
             "colorbar": {
              "outlinewidth": 0,
              "ticks": ""
             }
            },
            "type": "scatterpolargl"
           }
          ],
          "scatterternary": [
           {
            "marker": {
             "colorbar": {
              "outlinewidth": 0,
              "ticks": ""
             }
            },
            "type": "scatterternary"
           }
          ],
          "surface": [
           {
            "colorbar": {
             "outlinewidth": 0,
             "ticks": ""
            },
            "colorscale": [
             [
              0,
              "#0d0887"
             ],
             [
              0.1111111111111111,
              "#46039f"
             ],
             [
              0.2222222222222222,
              "#7201a8"
             ],
             [
              0.3333333333333333,
              "#9c179e"
             ],
             [
              0.4444444444444444,
              "#bd3786"
             ],
             [
              0.5555555555555556,
              "#d8576b"
             ],
             [
              0.6666666666666666,
              "#ed7953"
             ],
             [
              0.7777777777777778,
              "#fb9f3a"
             ],
             [
              0.8888888888888888,
              "#fdca26"
             ],
             [
              1,
              "#f0f921"
             ]
            ],
            "type": "surface"
           }
          ],
          "table": [
           {
            "cells": {
             "fill": {
              "color": "#EBF0F8"
             },
             "line": {
              "color": "white"
             }
            },
            "header": {
             "fill": {
              "color": "#C8D4E3"
             },
             "line": {
              "color": "white"
             }
            },
            "type": "table"
           }
          ]
         },
         "layout": {
          "annotationdefaults": {
           "arrowcolor": "#2a3f5f",
           "arrowhead": 0,
           "arrowwidth": 1
          },
          "autotypenumbers": "strict",
          "coloraxis": {
           "colorbar": {
            "outlinewidth": 0,
            "ticks": ""
           }
          },
          "colorscale": {
           "diverging": [
            [
             0,
             "#8e0152"
            ],
            [
             0.1,
             "#c51b7d"
            ],
            [
             0.2,
             "#de77ae"
            ],
            [
             0.3,
             "#f1b6da"
            ],
            [
             0.4,
             "#fde0ef"
            ],
            [
             0.5,
             "#f7f7f7"
            ],
            [
             0.6,
             "#e6f5d0"
            ],
            [
             0.7,
             "#b8e186"
            ],
            [
             0.8,
             "#7fbc41"
            ],
            [
             0.9,
             "#4d9221"
            ],
            [
             1,
             "#276419"
            ]
           ],
           "sequential": [
            [
             0,
             "#0d0887"
            ],
            [
             0.1111111111111111,
             "#46039f"
            ],
            [
             0.2222222222222222,
             "#7201a8"
            ],
            [
             0.3333333333333333,
             "#9c179e"
            ],
            [
             0.4444444444444444,
             "#bd3786"
            ],
            [
             0.5555555555555556,
             "#d8576b"
            ],
            [
             0.6666666666666666,
             "#ed7953"
            ],
            [
             0.7777777777777778,
             "#fb9f3a"
            ],
            [
             0.8888888888888888,
             "#fdca26"
            ],
            [
             1,
             "#f0f921"
            ]
           ],
           "sequentialminus": [
            [
             0,
             "#0d0887"
            ],
            [
             0.1111111111111111,
             "#46039f"
            ],
            [
             0.2222222222222222,
             "#7201a8"
            ],
            [
             0.3333333333333333,
             "#9c179e"
            ],
            [
             0.4444444444444444,
             "#bd3786"
            ],
            [
             0.5555555555555556,
             "#d8576b"
            ],
            [
             0.6666666666666666,
             "#ed7953"
            ],
            [
             0.7777777777777778,
             "#fb9f3a"
            ],
            [
             0.8888888888888888,
             "#fdca26"
            ],
            [
             1,
             "#f0f921"
            ]
           ]
          },
          "colorway": [
           "#636efa",
           "#EF553B",
           "#00cc96",
           "#ab63fa",
           "#FFA15A",
           "#19d3f3",
           "#FF6692",
           "#B6E880",
           "#FF97FF",
           "#FECB52"
          ],
          "font": {
           "color": "#2a3f5f"
          },
          "geo": {
           "bgcolor": "white",
           "lakecolor": "white",
           "landcolor": "#E5ECF6",
           "showlakes": true,
           "showland": true,
           "subunitcolor": "white"
          },
          "hoverlabel": {
           "align": "left"
          },
          "hovermode": "closest",
          "mapbox": {
           "style": "light"
          },
          "paper_bgcolor": "white",
          "plot_bgcolor": "#E5ECF6",
          "polar": {
           "angularaxis": {
            "gridcolor": "white",
            "linecolor": "white",
            "ticks": ""
           },
           "bgcolor": "#E5ECF6",
           "radialaxis": {
            "gridcolor": "white",
            "linecolor": "white",
            "ticks": ""
           }
          },
          "scene": {
           "xaxis": {
            "backgroundcolor": "#E5ECF6",
            "gridcolor": "white",
            "gridwidth": 2,
            "linecolor": "white",
            "showbackground": true,
            "ticks": "",
            "zerolinecolor": "white"
           },
           "yaxis": {
            "backgroundcolor": "#E5ECF6",
            "gridcolor": "white",
            "gridwidth": 2,
            "linecolor": "white",
            "showbackground": true,
            "ticks": "",
            "zerolinecolor": "white"
           },
           "zaxis": {
            "backgroundcolor": "#E5ECF6",
            "gridcolor": "white",
            "gridwidth": 2,
            "linecolor": "white",
            "showbackground": true,
            "ticks": "",
            "zerolinecolor": "white"
           }
          },
          "shapedefaults": {
           "line": {
            "color": "#2a3f5f"
           }
          },
          "ternary": {
           "aaxis": {
            "gridcolor": "white",
            "linecolor": "white",
            "ticks": ""
           },
           "baxis": {
            "gridcolor": "white",
            "linecolor": "white",
            "ticks": ""
           },
           "bgcolor": "#E5ECF6",
           "caxis": {
            "gridcolor": "white",
            "linecolor": "white",
            "ticks": ""
           }
          },
          "title": {
           "x": 0.05
          },
          "xaxis": {
           "automargin": true,
           "gridcolor": "white",
           "linecolor": "white",
           "ticks": "",
           "title": {
            "standoff": 15
           },
           "zerolinecolor": "white",
           "zerolinewidth": 2
          },
          "yaxis": {
           "automargin": true,
           "gridcolor": "white",
           "linecolor": "white",
           "ticks": "",
           "title": {
            "standoff": 15
           },
           "zerolinecolor": "white",
           "zerolinewidth": 2
          }
         }
        },
        "title": {
         "text": "UMAP with 1 PCA Components"
        },
        "width": 1000,
        "xaxis": {
         "anchor": "y",
         "domain": [
          0,
          1
         ],
         "showticklabels": false,
         "title": {
          "text": ""
         }
        },
        "yaxis": {
         "anchor": "x",
         "domain": [
          0,
          1
         ],
         "showticklabels": false,
         "title": {
          "text": ""
         }
        }
       }
      }
     },
     "metadata": {},
     "output_type": "display_data"
    },
    {
     "name": "stderr",
     "output_type": "stream",
     "text": [
      "/Users/mitalimittal/anaconda3/lib/python3.11/site-packages/umap/umap_.py:1943: UserWarning:\n",
      "\n",
      "n_jobs value -1 overridden to 1 by setting random_state. Use no seed for parallelism.\n",
      "\n"
     ]
    },
    {
     "data": {
      "application/vnd.plotly.v1+json": {
       "config": {
        "plotlyServerURL": "https://plot.ly"
       },
       "data": [
        {
         "customdata": [
          [
           [
            "Soil",
            "Droughts",
            "Resilience__Psychological",
            "Temperature",
            "Interdisciplinary_Research"
           ]
          ],
          [
           [
            "Phosphorylation",
            "Computational_Biology",
            "Genetics",
            "Hippo_Signaling_Pathway",
            "Cell_Line__Tumor"
           ]
          ],
          [
           [
            "Molecular_Biology",
            "Immunity",
            "Carcinogenesis",
            "T_Lymphocytes",
            "Phosphorylation"
           ]
          ],
          [
           [
            "Biomechanical_Phenomena",
            "Aging",
            "Temperature"
           ]
          ],
          [
           []
          ],
          [
           [
            "Phosphorylation",
            "Ligands",
            "Diabetes_Mellitus",
            "Child",
            "Alleles"
           ]
          ],
          [
           [
            "Obesity",
            "Pregnancy",
            "Chromatin",
            "Multiomics",
            "DNA"
           ]
          ],
          [
           [
            "Induced_Pluripotent_Stem_Cells",
            "Cytokines",
            "Macrophages",
            "Disease_Progression",
            "Monocytes"
           ]
          ],
          [
           [
            "Biodiversity",
            "Ecological_and_Environmental_Phenomena"
           ]
          ],
          [
           [
            "Phylogeny",
            "Clustered_Regularly_Interspaced_Short_Palindromic_Repeats",
            "Evolution__Molecular"
           ]
          ],
          [
           []
          ],
          [
           [
            "Down_Syndrome",
            "Cognitive_Dysfunction",
            "Proteomics",
            "Pregnancy",
            "Amyloid_beta_Peptides"
           ]
          ],
          [
           [
            "Magnetic_Resonance_Imaging"
           ]
          ],
          [
           [
            "Gene_Regulatory_Networks",
            "Chromatin",
            "Multiomics",
            "Cell_Differentiation",
            "Computational_Biology"
           ]
          ],
          [
           [
            "Neuroimaging",
            "Magnetic_Resonance_Imaging",
            "Pregnancy",
            "Computer_Simulation",
            "Adolescent"
           ]
          ],
          [
           [
            "Cell_Line",
            "Computational_Biology",
            "Aging"
           ]
          ],
          [
           [
            "Magnetic_Resonance_Imaging",
            "Temperature",
            "Genotype",
            "Ligands"
           ]
          ],
          [
           [
            "Synapses"
           ]
          ],
          [
           [
            "Diet",
            "Temperature"
           ]
          ],
          [
           [
            "Neuronal_Plasticity",
            "Synapses",
            "Astrocytes",
            "Apoptosis",
            "Proteomics"
           ]
          ],
          [
           [
            "Biomechanical_Phenomena",
            "Resilience__Psychological",
            "Interdisciplinary_Research",
            "Computer_Simulation"
           ]
          ],
          [
           [
            "Neurodegenerative_Diseases",
            "Stem_Cells",
            "Chromatin",
            "Cell_Line"
           ]
          ],
          [
           [
            "Antiviral_Agents",
            "Virus_Diseases",
            "RNA",
            "Cell_Line",
            "Single_Cell_Gene_Expression_Analysis"
           ]
          ],
          [
           [
            "CRISPR_Cas_Systems",
            "Tumor_Microenvironment",
            "Nutrients",
            "Ligands",
            "Alleles"
           ]
          ],
          [
           [
            "Genotype",
            "Alleles",
            "Evolution__Molecular",
            "Chromatin",
            "Gene_Regulatory_Networks"
           ]
          ],
          [
           [
            "Zebrafish",
            "Cell_Communication",
            "Macrophages"
           ]
          ],
          [
           [
            "Temperature",
            "Soil",
            "Resilience__Psychological",
            "Droughts",
            "Computer_Simulation"
           ]
          ],
          [
           [
            "Substance_Related_Disorders"
           ]
          ],
          [
           [
            "Nicotine",
            "Chromatin",
            "Microscopy",
            "Clustered_Regularly_Interspaced_Short_Palindromic_Repeats",
            "Cocaine"
           ]
          ],
          [
           [
            "Biological_Evolution",
            "Computer_Simulation",
            "Computational_Biology",
            "Ecological_and_Environmental_Phenomena",
            "Genetics"
           ]
          ],
          [
           [
            "Astrocytes",
            "Magnetic_Resonance_Imaging",
            "Neuronal_Plasticity",
            "Neuroimaging"
           ]
          ],
          [
           [
            "Cell_Line",
            "Cell_Proliferation",
            "Apoptosis",
            "Child",
            "Heterografts"
           ]
          ],
          [
           [
            "Genetic_Variation",
            "Chromatin",
            "Epigenomics",
            "Temperature",
            "Droughts"
           ]
          ],
          [
           [
            "Diet",
            "Zebrafish",
            "Proteomics",
            "Temperature",
            "Ecological_and_Environmental_Phenomena"
           ]
          ],
          [
           [
            "Proteomics",
            "Mass_Spectrometry",
            "Escherichia_coli",
            "DNA",
            "Antiviral_Agents"
           ]
          ],
          [
           [
            "Aging",
            "Bacteriophages",
            "Immunity",
            "Neurodegenerative_Diseases",
            "Amyloid_beta_Peptides"
           ]
          ],
          [
           [
            "Cryoelectron_Microscopy",
            "Bacteriophages",
            "Microscopy",
            "Gastrointestinal_Microbiome",
            "Anti_Bacterial_Agents"
           ]
          ],
          [
           [
            "Anti_Bacterial_Agents",
            "Pandemics",
            "Nutrients",
            "Molecular_Biology",
            "Ligands"
           ]
          ],
          [
           [
            "Cell_Proliferation",
            "Amyloid_beta_Peptides",
            "Monocytes",
            "Bone_Marrow",
            "Macrophages"
           ]
          ],
          [
           [
            "Ligands",
            "Magnetic_Resonance_Imaging",
            "Neuroimaging",
            "Child",
            "Oxidation_Reduction"
           ]
          ],
          [
           [
            "Amyloid_beta_Peptides",
            "Aged__80_and_over",
            "Cognitive_Dysfunction",
            "Disease_Progression",
            "Neurodegenerative_Diseases"
           ]
          ],
          [
           [
            "Neurodegenerative_Diseases",
            "Anti_Bacterial_Agents",
            "Computer_Simulation",
            "Anti_Infective_Agents",
            "Computational_Biology"
           ]
          ],
          [
           [
            "Pancreatic_Neoplasms",
            "Tumor_Microenvironment",
            "Fibroblasts",
            "Oxidation_Reduction",
            "Liver_Neoplasms"
           ]
          ],
          [
           [
            "Gastrointestinal_Microbiome",
            "Parasites",
            "Ecological_and_Environmental_Phenomena",
            "Genetics",
            "Diet"
           ]
          ],
          [
           [
            "Nitrogenase",
            "Escherichia_coli",
            "Cell_Line__Tumor",
            "Aged__80_and_over",
            "Phylogeny"
           ]
          ],
          [
           [
            "Colorectal_Neoplasms",
            "Incidence",
            "Survival_Rate",
            "Astrocytes",
            "Tumor_Microenvironment"
           ]
          ],
          [
           [
            "Temperature",
            "Ecological_and_Environmental_Phenomena",
            "Soil",
            "Nutrients",
            "Biodiversity"
           ]
          ],
          [
           [
            "Hematopoietic_Stem_Cell_Transplantation",
            "Graft_vs_Host_Disease",
            "T_Lymphocytes__Regulatory",
            "Bone_Marrow",
            "Apoptosis"
           ]
          ],
          [
           [
            "CRISPR_Cas_Systems",
            "Genetics",
            "RNA",
            "Magnetic_Resonance_Imaging",
            "Cell_Death"
           ]
          ],
          [
           [
            "Aged__80_and_over",
            "Cognitive_Dysfunction",
            "Aging",
            "Magnetic_Resonance_Imaging",
            "Incidence"
           ]
          ],
          [
           [
            "Adolescent",
            "Genotype"
           ]
          ],
          [
           [
            "Colorectal_Neoplasms",
            "Nutrients",
            "Carcinogenesis",
            "Heterografts",
            "AMP_Activated_Protein_Kinases"
           ]
          ],
          [
           []
          ],
          [
           [
            "Chromatin",
            "Organoids",
            "Alleles",
            "Phylogeny",
            "Evolution__Molecular"
           ]
          ],
          [
           [
            "Amyloid_beta_Peptides",
            "Proteomics",
            "Aged__80_and_over",
            "Induced_Pluripotent_Stem_Cells",
            "Single_Cell_Gene_Expression_Analysis"
           ]
          ],
          [
           [
            "Temperature",
            "Ecological_and_Environmental_Phenomena",
            "Biodiversity"
           ]
          ],
          [
           [
            "Stem_Cells",
            "RNA",
            "Cell_Differentiation",
            "Computational_Biology",
            "Single_Cell_Analysis"
           ]
          ],
          [
           [
            "COVID_19",
            "Neuroinflammatory_Diseases",
            "Pandemics",
            "Multiple_Sclerosis",
            "Virus_Diseases"
           ]
          ],
          [
           [
            "Aging",
            "Cell_Proliferation",
            "Cues",
            "Cell_Differentiation",
            "Microscopy"
           ]
          ],
          [
           [
            "Parasites",
            "Diet",
            "Epigenomics",
            "Evolution__Molecular",
            "Nutrients"
           ]
          ],
          [
           [
            "Toxoplasma",
            "Parasites",
            "Monocytes",
            "Phagocytosis",
            "Cytokines"
           ]
          ],
          [
           [
            "Genotype",
            "Aging",
            "Macrophages",
            "Persistent_Infection",
            "CRISPR_Cas_Systems"
           ]
          ],
          [
           [
            "Computational_Biology",
            "T_Lymphocytes",
            "Hippo_Signaling_Pathway",
            "Escherichia_coli",
            "Cell_Line__Tumor"
           ]
          ],
          [
           [
            "Aging",
            "Synapses",
            "Computer_Simulation",
            "Memory_Consolidation",
            "Genetics"
           ]
          ],
          [
           [
            "Temperature",
            "Ecological_and_Environmental_Phenomena"
           ]
          ],
          [
           [
            "Amyloid_beta_Peptides",
            "Gastrointestinal_Microbiome",
            "Astrocytes",
            "Disease_Progression",
            "T_Lymphocytes__Regulatory"
           ]
          ],
          [
           [
            "Reward",
            "Substance_Related_Disorders",
            "Genetics",
            "Adolescent",
            "Neuronal_Plasticity"
           ]
          ],
          [
           [
            "Biomechanical_Phenomena",
            "Biological_Evolution",
            "Ecological_and_Environmental_Phenomena",
            "Evolution__Molecular",
            "Phylogeny"
           ]
          ],
          [
           [
            "Temperature",
            "Ecological_and_Environmental_Phenomena",
            "Biodiversity",
            "Genetics",
            "Anti_Bacterial_Agents"
           ]
          ],
          [
           [
            "Soil",
            "Gastrointestinal_Microbiome",
            "Diet",
            "Diabetes_Mellitus",
            "Anti_Bacterial_Agents"
           ]
          ],
          [
           [
            "Biomechanical_Phenomena",
            "Cues",
            "Ecological_and_Environmental_Phenomena",
            "Zebrafish"
           ]
          ],
          [
           [
            "Sleep",
            "Cues",
            "Neuronal_Plasticity",
            "Synapses",
            "Memory_Consolidation"
           ]
          ],
          [
           [
            "Inflammasomes",
            "NLR_Family__Pyrin_Domain_Containing_3_Protein",
            "Cryoelectron_Microscopy",
            "CRISPR_Cas_Systems",
            "Apoptosis"
           ]
          ],
          [
           [
            "Nicotine",
            "Cognitive_Dysfunction"
           ]
          ],
          [
           [
            "Biological_Evolution",
            "Droughts",
            "Alleles",
            "Genetic_Variation",
            "Biodiversity"
           ]
          ],
          [
           [
            "Immunity__Innate",
            "Virus_Diseases",
            "Antiviral_Agents",
            "Incidence",
            "Pandemics"
           ]
          ],
          [
           [
            "Parasites",
            "Toxoplasma",
            "Ligands",
            "Fibroblasts"
           ]
          ],
          [
           [
            "Aging",
            "Amyloid_beta_Peptides",
            "Gene_Regulatory_Networks",
            "Single_Cell_Analysis",
            "Chromatin"
           ]
          ],
          [
           [
            "Cytokines",
            "Flow_Cytometry",
            "Cell_Line",
            "Single_Cell_Gene_Expression_Analysis",
            "T_Lymphocytes"
           ]
          ],
          [
           [
            "Cell_Communication",
            "Gene_Regulatory_Networks",
            "Single_Cell_Analysis",
            "Single_Cell_Gene_Expression_Analysis",
            "Computational_Biology"
           ]
          ],
          [
           [
            "Zebrafish",
            "Pancreatic_Neoplasms",
            "Gastrointestinal_Microbiome",
            "Disease_Progression",
            "Child"
           ]
          ],
          [
           []
          ],
          [
           [
            "Single_Cell_Gene_Expression_Analysis",
            "Stem_Cells",
            "Fibroblasts",
            "Cell_Communication",
            "Aging"
           ]
          ],
          [
           [
            "Evolution__Molecular",
            "Phylogeny",
            "Ecological_and_Environmental_Phenomena",
            "Biological_Evolution",
            "Genetics"
           ]
          ],
          [
           [
            "Triple_Negative_Breast_Neoplasms",
            "Oxidative_Phosphorylation",
            "Mitochondria",
            "Survival_Rate",
            "Immune_Checkpoint_Inhibitors"
           ]
          ],
          [
           [
            "Soil",
            "Droughts",
            "Biological_Evolution",
            "Pandemics",
            "Ecological_and_Environmental_Phenomena"
           ]
          ],
          [
           [
            "Nitrogenase",
            "Oxidation_Reduction",
            "Escherichia_coli",
            "Phylogeny",
            "Evolution__Molecular"
           ]
          ],
          [
           [
            "Nutrients",
            "Biodiversity",
            "Escherichia_coli",
            "Anti_Bacterial_Agents",
            "Evolution__Molecular"
           ]
          ],
          [
           [
            "Sleep",
            "Memory_Consolidation",
            "Cues",
            "Magnetic_Resonance_Imaging",
            "Neuroimaging"
           ]
          ],
          [
           [
            "Zebrafish",
            "Computer_Simulation",
            "Cell_Proliferation",
            "Biomechanical_Phenomena",
            "Biological_Evolution"
           ]
          ],
          [
           [
            "Proteomics",
            "Mass_Spectrometry",
            "Astrocytes",
            "Microscopy",
            "Multiomics"
           ]
          ],
          [
           [
            "Biodiversity",
            "Ecological_and_Environmental_Phenomena",
            "Temperature"
           ]
          ],
          [
           [
            "Aging",
            "Magnetic_Resonance_Imaging",
            "Cognitive_Dysfunction",
            "Neuroimaging",
            "Amyloid_beta_Peptides"
           ]
          ],
          [
           [
            "Biological_Evolution"
           ]
          ],
          [
           [
            "Microscopy",
            "RNA",
            "Stem_Cells",
            "Pregnancy",
            "Escherichia_coli"
           ]
          ],
          [
           [
            "Nicotine",
            "Reward",
            "Pregnancy",
            "Cognitive_Dysfunction",
            "Cytokines"
           ]
          ],
          [
           [
            "Incidence",
            "Cell_Proliferation",
            "Tumor_Microenvironment",
            "RNA",
            "Carcinogenesis"
           ]
          ],
          [
           [
            "White_Matter",
            "Neurodegenerative_Diseases",
            "Neuroinflammatory_Diseases",
            "Astrocytes",
            "Proteomics"
           ]
          ],
          [
           [
            "Biodiversity",
            "Interdisciplinary_Research",
            "Temperature",
            "Resilience__Psychological",
            "Diet"
           ]
          ],
          [
           [
            "Neuroinflammatory_Diseases",
            "Phagocytosis",
            "Neurodegenerative_Diseases",
            "Amyloid_beta_Peptides",
            "Astrocytes"
           ]
          ],
          [
           [
            "Alleles",
            "Mitochondria",
            "Cell_Death",
            "Neurodegenerative_Diseases"
           ]
          ],
          [
           [
            "Induced_Pluripotent_Stem_Cells",
            "Neurodegenerative_Diseases",
            "Clustered_Regularly_Interspaced_Short_Palindromic_Repeats",
            "Disease_Progression",
            "Cognitive_Dysfunction"
           ]
          ],
          [
           [
            "Ecological_and_Environmental_Phenomena",
            "Phylogeny",
            "Computer_Simulation",
            "Alleles"
           ]
          ],
          [
           [
            "CD8_Positive_T_Lymphocytes",
            "Immune_Checkpoint_Inhibitors",
            "Persistent_Infection",
            "Virus_Diseases",
            "HIV_Infections"
           ]
          ],
          [
           [
            "Soil",
            "Temperature",
            "Resilience__Psychological",
            "Droughts",
            "Genotype"
           ]
          ],
          [
           [
            "COVID_19",
            "Child",
            "Magnetic_Resonance_Imaging",
            "Aged__80_and_over",
            "Cell_Differentiation"
           ]
          ],
          [
           [
            "T_Lymphocytes__Regulatory",
            "Multiple_Sclerosis",
            "Stem_Cells",
            "White_Matter",
            "Macrophages"
           ]
          ],
          [
           [
            "Hippo_Signaling_Pathway",
            "Cell_Proliferation",
            "Carcinogenesis",
            "Apoptosis",
            "Child"
           ]
          ],
          [
           [
            "Genetics",
            "Hippo_Signaling_Pathway",
            "Phosphorylation",
            "Cell_Line__Tumor"
           ]
          ],
          [
           [
            "Bacteriophages",
            "Anti_Bacterial_Agents",
            "Gastrointestinal_Microbiome",
            "Escherichia_coli",
            "Nutrients"
           ]
          ],
          [
           [
            "Zebrafish",
            "Gastrointestinal_Microbiome",
            "Bacteriophages",
            "Anti_Bacterial_Agents",
            "Soil"
           ]
          ],
          [
           [
            "Substance_Related_Disorders",
            "Cocaine",
            "Cues",
            "Reward",
            "Neuronal_Plasticity"
           ]
          ],
          [
           [
            "Gastrointestinal_Microbiome",
            "Phylogeny"
           ]
          ],
          [
           [
            "Magnetic_Resonance_Imaging",
            "Neuroimaging",
            "Cognitive_Dysfunction",
            "Interdisciplinary_Research",
            "Child"
           ]
          ]
         ],
         "hovertemplate": "<b>%{hovertext}</b><br><br>Top_Mesh_Terms=%{customdata[0]}<extra></extra>",
         "hovertext": [
          "Allison, Steven",
          "Arora, Kavita",
          "Atwood, Scott",
          "Azizi, Emanuel",
          "Baker, Nicholas",
          "Bardwell, Lee",
          "Blumberg, Bruce",
          "Blurton-Jones, Mathew",
          "Bracken, Matthew",
          "Briscoe, Adriana",
          "Burley, Nancy",
          "Busciglio, Jorge",
          "Cahill, Larry",
          "Cho, Ken",
          "Chrastil, Elizabeth",
          "Cinquin, Olivier",
          "Cocco, Melanie",
          "Cohen-Cory, Susana",
          "Connor, Kwasi",
          "Cramer, Karina",
          "Daley, Monica",
          "Donovan, Peter",
          "Drayman, Nir",
          "Edinger, Aimee",
          "Emerson, J.J.",
          "Eom, Dae Seok",
          "Faiola, Celia",
          "Fortin, Norbert",
          "Fowler, Christie",
          "Frank, Steven",
          "Frostig, Ron",
          "Fruman, David",
          "Gaut, Brandon",
          "German, Donovan",
          "Gershon, Paul",
          "Glabe, Charles",
          "Gonen, Shane",
          "Goulding, Celia",
          "Green, Kim",
          "Green, Michael",
          "Grill, Joshua",
          "Gross, Steven",
          "Halbrook, Christopher",
          "Hammer, Tobin",
          "Hu, Yilin",
          "Hughes, Christopher",
          "Huxman, Travis",
          "Inlay, Matthew",
          "James, Anthony",
          "Kawas, Claudia",
          "Kim, Seungsoo",
          "Kong, Mei",
          "Konieczny, Piotr",
          "Kvon, Evgeny",
          "LaFerla, Frank",
          "Lamb, Joleah",
          "Lander, Arthur",
          "Lane, Thomas",
          "Lara-Gonzalez, Pablo",
          "Lee, Grace",
          "Lodoen, Melissa",
          "Long, Anthony",
          "Luo, Ray",
          "Lur, Gyorgy",
          "Lutterschmidt, Deborah",
          "MacGregor, Grant",
          "Mahler, Stephen",
          "Martinez, Christopher",
          "Martiny, Adam",
          "Martiny, Jennifer",
          "McHenry, Matthew",
          "McNaughton, Bruce",
          "McNulty, Reginald",
          "Metherate, Raju",
          "Mooney, Kailen",
          "Morehouse, Benjamin",
          "Morrissette, Naomi",
          "Mortazavi, Ali",
          "Nicholas, Dequina",
          "Nie, Qing",
          "Parsons, Michael",
          "Pizzagalli, Diego",
          "Plikus, Maksim",
          "Ranz, Jose",
          "Razorenova, Olga",
          "Rebolleda-Gomez, Maria",
          "Ribbe, Markus",
          "Rodriguez Verdugo, Alejandra",
          "Schechtman-Drayman, Eitan",
          "Schilling, Thomas",
          "Shi, Xiaoyu",
          "Sorte, Cascade",
          "Stark, Craig",
          "Striedter, Georg",
          "Suetterlin, Christine",
          "Sumikawa, Katumi",
          "Sun, Sha",
          "Swarup, Vivek",
          "Symons, Celia",
          "Tenner, Andrea",
          "Thompson-Peer, Katherine",
          "Thompson, Leslie",
          "Thornton, Kevin",
          "Tinoco, Roberto",
          "Treseder, Kathleen",
          "Tsai, Shiou-Chuan",
          "Walsh, Craig",
          "Wang, Wenqi",
          "Warrior, Rahul",
          "Whiteson, Katrine",
          "Wiles, Travis",
          "Wood, Marcelo",
          "Xue, Katherine",
          "Yassa, Michael"
         ],
         "legendgroup": "",
         "marker": {
          "color": "#fecc07",
          "symbol": "circle"
         },
         "mode": "markers",
         "name": "",
         "orientation": "v",
         "showlegend": false,
         "type": "scatter",
         "x": [
          11.959715,
          7.252636,
          6.2065496,
          9.745978,
          10.77559,
          8.996829,
          6.8474774,
          6.7250934,
          13.58877,
          13.963407,
          10.949917,
          2.187714,
          1.1273322,
          7.5424595,
          9.839787,
          1.6081194,
          9.327163,
          5.9414463,
          10.874246,
          10.7843685,
          10.663423,
          4.252312,
          6.438427,
          10.396835,
          10.945204,
          11.752303,
          11.571084,
          10.326996,
          2.645401,
          12.895427,
          5.385718,
          5.922407,
          13.644968,
          13.462322,
          6.2927337,
          7.9114947,
          13.563528,
          10.208856,
          9.253989,
          6.0713897,
          2.2882168,
          10.806489,
          3.5197527,
          14.041351,
          10.860018,
          8.51619,
          13.062326,
          1.8020283,
          9.85761,
          1.3628771,
          10.592684,
          4.4083643,
          10.772522,
          11.891526,
          9.706844,
          11.820038,
          7.1779113,
          4.737446,
          4.338001,
          11.983733,
          1.9257998,
          12.116048,
          9.587851,
          10.611287,
          13.949791,
          11.668872,
          8.028355,
          12.785945,
          13.700264,
          13.890673,
          11.323384,
          8.640533,
          6.3940516,
          3.3099875,
          12.532821,
          12.022226,
          9.36884,
          3.4144177,
          10.171874,
          6.568771,
          13.447646,
          11.053233,
          11.140628,
          13.790076,
          4.636635,
          12.581685,
          10.668642,
          12.294223,
          1.1703424,
          12.193017,
          1.2412417,
          14.015625,
          1.2325988,
          12.879924,
          7.864111,
          2.0678768,
          10.890689,
          4.1497164,
          11.116405,
          10.755975,
          11.281263,
          5.7718573,
          14.057169,
          2.2101796,
          11.830721,
          7.3951883,
          1.9496948,
          2.5823622,
          8.604518,
          13.418946,
          13.988264,
          2.3868763,
          14.1457205,
          4.09204
         ],
         "xaxis": "x",
         "y": [
          8.895863,
          1.5735457,
          1.6888872,
          1.9524864,
          1.578443,
          1.5070212,
          1.7371126,
          1.6354033,
          9.842171,
          9.901789,
          1.5110615,
          1.3867007,
          1.3547218,
          1.6721691,
          1.3476217,
          1.0896084,
          1.790648,
          1.718205,
          1.4448767,
          2.0406191,
          8.799515,
          1.2854905,
          1.4197431,
          1.3582557,
          8.883017,
          9.634262,
          9.42594,
          1.8667427,
          1.4593295,
          8.322039,
          1.5309632,
          1.5656967,
          9.516442,
          9.3388195,
          1.8478588,
          1.6469876,
          10.012346,
          1.4313538,
          1.3307508,
          1.506643,
          1.4785181,
          9.061266,
          1.2566932,
          9.188711,
          9.166899,
          1.8838891,
          9.880365,
          1.0032566,
          1.8746021,
          1.1247535,
          1.6701461,
          1.429116,
          1.2799917,
          9.477069,
          1.1955185,
          9.6027355,
          1.6766237,
          1.37844,
          1.1103683,
          8.310995,
          1.148106,
          8.240388,
          2.0190187,
          8.891857,
          9.694783,
          9.700594,
          1.7784954,
          8.058726,
          9.826403,
          9.4988575,
          9.108556,
          1.6168721,
          1.6612489,
          1.2941298,
          7.9472976,
          8.56548,
          1.8890886,
          1.3202997,
          1.2714684,
          1.9604169,
          9.937713,
          1.5401736,
          1.3959012,
          8.986725,
          1.24767,
          8.157225,
          9.412841,
          8.28817,
          1.283888,
          8.754597,
          1.4562657,
          9.82329,
          1.228539,
          8.2802105,
          1.6384243,
          1.27104,
          2.2761905,
          1.154998,
          9.443127,
          9.214439,
          9.339211,
          1.7049849,
          9.224957,
          1.3207809,
          9.561514,
          1.5429159,
          1.1332575,
          1.2694545,
          1.7261992,
          9.589082,
          9.1973915,
          1.5868686,
          9.399632,
          1.2684865
         ],
         "yaxis": "y"
        }
       ],
       "layout": {
        "height": 1000,
        "legend": {
         "tracegroupgap": 0
        },
        "plot_bgcolor": "#255799",
        "template": {
         "data": {
          "bar": [
           {
            "error_x": {
             "color": "#2a3f5f"
            },
            "error_y": {
             "color": "#2a3f5f"
            },
            "marker": {
             "line": {
              "color": "#E5ECF6",
              "width": 0.5
             },
             "pattern": {
              "fillmode": "overlay",
              "size": 10,
              "solidity": 0.2
             }
            },
            "type": "bar"
           }
          ],
          "barpolar": [
           {
            "marker": {
             "line": {
              "color": "#E5ECF6",
              "width": 0.5
             },
             "pattern": {
              "fillmode": "overlay",
              "size": 10,
              "solidity": 0.2
             }
            },
            "type": "barpolar"
           }
          ],
          "carpet": [
           {
            "aaxis": {
             "endlinecolor": "#2a3f5f",
             "gridcolor": "white",
             "linecolor": "white",
             "minorgridcolor": "white",
             "startlinecolor": "#2a3f5f"
            },
            "baxis": {
             "endlinecolor": "#2a3f5f",
             "gridcolor": "white",
             "linecolor": "white",
             "minorgridcolor": "white",
             "startlinecolor": "#2a3f5f"
            },
            "type": "carpet"
           }
          ],
          "choropleth": [
           {
            "colorbar": {
             "outlinewidth": 0,
             "ticks": ""
            },
            "type": "choropleth"
           }
          ],
          "contour": [
           {
            "colorbar": {
             "outlinewidth": 0,
             "ticks": ""
            },
            "colorscale": [
             [
              0,
              "#0d0887"
             ],
             [
              0.1111111111111111,
              "#46039f"
             ],
             [
              0.2222222222222222,
              "#7201a8"
             ],
             [
              0.3333333333333333,
              "#9c179e"
             ],
             [
              0.4444444444444444,
              "#bd3786"
             ],
             [
              0.5555555555555556,
              "#d8576b"
             ],
             [
              0.6666666666666666,
              "#ed7953"
             ],
             [
              0.7777777777777778,
              "#fb9f3a"
             ],
             [
              0.8888888888888888,
              "#fdca26"
             ],
             [
              1,
              "#f0f921"
             ]
            ],
            "type": "contour"
           }
          ],
          "contourcarpet": [
           {
            "colorbar": {
             "outlinewidth": 0,
             "ticks": ""
            },
            "type": "contourcarpet"
           }
          ],
          "heatmap": [
           {
            "colorbar": {
             "outlinewidth": 0,
             "ticks": ""
            },
            "colorscale": [
             [
              0,
              "#0d0887"
             ],
             [
              0.1111111111111111,
              "#46039f"
             ],
             [
              0.2222222222222222,
              "#7201a8"
             ],
             [
              0.3333333333333333,
              "#9c179e"
             ],
             [
              0.4444444444444444,
              "#bd3786"
             ],
             [
              0.5555555555555556,
              "#d8576b"
             ],
             [
              0.6666666666666666,
              "#ed7953"
             ],
             [
              0.7777777777777778,
              "#fb9f3a"
             ],
             [
              0.8888888888888888,
              "#fdca26"
             ],
             [
              1,
              "#f0f921"
             ]
            ],
            "type": "heatmap"
           }
          ],
          "heatmapgl": [
           {
            "colorbar": {
             "outlinewidth": 0,
             "ticks": ""
            },
            "colorscale": [
             [
              0,
              "#0d0887"
             ],
             [
              0.1111111111111111,
              "#46039f"
             ],
             [
              0.2222222222222222,
              "#7201a8"
             ],
             [
              0.3333333333333333,
              "#9c179e"
             ],
             [
              0.4444444444444444,
              "#bd3786"
             ],
             [
              0.5555555555555556,
              "#d8576b"
             ],
             [
              0.6666666666666666,
              "#ed7953"
             ],
             [
              0.7777777777777778,
              "#fb9f3a"
             ],
             [
              0.8888888888888888,
              "#fdca26"
             ],
             [
              1,
              "#f0f921"
             ]
            ],
            "type": "heatmapgl"
           }
          ],
          "histogram": [
           {
            "marker": {
             "pattern": {
              "fillmode": "overlay",
              "size": 10,
              "solidity": 0.2
             }
            },
            "type": "histogram"
           }
          ],
          "histogram2d": [
           {
            "colorbar": {
             "outlinewidth": 0,
             "ticks": ""
            },
            "colorscale": [
             [
              0,
              "#0d0887"
             ],
             [
              0.1111111111111111,
              "#46039f"
             ],
             [
              0.2222222222222222,
              "#7201a8"
             ],
             [
              0.3333333333333333,
              "#9c179e"
             ],
             [
              0.4444444444444444,
              "#bd3786"
             ],
             [
              0.5555555555555556,
              "#d8576b"
             ],
             [
              0.6666666666666666,
              "#ed7953"
             ],
             [
              0.7777777777777778,
              "#fb9f3a"
             ],
             [
              0.8888888888888888,
              "#fdca26"
             ],
             [
              1,
              "#f0f921"
             ]
            ],
            "type": "histogram2d"
           }
          ],
          "histogram2dcontour": [
           {
            "colorbar": {
             "outlinewidth": 0,
             "ticks": ""
            },
            "colorscale": [
             [
              0,
              "#0d0887"
             ],
             [
              0.1111111111111111,
              "#46039f"
             ],
             [
              0.2222222222222222,
              "#7201a8"
             ],
             [
              0.3333333333333333,
              "#9c179e"
             ],
             [
              0.4444444444444444,
              "#bd3786"
             ],
             [
              0.5555555555555556,
              "#d8576b"
             ],
             [
              0.6666666666666666,
              "#ed7953"
             ],
             [
              0.7777777777777778,
              "#fb9f3a"
             ],
             [
              0.8888888888888888,
              "#fdca26"
             ],
             [
              1,
              "#f0f921"
             ]
            ],
            "type": "histogram2dcontour"
           }
          ],
          "mesh3d": [
           {
            "colorbar": {
             "outlinewidth": 0,
             "ticks": ""
            },
            "type": "mesh3d"
           }
          ],
          "parcoords": [
           {
            "line": {
             "colorbar": {
              "outlinewidth": 0,
              "ticks": ""
             }
            },
            "type": "parcoords"
           }
          ],
          "pie": [
           {
            "automargin": true,
            "type": "pie"
           }
          ],
          "scatter": [
           {
            "fillpattern": {
             "fillmode": "overlay",
             "size": 10,
             "solidity": 0.2
            },
            "type": "scatter"
           }
          ],
          "scatter3d": [
           {
            "line": {
             "colorbar": {
              "outlinewidth": 0,
              "ticks": ""
             }
            },
            "marker": {
             "colorbar": {
              "outlinewidth": 0,
              "ticks": ""
             }
            },
            "type": "scatter3d"
           }
          ],
          "scattercarpet": [
           {
            "marker": {
             "colorbar": {
              "outlinewidth": 0,
              "ticks": ""
             }
            },
            "type": "scattercarpet"
           }
          ],
          "scattergeo": [
           {
            "marker": {
             "colorbar": {
              "outlinewidth": 0,
              "ticks": ""
             }
            },
            "type": "scattergeo"
           }
          ],
          "scattergl": [
           {
            "marker": {
             "colorbar": {
              "outlinewidth": 0,
              "ticks": ""
             }
            },
            "type": "scattergl"
           }
          ],
          "scattermapbox": [
           {
            "marker": {
             "colorbar": {
              "outlinewidth": 0,
              "ticks": ""
             }
            },
            "type": "scattermapbox"
           }
          ],
          "scatterpolar": [
           {
            "marker": {
             "colorbar": {
              "outlinewidth": 0,
              "ticks": ""
             }
            },
            "type": "scatterpolar"
           }
          ],
          "scatterpolargl": [
           {
            "marker": {
             "colorbar": {
              "outlinewidth": 0,
              "ticks": ""
             }
            },
            "type": "scatterpolargl"
           }
          ],
          "scatterternary": [
           {
            "marker": {
             "colorbar": {
              "outlinewidth": 0,
              "ticks": ""
             }
            },
            "type": "scatterternary"
           }
          ],
          "surface": [
           {
            "colorbar": {
             "outlinewidth": 0,
             "ticks": ""
            },
            "colorscale": [
             [
              0,
              "#0d0887"
             ],
             [
              0.1111111111111111,
              "#46039f"
             ],
             [
              0.2222222222222222,
              "#7201a8"
             ],
             [
              0.3333333333333333,
              "#9c179e"
             ],
             [
              0.4444444444444444,
              "#bd3786"
             ],
             [
              0.5555555555555556,
              "#d8576b"
             ],
             [
              0.6666666666666666,
              "#ed7953"
             ],
             [
              0.7777777777777778,
              "#fb9f3a"
             ],
             [
              0.8888888888888888,
              "#fdca26"
             ],
             [
              1,
              "#f0f921"
             ]
            ],
            "type": "surface"
           }
          ],
          "table": [
           {
            "cells": {
             "fill": {
              "color": "#EBF0F8"
             },
             "line": {
              "color": "white"
             }
            },
            "header": {
             "fill": {
              "color": "#C8D4E3"
             },
             "line": {
              "color": "white"
             }
            },
            "type": "table"
           }
          ]
         },
         "layout": {
          "annotationdefaults": {
           "arrowcolor": "#2a3f5f",
           "arrowhead": 0,
           "arrowwidth": 1
          },
          "autotypenumbers": "strict",
          "coloraxis": {
           "colorbar": {
            "outlinewidth": 0,
            "ticks": ""
           }
          },
          "colorscale": {
           "diverging": [
            [
             0,
             "#8e0152"
            ],
            [
             0.1,
             "#c51b7d"
            ],
            [
             0.2,
             "#de77ae"
            ],
            [
             0.3,
             "#f1b6da"
            ],
            [
             0.4,
             "#fde0ef"
            ],
            [
             0.5,
             "#f7f7f7"
            ],
            [
             0.6,
             "#e6f5d0"
            ],
            [
             0.7,
             "#b8e186"
            ],
            [
             0.8,
             "#7fbc41"
            ],
            [
             0.9,
             "#4d9221"
            ],
            [
             1,
             "#276419"
            ]
           ],
           "sequential": [
            [
             0,
             "#0d0887"
            ],
            [
             0.1111111111111111,
             "#46039f"
            ],
            [
             0.2222222222222222,
             "#7201a8"
            ],
            [
             0.3333333333333333,
             "#9c179e"
            ],
            [
             0.4444444444444444,
             "#bd3786"
            ],
            [
             0.5555555555555556,
             "#d8576b"
            ],
            [
             0.6666666666666666,
             "#ed7953"
            ],
            [
             0.7777777777777778,
             "#fb9f3a"
            ],
            [
             0.8888888888888888,
             "#fdca26"
            ],
            [
             1,
             "#f0f921"
            ]
           ],
           "sequentialminus": [
            [
             0,
             "#0d0887"
            ],
            [
             0.1111111111111111,
             "#46039f"
            ],
            [
             0.2222222222222222,
             "#7201a8"
            ],
            [
             0.3333333333333333,
             "#9c179e"
            ],
            [
             0.4444444444444444,
             "#bd3786"
            ],
            [
             0.5555555555555556,
             "#d8576b"
            ],
            [
             0.6666666666666666,
             "#ed7953"
            ],
            [
             0.7777777777777778,
             "#fb9f3a"
            ],
            [
             0.8888888888888888,
             "#fdca26"
            ],
            [
             1,
             "#f0f921"
            ]
           ]
          },
          "colorway": [
           "#636efa",
           "#EF553B",
           "#00cc96",
           "#ab63fa",
           "#FFA15A",
           "#19d3f3",
           "#FF6692",
           "#B6E880",
           "#FF97FF",
           "#FECB52"
          ],
          "font": {
           "color": "#2a3f5f"
          },
          "geo": {
           "bgcolor": "white",
           "lakecolor": "white",
           "landcolor": "#E5ECF6",
           "showlakes": true,
           "showland": true,
           "subunitcolor": "white"
          },
          "hoverlabel": {
           "align": "left"
          },
          "hovermode": "closest",
          "mapbox": {
           "style": "light"
          },
          "paper_bgcolor": "white",
          "plot_bgcolor": "#E5ECF6",
          "polar": {
           "angularaxis": {
            "gridcolor": "white",
            "linecolor": "white",
            "ticks": ""
           },
           "bgcolor": "#E5ECF6",
           "radialaxis": {
            "gridcolor": "white",
            "linecolor": "white",
            "ticks": ""
           }
          },
          "scene": {
           "xaxis": {
            "backgroundcolor": "#E5ECF6",
            "gridcolor": "white",
            "gridwidth": 2,
            "linecolor": "white",
            "showbackground": true,
            "ticks": "",
            "zerolinecolor": "white"
           },
           "yaxis": {
            "backgroundcolor": "#E5ECF6",
            "gridcolor": "white",
            "gridwidth": 2,
            "linecolor": "white",
            "showbackground": true,
            "ticks": "",
            "zerolinecolor": "white"
           },
           "zaxis": {
            "backgroundcolor": "#E5ECF6",
            "gridcolor": "white",
            "gridwidth": 2,
            "linecolor": "white",
            "showbackground": true,
            "ticks": "",
            "zerolinecolor": "white"
           }
          },
          "shapedefaults": {
           "line": {
            "color": "#2a3f5f"
           }
          },
          "ternary": {
           "aaxis": {
            "gridcolor": "white",
            "linecolor": "white",
            "ticks": ""
           },
           "baxis": {
            "gridcolor": "white",
            "linecolor": "white",
            "ticks": ""
           },
           "bgcolor": "#E5ECF6",
           "caxis": {
            "gridcolor": "white",
            "linecolor": "white",
            "ticks": ""
           }
          },
          "title": {
           "x": 0.05
          },
          "xaxis": {
           "automargin": true,
           "gridcolor": "white",
           "linecolor": "white",
           "ticks": "",
           "title": {
            "standoff": 15
           },
           "zerolinecolor": "white",
           "zerolinewidth": 2
          },
          "yaxis": {
           "automargin": true,
           "gridcolor": "white",
           "linecolor": "white",
           "ticks": "",
           "title": {
            "standoff": 15
           },
           "zerolinecolor": "white",
           "zerolinewidth": 2
          }
         }
        },
        "title": {
         "text": "UMAP with 2 PCA Components"
        },
        "width": 1000,
        "xaxis": {
         "anchor": "y",
         "domain": [
          0,
          1
         ],
         "showticklabels": false,
         "title": {
          "text": ""
         }
        },
        "yaxis": {
         "anchor": "x",
         "domain": [
          0,
          1
         ],
         "showticklabels": false,
         "title": {
          "text": ""
         }
        }
       }
      }
     },
     "metadata": {},
     "output_type": "display_data"
    },
    {
     "name": "stderr",
     "output_type": "stream",
     "text": [
      "/Users/mitalimittal/anaconda3/lib/python3.11/site-packages/umap/umap_.py:1943: UserWarning:\n",
      "\n",
      "n_jobs value -1 overridden to 1 by setting random_state. Use no seed for parallelism.\n",
      "\n"
     ]
    },
    {
     "data": {
      "application/vnd.plotly.v1+json": {
       "config": {
        "plotlyServerURL": "https://plot.ly"
       },
       "data": [
        {
         "customdata": [
          [
           [
            "Soil",
            "Droughts",
            "Resilience__Psychological",
            "Temperature",
            "Interdisciplinary_Research"
           ]
          ],
          [
           [
            "Phosphorylation",
            "Computational_Biology",
            "Genetics",
            "Hippo_Signaling_Pathway",
            "Cell_Line__Tumor"
           ]
          ],
          [
           [
            "Molecular_Biology",
            "Immunity",
            "Carcinogenesis",
            "T_Lymphocytes",
            "Phosphorylation"
           ]
          ],
          [
           [
            "Biomechanical_Phenomena",
            "Aging",
            "Temperature"
           ]
          ],
          [
           []
          ],
          [
           [
            "Phosphorylation",
            "Ligands",
            "Diabetes_Mellitus",
            "Child",
            "Alleles"
           ]
          ],
          [
           [
            "Obesity",
            "Pregnancy",
            "Chromatin",
            "Multiomics",
            "DNA"
           ]
          ],
          [
           [
            "Induced_Pluripotent_Stem_Cells",
            "Cytokines",
            "Macrophages",
            "Disease_Progression",
            "Monocytes"
           ]
          ],
          [
           [
            "Biodiversity",
            "Ecological_and_Environmental_Phenomena"
           ]
          ],
          [
           [
            "Phylogeny",
            "Clustered_Regularly_Interspaced_Short_Palindromic_Repeats",
            "Evolution__Molecular"
           ]
          ],
          [
           []
          ],
          [
           [
            "Down_Syndrome",
            "Cognitive_Dysfunction",
            "Proteomics",
            "Pregnancy",
            "Amyloid_beta_Peptides"
           ]
          ],
          [
           [
            "Magnetic_Resonance_Imaging"
           ]
          ],
          [
           [
            "Gene_Regulatory_Networks",
            "Chromatin",
            "Multiomics",
            "Cell_Differentiation",
            "Computational_Biology"
           ]
          ],
          [
           [
            "Neuroimaging",
            "Magnetic_Resonance_Imaging",
            "Pregnancy",
            "Computer_Simulation",
            "Adolescent"
           ]
          ],
          [
           [
            "Cell_Line",
            "Computational_Biology",
            "Aging"
           ]
          ],
          [
           [
            "Magnetic_Resonance_Imaging",
            "Temperature",
            "Genotype",
            "Ligands"
           ]
          ],
          [
           [
            "Synapses"
           ]
          ],
          [
           [
            "Diet",
            "Temperature"
           ]
          ],
          [
           [
            "Neuronal_Plasticity",
            "Synapses",
            "Astrocytes",
            "Apoptosis",
            "Proteomics"
           ]
          ],
          [
           [
            "Biomechanical_Phenomena",
            "Resilience__Psychological",
            "Interdisciplinary_Research",
            "Computer_Simulation"
           ]
          ],
          [
           [
            "Neurodegenerative_Diseases",
            "Stem_Cells",
            "Chromatin",
            "Cell_Line"
           ]
          ],
          [
           [
            "Antiviral_Agents",
            "Virus_Diseases",
            "RNA",
            "Cell_Line",
            "Single_Cell_Gene_Expression_Analysis"
           ]
          ],
          [
           [
            "CRISPR_Cas_Systems",
            "Tumor_Microenvironment",
            "Nutrients",
            "Ligands",
            "Alleles"
           ]
          ],
          [
           [
            "Genotype",
            "Alleles",
            "Evolution__Molecular",
            "Chromatin",
            "Gene_Regulatory_Networks"
           ]
          ],
          [
           [
            "Zebrafish",
            "Cell_Communication",
            "Macrophages"
           ]
          ],
          [
           [
            "Temperature",
            "Soil",
            "Resilience__Psychological",
            "Droughts",
            "Computer_Simulation"
           ]
          ],
          [
           [
            "Substance_Related_Disorders"
           ]
          ],
          [
           [
            "Nicotine",
            "Chromatin",
            "Microscopy",
            "Clustered_Regularly_Interspaced_Short_Palindromic_Repeats",
            "Cocaine"
           ]
          ],
          [
           [
            "Biological_Evolution",
            "Computer_Simulation",
            "Computational_Biology",
            "Ecological_and_Environmental_Phenomena",
            "Genetics"
           ]
          ],
          [
           [
            "Astrocytes",
            "Magnetic_Resonance_Imaging",
            "Neuronal_Plasticity",
            "Neuroimaging"
           ]
          ],
          [
           [
            "Cell_Line",
            "Cell_Proliferation",
            "Apoptosis",
            "Child",
            "Heterografts"
           ]
          ],
          [
           [
            "Genetic_Variation",
            "Chromatin",
            "Epigenomics",
            "Temperature",
            "Droughts"
           ]
          ],
          [
           [
            "Diet",
            "Zebrafish",
            "Proteomics",
            "Temperature",
            "Ecological_and_Environmental_Phenomena"
           ]
          ],
          [
           [
            "Proteomics",
            "Mass_Spectrometry",
            "Escherichia_coli",
            "DNA",
            "Antiviral_Agents"
           ]
          ],
          [
           [
            "Aging",
            "Bacteriophages",
            "Immunity",
            "Neurodegenerative_Diseases",
            "Amyloid_beta_Peptides"
           ]
          ],
          [
           [
            "Cryoelectron_Microscopy",
            "Bacteriophages",
            "Microscopy",
            "Gastrointestinal_Microbiome",
            "Anti_Bacterial_Agents"
           ]
          ],
          [
           [
            "Anti_Bacterial_Agents",
            "Pandemics",
            "Nutrients",
            "Molecular_Biology",
            "Ligands"
           ]
          ],
          [
           [
            "Cell_Proliferation",
            "Amyloid_beta_Peptides",
            "Monocytes",
            "Bone_Marrow",
            "Macrophages"
           ]
          ],
          [
           [
            "Ligands",
            "Magnetic_Resonance_Imaging",
            "Neuroimaging",
            "Child",
            "Oxidation_Reduction"
           ]
          ],
          [
           [
            "Amyloid_beta_Peptides",
            "Aged__80_and_over",
            "Cognitive_Dysfunction",
            "Disease_Progression",
            "Neurodegenerative_Diseases"
           ]
          ],
          [
           [
            "Neurodegenerative_Diseases",
            "Anti_Bacterial_Agents",
            "Computer_Simulation",
            "Anti_Infective_Agents",
            "Computational_Biology"
           ]
          ],
          [
           [
            "Pancreatic_Neoplasms",
            "Tumor_Microenvironment",
            "Fibroblasts",
            "Oxidation_Reduction",
            "Liver_Neoplasms"
           ]
          ],
          [
           [
            "Gastrointestinal_Microbiome",
            "Parasites",
            "Ecological_and_Environmental_Phenomena",
            "Genetics",
            "Diet"
           ]
          ],
          [
           [
            "Nitrogenase",
            "Escherichia_coli",
            "Cell_Line__Tumor",
            "Aged__80_and_over",
            "Phylogeny"
           ]
          ],
          [
           [
            "Colorectal_Neoplasms",
            "Incidence",
            "Survival_Rate",
            "Astrocytes",
            "Tumor_Microenvironment"
           ]
          ],
          [
           [
            "Temperature",
            "Ecological_and_Environmental_Phenomena",
            "Soil",
            "Nutrients",
            "Biodiversity"
           ]
          ],
          [
           [
            "Hematopoietic_Stem_Cell_Transplantation",
            "Graft_vs_Host_Disease",
            "T_Lymphocytes__Regulatory",
            "Bone_Marrow",
            "Apoptosis"
           ]
          ],
          [
           [
            "CRISPR_Cas_Systems",
            "Genetics",
            "RNA",
            "Magnetic_Resonance_Imaging",
            "Cell_Death"
           ]
          ],
          [
           [
            "Aged__80_and_over",
            "Cognitive_Dysfunction",
            "Aging",
            "Magnetic_Resonance_Imaging",
            "Incidence"
           ]
          ],
          [
           [
            "Adolescent",
            "Genotype"
           ]
          ],
          [
           [
            "Colorectal_Neoplasms",
            "Nutrients",
            "Carcinogenesis",
            "Heterografts",
            "AMP_Activated_Protein_Kinases"
           ]
          ],
          [
           []
          ],
          [
           [
            "Chromatin",
            "Organoids",
            "Alleles",
            "Phylogeny",
            "Evolution__Molecular"
           ]
          ],
          [
           [
            "Amyloid_beta_Peptides",
            "Proteomics",
            "Aged__80_and_over",
            "Induced_Pluripotent_Stem_Cells",
            "Single_Cell_Gene_Expression_Analysis"
           ]
          ],
          [
           [
            "Temperature",
            "Ecological_and_Environmental_Phenomena",
            "Biodiversity"
           ]
          ],
          [
           [
            "Stem_Cells",
            "RNA",
            "Cell_Differentiation",
            "Computational_Biology",
            "Single_Cell_Analysis"
           ]
          ],
          [
           [
            "COVID_19",
            "Neuroinflammatory_Diseases",
            "Pandemics",
            "Multiple_Sclerosis",
            "Virus_Diseases"
           ]
          ],
          [
           [
            "Aging",
            "Cell_Proliferation",
            "Cues",
            "Cell_Differentiation",
            "Microscopy"
           ]
          ],
          [
           [
            "Parasites",
            "Diet",
            "Epigenomics",
            "Evolution__Molecular",
            "Nutrients"
           ]
          ],
          [
           [
            "Toxoplasma",
            "Parasites",
            "Monocytes",
            "Phagocytosis",
            "Cytokines"
           ]
          ],
          [
           [
            "Genotype",
            "Aging",
            "Macrophages",
            "Persistent_Infection",
            "CRISPR_Cas_Systems"
           ]
          ],
          [
           [
            "Computational_Biology",
            "T_Lymphocytes",
            "Hippo_Signaling_Pathway",
            "Escherichia_coli",
            "Cell_Line__Tumor"
           ]
          ],
          [
           [
            "Aging",
            "Synapses",
            "Computer_Simulation",
            "Memory_Consolidation",
            "Genetics"
           ]
          ],
          [
           [
            "Temperature",
            "Ecological_and_Environmental_Phenomena"
           ]
          ],
          [
           [
            "Amyloid_beta_Peptides",
            "Gastrointestinal_Microbiome",
            "Astrocytes",
            "Disease_Progression",
            "T_Lymphocytes__Regulatory"
           ]
          ],
          [
           [
            "Reward",
            "Substance_Related_Disorders",
            "Genetics",
            "Adolescent",
            "Neuronal_Plasticity"
           ]
          ],
          [
           [
            "Biomechanical_Phenomena",
            "Biological_Evolution",
            "Ecological_and_Environmental_Phenomena",
            "Evolution__Molecular",
            "Phylogeny"
           ]
          ],
          [
           [
            "Temperature",
            "Ecological_and_Environmental_Phenomena",
            "Biodiversity",
            "Genetics",
            "Anti_Bacterial_Agents"
           ]
          ],
          [
           [
            "Soil",
            "Gastrointestinal_Microbiome",
            "Diet",
            "Diabetes_Mellitus",
            "Anti_Bacterial_Agents"
           ]
          ],
          [
           [
            "Biomechanical_Phenomena",
            "Cues",
            "Ecological_and_Environmental_Phenomena",
            "Zebrafish"
           ]
          ],
          [
           [
            "Sleep",
            "Cues",
            "Neuronal_Plasticity",
            "Synapses",
            "Memory_Consolidation"
           ]
          ],
          [
           [
            "Inflammasomes",
            "NLR_Family__Pyrin_Domain_Containing_3_Protein",
            "Cryoelectron_Microscopy",
            "CRISPR_Cas_Systems",
            "Apoptosis"
           ]
          ],
          [
           [
            "Nicotine",
            "Cognitive_Dysfunction"
           ]
          ],
          [
           [
            "Biological_Evolution",
            "Droughts",
            "Alleles",
            "Genetic_Variation",
            "Biodiversity"
           ]
          ],
          [
           [
            "Immunity__Innate",
            "Virus_Diseases",
            "Antiviral_Agents",
            "Incidence",
            "Pandemics"
           ]
          ],
          [
           [
            "Parasites",
            "Toxoplasma",
            "Ligands",
            "Fibroblasts"
           ]
          ],
          [
           [
            "Aging",
            "Amyloid_beta_Peptides",
            "Gene_Regulatory_Networks",
            "Single_Cell_Analysis",
            "Chromatin"
           ]
          ],
          [
           [
            "Cytokines",
            "Flow_Cytometry",
            "Cell_Line",
            "Single_Cell_Gene_Expression_Analysis",
            "T_Lymphocytes"
           ]
          ],
          [
           [
            "Cell_Communication",
            "Gene_Regulatory_Networks",
            "Single_Cell_Analysis",
            "Single_Cell_Gene_Expression_Analysis",
            "Computational_Biology"
           ]
          ],
          [
           [
            "Zebrafish",
            "Pancreatic_Neoplasms",
            "Gastrointestinal_Microbiome",
            "Disease_Progression",
            "Child"
           ]
          ],
          [
           []
          ],
          [
           [
            "Single_Cell_Gene_Expression_Analysis",
            "Stem_Cells",
            "Fibroblasts",
            "Cell_Communication",
            "Aging"
           ]
          ],
          [
           [
            "Evolution__Molecular",
            "Phylogeny",
            "Ecological_and_Environmental_Phenomena",
            "Biological_Evolution",
            "Genetics"
           ]
          ],
          [
           [
            "Triple_Negative_Breast_Neoplasms",
            "Oxidative_Phosphorylation",
            "Mitochondria",
            "Survival_Rate",
            "Immune_Checkpoint_Inhibitors"
           ]
          ],
          [
           [
            "Soil",
            "Droughts",
            "Biological_Evolution",
            "Pandemics",
            "Ecological_and_Environmental_Phenomena"
           ]
          ],
          [
           [
            "Nitrogenase",
            "Oxidation_Reduction",
            "Escherichia_coli",
            "Phylogeny",
            "Evolution__Molecular"
           ]
          ],
          [
           [
            "Nutrients",
            "Biodiversity",
            "Escherichia_coli",
            "Anti_Bacterial_Agents",
            "Evolution__Molecular"
           ]
          ],
          [
           [
            "Sleep",
            "Memory_Consolidation",
            "Cues",
            "Magnetic_Resonance_Imaging",
            "Neuroimaging"
           ]
          ],
          [
           [
            "Zebrafish",
            "Computer_Simulation",
            "Cell_Proliferation",
            "Biomechanical_Phenomena",
            "Biological_Evolution"
           ]
          ],
          [
           [
            "Proteomics",
            "Mass_Spectrometry",
            "Astrocytes",
            "Microscopy",
            "Multiomics"
           ]
          ],
          [
           [
            "Biodiversity",
            "Ecological_and_Environmental_Phenomena",
            "Temperature"
           ]
          ],
          [
           [
            "Aging",
            "Magnetic_Resonance_Imaging",
            "Cognitive_Dysfunction",
            "Neuroimaging",
            "Amyloid_beta_Peptides"
           ]
          ],
          [
           [
            "Biological_Evolution"
           ]
          ],
          [
           [
            "Microscopy",
            "RNA",
            "Stem_Cells",
            "Pregnancy",
            "Escherichia_coli"
           ]
          ],
          [
           [
            "Nicotine",
            "Reward",
            "Pregnancy",
            "Cognitive_Dysfunction",
            "Cytokines"
           ]
          ],
          [
           [
            "Incidence",
            "Cell_Proliferation",
            "Tumor_Microenvironment",
            "RNA",
            "Carcinogenesis"
           ]
          ],
          [
           [
            "White_Matter",
            "Neurodegenerative_Diseases",
            "Neuroinflammatory_Diseases",
            "Astrocytes",
            "Proteomics"
           ]
          ],
          [
           [
            "Biodiversity",
            "Interdisciplinary_Research",
            "Temperature",
            "Resilience__Psychological",
            "Diet"
           ]
          ],
          [
           [
            "Neuroinflammatory_Diseases",
            "Phagocytosis",
            "Neurodegenerative_Diseases",
            "Amyloid_beta_Peptides",
            "Astrocytes"
           ]
          ],
          [
           [
            "Alleles",
            "Mitochondria",
            "Cell_Death",
            "Neurodegenerative_Diseases"
           ]
          ],
          [
           [
            "Induced_Pluripotent_Stem_Cells",
            "Neurodegenerative_Diseases",
            "Clustered_Regularly_Interspaced_Short_Palindromic_Repeats",
            "Disease_Progression",
            "Cognitive_Dysfunction"
           ]
          ],
          [
           [
            "Ecological_and_Environmental_Phenomena",
            "Phylogeny",
            "Computer_Simulation",
            "Alleles"
           ]
          ],
          [
           [
            "CD8_Positive_T_Lymphocytes",
            "Immune_Checkpoint_Inhibitors",
            "Persistent_Infection",
            "Virus_Diseases",
            "HIV_Infections"
           ]
          ],
          [
           [
            "Soil",
            "Temperature",
            "Resilience__Psychological",
            "Droughts",
            "Genotype"
           ]
          ],
          [
           [
            "COVID_19",
            "Child",
            "Magnetic_Resonance_Imaging",
            "Aged__80_and_over",
            "Cell_Differentiation"
           ]
          ],
          [
           [
            "T_Lymphocytes__Regulatory",
            "Multiple_Sclerosis",
            "Stem_Cells",
            "White_Matter",
            "Macrophages"
           ]
          ],
          [
           [
            "Hippo_Signaling_Pathway",
            "Cell_Proliferation",
            "Carcinogenesis",
            "Apoptosis",
            "Child"
           ]
          ],
          [
           [
            "Genetics",
            "Hippo_Signaling_Pathway",
            "Phosphorylation",
            "Cell_Line__Tumor"
           ]
          ],
          [
           [
            "Bacteriophages",
            "Anti_Bacterial_Agents",
            "Gastrointestinal_Microbiome",
            "Escherichia_coli",
            "Nutrients"
           ]
          ],
          [
           [
            "Zebrafish",
            "Gastrointestinal_Microbiome",
            "Bacteriophages",
            "Anti_Bacterial_Agents",
            "Soil"
           ]
          ],
          [
           [
            "Substance_Related_Disorders",
            "Cocaine",
            "Cues",
            "Reward",
            "Neuronal_Plasticity"
           ]
          ],
          [
           [
            "Gastrointestinal_Microbiome",
            "Phylogeny"
           ]
          ],
          [
           [
            "Magnetic_Resonance_Imaging",
            "Neuroimaging",
            "Cognitive_Dysfunction",
            "Interdisciplinary_Research",
            "Child"
           ]
          ]
         ],
         "hovertemplate": "<b>%{hovertext}</b><br><br>Top_Mesh_Terms=%{customdata[0]}<extra></extra>",
         "hovertext": [
          "Allison, Steven",
          "Arora, Kavita",
          "Atwood, Scott",
          "Azizi, Emanuel",
          "Baker, Nicholas",
          "Bardwell, Lee",
          "Blumberg, Bruce",
          "Blurton-Jones, Mathew",
          "Bracken, Matthew",
          "Briscoe, Adriana",
          "Burley, Nancy",
          "Busciglio, Jorge",
          "Cahill, Larry",
          "Cho, Ken",
          "Chrastil, Elizabeth",
          "Cinquin, Olivier",
          "Cocco, Melanie",
          "Cohen-Cory, Susana",
          "Connor, Kwasi",
          "Cramer, Karina",
          "Daley, Monica",
          "Donovan, Peter",
          "Drayman, Nir",
          "Edinger, Aimee",
          "Emerson, J.J.",
          "Eom, Dae Seok",
          "Faiola, Celia",
          "Fortin, Norbert",
          "Fowler, Christie",
          "Frank, Steven",
          "Frostig, Ron",
          "Fruman, David",
          "Gaut, Brandon",
          "German, Donovan",
          "Gershon, Paul",
          "Glabe, Charles",
          "Gonen, Shane",
          "Goulding, Celia",
          "Green, Kim",
          "Green, Michael",
          "Grill, Joshua",
          "Gross, Steven",
          "Halbrook, Christopher",
          "Hammer, Tobin",
          "Hu, Yilin",
          "Hughes, Christopher",
          "Huxman, Travis",
          "Inlay, Matthew",
          "James, Anthony",
          "Kawas, Claudia",
          "Kim, Seungsoo",
          "Kong, Mei",
          "Konieczny, Piotr",
          "Kvon, Evgeny",
          "LaFerla, Frank",
          "Lamb, Joleah",
          "Lander, Arthur",
          "Lane, Thomas",
          "Lara-Gonzalez, Pablo",
          "Lee, Grace",
          "Lodoen, Melissa",
          "Long, Anthony",
          "Luo, Ray",
          "Lur, Gyorgy",
          "Lutterschmidt, Deborah",
          "MacGregor, Grant",
          "Mahler, Stephen",
          "Martinez, Christopher",
          "Martiny, Adam",
          "Martiny, Jennifer",
          "McHenry, Matthew",
          "McNaughton, Bruce",
          "McNulty, Reginald",
          "Metherate, Raju",
          "Mooney, Kailen",
          "Morehouse, Benjamin",
          "Morrissette, Naomi",
          "Mortazavi, Ali",
          "Nicholas, Dequina",
          "Nie, Qing",
          "Parsons, Michael",
          "Pizzagalli, Diego",
          "Plikus, Maksim",
          "Ranz, Jose",
          "Razorenova, Olga",
          "Rebolleda-Gomez, Maria",
          "Ribbe, Markus",
          "Rodriguez Verdugo, Alejandra",
          "Schechtman-Drayman, Eitan",
          "Schilling, Thomas",
          "Shi, Xiaoyu",
          "Sorte, Cascade",
          "Stark, Craig",
          "Striedter, Georg",
          "Suetterlin, Christine",
          "Sumikawa, Katumi",
          "Sun, Sha",
          "Swarup, Vivek",
          "Symons, Celia",
          "Tenner, Andrea",
          "Thompson-Peer, Katherine",
          "Thompson, Leslie",
          "Thornton, Kevin",
          "Tinoco, Roberto",
          "Treseder, Kathleen",
          "Tsai, Shiou-Chuan",
          "Walsh, Craig",
          "Wang, Wenqi",
          "Warrior, Rahul",
          "Whiteson, Katrine",
          "Wiles, Travis",
          "Wood, Marcelo",
          "Xue, Katherine",
          "Yassa, Michael"
         ],
         "legendgroup": "",
         "marker": {
          "color": "#fecc07",
          "symbol": "circle"
         },
         "mode": "markers",
         "name": "",
         "orientation": "v",
         "showlegend": false,
         "type": "scatter",
         "x": [
          5.535753,
          10.08721,
          10.988581,
          4.57887,
          7.919918,
          8.764753,
          9.425245,
          9.412267,
          4.238484,
          5.2837944,
          7.8763037,
          11.7170725,
          12.295131,
          10.535786,
          8.648791,
          12.168003,
          8.558027,
          11.072863,
          8.054905,
          7.6086903,
          4.5872965,
          11.331904,
          10.737341,
          8.159907,
          5.3724966,
          7.592228,
          5.0234637,
          8.230113,
          12.043268,
          5.738031,
          11.395378,
          11.186292,
          5.2026424,
          7.575415,
          10.70308,
          10.161237,
          7.9625716,
          9.197155,
          8.782548,
          11.218871,
          11.654477,
          7.349288,
          9.097933,
          7.31724,
          7.4803634,
          9.929617,
          4.6604104,
          10.374423,
          8.526771,
          12.049791,
          8.230871,
          11.503677,
          7.835894,
          5.3946,
          9.235644,
          4.8348756,
          9.425777,
          9.838513,
          11.869207,
          6.501761,
          9.150918,
          6.22071,
          9.1391945,
          5.1431503,
          4.1504188,
          8.352837,
          9.55771,
          5.3653193,
          4.7345195,
          7.3120594,
          4.078213,
          8.876844,
          9.677341,
          12.044012,
          5.9644995,
          6.7183223,
          9.517199,
          11.517091,
          9.058327,
          8.869542,
          7.9255867,
          7.8545794,
          8.8796835,
          5.1557155,
          11.249303,
          5.9770775,
          7.3724294,
          5.161026,
          12.456053,
          8.041363,
          10.642354,
          4.226027,
          12.194568,
          5.882922,
          10.366277,
          12.148847,
          7.216621,
          9.898725,
          4.6781173,
          8.561585,
          5.2690845,
          10.87502,
          4.3706055,
          10.234186,
          5.095004,
          10.60179,
          9.161294,
          11.935438,
          9.027588,
          7.7346764,
          7.4400387,
          12.331889,
          7.251397,
          9.515911
         ],
         "xaxis": "x",
         "y": [
          8.863257,
          8.788748,
          7.597319,
          8.673331,
          8.585403,
          9.140651,
          5.145181,
          5.2196937,
          8.032797,
          8.301531,
          8.483267,
          6.6006837,
          6.469714,
          8.146974,
          9.482742,
          6.6893697,
          9.341415,
          8.24455,
          9.31597,
          8.4263735,
          8.682584,
          7.0914655,
          7.5887604,
          9.261575,
          8.9931135,
          5.19327,
          9.057547,
          8.659673,
          7.0508857,
          7.7249393,
          8.016222,
          7.5922976,
          8.154294,
          6.170206,
          7.360188,
          7.061047,
          5.371924,
          7.890522,
          4.841341,
          8.173278,
          6.6577034,
          9.106901,
          4.663714,
          5.8537693,
          9.004999,
          8.114,
          8.40299,
          5.3125067,
          8.799009,
          6.285693,
          8.931195,
          7.3965907,
          8.535496,
          9.164861,
          5.154785,
          8.648602,
          4.9499235,
          5.1727896,
          7.5721564,
          8.340136,
          4.654248,
          8.3875265,
          8.273179,
          9.00758,
          7.876681,
          5.57022,
          8.96376,
          7.6460323,
          8.167945,
          6.019065,
          8.08321,
          9.368926,
          4.978494,
          7.3821793,
          8.075241,
          8.258842,
          8.089039,
          6.7935576,
          7.978272,
          4.58858,
          5.353833,
          8.786794,
          5.096859,
          7.752649,
          7.20899,
          8.056548,
          9.124799,
          8.044741,
          6.5811753,
          5.2318773,
          5.4515476,
          7.9466224,
          6.290339,
          7.686708,
          7.4543133,
          6.912799,
          8.295027,
          5.0063014,
          8.80336,
          5.2800875,
          9.240186,
          7.1366997,
          7.628069,
          5.1940703,
          9.102811,
          8.160323,
          4.5874953,
          6.9285026,
          9.1422825,
          5.60512,
          5.470037,
          7.2253084,
          5.7009926,
          9.299462
         ],
         "yaxis": "y"
        }
       ],
       "layout": {
        "height": 1000,
        "legend": {
         "tracegroupgap": 0
        },
        "plot_bgcolor": "#255799",
        "template": {
         "data": {
          "bar": [
           {
            "error_x": {
             "color": "#2a3f5f"
            },
            "error_y": {
             "color": "#2a3f5f"
            },
            "marker": {
             "line": {
              "color": "#E5ECF6",
              "width": 0.5
             },
             "pattern": {
              "fillmode": "overlay",
              "size": 10,
              "solidity": 0.2
             }
            },
            "type": "bar"
           }
          ],
          "barpolar": [
           {
            "marker": {
             "line": {
              "color": "#E5ECF6",
              "width": 0.5
             },
             "pattern": {
              "fillmode": "overlay",
              "size": 10,
              "solidity": 0.2
             }
            },
            "type": "barpolar"
           }
          ],
          "carpet": [
           {
            "aaxis": {
             "endlinecolor": "#2a3f5f",
             "gridcolor": "white",
             "linecolor": "white",
             "minorgridcolor": "white",
             "startlinecolor": "#2a3f5f"
            },
            "baxis": {
             "endlinecolor": "#2a3f5f",
             "gridcolor": "white",
             "linecolor": "white",
             "minorgridcolor": "white",
             "startlinecolor": "#2a3f5f"
            },
            "type": "carpet"
           }
          ],
          "choropleth": [
           {
            "colorbar": {
             "outlinewidth": 0,
             "ticks": ""
            },
            "type": "choropleth"
           }
          ],
          "contour": [
           {
            "colorbar": {
             "outlinewidth": 0,
             "ticks": ""
            },
            "colorscale": [
             [
              0,
              "#0d0887"
             ],
             [
              0.1111111111111111,
              "#46039f"
             ],
             [
              0.2222222222222222,
              "#7201a8"
             ],
             [
              0.3333333333333333,
              "#9c179e"
             ],
             [
              0.4444444444444444,
              "#bd3786"
             ],
             [
              0.5555555555555556,
              "#d8576b"
             ],
             [
              0.6666666666666666,
              "#ed7953"
             ],
             [
              0.7777777777777778,
              "#fb9f3a"
             ],
             [
              0.8888888888888888,
              "#fdca26"
             ],
             [
              1,
              "#f0f921"
             ]
            ],
            "type": "contour"
           }
          ],
          "contourcarpet": [
           {
            "colorbar": {
             "outlinewidth": 0,
             "ticks": ""
            },
            "type": "contourcarpet"
           }
          ],
          "heatmap": [
           {
            "colorbar": {
             "outlinewidth": 0,
             "ticks": ""
            },
            "colorscale": [
             [
              0,
              "#0d0887"
             ],
             [
              0.1111111111111111,
              "#46039f"
             ],
             [
              0.2222222222222222,
              "#7201a8"
             ],
             [
              0.3333333333333333,
              "#9c179e"
             ],
             [
              0.4444444444444444,
              "#bd3786"
             ],
             [
              0.5555555555555556,
              "#d8576b"
             ],
             [
              0.6666666666666666,
              "#ed7953"
             ],
             [
              0.7777777777777778,
              "#fb9f3a"
             ],
             [
              0.8888888888888888,
              "#fdca26"
             ],
             [
              1,
              "#f0f921"
             ]
            ],
            "type": "heatmap"
           }
          ],
          "heatmapgl": [
           {
            "colorbar": {
             "outlinewidth": 0,
             "ticks": ""
            },
            "colorscale": [
             [
              0,
              "#0d0887"
             ],
             [
              0.1111111111111111,
              "#46039f"
             ],
             [
              0.2222222222222222,
              "#7201a8"
             ],
             [
              0.3333333333333333,
              "#9c179e"
             ],
             [
              0.4444444444444444,
              "#bd3786"
             ],
             [
              0.5555555555555556,
              "#d8576b"
             ],
             [
              0.6666666666666666,
              "#ed7953"
             ],
             [
              0.7777777777777778,
              "#fb9f3a"
             ],
             [
              0.8888888888888888,
              "#fdca26"
             ],
             [
              1,
              "#f0f921"
             ]
            ],
            "type": "heatmapgl"
           }
          ],
          "histogram": [
           {
            "marker": {
             "pattern": {
              "fillmode": "overlay",
              "size": 10,
              "solidity": 0.2
             }
            },
            "type": "histogram"
           }
          ],
          "histogram2d": [
           {
            "colorbar": {
             "outlinewidth": 0,
             "ticks": ""
            },
            "colorscale": [
             [
              0,
              "#0d0887"
             ],
             [
              0.1111111111111111,
              "#46039f"
             ],
             [
              0.2222222222222222,
              "#7201a8"
             ],
             [
              0.3333333333333333,
              "#9c179e"
             ],
             [
              0.4444444444444444,
              "#bd3786"
             ],
             [
              0.5555555555555556,
              "#d8576b"
             ],
             [
              0.6666666666666666,
              "#ed7953"
             ],
             [
              0.7777777777777778,
              "#fb9f3a"
             ],
             [
              0.8888888888888888,
              "#fdca26"
             ],
             [
              1,
              "#f0f921"
             ]
            ],
            "type": "histogram2d"
           }
          ],
          "histogram2dcontour": [
           {
            "colorbar": {
             "outlinewidth": 0,
             "ticks": ""
            },
            "colorscale": [
             [
              0,
              "#0d0887"
             ],
             [
              0.1111111111111111,
              "#46039f"
             ],
             [
              0.2222222222222222,
              "#7201a8"
             ],
             [
              0.3333333333333333,
              "#9c179e"
             ],
             [
              0.4444444444444444,
              "#bd3786"
             ],
             [
              0.5555555555555556,
              "#d8576b"
             ],
             [
              0.6666666666666666,
              "#ed7953"
             ],
             [
              0.7777777777777778,
              "#fb9f3a"
             ],
             [
              0.8888888888888888,
              "#fdca26"
             ],
             [
              1,
              "#f0f921"
             ]
            ],
            "type": "histogram2dcontour"
           }
          ],
          "mesh3d": [
           {
            "colorbar": {
             "outlinewidth": 0,
             "ticks": ""
            },
            "type": "mesh3d"
           }
          ],
          "parcoords": [
           {
            "line": {
             "colorbar": {
              "outlinewidth": 0,
              "ticks": ""
             }
            },
            "type": "parcoords"
           }
          ],
          "pie": [
           {
            "automargin": true,
            "type": "pie"
           }
          ],
          "scatter": [
           {
            "fillpattern": {
             "fillmode": "overlay",
             "size": 10,
             "solidity": 0.2
            },
            "type": "scatter"
           }
          ],
          "scatter3d": [
           {
            "line": {
             "colorbar": {
              "outlinewidth": 0,
              "ticks": ""
             }
            },
            "marker": {
             "colorbar": {
              "outlinewidth": 0,
              "ticks": ""
             }
            },
            "type": "scatter3d"
           }
          ],
          "scattercarpet": [
           {
            "marker": {
             "colorbar": {
              "outlinewidth": 0,
              "ticks": ""
             }
            },
            "type": "scattercarpet"
           }
          ],
          "scattergeo": [
           {
            "marker": {
             "colorbar": {
              "outlinewidth": 0,
              "ticks": ""
             }
            },
            "type": "scattergeo"
           }
          ],
          "scattergl": [
           {
            "marker": {
             "colorbar": {
              "outlinewidth": 0,
              "ticks": ""
             }
            },
            "type": "scattergl"
           }
          ],
          "scattermapbox": [
           {
            "marker": {
             "colorbar": {
              "outlinewidth": 0,
              "ticks": ""
             }
            },
            "type": "scattermapbox"
           }
          ],
          "scatterpolar": [
           {
            "marker": {
             "colorbar": {
              "outlinewidth": 0,
              "ticks": ""
             }
            },
            "type": "scatterpolar"
           }
          ],
          "scatterpolargl": [
           {
            "marker": {
             "colorbar": {
              "outlinewidth": 0,
              "ticks": ""
             }
            },
            "type": "scatterpolargl"
           }
          ],
          "scatterternary": [
           {
            "marker": {
             "colorbar": {
              "outlinewidth": 0,
              "ticks": ""
             }
            },
            "type": "scatterternary"
           }
          ],
          "surface": [
           {
            "colorbar": {
             "outlinewidth": 0,
             "ticks": ""
            },
            "colorscale": [
             [
              0,
              "#0d0887"
             ],
             [
              0.1111111111111111,
              "#46039f"
             ],
             [
              0.2222222222222222,
              "#7201a8"
             ],
             [
              0.3333333333333333,
              "#9c179e"
             ],
             [
              0.4444444444444444,
              "#bd3786"
             ],
             [
              0.5555555555555556,
              "#d8576b"
             ],
             [
              0.6666666666666666,
              "#ed7953"
             ],
             [
              0.7777777777777778,
              "#fb9f3a"
             ],
             [
              0.8888888888888888,
              "#fdca26"
             ],
             [
              1,
              "#f0f921"
             ]
            ],
            "type": "surface"
           }
          ],
          "table": [
           {
            "cells": {
             "fill": {
              "color": "#EBF0F8"
             },
             "line": {
              "color": "white"
             }
            },
            "header": {
             "fill": {
              "color": "#C8D4E3"
             },
             "line": {
              "color": "white"
             }
            },
            "type": "table"
           }
          ]
         },
         "layout": {
          "annotationdefaults": {
           "arrowcolor": "#2a3f5f",
           "arrowhead": 0,
           "arrowwidth": 1
          },
          "autotypenumbers": "strict",
          "coloraxis": {
           "colorbar": {
            "outlinewidth": 0,
            "ticks": ""
           }
          },
          "colorscale": {
           "diverging": [
            [
             0,
             "#8e0152"
            ],
            [
             0.1,
             "#c51b7d"
            ],
            [
             0.2,
             "#de77ae"
            ],
            [
             0.3,
             "#f1b6da"
            ],
            [
             0.4,
             "#fde0ef"
            ],
            [
             0.5,
             "#f7f7f7"
            ],
            [
             0.6,
             "#e6f5d0"
            ],
            [
             0.7,
             "#b8e186"
            ],
            [
             0.8,
             "#7fbc41"
            ],
            [
             0.9,
             "#4d9221"
            ],
            [
             1,
             "#276419"
            ]
           ],
           "sequential": [
            [
             0,
             "#0d0887"
            ],
            [
             0.1111111111111111,
             "#46039f"
            ],
            [
             0.2222222222222222,
             "#7201a8"
            ],
            [
             0.3333333333333333,
             "#9c179e"
            ],
            [
             0.4444444444444444,
             "#bd3786"
            ],
            [
             0.5555555555555556,
             "#d8576b"
            ],
            [
             0.6666666666666666,
             "#ed7953"
            ],
            [
             0.7777777777777778,
             "#fb9f3a"
            ],
            [
             0.8888888888888888,
             "#fdca26"
            ],
            [
             1,
             "#f0f921"
            ]
           ],
           "sequentialminus": [
            [
             0,
             "#0d0887"
            ],
            [
             0.1111111111111111,
             "#46039f"
            ],
            [
             0.2222222222222222,
             "#7201a8"
            ],
            [
             0.3333333333333333,
             "#9c179e"
            ],
            [
             0.4444444444444444,
             "#bd3786"
            ],
            [
             0.5555555555555556,
             "#d8576b"
            ],
            [
             0.6666666666666666,
             "#ed7953"
            ],
            [
             0.7777777777777778,
             "#fb9f3a"
            ],
            [
             0.8888888888888888,
             "#fdca26"
            ],
            [
             1,
             "#f0f921"
            ]
           ]
          },
          "colorway": [
           "#636efa",
           "#EF553B",
           "#00cc96",
           "#ab63fa",
           "#FFA15A",
           "#19d3f3",
           "#FF6692",
           "#B6E880",
           "#FF97FF",
           "#FECB52"
          ],
          "font": {
           "color": "#2a3f5f"
          },
          "geo": {
           "bgcolor": "white",
           "lakecolor": "white",
           "landcolor": "#E5ECF6",
           "showlakes": true,
           "showland": true,
           "subunitcolor": "white"
          },
          "hoverlabel": {
           "align": "left"
          },
          "hovermode": "closest",
          "mapbox": {
           "style": "light"
          },
          "paper_bgcolor": "white",
          "plot_bgcolor": "#E5ECF6",
          "polar": {
           "angularaxis": {
            "gridcolor": "white",
            "linecolor": "white",
            "ticks": ""
           },
           "bgcolor": "#E5ECF6",
           "radialaxis": {
            "gridcolor": "white",
            "linecolor": "white",
            "ticks": ""
           }
          },
          "scene": {
           "xaxis": {
            "backgroundcolor": "#E5ECF6",
            "gridcolor": "white",
            "gridwidth": 2,
            "linecolor": "white",
            "showbackground": true,
            "ticks": "",
            "zerolinecolor": "white"
           },
           "yaxis": {
            "backgroundcolor": "#E5ECF6",
            "gridcolor": "white",
            "gridwidth": 2,
            "linecolor": "white",
            "showbackground": true,
            "ticks": "",
            "zerolinecolor": "white"
           },
           "zaxis": {
            "backgroundcolor": "#E5ECF6",
            "gridcolor": "white",
            "gridwidth": 2,
            "linecolor": "white",
            "showbackground": true,
            "ticks": "",
            "zerolinecolor": "white"
           }
          },
          "shapedefaults": {
           "line": {
            "color": "#2a3f5f"
           }
          },
          "ternary": {
           "aaxis": {
            "gridcolor": "white",
            "linecolor": "white",
            "ticks": ""
           },
           "baxis": {
            "gridcolor": "white",
            "linecolor": "white",
            "ticks": ""
           },
           "bgcolor": "#E5ECF6",
           "caxis": {
            "gridcolor": "white",
            "linecolor": "white",
            "ticks": ""
           }
          },
          "title": {
           "x": 0.05
          },
          "xaxis": {
           "automargin": true,
           "gridcolor": "white",
           "linecolor": "white",
           "ticks": "",
           "title": {
            "standoff": 15
           },
           "zerolinecolor": "white",
           "zerolinewidth": 2
          },
          "yaxis": {
           "automargin": true,
           "gridcolor": "white",
           "linecolor": "white",
           "ticks": "",
           "title": {
            "standoff": 15
           },
           "zerolinecolor": "white",
           "zerolinewidth": 2
          }
         }
        },
        "title": {
         "text": "UMAP with 3 PCA Components"
        },
        "width": 1000,
        "xaxis": {
         "anchor": "y",
         "domain": [
          0,
          1
         ],
         "showticklabels": false,
         "title": {
          "text": ""
         }
        },
        "yaxis": {
         "anchor": "x",
         "domain": [
          0,
          1
         ],
         "showticklabels": false,
         "title": {
          "text": ""
         }
        }
       }
      }
     },
     "metadata": {},
     "output_type": "display_data"
    },
    {
     "name": "stderr",
     "output_type": "stream",
     "text": [
      "/Users/mitalimittal/anaconda3/lib/python3.11/site-packages/umap/umap_.py:1943: UserWarning:\n",
      "\n",
      "n_jobs value -1 overridden to 1 by setting random_state. Use no seed for parallelism.\n",
      "\n"
     ]
    },
    {
     "data": {
      "application/vnd.plotly.v1+json": {
       "config": {
        "plotlyServerURL": "https://plot.ly"
       },
       "data": [
        {
         "customdata": [
          [
           [
            "Soil",
            "Droughts",
            "Resilience__Psychological",
            "Temperature",
            "Interdisciplinary_Research"
           ]
          ],
          [
           [
            "Phosphorylation",
            "Computational_Biology",
            "Genetics",
            "Hippo_Signaling_Pathway",
            "Cell_Line__Tumor"
           ]
          ],
          [
           [
            "Molecular_Biology",
            "Immunity",
            "Carcinogenesis",
            "T_Lymphocytes",
            "Phosphorylation"
           ]
          ],
          [
           [
            "Biomechanical_Phenomena",
            "Aging",
            "Temperature"
           ]
          ],
          [
           []
          ],
          [
           [
            "Phosphorylation",
            "Ligands",
            "Diabetes_Mellitus",
            "Child",
            "Alleles"
           ]
          ],
          [
           [
            "Obesity",
            "Pregnancy",
            "Chromatin",
            "Multiomics",
            "DNA"
           ]
          ],
          [
           [
            "Induced_Pluripotent_Stem_Cells",
            "Cytokines",
            "Macrophages",
            "Disease_Progression",
            "Monocytes"
           ]
          ],
          [
           [
            "Biodiversity",
            "Ecological_and_Environmental_Phenomena"
           ]
          ],
          [
           [
            "Phylogeny",
            "Clustered_Regularly_Interspaced_Short_Palindromic_Repeats",
            "Evolution__Molecular"
           ]
          ],
          [
           []
          ],
          [
           [
            "Down_Syndrome",
            "Cognitive_Dysfunction",
            "Proteomics",
            "Pregnancy",
            "Amyloid_beta_Peptides"
           ]
          ],
          [
           [
            "Magnetic_Resonance_Imaging"
           ]
          ],
          [
           [
            "Gene_Regulatory_Networks",
            "Chromatin",
            "Multiomics",
            "Cell_Differentiation",
            "Computational_Biology"
           ]
          ],
          [
           [
            "Neuroimaging",
            "Magnetic_Resonance_Imaging",
            "Pregnancy",
            "Computer_Simulation",
            "Adolescent"
           ]
          ],
          [
           [
            "Cell_Line",
            "Computational_Biology",
            "Aging"
           ]
          ],
          [
           [
            "Magnetic_Resonance_Imaging",
            "Temperature",
            "Genotype",
            "Ligands"
           ]
          ],
          [
           [
            "Synapses"
           ]
          ],
          [
           [
            "Diet",
            "Temperature"
           ]
          ],
          [
           [
            "Neuronal_Plasticity",
            "Synapses",
            "Astrocytes",
            "Apoptosis",
            "Proteomics"
           ]
          ],
          [
           [
            "Biomechanical_Phenomena",
            "Resilience__Psychological",
            "Interdisciplinary_Research",
            "Computer_Simulation"
           ]
          ],
          [
           [
            "Neurodegenerative_Diseases",
            "Stem_Cells",
            "Chromatin",
            "Cell_Line"
           ]
          ],
          [
           [
            "Antiviral_Agents",
            "Virus_Diseases",
            "RNA",
            "Cell_Line",
            "Single_Cell_Gene_Expression_Analysis"
           ]
          ],
          [
           [
            "CRISPR_Cas_Systems",
            "Tumor_Microenvironment",
            "Nutrients",
            "Ligands",
            "Alleles"
           ]
          ],
          [
           [
            "Genotype",
            "Alleles",
            "Evolution__Molecular",
            "Chromatin",
            "Gene_Regulatory_Networks"
           ]
          ],
          [
           [
            "Zebrafish",
            "Cell_Communication",
            "Macrophages"
           ]
          ],
          [
           [
            "Temperature",
            "Soil",
            "Resilience__Psychological",
            "Droughts",
            "Computer_Simulation"
           ]
          ],
          [
           [
            "Substance_Related_Disorders"
           ]
          ],
          [
           [
            "Nicotine",
            "Chromatin",
            "Microscopy",
            "Clustered_Regularly_Interspaced_Short_Palindromic_Repeats",
            "Cocaine"
           ]
          ],
          [
           [
            "Biological_Evolution",
            "Computer_Simulation",
            "Computational_Biology",
            "Ecological_and_Environmental_Phenomena",
            "Genetics"
           ]
          ],
          [
           [
            "Astrocytes",
            "Magnetic_Resonance_Imaging",
            "Neuronal_Plasticity",
            "Neuroimaging"
           ]
          ],
          [
           [
            "Cell_Line",
            "Cell_Proliferation",
            "Apoptosis",
            "Child",
            "Heterografts"
           ]
          ],
          [
           [
            "Genetic_Variation",
            "Chromatin",
            "Epigenomics",
            "Temperature",
            "Droughts"
           ]
          ],
          [
           [
            "Diet",
            "Zebrafish",
            "Proteomics",
            "Temperature",
            "Ecological_and_Environmental_Phenomena"
           ]
          ],
          [
           [
            "Proteomics",
            "Mass_Spectrometry",
            "Escherichia_coli",
            "DNA",
            "Antiviral_Agents"
           ]
          ],
          [
           [
            "Aging",
            "Bacteriophages",
            "Immunity",
            "Neurodegenerative_Diseases",
            "Amyloid_beta_Peptides"
           ]
          ],
          [
           [
            "Cryoelectron_Microscopy",
            "Bacteriophages",
            "Microscopy",
            "Gastrointestinal_Microbiome",
            "Anti_Bacterial_Agents"
           ]
          ],
          [
           [
            "Anti_Bacterial_Agents",
            "Pandemics",
            "Nutrients",
            "Molecular_Biology",
            "Ligands"
           ]
          ],
          [
           [
            "Cell_Proliferation",
            "Amyloid_beta_Peptides",
            "Monocytes",
            "Bone_Marrow",
            "Macrophages"
           ]
          ],
          [
           [
            "Ligands",
            "Magnetic_Resonance_Imaging",
            "Neuroimaging",
            "Child",
            "Oxidation_Reduction"
           ]
          ],
          [
           [
            "Amyloid_beta_Peptides",
            "Aged__80_and_over",
            "Cognitive_Dysfunction",
            "Disease_Progression",
            "Neurodegenerative_Diseases"
           ]
          ],
          [
           [
            "Neurodegenerative_Diseases",
            "Anti_Bacterial_Agents",
            "Computer_Simulation",
            "Anti_Infective_Agents",
            "Computational_Biology"
           ]
          ],
          [
           [
            "Pancreatic_Neoplasms",
            "Tumor_Microenvironment",
            "Fibroblasts",
            "Oxidation_Reduction",
            "Liver_Neoplasms"
           ]
          ],
          [
           [
            "Gastrointestinal_Microbiome",
            "Parasites",
            "Ecological_and_Environmental_Phenomena",
            "Genetics",
            "Diet"
           ]
          ],
          [
           [
            "Nitrogenase",
            "Escherichia_coli",
            "Cell_Line__Tumor",
            "Aged__80_and_over",
            "Phylogeny"
           ]
          ],
          [
           [
            "Colorectal_Neoplasms",
            "Incidence",
            "Survival_Rate",
            "Astrocytes",
            "Tumor_Microenvironment"
           ]
          ],
          [
           [
            "Temperature",
            "Ecological_and_Environmental_Phenomena",
            "Soil",
            "Nutrients",
            "Biodiversity"
           ]
          ],
          [
           [
            "Hematopoietic_Stem_Cell_Transplantation",
            "Graft_vs_Host_Disease",
            "T_Lymphocytes__Regulatory",
            "Bone_Marrow",
            "Apoptosis"
           ]
          ],
          [
           [
            "CRISPR_Cas_Systems",
            "Genetics",
            "RNA",
            "Magnetic_Resonance_Imaging",
            "Cell_Death"
           ]
          ],
          [
           [
            "Aged__80_and_over",
            "Cognitive_Dysfunction",
            "Aging",
            "Magnetic_Resonance_Imaging",
            "Incidence"
           ]
          ],
          [
           [
            "Adolescent",
            "Genotype"
           ]
          ],
          [
           [
            "Colorectal_Neoplasms",
            "Nutrients",
            "Carcinogenesis",
            "Heterografts",
            "AMP_Activated_Protein_Kinases"
           ]
          ],
          [
           []
          ],
          [
           [
            "Chromatin",
            "Organoids",
            "Alleles",
            "Phylogeny",
            "Evolution__Molecular"
           ]
          ],
          [
           [
            "Amyloid_beta_Peptides",
            "Proteomics",
            "Aged__80_and_over",
            "Induced_Pluripotent_Stem_Cells",
            "Single_Cell_Gene_Expression_Analysis"
           ]
          ],
          [
           [
            "Temperature",
            "Ecological_and_Environmental_Phenomena",
            "Biodiversity"
           ]
          ],
          [
           [
            "Stem_Cells",
            "RNA",
            "Cell_Differentiation",
            "Computational_Biology",
            "Single_Cell_Analysis"
           ]
          ],
          [
           [
            "COVID_19",
            "Neuroinflammatory_Diseases",
            "Pandemics",
            "Multiple_Sclerosis",
            "Virus_Diseases"
           ]
          ],
          [
           [
            "Aging",
            "Cell_Proliferation",
            "Cues",
            "Cell_Differentiation",
            "Microscopy"
           ]
          ],
          [
           [
            "Parasites",
            "Diet",
            "Epigenomics",
            "Evolution__Molecular",
            "Nutrients"
           ]
          ],
          [
           [
            "Toxoplasma",
            "Parasites",
            "Monocytes",
            "Phagocytosis",
            "Cytokines"
           ]
          ],
          [
           [
            "Genotype",
            "Aging",
            "Macrophages",
            "Persistent_Infection",
            "CRISPR_Cas_Systems"
           ]
          ],
          [
           [
            "Computational_Biology",
            "T_Lymphocytes",
            "Hippo_Signaling_Pathway",
            "Escherichia_coli",
            "Cell_Line__Tumor"
           ]
          ],
          [
           [
            "Aging",
            "Synapses",
            "Computer_Simulation",
            "Memory_Consolidation",
            "Genetics"
           ]
          ],
          [
           [
            "Temperature",
            "Ecological_and_Environmental_Phenomena"
           ]
          ],
          [
           [
            "Amyloid_beta_Peptides",
            "Gastrointestinal_Microbiome",
            "Astrocytes",
            "Disease_Progression",
            "T_Lymphocytes__Regulatory"
           ]
          ],
          [
           [
            "Reward",
            "Substance_Related_Disorders",
            "Genetics",
            "Adolescent",
            "Neuronal_Plasticity"
           ]
          ],
          [
           [
            "Biomechanical_Phenomena",
            "Biological_Evolution",
            "Ecological_and_Environmental_Phenomena",
            "Evolution__Molecular",
            "Phylogeny"
           ]
          ],
          [
           [
            "Temperature",
            "Ecological_and_Environmental_Phenomena",
            "Biodiversity",
            "Genetics",
            "Anti_Bacterial_Agents"
           ]
          ],
          [
           [
            "Soil",
            "Gastrointestinal_Microbiome",
            "Diet",
            "Diabetes_Mellitus",
            "Anti_Bacterial_Agents"
           ]
          ],
          [
           [
            "Biomechanical_Phenomena",
            "Cues",
            "Ecological_and_Environmental_Phenomena",
            "Zebrafish"
           ]
          ],
          [
           [
            "Sleep",
            "Cues",
            "Neuronal_Plasticity",
            "Synapses",
            "Memory_Consolidation"
           ]
          ],
          [
           [
            "Inflammasomes",
            "NLR_Family__Pyrin_Domain_Containing_3_Protein",
            "Cryoelectron_Microscopy",
            "CRISPR_Cas_Systems",
            "Apoptosis"
           ]
          ],
          [
           [
            "Nicotine",
            "Cognitive_Dysfunction"
           ]
          ],
          [
           [
            "Biological_Evolution",
            "Droughts",
            "Alleles",
            "Genetic_Variation",
            "Biodiversity"
           ]
          ],
          [
           [
            "Immunity__Innate",
            "Virus_Diseases",
            "Antiviral_Agents",
            "Incidence",
            "Pandemics"
           ]
          ],
          [
           [
            "Parasites",
            "Toxoplasma",
            "Ligands",
            "Fibroblasts"
           ]
          ],
          [
           [
            "Aging",
            "Amyloid_beta_Peptides",
            "Gene_Regulatory_Networks",
            "Single_Cell_Analysis",
            "Chromatin"
           ]
          ],
          [
           [
            "Cytokines",
            "Flow_Cytometry",
            "Cell_Line",
            "Single_Cell_Gene_Expression_Analysis",
            "T_Lymphocytes"
           ]
          ],
          [
           [
            "Cell_Communication",
            "Gene_Regulatory_Networks",
            "Single_Cell_Analysis",
            "Single_Cell_Gene_Expression_Analysis",
            "Computational_Biology"
           ]
          ],
          [
           [
            "Zebrafish",
            "Pancreatic_Neoplasms",
            "Gastrointestinal_Microbiome",
            "Disease_Progression",
            "Child"
           ]
          ],
          [
           []
          ],
          [
           [
            "Single_Cell_Gene_Expression_Analysis",
            "Stem_Cells",
            "Fibroblasts",
            "Cell_Communication",
            "Aging"
           ]
          ],
          [
           [
            "Evolution__Molecular",
            "Phylogeny",
            "Ecological_and_Environmental_Phenomena",
            "Biological_Evolution",
            "Genetics"
           ]
          ],
          [
           [
            "Triple_Negative_Breast_Neoplasms",
            "Oxidative_Phosphorylation",
            "Mitochondria",
            "Survival_Rate",
            "Immune_Checkpoint_Inhibitors"
           ]
          ],
          [
           [
            "Soil",
            "Droughts",
            "Biological_Evolution",
            "Pandemics",
            "Ecological_and_Environmental_Phenomena"
           ]
          ],
          [
           [
            "Nitrogenase",
            "Oxidation_Reduction",
            "Escherichia_coli",
            "Phylogeny",
            "Evolution__Molecular"
           ]
          ],
          [
           [
            "Nutrients",
            "Biodiversity",
            "Escherichia_coli",
            "Anti_Bacterial_Agents",
            "Evolution__Molecular"
           ]
          ],
          [
           [
            "Sleep",
            "Memory_Consolidation",
            "Cues",
            "Magnetic_Resonance_Imaging",
            "Neuroimaging"
           ]
          ],
          [
           [
            "Zebrafish",
            "Computer_Simulation",
            "Cell_Proliferation",
            "Biomechanical_Phenomena",
            "Biological_Evolution"
           ]
          ],
          [
           [
            "Proteomics",
            "Mass_Spectrometry",
            "Astrocytes",
            "Microscopy",
            "Multiomics"
           ]
          ],
          [
           [
            "Biodiversity",
            "Ecological_and_Environmental_Phenomena",
            "Temperature"
           ]
          ],
          [
           [
            "Aging",
            "Magnetic_Resonance_Imaging",
            "Cognitive_Dysfunction",
            "Neuroimaging",
            "Amyloid_beta_Peptides"
           ]
          ],
          [
           [
            "Biological_Evolution"
           ]
          ],
          [
           [
            "Microscopy",
            "RNA",
            "Stem_Cells",
            "Pregnancy",
            "Escherichia_coli"
           ]
          ],
          [
           [
            "Nicotine",
            "Reward",
            "Pregnancy",
            "Cognitive_Dysfunction",
            "Cytokines"
           ]
          ],
          [
           [
            "Incidence",
            "Cell_Proliferation",
            "Tumor_Microenvironment",
            "RNA",
            "Carcinogenesis"
           ]
          ],
          [
           [
            "White_Matter",
            "Neurodegenerative_Diseases",
            "Neuroinflammatory_Diseases",
            "Astrocytes",
            "Proteomics"
           ]
          ],
          [
           [
            "Biodiversity",
            "Interdisciplinary_Research",
            "Temperature",
            "Resilience__Psychological",
            "Diet"
           ]
          ],
          [
           [
            "Neuroinflammatory_Diseases",
            "Phagocytosis",
            "Neurodegenerative_Diseases",
            "Amyloid_beta_Peptides",
            "Astrocytes"
           ]
          ],
          [
           [
            "Alleles",
            "Mitochondria",
            "Cell_Death",
            "Neurodegenerative_Diseases"
           ]
          ],
          [
           [
            "Induced_Pluripotent_Stem_Cells",
            "Neurodegenerative_Diseases",
            "Clustered_Regularly_Interspaced_Short_Palindromic_Repeats",
            "Disease_Progression",
            "Cognitive_Dysfunction"
           ]
          ],
          [
           [
            "Ecological_and_Environmental_Phenomena",
            "Phylogeny",
            "Computer_Simulation",
            "Alleles"
           ]
          ],
          [
           [
            "CD8_Positive_T_Lymphocytes",
            "Immune_Checkpoint_Inhibitors",
            "Persistent_Infection",
            "Virus_Diseases",
            "HIV_Infections"
           ]
          ],
          [
           [
            "Soil",
            "Temperature",
            "Resilience__Psychological",
            "Droughts",
            "Genotype"
           ]
          ],
          [
           [
            "COVID_19",
            "Child",
            "Magnetic_Resonance_Imaging",
            "Aged__80_and_over",
            "Cell_Differentiation"
           ]
          ],
          [
           [
            "T_Lymphocytes__Regulatory",
            "Multiple_Sclerosis",
            "Stem_Cells",
            "White_Matter",
            "Macrophages"
           ]
          ],
          [
           [
            "Hippo_Signaling_Pathway",
            "Cell_Proliferation",
            "Carcinogenesis",
            "Apoptosis",
            "Child"
           ]
          ],
          [
           [
            "Genetics",
            "Hippo_Signaling_Pathway",
            "Phosphorylation",
            "Cell_Line__Tumor"
           ]
          ],
          [
           [
            "Bacteriophages",
            "Anti_Bacterial_Agents",
            "Gastrointestinal_Microbiome",
            "Escherichia_coli",
            "Nutrients"
           ]
          ],
          [
           [
            "Zebrafish",
            "Gastrointestinal_Microbiome",
            "Bacteriophages",
            "Anti_Bacterial_Agents",
            "Soil"
           ]
          ],
          [
           [
            "Substance_Related_Disorders",
            "Cocaine",
            "Cues",
            "Reward",
            "Neuronal_Plasticity"
           ]
          ],
          [
           [
            "Gastrointestinal_Microbiome",
            "Phylogeny"
           ]
          ],
          [
           [
            "Magnetic_Resonance_Imaging",
            "Neuroimaging",
            "Cognitive_Dysfunction",
            "Interdisciplinary_Research",
            "Child"
           ]
          ]
         ],
         "hovertemplate": "<b>%{hovertext}</b><br><br>Top_Mesh_Terms=%{customdata[0]}<extra></extra>",
         "hovertext": [
          "Allison, Steven",
          "Arora, Kavita",
          "Atwood, Scott",
          "Azizi, Emanuel",
          "Baker, Nicholas",
          "Bardwell, Lee",
          "Blumberg, Bruce",
          "Blurton-Jones, Mathew",
          "Bracken, Matthew",
          "Briscoe, Adriana",
          "Burley, Nancy",
          "Busciglio, Jorge",
          "Cahill, Larry",
          "Cho, Ken",
          "Chrastil, Elizabeth",
          "Cinquin, Olivier",
          "Cocco, Melanie",
          "Cohen-Cory, Susana",
          "Connor, Kwasi",
          "Cramer, Karina",
          "Daley, Monica",
          "Donovan, Peter",
          "Drayman, Nir",
          "Edinger, Aimee",
          "Emerson, J.J.",
          "Eom, Dae Seok",
          "Faiola, Celia",
          "Fortin, Norbert",
          "Fowler, Christie",
          "Frank, Steven",
          "Frostig, Ron",
          "Fruman, David",
          "Gaut, Brandon",
          "German, Donovan",
          "Gershon, Paul",
          "Glabe, Charles",
          "Gonen, Shane",
          "Goulding, Celia",
          "Green, Kim",
          "Green, Michael",
          "Grill, Joshua",
          "Gross, Steven",
          "Halbrook, Christopher",
          "Hammer, Tobin",
          "Hu, Yilin",
          "Hughes, Christopher",
          "Huxman, Travis",
          "Inlay, Matthew",
          "James, Anthony",
          "Kawas, Claudia",
          "Kim, Seungsoo",
          "Kong, Mei",
          "Konieczny, Piotr",
          "Kvon, Evgeny",
          "LaFerla, Frank",
          "Lamb, Joleah",
          "Lander, Arthur",
          "Lane, Thomas",
          "Lara-Gonzalez, Pablo",
          "Lee, Grace",
          "Lodoen, Melissa",
          "Long, Anthony",
          "Luo, Ray",
          "Lur, Gyorgy",
          "Lutterschmidt, Deborah",
          "MacGregor, Grant",
          "Mahler, Stephen",
          "Martinez, Christopher",
          "Martiny, Adam",
          "Martiny, Jennifer",
          "McHenry, Matthew",
          "McNaughton, Bruce",
          "McNulty, Reginald",
          "Metherate, Raju",
          "Mooney, Kailen",
          "Morehouse, Benjamin",
          "Morrissette, Naomi",
          "Mortazavi, Ali",
          "Nicholas, Dequina",
          "Nie, Qing",
          "Parsons, Michael",
          "Pizzagalli, Diego",
          "Plikus, Maksim",
          "Ranz, Jose",
          "Razorenova, Olga",
          "Rebolleda-Gomez, Maria",
          "Ribbe, Markus",
          "Rodriguez Verdugo, Alejandra",
          "Schechtman-Drayman, Eitan",
          "Schilling, Thomas",
          "Shi, Xiaoyu",
          "Sorte, Cascade",
          "Stark, Craig",
          "Striedter, Georg",
          "Suetterlin, Christine",
          "Sumikawa, Katumi",
          "Sun, Sha",
          "Swarup, Vivek",
          "Symons, Celia",
          "Tenner, Andrea",
          "Thompson-Peer, Katherine",
          "Thompson, Leslie",
          "Thornton, Kevin",
          "Tinoco, Roberto",
          "Treseder, Kathleen",
          "Tsai, Shiou-Chuan",
          "Walsh, Craig",
          "Wang, Wenqi",
          "Warrior, Rahul",
          "Whiteson, Katrine",
          "Wiles, Travis",
          "Wood, Marcelo",
          "Xue, Katherine",
          "Yassa, Michael"
         ],
         "legendgroup": "",
         "marker": {
          "color": "#fecc07",
          "symbol": "circle"
         },
         "mode": "markers",
         "name": "",
         "orientation": "v",
         "showlegend": false,
         "type": "scatter",
         "x": [
          3.4300077,
          7.6725745,
          7.70634,
          2.871512,
          5.0052776,
          6.702214,
          7.7857237,
          7.753755,
          2.5982194,
          3.349902,
          4.914674,
          10.089704,
          10.800574,
          7.33757,
          6.3683314,
          9.972872,
          5.9540844,
          8.85105,
          4.617626,
          7.6876698,
          2.7580607,
          9.043326,
          8.011713,
          5.3698196,
          3.4985375,
          6.689937,
          2.8838527,
          5.3382845,
          9.990661,
          3.8804066,
          9.182532,
          8.423292,
          3.1957157,
          6.2356086,
          8.535673,
          7.8530955,
          6.7800584,
          6.473615,
          7.9129763,
          8.221402,
          10.139319,
          4.141708,
          7.8221016,
          5.987348,
          6.874272,
          7.03542,
          2.5847564,
          9.313099,
          5.783272,
          10.731554,
          5.532389,
          8.647395,
          5.0114837,
          3.50678,
          9.76818,
          2.8205264,
          7.484293,
          8.292427,
          7.6661353,
          4.4217367,
          8.077487,
          3.9101136,
          6.1842136,
          3.3078952,
          2.3690484,
          7.3771286,
          7.2235594,
          3.0036206,
          2.7196054,
          5.8741775,
          2.6157627,
          5.949012,
          8.066015,
          9.958851,
          3.9293447,
          4.7842736,
          6.66919,
          9.210663,
          6.279392,
          7.0806684,
          6.660849,
          5.197149,
          7.1190066,
          3.2321417,
          8.889729,
          3.8328047,
          7.3044686,
          3.2818668,
          10.101719,
          6.795927,
          10.401123,
          2.5624728,
          10.689118,
          4.0829473,
          7.57435,
          10.302422,
          5.28375,
          8.23894,
          2.615718,
          8.1918125,
          3.1233523,
          8.776288,
          2.584727,
          8.484015,
          2.9722528,
          7.837615,
          7.7228985,
          9.1640215,
          7.278973,
          6.658345,
          6.539697,
          9.447254,
          6.073004,
          9.799456
         ],
         "xaxis": "x",
         "y": [
          15.719974,
          17.526114,
          16.282936,
          14.442194,
          16.918047,
          17.477592,
          14.275473,
          14.362144,
          14.959026,
          15.922335,
          17.137323,
          16.998468,
          17.129221,
          16.491413,
          17.519096,
          17.173471,
          17.35144,
          17.513634,
          16.771015,
          17.645876,
          14.366153,
          16.778988,
          16.391985,
          17.202045,
          16.213938,
          14.039701,
          15.856157,
          16.755682,
          17.2854,
          14.917295,
          17.547962,
          16.846846,
          15.370694,
          14.331421,
          16.91612,
          16.012928,
          14.401212,
          16.19626,
          14.541933,
          17.217093,
          16.921152,
          16.408443,
          14.03798,
          14.62592,
          17.142246,
          16.383638,
          15.282278,
          16.41975,
          16.896229,
          16.991144,
          16.987709,
          16.933823,
          16.908644,
          16.17532,
          16.482988,
          15.548529,
          14.198431,
          14.705457,
          16.51544,
          15.797359,
          14.257207,
          15.604581,
          16.509804,
          16.24197,
          14.79609,
          15.427676,
          17.419245,
          14.444884,
          15.206445,
          14.536959,
          14.426399,
          17.480904,
          14.759688,
          17.429453,
          15.117627,
          15.90549,
          16.376324,
          16.88599,
          16.078516,
          14.072894,
          14.343259,
          17.044853,
          14.059597,
          14.98212,
          17.01312,
          15.215266,
          17.208607,
          15.176896,
          17.501366,
          14.1490965,
          16.842716,
          14.954578,
          17.09095,
          14.757182,
          16.108713,
          17.3786,
          16.079775,
          14.580944,
          15.693337,
          15.683931,
          16.269167,
          16.659071,
          14.723568,
          14.965503,
          16.0055,
          16.691406,
          13.899013,
          17.123194,
          17.711046,
          14.817145,
          14.150091,
          17.39694,
          14.576816,
          17.72669
         ],
         "yaxis": "y"
        }
       ],
       "layout": {
        "height": 1000,
        "legend": {
         "tracegroupgap": 0
        },
        "plot_bgcolor": "#255799",
        "template": {
         "data": {
          "bar": [
           {
            "error_x": {
             "color": "#2a3f5f"
            },
            "error_y": {
             "color": "#2a3f5f"
            },
            "marker": {
             "line": {
              "color": "#E5ECF6",
              "width": 0.5
             },
             "pattern": {
              "fillmode": "overlay",
              "size": 10,
              "solidity": 0.2
             }
            },
            "type": "bar"
           }
          ],
          "barpolar": [
           {
            "marker": {
             "line": {
              "color": "#E5ECF6",
              "width": 0.5
             },
             "pattern": {
              "fillmode": "overlay",
              "size": 10,
              "solidity": 0.2
             }
            },
            "type": "barpolar"
           }
          ],
          "carpet": [
           {
            "aaxis": {
             "endlinecolor": "#2a3f5f",
             "gridcolor": "white",
             "linecolor": "white",
             "minorgridcolor": "white",
             "startlinecolor": "#2a3f5f"
            },
            "baxis": {
             "endlinecolor": "#2a3f5f",
             "gridcolor": "white",
             "linecolor": "white",
             "minorgridcolor": "white",
             "startlinecolor": "#2a3f5f"
            },
            "type": "carpet"
           }
          ],
          "choropleth": [
           {
            "colorbar": {
             "outlinewidth": 0,
             "ticks": ""
            },
            "type": "choropleth"
           }
          ],
          "contour": [
           {
            "colorbar": {
             "outlinewidth": 0,
             "ticks": ""
            },
            "colorscale": [
             [
              0,
              "#0d0887"
             ],
             [
              0.1111111111111111,
              "#46039f"
             ],
             [
              0.2222222222222222,
              "#7201a8"
             ],
             [
              0.3333333333333333,
              "#9c179e"
             ],
             [
              0.4444444444444444,
              "#bd3786"
             ],
             [
              0.5555555555555556,
              "#d8576b"
             ],
             [
              0.6666666666666666,
              "#ed7953"
             ],
             [
              0.7777777777777778,
              "#fb9f3a"
             ],
             [
              0.8888888888888888,
              "#fdca26"
             ],
             [
              1,
              "#f0f921"
             ]
            ],
            "type": "contour"
           }
          ],
          "contourcarpet": [
           {
            "colorbar": {
             "outlinewidth": 0,
             "ticks": ""
            },
            "type": "contourcarpet"
           }
          ],
          "heatmap": [
           {
            "colorbar": {
             "outlinewidth": 0,
             "ticks": ""
            },
            "colorscale": [
             [
              0,
              "#0d0887"
             ],
             [
              0.1111111111111111,
              "#46039f"
             ],
             [
              0.2222222222222222,
              "#7201a8"
             ],
             [
              0.3333333333333333,
              "#9c179e"
             ],
             [
              0.4444444444444444,
              "#bd3786"
             ],
             [
              0.5555555555555556,
              "#d8576b"
             ],
             [
              0.6666666666666666,
              "#ed7953"
             ],
             [
              0.7777777777777778,
              "#fb9f3a"
             ],
             [
              0.8888888888888888,
              "#fdca26"
             ],
             [
              1,
              "#f0f921"
             ]
            ],
            "type": "heatmap"
           }
          ],
          "heatmapgl": [
           {
            "colorbar": {
             "outlinewidth": 0,
             "ticks": ""
            },
            "colorscale": [
             [
              0,
              "#0d0887"
             ],
             [
              0.1111111111111111,
              "#46039f"
             ],
             [
              0.2222222222222222,
              "#7201a8"
             ],
             [
              0.3333333333333333,
              "#9c179e"
             ],
             [
              0.4444444444444444,
              "#bd3786"
             ],
             [
              0.5555555555555556,
              "#d8576b"
             ],
             [
              0.6666666666666666,
              "#ed7953"
             ],
             [
              0.7777777777777778,
              "#fb9f3a"
             ],
             [
              0.8888888888888888,
              "#fdca26"
             ],
             [
              1,
              "#f0f921"
             ]
            ],
            "type": "heatmapgl"
           }
          ],
          "histogram": [
           {
            "marker": {
             "pattern": {
              "fillmode": "overlay",
              "size": 10,
              "solidity": 0.2
             }
            },
            "type": "histogram"
           }
          ],
          "histogram2d": [
           {
            "colorbar": {
             "outlinewidth": 0,
             "ticks": ""
            },
            "colorscale": [
             [
              0,
              "#0d0887"
             ],
             [
              0.1111111111111111,
              "#46039f"
             ],
             [
              0.2222222222222222,
              "#7201a8"
             ],
             [
              0.3333333333333333,
              "#9c179e"
             ],
             [
              0.4444444444444444,
              "#bd3786"
             ],
             [
              0.5555555555555556,
              "#d8576b"
             ],
             [
              0.6666666666666666,
              "#ed7953"
             ],
             [
              0.7777777777777778,
              "#fb9f3a"
             ],
             [
              0.8888888888888888,
              "#fdca26"
             ],
             [
              1,
              "#f0f921"
             ]
            ],
            "type": "histogram2d"
           }
          ],
          "histogram2dcontour": [
           {
            "colorbar": {
             "outlinewidth": 0,
             "ticks": ""
            },
            "colorscale": [
             [
              0,
              "#0d0887"
             ],
             [
              0.1111111111111111,
              "#46039f"
             ],
             [
              0.2222222222222222,
              "#7201a8"
             ],
             [
              0.3333333333333333,
              "#9c179e"
             ],
             [
              0.4444444444444444,
              "#bd3786"
             ],
             [
              0.5555555555555556,
              "#d8576b"
             ],
             [
              0.6666666666666666,
              "#ed7953"
             ],
             [
              0.7777777777777778,
              "#fb9f3a"
             ],
             [
              0.8888888888888888,
              "#fdca26"
             ],
             [
              1,
              "#f0f921"
             ]
            ],
            "type": "histogram2dcontour"
           }
          ],
          "mesh3d": [
           {
            "colorbar": {
             "outlinewidth": 0,
             "ticks": ""
            },
            "type": "mesh3d"
           }
          ],
          "parcoords": [
           {
            "line": {
             "colorbar": {
              "outlinewidth": 0,
              "ticks": ""
             }
            },
            "type": "parcoords"
           }
          ],
          "pie": [
           {
            "automargin": true,
            "type": "pie"
           }
          ],
          "scatter": [
           {
            "fillpattern": {
             "fillmode": "overlay",
             "size": 10,
             "solidity": 0.2
            },
            "type": "scatter"
           }
          ],
          "scatter3d": [
           {
            "line": {
             "colorbar": {
              "outlinewidth": 0,
              "ticks": ""
             }
            },
            "marker": {
             "colorbar": {
              "outlinewidth": 0,
              "ticks": ""
             }
            },
            "type": "scatter3d"
           }
          ],
          "scattercarpet": [
           {
            "marker": {
             "colorbar": {
              "outlinewidth": 0,
              "ticks": ""
             }
            },
            "type": "scattercarpet"
           }
          ],
          "scattergeo": [
           {
            "marker": {
             "colorbar": {
              "outlinewidth": 0,
              "ticks": ""
             }
            },
            "type": "scattergeo"
           }
          ],
          "scattergl": [
           {
            "marker": {
             "colorbar": {
              "outlinewidth": 0,
              "ticks": ""
             }
            },
            "type": "scattergl"
           }
          ],
          "scattermapbox": [
           {
            "marker": {
             "colorbar": {
              "outlinewidth": 0,
              "ticks": ""
             }
            },
            "type": "scattermapbox"
           }
          ],
          "scatterpolar": [
           {
            "marker": {
             "colorbar": {
              "outlinewidth": 0,
              "ticks": ""
             }
            },
            "type": "scatterpolar"
           }
          ],
          "scatterpolargl": [
           {
            "marker": {
             "colorbar": {
              "outlinewidth": 0,
              "ticks": ""
             }
            },
            "type": "scatterpolargl"
           }
          ],
          "scatterternary": [
           {
            "marker": {
             "colorbar": {
              "outlinewidth": 0,
              "ticks": ""
             }
            },
            "type": "scatterternary"
           }
          ],
          "surface": [
           {
            "colorbar": {
             "outlinewidth": 0,
             "ticks": ""
            },
            "colorscale": [
             [
              0,
              "#0d0887"
             ],
             [
              0.1111111111111111,
              "#46039f"
             ],
             [
              0.2222222222222222,
              "#7201a8"
             ],
             [
              0.3333333333333333,
              "#9c179e"
             ],
             [
              0.4444444444444444,
              "#bd3786"
             ],
             [
              0.5555555555555556,
              "#d8576b"
             ],
             [
              0.6666666666666666,
              "#ed7953"
             ],
             [
              0.7777777777777778,
              "#fb9f3a"
             ],
             [
              0.8888888888888888,
              "#fdca26"
             ],
             [
              1,
              "#f0f921"
             ]
            ],
            "type": "surface"
           }
          ],
          "table": [
           {
            "cells": {
             "fill": {
              "color": "#EBF0F8"
             },
             "line": {
              "color": "white"
             }
            },
            "header": {
             "fill": {
              "color": "#C8D4E3"
             },
             "line": {
              "color": "white"
             }
            },
            "type": "table"
           }
          ]
         },
         "layout": {
          "annotationdefaults": {
           "arrowcolor": "#2a3f5f",
           "arrowhead": 0,
           "arrowwidth": 1
          },
          "autotypenumbers": "strict",
          "coloraxis": {
           "colorbar": {
            "outlinewidth": 0,
            "ticks": ""
           }
          },
          "colorscale": {
           "diverging": [
            [
             0,
             "#8e0152"
            ],
            [
             0.1,
             "#c51b7d"
            ],
            [
             0.2,
             "#de77ae"
            ],
            [
             0.3,
             "#f1b6da"
            ],
            [
             0.4,
             "#fde0ef"
            ],
            [
             0.5,
             "#f7f7f7"
            ],
            [
             0.6,
             "#e6f5d0"
            ],
            [
             0.7,
             "#b8e186"
            ],
            [
             0.8,
             "#7fbc41"
            ],
            [
             0.9,
             "#4d9221"
            ],
            [
             1,
             "#276419"
            ]
           ],
           "sequential": [
            [
             0,
             "#0d0887"
            ],
            [
             0.1111111111111111,
             "#46039f"
            ],
            [
             0.2222222222222222,
             "#7201a8"
            ],
            [
             0.3333333333333333,
             "#9c179e"
            ],
            [
             0.4444444444444444,
             "#bd3786"
            ],
            [
             0.5555555555555556,
             "#d8576b"
            ],
            [
             0.6666666666666666,
             "#ed7953"
            ],
            [
             0.7777777777777778,
             "#fb9f3a"
            ],
            [
             0.8888888888888888,
             "#fdca26"
            ],
            [
             1,
             "#f0f921"
            ]
           ],
           "sequentialminus": [
            [
             0,
             "#0d0887"
            ],
            [
             0.1111111111111111,
             "#46039f"
            ],
            [
             0.2222222222222222,
             "#7201a8"
            ],
            [
             0.3333333333333333,
             "#9c179e"
            ],
            [
             0.4444444444444444,
             "#bd3786"
            ],
            [
             0.5555555555555556,
             "#d8576b"
            ],
            [
             0.6666666666666666,
             "#ed7953"
            ],
            [
             0.7777777777777778,
             "#fb9f3a"
            ],
            [
             0.8888888888888888,
             "#fdca26"
            ],
            [
             1,
             "#f0f921"
            ]
           ]
          },
          "colorway": [
           "#636efa",
           "#EF553B",
           "#00cc96",
           "#ab63fa",
           "#FFA15A",
           "#19d3f3",
           "#FF6692",
           "#B6E880",
           "#FF97FF",
           "#FECB52"
          ],
          "font": {
           "color": "#2a3f5f"
          },
          "geo": {
           "bgcolor": "white",
           "lakecolor": "white",
           "landcolor": "#E5ECF6",
           "showlakes": true,
           "showland": true,
           "subunitcolor": "white"
          },
          "hoverlabel": {
           "align": "left"
          },
          "hovermode": "closest",
          "mapbox": {
           "style": "light"
          },
          "paper_bgcolor": "white",
          "plot_bgcolor": "#E5ECF6",
          "polar": {
           "angularaxis": {
            "gridcolor": "white",
            "linecolor": "white",
            "ticks": ""
           },
           "bgcolor": "#E5ECF6",
           "radialaxis": {
            "gridcolor": "white",
            "linecolor": "white",
            "ticks": ""
           }
          },
          "scene": {
           "xaxis": {
            "backgroundcolor": "#E5ECF6",
            "gridcolor": "white",
            "gridwidth": 2,
            "linecolor": "white",
            "showbackground": true,
            "ticks": "",
            "zerolinecolor": "white"
           },
           "yaxis": {
            "backgroundcolor": "#E5ECF6",
            "gridcolor": "white",
            "gridwidth": 2,
            "linecolor": "white",
            "showbackground": true,
            "ticks": "",
            "zerolinecolor": "white"
           },
           "zaxis": {
            "backgroundcolor": "#E5ECF6",
            "gridcolor": "white",
            "gridwidth": 2,
            "linecolor": "white",
            "showbackground": true,
            "ticks": "",
            "zerolinecolor": "white"
           }
          },
          "shapedefaults": {
           "line": {
            "color": "#2a3f5f"
           }
          },
          "ternary": {
           "aaxis": {
            "gridcolor": "white",
            "linecolor": "white",
            "ticks": ""
           },
           "baxis": {
            "gridcolor": "white",
            "linecolor": "white",
            "ticks": ""
           },
           "bgcolor": "#E5ECF6",
           "caxis": {
            "gridcolor": "white",
            "linecolor": "white",
            "ticks": ""
           }
          },
          "title": {
           "x": 0.05
          },
          "xaxis": {
           "automargin": true,
           "gridcolor": "white",
           "linecolor": "white",
           "ticks": "",
           "title": {
            "standoff": 15
           },
           "zerolinecolor": "white",
           "zerolinewidth": 2
          },
          "yaxis": {
           "automargin": true,
           "gridcolor": "white",
           "linecolor": "white",
           "ticks": "",
           "title": {
            "standoff": 15
           },
           "zerolinecolor": "white",
           "zerolinewidth": 2
          }
         }
        },
        "title": {
         "text": "UMAP with 4 PCA Components"
        },
        "width": 1000,
        "xaxis": {
         "anchor": "y",
         "domain": [
          0,
          1
         ],
         "showticklabels": false,
         "title": {
          "text": ""
         }
        },
        "yaxis": {
         "anchor": "x",
         "domain": [
          0,
          1
         ],
         "showticklabels": false,
         "title": {
          "text": ""
         }
        }
       }
      }
     },
     "metadata": {},
     "output_type": "display_data"
    },
    {
     "name": "stderr",
     "output_type": "stream",
     "text": [
      "/Users/mitalimittal/anaconda3/lib/python3.11/site-packages/umap/umap_.py:1943: UserWarning:\n",
      "\n",
      "n_jobs value -1 overridden to 1 by setting random_state. Use no seed for parallelism.\n",
      "\n"
     ]
    },
    {
     "data": {
      "application/vnd.plotly.v1+json": {
       "config": {
        "plotlyServerURL": "https://plot.ly"
       },
       "data": [
        {
         "customdata": [
          [
           [
            "Soil",
            "Droughts",
            "Resilience__Psychological",
            "Temperature",
            "Interdisciplinary_Research"
           ]
          ],
          [
           [
            "Phosphorylation",
            "Computational_Biology",
            "Genetics",
            "Hippo_Signaling_Pathway",
            "Cell_Line__Tumor"
           ]
          ],
          [
           [
            "Molecular_Biology",
            "Immunity",
            "Carcinogenesis",
            "T_Lymphocytes",
            "Phosphorylation"
           ]
          ],
          [
           [
            "Biomechanical_Phenomena",
            "Aging",
            "Temperature"
           ]
          ],
          [
           []
          ],
          [
           [
            "Phosphorylation",
            "Ligands",
            "Diabetes_Mellitus",
            "Child",
            "Alleles"
           ]
          ],
          [
           [
            "Obesity",
            "Pregnancy",
            "Chromatin",
            "Multiomics",
            "DNA"
           ]
          ],
          [
           [
            "Induced_Pluripotent_Stem_Cells",
            "Cytokines",
            "Macrophages",
            "Disease_Progression",
            "Monocytes"
           ]
          ],
          [
           [
            "Biodiversity",
            "Ecological_and_Environmental_Phenomena"
           ]
          ],
          [
           [
            "Phylogeny",
            "Clustered_Regularly_Interspaced_Short_Palindromic_Repeats",
            "Evolution__Molecular"
           ]
          ],
          [
           []
          ],
          [
           [
            "Down_Syndrome",
            "Cognitive_Dysfunction",
            "Proteomics",
            "Pregnancy",
            "Amyloid_beta_Peptides"
           ]
          ],
          [
           [
            "Magnetic_Resonance_Imaging"
           ]
          ],
          [
           [
            "Gene_Regulatory_Networks",
            "Chromatin",
            "Multiomics",
            "Cell_Differentiation",
            "Computational_Biology"
           ]
          ],
          [
           [
            "Neuroimaging",
            "Magnetic_Resonance_Imaging",
            "Pregnancy",
            "Computer_Simulation",
            "Adolescent"
           ]
          ],
          [
           [
            "Cell_Line",
            "Computational_Biology",
            "Aging"
           ]
          ],
          [
           [
            "Magnetic_Resonance_Imaging",
            "Temperature",
            "Genotype",
            "Ligands"
           ]
          ],
          [
           [
            "Synapses"
           ]
          ],
          [
           [
            "Diet",
            "Temperature"
           ]
          ],
          [
           [
            "Neuronal_Plasticity",
            "Synapses",
            "Astrocytes",
            "Apoptosis",
            "Proteomics"
           ]
          ],
          [
           [
            "Biomechanical_Phenomena",
            "Resilience__Psychological",
            "Interdisciplinary_Research",
            "Computer_Simulation"
           ]
          ],
          [
           [
            "Neurodegenerative_Diseases",
            "Stem_Cells",
            "Chromatin",
            "Cell_Line"
           ]
          ],
          [
           [
            "Antiviral_Agents",
            "Virus_Diseases",
            "RNA",
            "Cell_Line",
            "Single_Cell_Gene_Expression_Analysis"
           ]
          ],
          [
           [
            "CRISPR_Cas_Systems",
            "Tumor_Microenvironment",
            "Nutrients",
            "Ligands",
            "Alleles"
           ]
          ],
          [
           [
            "Genotype",
            "Alleles",
            "Evolution__Molecular",
            "Chromatin",
            "Gene_Regulatory_Networks"
           ]
          ],
          [
           [
            "Zebrafish",
            "Cell_Communication",
            "Macrophages"
           ]
          ],
          [
           [
            "Temperature",
            "Soil",
            "Resilience__Psychological",
            "Droughts",
            "Computer_Simulation"
           ]
          ],
          [
           [
            "Substance_Related_Disorders"
           ]
          ],
          [
           [
            "Nicotine",
            "Chromatin",
            "Microscopy",
            "Clustered_Regularly_Interspaced_Short_Palindromic_Repeats",
            "Cocaine"
           ]
          ],
          [
           [
            "Biological_Evolution",
            "Computer_Simulation",
            "Computational_Biology",
            "Ecological_and_Environmental_Phenomena",
            "Genetics"
           ]
          ],
          [
           [
            "Astrocytes",
            "Magnetic_Resonance_Imaging",
            "Neuronal_Plasticity",
            "Neuroimaging"
           ]
          ],
          [
           [
            "Cell_Line",
            "Cell_Proliferation",
            "Apoptosis",
            "Child",
            "Heterografts"
           ]
          ],
          [
           [
            "Genetic_Variation",
            "Chromatin",
            "Epigenomics",
            "Temperature",
            "Droughts"
           ]
          ],
          [
           [
            "Diet",
            "Zebrafish",
            "Proteomics",
            "Temperature",
            "Ecological_and_Environmental_Phenomena"
           ]
          ],
          [
           [
            "Proteomics",
            "Mass_Spectrometry",
            "Escherichia_coli",
            "DNA",
            "Antiviral_Agents"
           ]
          ],
          [
           [
            "Aging",
            "Bacteriophages",
            "Immunity",
            "Neurodegenerative_Diseases",
            "Amyloid_beta_Peptides"
           ]
          ],
          [
           [
            "Cryoelectron_Microscopy",
            "Bacteriophages",
            "Microscopy",
            "Gastrointestinal_Microbiome",
            "Anti_Bacterial_Agents"
           ]
          ],
          [
           [
            "Anti_Bacterial_Agents",
            "Pandemics",
            "Nutrients",
            "Molecular_Biology",
            "Ligands"
           ]
          ],
          [
           [
            "Cell_Proliferation",
            "Amyloid_beta_Peptides",
            "Monocytes",
            "Bone_Marrow",
            "Macrophages"
           ]
          ],
          [
           [
            "Ligands",
            "Magnetic_Resonance_Imaging",
            "Neuroimaging",
            "Child",
            "Oxidation_Reduction"
           ]
          ],
          [
           [
            "Amyloid_beta_Peptides",
            "Aged__80_and_over",
            "Cognitive_Dysfunction",
            "Disease_Progression",
            "Neurodegenerative_Diseases"
           ]
          ],
          [
           [
            "Neurodegenerative_Diseases",
            "Anti_Bacterial_Agents",
            "Computer_Simulation",
            "Anti_Infective_Agents",
            "Computational_Biology"
           ]
          ],
          [
           [
            "Pancreatic_Neoplasms",
            "Tumor_Microenvironment",
            "Fibroblasts",
            "Oxidation_Reduction",
            "Liver_Neoplasms"
           ]
          ],
          [
           [
            "Gastrointestinal_Microbiome",
            "Parasites",
            "Ecological_and_Environmental_Phenomena",
            "Genetics",
            "Diet"
           ]
          ],
          [
           [
            "Nitrogenase",
            "Escherichia_coli",
            "Cell_Line__Tumor",
            "Aged__80_and_over",
            "Phylogeny"
           ]
          ],
          [
           [
            "Colorectal_Neoplasms",
            "Incidence",
            "Survival_Rate",
            "Astrocytes",
            "Tumor_Microenvironment"
           ]
          ],
          [
           [
            "Temperature",
            "Ecological_and_Environmental_Phenomena",
            "Soil",
            "Nutrients",
            "Biodiversity"
           ]
          ],
          [
           [
            "Hematopoietic_Stem_Cell_Transplantation",
            "Graft_vs_Host_Disease",
            "T_Lymphocytes__Regulatory",
            "Bone_Marrow",
            "Apoptosis"
           ]
          ],
          [
           [
            "CRISPR_Cas_Systems",
            "Genetics",
            "RNA",
            "Magnetic_Resonance_Imaging",
            "Cell_Death"
           ]
          ],
          [
           [
            "Aged__80_and_over",
            "Cognitive_Dysfunction",
            "Aging",
            "Magnetic_Resonance_Imaging",
            "Incidence"
           ]
          ],
          [
           [
            "Adolescent",
            "Genotype"
           ]
          ],
          [
           [
            "Colorectal_Neoplasms",
            "Nutrients",
            "Carcinogenesis",
            "Heterografts",
            "AMP_Activated_Protein_Kinases"
           ]
          ],
          [
           []
          ],
          [
           [
            "Chromatin",
            "Organoids",
            "Alleles",
            "Phylogeny",
            "Evolution__Molecular"
           ]
          ],
          [
           [
            "Amyloid_beta_Peptides",
            "Proteomics",
            "Aged__80_and_over",
            "Induced_Pluripotent_Stem_Cells",
            "Single_Cell_Gene_Expression_Analysis"
           ]
          ],
          [
           [
            "Temperature",
            "Ecological_and_Environmental_Phenomena",
            "Biodiversity"
           ]
          ],
          [
           [
            "Stem_Cells",
            "RNA",
            "Cell_Differentiation",
            "Computational_Biology",
            "Single_Cell_Analysis"
           ]
          ],
          [
           [
            "COVID_19",
            "Neuroinflammatory_Diseases",
            "Pandemics",
            "Multiple_Sclerosis",
            "Virus_Diseases"
           ]
          ],
          [
           [
            "Aging",
            "Cell_Proliferation",
            "Cues",
            "Cell_Differentiation",
            "Microscopy"
           ]
          ],
          [
           [
            "Parasites",
            "Diet",
            "Epigenomics",
            "Evolution__Molecular",
            "Nutrients"
           ]
          ],
          [
           [
            "Toxoplasma",
            "Parasites",
            "Monocytes",
            "Phagocytosis",
            "Cytokines"
           ]
          ],
          [
           [
            "Genotype",
            "Aging",
            "Macrophages",
            "Persistent_Infection",
            "CRISPR_Cas_Systems"
           ]
          ],
          [
           [
            "Computational_Biology",
            "T_Lymphocytes",
            "Hippo_Signaling_Pathway",
            "Escherichia_coli",
            "Cell_Line__Tumor"
           ]
          ],
          [
           [
            "Aging",
            "Synapses",
            "Computer_Simulation",
            "Memory_Consolidation",
            "Genetics"
           ]
          ],
          [
           [
            "Temperature",
            "Ecological_and_Environmental_Phenomena"
           ]
          ],
          [
           [
            "Amyloid_beta_Peptides",
            "Gastrointestinal_Microbiome",
            "Astrocytes",
            "Disease_Progression",
            "T_Lymphocytes__Regulatory"
           ]
          ],
          [
           [
            "Reward",
            "Substance_Related_Disorders",
            "Genetics",
            "Adolescent",
            "Neuronal_Plasticity"
           ]
          ],
          [
           [
            "Biomechanical_Phenomena",
            "Biological_Evolution",
            "Ecological_and_Environmental_Phenomena",
            "Evolution__Molecular",
            "Phylogeny"
           ]
          ],
          [
           [
            "Temperature",
            "Ecological_and_Environmental_Phenomena",
            "Biodiversity",
            "Genetics",
            "Anti_Bacterial_Agents"
           ]
          ],
          [
           [
            "Soil",
            "Gastrointestinal_Microbiome",
            "Diet",
            "Diabetes_Mellitus",
            "Anti_Bacterial_Agents"
           ]
          ],
          [
           [
            "Biomechanical_Phenomena",
            "Cues",
            "Ecological_and_Environmental_Phenomena",
            "Zebrafish"
           ]
          ],
          [
           [
            "Sleep",
            "Cues",
            "Neuronal_Plasticity",
            "Synapses",
            "Memory_Consolidation"
           ]
          ],
          [
           [
            "Inflammasomes",
            "NLR_Family__Pyrin_Domain_Containing_3_Protein",
            "Cryoelectron_Microscopy",
            "CRISPR_Cas_Systems",
            "Apoptosis"
           ]
          ],
          [
           [
            "Nicotine",
            "Cognitive_Dysfunction"
           ]
          ],
          [
           [
            "Biological_Evolution",
            "Droughts",
            "Alleles",
            "Genetic_Variation",
            "Biodiversity"
           ]
          ],
          [
           [
            "Immunity__Innate",
            "Virus_Diseases",
            "Antiviral_Agents",
            "Incidence",
            "Pandemics"
           ]
          ],
          [
           [
            "Parasites",
            "Toxoplasma",
            "Ligands",
            "Fibroblasts"
           ]
          ],
          [
           [
            "Aging",
            "Amyloid_beta_Peptides",
            "Gene_Regulatory_Networks",
            "Single_Cell_Analysis",
            "Chromatin"
           ]
          ],
          [
           [
            "Cytokines",
            "Flow_Cytometry",
            "Cell_Line",
            "Single_Cell_Gene_Expression_Analysis",
            "T_Lymphocytes"
           ]
          ],
          [
           [
            "Cell_Communication",
            "Gene_Regulatory_Networks",
            "Single_Cell_Analysis",
            "Single_Cell_Gene_Expression_Analysis",
            "Computational_Biology"
           ]
          ],
          [
           [
            "Zebrafish",
            "Pancreatic_Neoplasms",
            "Gastrointestinal_Microbiome",
            "Disease_Progression",
            "Child"
           ]
          ],
          [
           []
          ],
          [
           [
            "Single_Cell_Gene_Expression_Analysis",
            "Stem_Cells",
            "Fibroblasts",
            "Cell_Communication",
            "Aging"
           ]
          ],
          [
           [
            "Evolution__Molecular",
            "Phylogeny",
            "Ecological_and_Environmental_Phenomena",
            "Biological_Evolution",
            "Genetics"
           ]
          ],
          [
           [
            "Triple_Negative_Breast_Neoplasms",
            "Oxidative_Phosphorylation",
            "Mitochondria",
            "Survival_Rate",
            "Immune_Checkpoint_Inhibitors"
           ]
          ],
          [
           [
            "Soil",
            "Droughts",
            "Biological_Evolution",
            "Pandemics",
            "Ecological_and_Environmental_Phenomena"
           ]
          ],
          [
           [
            "Nitrogenase",
            "Oxidation_Reduction",
            "Escherichia_coli",
            "Phylogeny",
            "Evolution__Molecular"
           ]
          ],
          [
           [
            "Nutrients",
            "Biodiversity",
            "Escherichia_coli",
            "Anti_Bacterial_Agents",
            "Evolution__Molecular"
           ]
          ],
          [
           [
            "Sleep",
            "Memory_Consolidation",
            "Cues",
            "Magnetic_Resonance_Imaging",
            "Neuroimaging"
           ]
          ],
          [
           [
            "Zebrafish",
            "Computer_Simulation",
            "Cell_Proliferation",
            "Biomechanical_Phenomena",
            "Biological_Evolution"
           ]
          ],
          [
           [
            "Proteomics",
            "Mass_Spectrometry",
            "Astrocytes",
            "Microscopy",
            "Multiomics"
           ]
          ],
          [
           [
            "Biodiversity",
            "Ecological_and_Environmental_Phenomena",
            "Temperature"
           ]
          ],
          [
           [
            "Aging",
            "Magnetic_Resonance_Imaging",
            "Cognitive_Dysfunction",
            "Neuroimaging",
            "Amyloid_beta_Peptides"
           ]
          ],
          [
           [
            "Biological_Evolution"
           ]
          ],
          [
           [
            "Microscopy",
            "RNA",
            "Stem_Cells",
            "Pregnancy",
            "Escherichia_coli"
           ]
          ],
          [
           [
            "Nicotine",
            "Reward",
            "Pregnancy",
            "Cognitive_Dysfunction",
            "Cytokines"
           ]
          ],
          [
           [
            "Incidence",
            "Cell_Proliferation",
            "Tumor_Microenvironment",
            "RNA",
            "Carcinogenesis"
           ]
          ],
          [
           [
            "White_Matter",
            "Neurodegenerative_Diseases",
            "Neuroinflammatory_Diseases",
            "Astrocytes",
            "Proteomics"
           ]
          ],
          [
           [
            "Biodiversity",
            "Interdisciplinary_Research",
            "Temperature",
            "Resilience__Psychological",
            "Diet"
           ]
          ],
          [
           [
            "Neuroinflammatory_Diseases",
            "Phagocytosis",
            "Neurodegenerative_Diseases",
            "Amyloid_beta_Peptides",
            "Astrocytes"
           ]
          ],
          [
           [
            "Alleles",
            "Mitochondria",
            "Cell_Death",
            "Neurodegenerative_Diseases"
           ]
          ],
          [
           [
            "Induced_Pluripotent_Stem_Cells",
            "Neurodegenerative_Diseases",
            "Clustered_Regularly_Interspaced_Short_Palindromic_Repeats",
            "Disease_Progression",
            "Cognitive_Dysfunction"
           ]
          ],
          [
           [
            "Ecological_and_Environmental_Phenomena",
            "Phylogeny",
            "Computer_Simulation",
            "Alleles"
           ]
          ],
          [
           [
            "CD8_Positive_T_Lymphocytes",
            "Immune_Checkpoint_Inhibitors",
            "Persistent_Infection",
            "Virus_Diseases",
            "HIV_Infections"
           ]
          ],
          [
           [
            "Soil",
            "Temperature",
            "Resilience__Psychological",
            "Droughts",
            "Genotype"
           ]
          ],
          [
           [
            "COVID_19",
            "Child",
            "Magnetic_Resonance_Imaging",
            "Aged__80_and_over",
            "Cell_Differentiation"
           ]
          ],
          [
           [
            "T_Lymphocytes__Regulatory",
            "Multiple_Sclerosis",
            "Stem_Cells",
            "White_Matter",
            "Macrophages"
           ]
          ],
          [
           [
            "Hippo_Signaling_Pathway",
            "Cell_Proliferation",
            "Carcinogenesis",
            "Apoptosis",
            "Child"
           ]
          ],
          [
           [
            "Genetics",
            "Hippo_Signaling_Pathway",
            "Phosphorylation",
            "Cell_Line__Tumor"
           ]
          ],
          [
           [
            "Bacteriophages",
            "Anti_Bacterial_Agents",
            "Gastrointestinal_Microbiome",
            "Escherichia_coli",
            "Nutrients"
           ]
          ],
          [
           [
            "Zebrafish",
            "Gastrointestinal_Microbiome",
            "Bacteriophages",
            "Anti_Bacterial_Agents",
            "Soil"
           ]
          ],
          [
           [
            "Substance_Related_Disorders",
            "Cocaine",
            "Cues",
            "Reward",
            "Neuronal_Plasticity"
           ]
          ],
          [
           [
            "Gastrointestinal_Microbiome",
            "Phylogeny"
           ]
          ],
          [
           [
            "Magnetic_Resonance_Imaging",
            "Neuroimaging",
            "Cognitive_Dysfunction",
            "Interdisciplinary_Research",
            "Child"
           ]
          ]
         ],
         "hovertemplate": "<b>%{hovertext}</b><br><br>Top_Mesh_Terms=%{customdata[0]}<extra></extra>",
         "hovertext": [
          "Allison, Steven",
          "Arora, Kavita",
          "Atwood, Scott",
          "Azizi, Emanuel",
          "Baker, Nicholas",
          "Bardwell, Lee",
          "Blumberg, Bruce",
          "Blurton-Jones, Mathew",
          "Bracken, Matthew",
          "Briscoe, Adriana",
          "Burley, Nancy",
          "Busciglio, Jorge",
          "Cahill, Larry",
          "Cho, Ken",
          "Chrastil, Elizabeth",
          "Cinquin, Olivier",
          "Cocco, Melanie",
          "Cohen-Cory, Susana",
          "Connor, Kwasi",
          "Cramer, Karina",
          "Daley, Monica",
          "Donovan, Peter",
          "Drayman, Nir",
          "Edinger, Aimee",
          "Emerson, J.J.",
          "Eom, Dae Seok",
          "Faiola, Celia",
          "Fortin, Norbert",
          "Fowler, Christie",
          "Frank, Steven",
          "Frostig, Ron",
          "Fruman, David",
          "Gaut, Brandon",
          "German, Donovan",
          "Gershon, Paul",
          "Glabe, Charles",
          "Gonen, Shane",
          "Goulding, Celia",
          "Green, Kim",
          "Green, Michael",
          "Grill, Joshua",
          "Gross, Steven",
          "Halbrook, Christopher",
          "Hammer, Tobin",
          "Hu, Yilin",
          "Hughes, Christopher",
          "Huxman, Travis",
          "Inlay, Matthew",
          "James, Anthony",
          "Kawas, Claudia",
          "Kim, Seungsoo",
          "Kong, Mei",
          "Konieczny, Piotr",
          "Kvon, Evgeny",
          "LaFerla, Frank",
          "Lamb, Joleah",
          "Lander, Arthur",
          "Lane, Thomas",
          "Lara-Gonzalez, Pablo",
          "Lee, Grace",
          "Lodoen, Melissa",
          "Long, Anthony",
          "Luo, Ray",
          "Lur, Gyorgy",
          "Lutterschmidt, Deborah",
          "MacGregor, Grant",
          "Mahler, Stephen",
          "Martinez, Christopher",
          "Martiny, Adam",
          "Martiny, Jennifer",
          "McHenry, Matthew",
          "McNaughton, Bruce",
          "McNulty, Reginald",
          "Metherate, Raju",
          "Mooney, Kailen",
          "Morehouse, Benjamin",
          "Morrissette, Naomi",
          "Mortazavi, Ali",
          "Nicholas, Dequina",
          "Nie, Qing",
          "Parsons, Michael",
          "Pizzagalli, Diego",
          "Plikus, Maksim",
          "Ranz, Jose",
          "Razorenova, Olga",
          "Rebolleda-Gomez, Maria",
          "Ribbe, Markus",
          "Rodriguez Verdugo, Alejandra",
          "Schechtman-Drayman, Eitan",
          "Schilling, Thomas",
          "Shi, Xiaoyu",
          "Sorte, Cascade",
          "Stark, Craig",
          "Striedter, Georg",
          "Suetterlin, Christine",
          "Sumikawa, Katumi",
          "Sun, Sha",
          "Swarup, Vivek",
          "Symons, Celia",
          "Tenner, Andrea",
          "Thompson-Peer, Katherine",
          "Thompson, Leslie",
          "Thornton, Kevin",
          "Tinoco, Roberto",
          "Treseder, Kathleen",
          "Tsai, Shiou-Chuan",
          "Walsh, Craig",
          "Wang, Wenqi",
          "Warrior, Rahul",
          "Whiteson, Katrine",
          "Wiles, Travis",
          "Wood, Marcelo",
          "Xue, Katherine",
          "Yassa, Michael"
         ],
         "legendgroup": "",
         "marker": {
          "color": "#fecc07",
          "symbol": "circle"
         },
         "mode": "markers",
         "name": "",
         "orientation": "v",
         "showlegend": false,
         "type": "scatter",
         "x": [
          5.3664227,
          7.015878,
          7.2251625,
          4.4973764,
          5.1451354,
          6.3821435,
          8.189323,
          8.0829315,
          4.2616196,
          5.6538467,
          5.2972555,
          9.551877,
          9.939803,
          6.968785,
          6.3457065,
          9.491572,
          5.7380786,
          8.61307,
          5.4084864,
          8.206942,
          4.5904136,
          8.277707,
          7.4783025,
          5.9137516,
          5.6791534,
          7.0386305,
          5.1391735,
          5.373299,
          9.448917,
          4.629628,
          8.970231,
          7.6989074,
          4.8819265,
          6.474538,
          7.9246364,
          7.820811,
          7.14601,
          6.367066,
          7.848781,
          8.093354,
          9.456664,
          5.8943777,
          8.001632,
          6.4477654,
          6.3838077,
          6.8206587,
          4.6368365,
          8.432617,
          6.0148478,
          9.847562,
          5.575335,
          7.7859507,
          5.348688,
          5.463941,
          8.8532095,
          4.829601,
          7.907319,
          8.339186,
          8.605213,
          5.3488936,
          8.141708,
          5.140677,
          6.13732,
          5.506574,
          4.362182,
          7.529185,
          7.2731204,
          4.305608,
          4.6280026,
          6.6650615,
          4.366466,
          5.3807154,
          8.1538725,
          9.359648,
          4.7064676,
          5.540885,
          6.5175323,
          8.829478,
          6.2892456,
          7.439676,
          7.1901784,
          5.138185,
          7.5511875,
          4.4627094,
          8.365535,
          4.843538,
          6.621378,
          4.6188993,
          10.04969,
          7.2581997,
          9.672647,
          4.3159847,
          10.110923,
          4.725529,
          7.43995,
          9.466996,
          5.9408865,
          8.298151,
          4.9306746,
          8.206693,
          5.539399,
          8.141166,
          4.2783546,
          8.477477,
          5.4004636,
          7.6012936,
          8.109075,
          8.863428,
          6.800698,
          7.0843945,
          6.9043016,
          9.261253,
          6.497141,
          9.271827
         ],
         "xaxis": "x",
         "y": [
          8.62386,
          13.002153,
          12.32066,
          11.653602,
          11.903501,
          12.990856,
          8.773644,
          8.809062,
          8.09615,
          8.81999,
          11.723094,
          11.541628,
          11.714442,
          12.178931,
          13.151628,
          11.877386,
          12.51428,
          11.970275,
          11.5928,
          11.806452,
          11.689718,
          12.603699,
          12.442021,
          12.483927,
          8.212385,
          8.908326,
          8.105835,
          11.88328,
          12.049973,
          9.287298,
          11.873011,
          12.647676,
          8.611103,
          8.781754,
          12.712669,
          11.958586,
          9.49754,
          11.757155,
          9.683604,
          12.781187,
          11.474261,
          8.414107,
          8.988387,
          9.771111,
          12.816451,
          11.995704,
          8.290805,
          10.330552,
          12.208321,
          11.838574,
          12.073789,
          12.776213,
          11.620516,
          8.270225,
          11.300848,
          8.223127,
          8.7795515,
          9.806938,
          12.491133,
          10.117743,
          9.19536,
          9.019498,
          11.9494095,
          8.288063,
          8.04268,
          10.609557,
          12.785611,
          11.369272,
          8.351351,
          9.937578,
          11.499058,
          12.247654,
          9.527073,
          11.947369,
          9.381955,
          10.475945,
          11.885176,
          12.183982,
          11.473239,
          8.857727,
          9.202947,
          11.751821,
          8.656904,
          8.8065605,
          12.471359,
          9.2652025,
          12.765338,
          8.688754,
          11.998155,
          8.968764,
          11.388749,
          8.021302,
          11.864461,
          9.614508,
          11.911786,
          11.83112,
          10.990098,
          9.590241,
          8.189921,
          10.918716,
          8.117071,
          12.273465,
          8.119485,
          9.699774,
          8.416674,
          12.396161,
          9.036147,
          12.230988,
          13.058366,
          10.157896,
          9.246821,
          12.421815,
          9.590627,
          11.93612
         ],
         "yaxis": "y"
        }
       ],
       "layout": {
        "height": 1000,
        "legend": {
         "tracegroupgap": 0
        },
        "plot_bgcolor": "#255799",
        "template": {
         "data": {
          "bar": [
           {
            "error_x": {
             "color": "#2a3f5f"
            },
            "error_y": {
             "color": "#2a3f5f"
            },
            "marker": {
             "line": {
              "color": "#E5ECF6",
              "width": 0.5
             },
             "pattern": {
              "fillmode": "overlay",
              "size": 10,
              "solidity": 0.2
             }
            },
            "type": "bar"
           }
          ],
          "barpolar": [
           {
            "marker": {
             "line": {
              "color": "#E5ECF6",
              "width": 0.5
             },
             "pattern": {
              "fillmode": "overlay",
              "size": 10,
              "solidity": 0.2
             }
            },
            "type": "barpolar"
           }
          ],
          "carpet": [
           {
            "aaxis": {
             "endlinecolor": "#2a3f5f",
             "gridcolor": "white",
             "linecolor": "white",
             "minorgridcolor": "white",
             "startlinecolor": "#2a3f5f"
            },
            "baxis": {
             "endlinecolor": "#2a3f5f",
             "gridcolor": "white",
             "linecolor": "white",
             "minorgridcolor": "white",
             "startlinecolor": "#2a3f5f"
            },
            "type": "carpet"
           }
          ],
          "choropleth": [
           {
            "colorbar": {
             "outlinewidth": 0,
             "ticks": ""
            },
            "type": "choropleth"
           }
          ],
          "contour": [
           {
            "colorbar": {
             "outlinewidth": 0,
             "ticks": ""
            },
            "colorscale": [
             [
              0,
              "#0d0887"
             ],
             [
              0.1111111111111111,
              "#46039f"
             ],
             [
              0.2222222222222222,
              "#7201a8"
             ],
             [
              0.3333333333333333,
              "#9c179e"
             ],
             [
              0.4444444444444444,
              "#bd3786"
             ],
             [
              0.5555555555555556,
              "#d8576b"
             ],
             [
              0.6666666666666666,
              "#ed7953"
             ],
             [
              0.7777777777777778,
              "#fb9f3a"
             ],
             [
              0.8888888888888888,
              "#fdca26"
             ],
             [
              1,
              "#f0f921"
             ]
            ],
            "type": "contour"
           }
          ],
          "contourcarpet": [
           {
            "colorbar": {
             "outlinewidth": 0,
             "ticks": ""
            },
            "type": "contourcarpet"
           }
          ],
          "heatmap": [
           {
            "colorbar": {
             "outlinewidth": 0,
             "ticks": ""
            },
            "colorscale": [
             [
              0,
              "#0d0887"
             ],
             [
              0.1111111111111111,
              "#46039f"
             ],
             [
              0.2222222222222222,
              "#7201a8"
             ],
             [
              0.3333333333333333,
              "#9c179e"
             ],
             [
              0.4444444444444444,
              "#bd3786"
             ],
             [
              0.5555555555555556,
              "#d8576b"
             ],
             [
              0.6666666666666666,
              "#ed7953"
             ],
             [
              0.7777777777777778,
              "#fb9f3a"
             ],
             [
              0.8888888888888888,
              "#fdca26"
             ],
             [
              1,
              "#f0f921"
             ]
            ],
            "type": "heatmap"
           }
          ],
          "heatmapgl": [
           {
            "colorbar": {
             "outlinewidth": 0,
             "ticks": ""
            },
            "colorscale": [
             [
              0,
              "#0d0887"
             ],
             [
              0.1111111111111111,
              "#46039f"
             ],
             [
              0.2222222222222222,
              "#7201a8"
             ],
             [
              0.3333333333333333,
              "#9c179e"
             ],
             [
              0.4444444444444444,
              "#bd3786"
             ],
             [
              0.5555555555555556,
              "#d8576b"
             ],
             [
              0.6666666666666666,
              "#ed7953"
             ],
             [
              0.7777777777777778,
              "#fb9f3a"
             ],
             [
              0.8888888888888888,
              "#fdca26"
             ],
             [
              1,
              "#f0f921"
             ]
            ],
            "type": "heatmapgl"
           }
          ],
          "histogram": [
           {
            "marker": {
             "pattern": {
              "fillmode": "overlay",
              "size": 10,
              "solidity": 0.2
             }
            },
            "type": "histogram"
           }
          ],
          "histogram2d": [
           {
            "colorbar": {
             "outlinewidth": 0,
             "ticks": ""
            },
            "colorscale": [
             [
              0,
              "#0d0887"
             ],
             [
              0.1111111111111111,
              "#46039f"
             ],
             [
              0.2222222222222222,
              "#7201a8"
             ],
             [
              0.3333333333333333,
              "#9c179e"
             ],
             [
              0.4444444444444444,
              "#bd3786"
             ],
             [
              0.5555555555555556,
              "#d8576b"
             ],
             [
              0.6666666666666666,
              "#ed7953"
             ],
             [
              0.7777777777777778,
              "#fb9f3a"
             ],
             [
              0.8888888888888888,
              "#fdca26"
             ],
             [
              1,
              "#f0f921"
             ]
            ],
            "type": "histogram2d"
           }
          ],
          "histogram2dcontour": [
           {
            "colorbar": {
             "outlinewidth": 0,
             "ticks": ""
            },
            "colorscale": [
             [
              0,
              "#0d0887"
             ],
             [
              0.1111111111111111,
              "#46039f"
             ],
             [
              0.2222222222222222,
              "#7201a8"
             ],
             [
              0.3333333333333333,
              "#9c179e"
             ],
             [
              0.4444444444444444,
              "#bd3786"
             ],
             [
              0.5555555555555556,
              "#d8576b"
             ],
             [
              0.6666666666666666,
              "#ed7953"
             ],
             [
              0.7777777777777778,
              "#fb9f3a"
             ],
             [
              0.8888888888888888,
              "#fdca26"
             ],
             [
              1,
              "#f0f921"
             ]
            ],
            "type": "histogram2dcontour"
           }
          ],
          "mesh3d": [
           {
            "colorbar": {
             "outlinewidth": 0,
             "ticks": ""
            },
            "type": "mesh3d"
           }
          ],
          "parcoords": [
           {
            "line": {
             "colorbar": {
              "outlinewidth": 0,
              "ticks": ""
             }
            },
            "type": "parcoords"
           }
          ],
          "pie": [
           {
            "automargin": true,
            "type": "pie"
           }
          ],
          "scatter": [
           {
            "fillpattern": {
             "fillmode": "overlay",
             "size": 10,
             "solidity": 0.2
            },
            "type": "scatter"
           }
          ],
          "scatter3d": [
           {
            "line": {
             "colorbar": {
              "outlinewidth": 0,
              "ticks": ""
             }
            },
            "marker": {
             "colorbar": {
              "outlinewidth": 0,
              "ticks": ""
             }
            },
            "type": "scatter3d"
           }
          ],
          "scattercarpet": [
           {
            "marker": {
             "colorbar": {
              "outlinewidth": 0,
              "ticks": ""
             }
            },
            "type": "scattercarpet"
           }
          ],
          "scattergeo": [
           {
            "marker": {
             "colorbar": {
              "outlinewidth": 0,
              "ticks": ""
             }
            },
            "type": "scattergeo"
           }
          ],
          "scattergl": [
           {
            "marker": {
             "colorbar": {
              "outlinewidth": 0,
              "ticks": ""
             }
            },
            "type": "scattergl"
           }
          ],
          "scattermapbox": [
           {
            "marker": {
             "colorbar": {
              "outlinewidth": 0,
              "ticks": ""
             }
            },
            "type": "scattermapbox"
           }
          ],
          "scatterpolar": [
           {
            "marker": {
             "colorbar": {
              "outlinewidth": 0,
              "ticks": ""
             }
            },
            "type": "scatterpolar"
           }
          ],
          "scatterpolargl": [
           {
            "marker": {
             "colorbar": {
              "outlinewidth": 0,
              "ticks": ""
             }
            },
            "type": "scatterpolargl"
           }
          ],
          "scatterternary": [
           {
            "marker": {
             "colorbar": {
              "outlinewidth": 0,
              "ticks": ""
             }
            },
            "type": "scatterternary"
           }
          ],
          "surface": [
           {
            "colorbar": {
             "outlinewidth": 0,
             "ticks": ""
            },
            "colorscale": [
             [
              0,
              "#0d0887"
             ],
             [
              0.1111111111111111,
              "#46039f"
             ],
             [
              0.2222222222222222,
              "#7201a8"
             ],
             [
              0.3333333333333333,
              "#9c179e"
             ],
             [
              0.4444444444444444,
              "#bd3786"
             ],
             [
              0.5555555555555556,
              "#d8576b"
             ],
             [
              0.6666666666666666,
              "#ed7953"
             ],
             [
              0.7777777777777778,
              "#fb9f3a"
             ],
             [
              0.8888888888888888,
              "#fdca26"
             ],
             [
              1,
              "#f0f921"
             ]
            ],
            "type": "surface"
           }
          ],
          "table": [
           {
            "cells": {
             "fill": {
              "color": "#EBF0F8"
             },
             "line": {
              "color": "white"
             }
            },
            "header": {
             "fill": {
              "color": "#C8D4E3"
             },
             "line": {
              "color": "white"
             }
            },
            "type": "table"
           }
          ]
         },
         "layout": {
          "annotationdefaults": {
           "arrowcolor": "#2a3f5f",
           "arrowhead": 0,
           "arrowwidth": 1
          },
          "autotypenumbers": "strict",
          "coloraxis": {
           "colorbar": {
            "outlinewidth": 0,
            "ticks": ""
           }
          },
          "colorscale": {
           "diverging": [
            [
             0,
             "#8e0152"
            ],
            [
             0.1,
             "#c51b7d"
            ],
            [
             0.2,
             "#de77ae"
            ],
            [
             0.3,
             "#f1b6da"
            ],
            [
             0.4,
             "#fde0ef"
            ],
            [
             0.5,
             "#f7f7f7"
            ],
            [
             0.6,
             "#e6f5d0"
            ],
            [
             0.7,
             "#b8e186"
            ],
            [
             0.8,
             "#7fbc41"
            ],
            [
             0.9,
             "#4d9221"
            ],
            [
             1,
             "#276419"
            ]
           ],
           "sequential": [
            [
             0,
             "#0d0887"
            ],
            [
             0.1111111111111111,
             "#46039f"
            ],
            [
             0.2222222222222222,
             "#7201a8"
            ],
            [
             0.3333333333333333,
             "#9c179e"
            ],
            [
             0.4444444444444444,
             "#bd3786"
            ],
            [
             0.5555555555555556,
             "#d8576b"
            ],
            [
             0.6666666666666666,
             "#ed7953"
            ],
            [
             0.7777777777777778,
             "#fb9f3a"
            ],
            [
             0.8888888888888888,
             "#fdca26"
            ],
            [
             1,
             "#f0f921"
            ]
           ],
           "sequentialminus": [
            [
             0,
             "#0d0887"
            ],
            [
             0.1111111111111111,
             "#46039f"
            ],
            [
             0.2222222222222222,
             "#7201a8"
            ],
            [
             0.3333333333333333,
             "#9c179e"
            ],
            [
             0.4444444444444444,
             "#bd3786"
            ],
            [
             0.5555555555555556,
             "#d8576b"
            ],
            [
             0.6666666666666666,
             "#ed7953"
            ],
            [
             0.7777777777777778,
             "#fb9f3a"
            ],
            [
             0.8888888888888888,
             "#fdca26"
            ],
            [
             1,
             "#f0f921"
            ]
           ]
          },
          "colorway": [
           "#636efa",
           "#EF553B",
           "#00cc96",
           "#ab63fa",
           "#FFA15A",
           "#19d3f3",
           "#FF6692",
           "#B6E880",
           "#FF97FF",
           "#FECB52"
          ],
          "font": {
           "color": "#2a3f5f"
          },
          "geo": {
           "bgcolor": "white",
           "lakecolor": "white",
           "landcolor": "#E5ECF6",
           "showlakes": true,
           "showland": true,
           "subunitcolor": "white"
          },
          "hoverlabel": {
           "align": "left"
          },
          "hovermode": "closest",
          "mapbox": {
           "style": "light"
          },
          "paper_bgcolor": "white",
          "plot_bgcolor": "#E5ECF6",
          "polar": {
           "angularaxis": {
            "gridcolor": "white",
            "linecolor": "white",
            "ticks": ""
           },
           "bgcolor": "#E5ECF6",
           "radialaxis": {
            "gridcolor": "white",
            "linecolor": "white",
            "ticks": ""
           }
          },
          "scene": {
           "xaxis": {
            "backgroundcolor": "#E5ECF6",
            "gridcolor": "white",
            "gridwidth": 2,
            "linecolor": "white",
            "showbackground": true,
            "ticks": "",
            "zerolinecolor": "white"
           },
           "yaxis": {
            "backgroundcolor": "#E5ECF6",
            "gridcolor": "white",
            "gridwidth": 2,
            "linecolor": "white",
            "showbackground": true,
            "ticks": "",
            "zerolinecolor": "white"
           },
           "zaxis": {
            "backgroundcolor": "#E5ECF6",
            "gridcolor": "white",
            "gridwidth": 2,
            "linecolor": "white",
            "showbackground": true,
            "ticks": "",
            "zerolinecolor": "white"
           }
          },
          "shapedefaults": {
           "line": {
            "color": "#2a3f5f"
           }
          },
          "ternary": {
           "aaxis": {
            "gridcolor": "white",
            "linecolor": "white",
            "ticks": ""
           },
           "baxis": {
            "gridcolor": "white",
            "linecolor": "white",
            "ticks": ""
           },
           "bgcolor": "#E5ECF6",
           "caxis": {
            "gridcolor": "white",
            "linecolor": "white",
            "ticks": ""
           }
          },
          "title": {
           "x": 0.05
          },
          "xaxis": {
           "automargin": true,
           "gridcolor": "white",
           "linecolor": "white",
           "ticks": "",
           "title": {
            "standoff": 15
           },
           "zerolinecolor": "white",
           "zerolinewidth": 2
          },
          "yaxis": {
           "automargin": true,
           "gridcolor": "white",
           "linecolor": "white",
           "ticks": "",
           "title": {
            "standoff": 15
           },
           "zerolinecolor": "white",
           "zerolinewidth": 2
          }
         }
        },
        "title": {
         "text": "UMAP with 5 PCA Components"
        },
        "width": 1000,
        "xaxis": {
         "anchor": "y",
         "domain": [
          0,
          1
         ],
         "showticklabels": false,
         "title": {
          "text": ""
         }
        },
        "yaxis": {
         "anchor": "x",
         "domain": [
          0,
          1
         ],
         "showticklabels": false,
         "title": {
          "text": ""
         }
        }
       }
      }
     },
     "metadata": {},
     "output_type": "display_data"
    },
    {
     "name": "stderr",
     "output_type": "stream",
     "text": [
      "/Users/mitalimittal/anaconda3/lib/python3.11/site-packages/umap/umap_.py:1943: UserWarning:\n",
      "\n",
      "n_jobs value -1 overridden to 1 by setting random_state. Use no seed for parallelism.\n",
      "\n"
     ]
    },
    {
     "data": {
      "application/vnd.plotly.v1+json": {
       "config": {
        "plotlyServerURL": "https://plot.ly"
       },
       "data": [
        {
         "customdata": [
          [
           [
            "Soil",
            "Droughts",
            "Resilience__Psychological",
            "Temperature",
            "Interdisciplinary_Research"
           ]
          ],
          [
           [
            "Phosphorylation",
            "Computational_Biology",
            "Genetics",
            "Hippo_Signaling_Pathway",
            "Cell_Line__Tumor"
           ]
          ],
          [
           [
            "Molecular_Biology",
            "Immunity",
            "Carcinogenesis",
            "T_Lymphocytes",
            "Phosphorylation"
           ]
          ],
          [
           [
            "Biomechanical_Phenomena",
            "Aging",
            "Temperature"
           ]
          ],
          [
           []
          ],
          [
           [
            "Phosphorylation",
            "Ligands",
            "Diabetes_Mellitus",
            "Child",
            "Alleles"
           ]
          ],
          [
           [
            "Obesity",
            "Pregnancy",
            "Chromatin",
            "Multiomics",
            "DNA"
           ]
          ],
          [
           [
            "Induced_Pluripotent_Stem_Cells",
            "Cytokines",
            "Macrophages",
            "Disease_Progression",
            "Monocytes"
           ]
          ],
          [
           [
            "Biodiversity",
            "Ecological_and_Environmental_Phenomena"
           ]
          ],
          [
           [
            "Phylogeny",
            "Clustered_Regularly_Interspaced_Short_Palindromic_Repeats",
            "Evolution__Molecular"
           ]
          ],
          [
           []
          ],
          [
           [
            "Down_Syndrome",
            "Cognitive_Dysfunction",
            "Proteomics",
            "Pregnancy",
            "Amyloid_beta_Peptides"
           ]
          ],
          [
           [
            "Magnetic_Resonance_Imaging"
           ]
          ],
          [
           [
            "Gene_Regulatory_Networks",
            "Chromatin",
            "Multiomics",
            "Cell_Differentiation",
            "Computational_Biology"
           ]
          ],
          [
           [
            "Neuroimaging",
            "Magnetic_Resonance_Imaging",
            "Pregnancy",
            "Computer_Simulation",
            "Adolescent"
           ]
          ],
          [
           [
            "Cell_Line",
            "Computational_Biology",
            "Aging"
           ]
          ],
          [
           [
            "Magnetic_Resonance_Imaging",
            "Temperature",
            "Genotype",
            "Ligands"
           ]
          ],
          [
           [
            "Synapses"
           ]
          ],
          [
           [
            "Diet",
            "Temperature"
           ]
          ],
          [
           [
            "Neuronal_Plasticity",
            "Synapses",
            "Astrocytes",
            "Apoptosis",
            "Proteomics"
           ]
          ],
          [
           [
            "Biomechanical_Phenomena",
            "Resilience__Psychological",
            "Interdisciplinary_Research",
            "Computer_Simulation"
           ]
          ],
          [
           [
            "Neurodegenerative_Diseases",
            "Stem_Cells",
            "Chromatin",
            "Cell_Line"
           ]
          ],
          [
           [
            "Antiviral_Agents",
            "Virus_Diseases",
            "RNA",
            "Cell_Line",
            "Single_Cell_Gene_Expression_Analysis"
           ]
          ],
          [
           [
            "CRISPR_Cas_Systems",
            "Tumor_Microenvironment",
            "Nutrients",
            "Ligands",
            "Alleles"
           ]
          ],
          [
           [
            "Genotype",
            "Alleles",
            "Evolution__Molecular",
            "Chromatin",
            "Gene_Regulatory_Networks"
           ]
          ],
          [
           [
            "Zebrafish",
            "Cell_Communication",
            "Macrophages"
           ]
          ],
          [
           [
            "Temperature",
            "Soil",
            "Resilience__Psychological",
            "Droughts",
            "Computer_Simulation"
           ]
          ],
          [
           [
            "Substance_Related_Disorders"
           ]
          ],
          [
           [
            "Nicotine",
            "Chromatin",
            "Microscopy",
            "Clustered_Regularly_Interspaced_Short_Palindromic_Repeats",
            "Cocaine"
           ]
          ],
          [
           [
            "Biological_Evolution",
            "Computer_Simulation",
            "Computational_Biology",
            "Ecological_and_Environmental_Phenomena",
            "Genetics"
           ]
          ],
          [
           [
            "Astrocytes",
            "Magnetic_Resonance_Imaging",
            "Neuronal_Plasticity",
            "Neuroimaging"
           ]
          ],
          [
           [
            "Cell_Line",
            "Cell_Proliferation",
            "Apoptosis",
            "Child",
            "Heterografts"
           ]
          ],
          [
           [
            "Genetic_Variation",
            "Chromatin",
            "Epigenomics",
            "Temperature",
            "Droughts"
           ]
          ],
          [
           [
            "Diet",
            "Zebrafish",
            "Proteomics",
            "Temperature",
            "Ecological_and_Environmental_Phenomena"
           ]
          ],
          [
           [
            "Proteomics",
            "Mass_Spectrometry",
            "Escherichia_coli",
            "DNA",
            "Antiviral_Agents"
           ]
          ],
          [
           [
            "Aging",
            "Bacteriophages",
            "Immunity",
            "Neurodegenerative_Diseases",
            "Amyloid_beta_Peptides"
           ]
          ],
          [
           [
            "Cryoelectron_Microscopy",
            "Bacteriophages",
            "Microscopy",
            "Gastrointestinal_Microbiome",
            "Anti_Bacterial_Agents"
           ]
          ],
          [
           [
            "Anti_Bacterial_Agents",
            "Pandemics",
            "Nutrients",
            "Molecular_Biology",
            "Ligands"
           ]
          ],
          [
           [
            "Cell_Proliferation",
            "Amyloid_beta_Peptides",
            "Monocytes",
            "Bone_Marrow",
            "Macrophages"
           ]
          ],
          [
           [
            "Ligands",
            "Magnetic_Resonance_Imaging",
            "Neuroimaging",
            "Child",
            "Oxidation_Reduction"
           ]
          ],
          [
           [
            "Amyloid_beta_Peptides",
            "Aged__80_and_over",
            "Cognitive_Dysfunction",
            "Disease_Progression",
            "Neurodegenerative_Diseases"
           ]
          ],
          [
           [
            "Neurodegenerative_Diseases",
            "Anti_Bacterial_Agents",
            "Computer_Simulation",
            "Anti_Infective_Agents",
            "Computational_Biology"
           ]
          ],
          [
           [
            "Pancreatic_Neoplasms",
            "Tumor_Microenvironment",
            "Fibroblasts",
            "Oxidation_Reduction",
            "Liver_Neoplasms"
           ]
          ],
          [
           [
            "Gastrointestinal_Microbiome",
            "Parasites",
            "Ecological_and_Environmental_Phenomena",
            "Genetics",
            "Diet"
           ]
          ],
          [
           [
            "Nitrogenase",
            "Escherichia_coli",
            "Cell_Line__Tumor",
            "Aged__80_and_over",
            "Phylogeny"
           ]
          ],
          [
           [
            "Colorectal_Neoplasms",
            "Incidence",
            "Survival_Rate",
            "Astrocytes",
            "Tumor_Microenvironment"
           ]
          ],
          [
           [
            "Temperature",
            "Ecological_and_Environmental_Phenomena",
            "Soil",
            "Nutrients",
            "Biodiversity"
           ]
          ],
          [
           [
            "Hematopoietic_Stem_Cell_Transplantation",
            "Graft_vs_Host_Disease",
            "T_Lymphocytes__Regulatory",
            "Bone_Marrow",
            "Apoptosis"
           ]
          ],
          [
           [
            "CRISPR_Cas_Systems",
            "Genetics",
            "RNA",
            "Magnetic_Resonance_Imaging",
            "Cell_Death"
           ]
          ],
          [
           [
            "Aged__80_and_over",
            "Cognitive_Dysfunction",
            "Aging",
            "Magnetic_Resonance_Imaging",
            "Incidence"
           ]
          ],
          [
           [
            "Adolescent",
            "Genotype"
           ]
          ],
          [
           [
            "Colorectal_Neoplasms",
            "Nutrients",
            "Carcinogenesis",
            "Heterografts",
            "AMP_Activated_Protein_Kinases"
           ]
          ],
          [
           []
          ],
          [
           [
            "Chromatin",
            "Organoids",
            "Alleles",
            "Phylogeny",
            "Evolution__Molecular"
           ]
          ],
          [
           [
            "Amyloid_beta_Peptides",
            "Proteomics",
            "Aged__80_and_over",
            "Induced_Pluripotent_Stem_Cells",
            "Single_Cell_Gene_Expression_Analysis"
           ]
          ],
          [
           [
            "Temperature",
            "Ecological_and_Environmental_Phenomena",
            "Biodiversity"
           ]
          ],
          [
           [
            "Stem_Cells",
            "RNA",
            "Cell_Differentiation",
            "Computational_Biology",
            "Single_Cell_Analysis"
           ]
          ],
          [
           [
            "COVID_19",
            "Neuroinflammatory_Diseases",
            "Pandemics",
            "Multiple_Sclerosis",
            "Virus_Diseases"
           ]
          ],
          [
           [
            "Aging",
            "Cell_Proliferation",
            "Cues",
            "Cell_Differentiation",
            "Microscopy"
           ]
          ],
          [
           [
            "Parasites",
            "Diet",
            "Epigenomics",
            "Evolution__Molecular",
            "Nutrients"
           ]
          ],
          [
           [
            "Toxoplasma",
            "Parasites",
            "Monocytes",
            "Phagocytosis",
            "Cytokines"
           ]
          ],
          [
           [
            "Genotype",
            "Aging",
            "Macrophages",
            "Persistent_Infection",
            "CRISPR_Cas_Systems"
           ]
          ],
          [
           [
            "Computational_Biology",
            "T_Lymphocytes",
            "Hippo_Signaling_Pathway",
            "Escherichia_coli",
            "Cell_Line__Tumor"
           ]
          ],
          [
           [
            "Aging",
            "Synapses",
            "Computer_Simulation",
            "Memory_Consolidation",
            "Genetics"
           ]
          ],
          [
           [
            "Temperature",
            "Ecological_and_Environmental_Phenomena"
           ]
          ],
          [
           [
            "Amyloid_beta_Peptides",
            "Gastrointestinal_Microbiome",
            "Astrocytes",
            "Disease_Progression",
            "T_Lymphocytes__Regulatory"
           ]
          ],
          [
           [
            "Reward",
            "Substance_Related_Disorders",
            "Genetics",
            "Adolescent",
            "Neuronal_Plasticity"
           ]
          ],
          [
           [
            "Biomechanical_Phenomena",
            "Biological_Evolution",
            "Ecological_and_Environmental_Phenomena",
            "Evolution__Molecular",
            "Phylogeny"
           ]
          ],
          [
           [
            "Temperature",
            "Ecological_and_Environmental_Phenomena",
            "Biodiversity",
            "Genetics",
            "Anti_Bacterial_Agents"
           ]
          ],
          [
           [
            "Soil",
            "Gastrointestinal_Microbiome",
            "Diet",
            "Diabetes_Mellitus",
            "Anti_Bacterial_Agents"
           ]
          ],
          [
           [
            "Biomechanical_Phenomena",
            "Cues",
            "Ecological_and_Environmental_Phenomena",
            "Zebrafish"
           ]
          ],
          [
           [
            "Sleep",
            "Cues",
            "Neuronal_Plasticity",
            "Synapses",
            "Memory_Consolidation"
           ]
          ],
          [
           [
            "Inflammasomes",
            "NLR_Family__Pyrin_Domain_Containing_3_Protein",
            "Cryoelectron_Microscopy",
            "CRISPR_Cas_Systems",
            "Apoptosis"
           ]
          ],
          [
           [
            "Nicotine",
            "Cognitive_Dysfunction"
           ]
          ],
          [
           [
            "Biological_Evolution",
            "Droughts",
            "Alleles",
            "Genetic_Variation",
            "Biodiversity"
           ]
          ],
          [
           [
            "Immunity__Innate",
            "Virus_Diseases",
            "Antiviral_Agents",
            "Incidence",
            "Pandemics"
           ]
          ],
          [
           [
            "Parasites",
            "Toxoplasma",
            "Ligands",
            "Fibroblasts"
           ]
          ],
          [
           [
            "Aging",
            "Amyloid_beta_Peptides",
            "Gene_Regulatory_Networks",
            "Single_Cell_Analysis",
            "Chromatin"
           ]
          ],
          [
           [
            "Cytokines",
            "Flow_Cytometry",
            "Cell_Line",
            "Single_Cell_Gene_Expression_Analysis",
            "T_Lymphocytes"
           ]
          ],
          [
           [
            "Cell_Communication",
            "Gene_Regulatory_Networks",
            "Single_Cell_Analysis",
            "Single_Cell_Gene_Expression_Analysis",
            "Computational_Biology"
           ]
          ],
          [
           [
            "Zebrafish",
            "Pancreatic_Neoplasms",
            "Gastrointestinal_Microbiome",
            "Disease_Progression",
            "Child"
           ]
          ],
          [
           []
          ],
          [
           [
            "Single_Cell_Gene_Expression_Analysis",
            "Stem_Cells",
            "Fibroblasts",
            "Cell_Communication",
            "Aging"
           ]
          ],
          [
           [
            "Evolution__Molecular",
            "Phylogeny",
            "Ecological_and_Environmental_Phenomena",
            "Biological_Evolution",
            "Genetics"
           ]
          ],
          [
           [
            "Triple_Negative_Breast_Neoplasms",
            "Oxidative_Phosphorylation",
            "Mitochondria",
            "Survival_Rate",
            "Immune_Checkpoint_Inhibitors"
           ]
          ],
          [
           [
            "Soil",
            "Droughts",
            "Biological_Evolution",
            "Pandemics",
            "Ecological_and_Environmental_Phenomena"
           ]
          ],
          [
           [
            "Nitrogenase",
            "Oxidation_Reduction",
            "Escherichia_coli",
            "Phylogeny",
            "Evolution__Molecular"
           ]
          ],
          [
           [
            "Nutrients",
            "Biodiversity",
            "Escherichia_coli",
            "Anti_Bacterial_Agents",
            "Evolution__Molecular"
           ]
          ],
          [
           [
            "Sleep",
            "Memory_Consolidation",
            "Cues",
            "Magnetic_Resonance_Imaging",
            "Neuroimaging"
           ]
          ],
          [
           [
            "Zebrafish",
            "Computer_Simulation",
            "Cell_Proliferation",
            "Biomechanical_Phenomena",
            "Biological_Evolution"
           ]
          ],
          [
           [
            "Proteomics",
            "Mass_Spectrometry",
            "Astrocytes",
            "Microscopy",
            "Multiomics"
           ]
          ],
          [
           [
            "Biodiversity",
            "Ecological_and_Environmental_Phenomena",
            "Temperature"
           ]
          ],
          [
           [
            "Aging",
            "Magnetic_Resonance_Imaging",
            "Cognitive_Dysfunction",
            "Neuroimaging",
            "Amyloid_beta_Peptides"
           ]
          ],
          [
           [
            "Biological_Evolution"
           ]
          ],
          [
           [
            "Microscopy",
            "RNA",
            "Stem_Cells",
            "Pregnancy",
            "Escherichia_coli"
           ]
          ],
          [
           [
            "Nicotine",
            "Reward",
            "Pregnancy",
            "Cognitive_Dysfunction",
            "Cytokines"
           ]
          ],
          [
           [
            "Incidence",
            "Cell_Proliferation",
            "Tumor_Microenvironment",
            "RNA",
            "Carcinogenesis"
           ]
          ],
          [
           [
            "White_Matter",
            "Neurodegenerative_Diseases",
            "Neuroinflammatory_Diseases",
            "Astrocytes",
            "Proteomics"
           ]
          ],
          [
           [
            "Biodiversity",
            "Interdisciplinary_Research",
            "Temperature",
            "Resilience__Psychological",
            "Diet"
           ]
          ],
          [
           [
            "Neuroinflammatory_Diseases",
            "Phagocytosis",
            "Neurodegenerative_Diseases",
            "Amyloid_beta_Peptides",
            "Astrocytes"
           ]
          ],
          [
           [
            "Alleles",
            "Mitochondria",
            "Cell_Death",
            "Neurodegenerative_Diseases"
           ]
          ],
          [
           [
            "Induced_Pluripotent_Stem_Cells",
            "Neurodegenerative_Diseases",
            "Clustered_Regularly_Interspaced_Short_Palindromic_Repeats",
            "Disease_Progression",
            "Cognitive_Dysfunction"
           ]
          ],
          [
           [
            "Ecological_and_Environmental_Phenomena",
            "Phylogeny",
            "Computer_Simulation",
            "Alleles"
           ]
          ],
          [
           [
            "CD8_Positive_T_Lymphocytes",
            "Immune_Checkpoint_Inhibitors",
            "Persistent_Infection",
            "Virus_Diseases",
            "HIV_Infections"
           ]
          ],
          [
           [
            "Soil",
            "Temperature",
            "Resilience__Psychological",
            "Droughts",
            "Genotype"
           ]
          ],
          [
           [
            "COVID_19",
            "Child",
            "Magnetic_Resonance_Imaging",
            "Aged__80_and_over",
            "Cell_Differentiation"
           ]
          ],
          [
           [
            "T_Lymphocytes__Regulatory",
            "Multiple_Sclerosis",
            "Stem_Cells",
            "White_Matter",
            "Macrophages"
           ]
          ],
          [
           [
            "Hippo_Signaling_Pathway",
            "Cell_Proliferation",
            "Carcinogenesis",
            "Apoptosis",
            "Child"
           ]
          ],
          [
           [
            "Genetics",
            "Hippo_Signaling_Pathway",
            "Phosphorylation",
            "Cell_Line__Tumor"
           ]
          ],
          [
           [
            "Bacteriophages",
            "Anti_Bacterial_Agents",
            "Gastrointestinal_Microbiome",
            "Escherichia_coli",
            "Nutrients"
           ]
          ],
          [
           [
            "Zebrafish",
            "Gastrointestinal_Microbiome",
            "Bacteriophages",
            "Anti_Bacterial_Agents",
            "Soil"
           ]
          ],
          [
           [
            "Substance_Related_Disorders",
            "Cocaine",
            "Cues",
            "Reward",
            "Neuronal_Plasticity"
           ]
          ],
          [
           [
            "Gastrointestinal_Microbiome",
            "Phylogeny"
           ]
          ],
          [
           [
            "Magnetic_Resonance_Imaging",
            "Neuroimaging",
            "Cognitive_Dysfunction",
            "Interdisciplinary_Research",
            "Child"
           ]
          ]
         ],
         "hovertemplate": "<b>%{hovertext}</b><br><br>Top_Mesh_Terms=%{customdata[0]}<extra></extra>",
         "hovertext": [
          "Allison, Steven",
          "Arora, Kavita",
          "Atwood, Scott",
          "Azizi, Emanuel",
          "Baker, Nicholas",
          "Bardwell, Lee",
          "Blumberg, Bruce",
          "Blurton-Jones, Mathew",
          "Bracken, Matthew",
          "Briscoe, Adriana",
          "Burley, Nancy",
          "Busciglio, Jorge",
          "Cahill, Larry",
          "Cho, Ken",
          "Chrastil, Elizabeth",
          "Cinquin, Olivier",
          "Cocco, Melanie",
          "Cohen-Cory, Susana",
          "Connor, Kwasi",
          "Cramer, Karina",
          "Daley, Monica",
          "Donovan, Peter",
          "Drayman, Nir",
          "Edinger, Aimee",
          "Emerson, J.J.",
          "Eom, Dae Seok",
          "Faiola, Celia",
          "Fortin, Norbert",
          "Fowler, Christie",
          "Frank, Steven",
          "Frostig, Ron",
          "Fruman, David",
          "Gaut, Brandon",
          "German, Donovan",
          "Gershon, Paul",
          "Glabe, Charles",
          "Gonen, Shane",
          "Goulding, Celia",
          "Green, Kim",
          "Green, Michael",
          "Grill, Joshua",
          "Gross, Steven",
          "Halbrook, Christopher",
          "Hammer, Tobin",
          "Hu, Yilin",
          "Hughes, Christopher",
          "Huxman, Travis",
          "Inlay, Matthew",
          "James, Anthony",
          "Kawas, Claudia",
          "Kim, Seungsoo",
          "Kong, Mei",
          "Konieczny, Piotr",
          "Kvon, Evgeny",
          "LaFerla, Frank",
          "Lamb, Joleah",
          "Lander, Arthur",
          "Lane, Thomas",
          "Lara-Gonzalez, Pablo",
          "Lee, Grace",
          "Lodoen, Melissa",
          "Long, Anthony",
          "Luo, Ray",
          "Lur, Gyorgy",
          "Lutterschmidt, Deborah",
          "MacGregor, Grant",
          "Mahler, Stephen",
          "Martinez, Christopher",
          "Martiny, Adam",
          "Martiny, Jennifer",
          "McHenry, Matthew",
          "McNaughton, Bruce",
          "McNulty, Reginald",
          "Metherate, Raju",
          "Mooney, Kailen",
          "Morehouse, Benjamin",
          "Morrissette, Naomi",
          "Mortazavi, Ali",
          "Nicholas, Dequina",
          "Nie, Qing",
          "Parsons, Michael",
          "Pizzagalli, Diego",
          "Plikus, Maksim",
          "Ranz, Jose",
          "Razorenova, Olga",
          "Rebolleda-Gomez, Maria",
          "Ribbe, Markus",
          "Rodriguez Verdugo, Alejandra",
          "Schechtman-Drayman, Eitan",
          "Schilling, Thomas",
          "Shi, Xiaoyu",
          "Sorte, Cascade",
          "Stark, Craig",
          "Striedter, Georg",
          "Suetterlin, Christine",
          "Sumikawa, Katumi",
          "Sun, Sha",
          "Swarup, Vivek",
          "Symons, Celia",
          "Tenner, Andrea",
          "Thompson-Peer, Katherine",
          "Thompson, Leslie",
          "Thornton, Kevin",
          "Tinoco, Roberto",
          "Treseder, Kathleen",
          "Tsai, Shiou-Chuan",
          "Walsh, Craig",
          "Wang, Wenqi",
          "Warrior, Rahul",
          "Whiteson, Katrine",
          "Wiles, Travis",
          "Wood, Marcelo",
          "Xue, Katherine",
          "Yassa, Michael"
         ],
         "legendgroup": "",
         "marker": {
          "color": "#fecc07",
          "symbol": "circle"
         },
         "mode": "markers",
         "name": "",
         "orientation": "v",
         "showlegend": false,
         "type": "scatter",
         "x": [
          7.557248,
          11.790075,
          11.264056,
          9.684144,
          10.33466,
          11.915727,
          10.246419,
          10.111796,
          6.5864806,
          7.253715,
          10.212998,
          14.021294,
          14.761551,
          11.350188,
          13.297567,
          14.115428,
          12.37375,
          13.142022,
          10.290169,
          13.150424,
          9.676565,
          12.272206,
          11.57218,
          10.658759,
          7.782668,
          9.027023,
          7.2929773,
          10.576371,
          13.367753,
          7.739316,
          13.481436,
          12.04674,
          6.88867,
          8.7123575,
          10.424364,
          12.546908,
          8.945982,
          10.407088,
          10.2123995,
          12.700181,
          14.28023,
          8.009869,
          10.113499,
          8.350617,
          9.698668,
          11.092212,
          6.9484224,
          11.2929125,
          11.221969,
          14.798064,
          10.746394,
          11.3984375,
          10.235856,
          7.573107,
          13.832771,
          7.1443872,
          9.889786,
          10.726192,
          12.883919,
          8.564147,
          10.171603,
          7.9732375,
          10.226475,
          7.6262817,
          6.369,
          13.168934,
          12.201797,
          9.370429,
          6.9195294,
          8.370029,
          9.714943,
          13.0204525,
          10.631332,
          13.83381,
          7.926477,
          9.038569,
          11.179454,
          13.583781,
          10.929859,
          9.428716,
          9.096936,
          10.333467,
          9.551634,
          7.022641,
          11.5983305,
          8.010612,
          9.591139,
          7.087922,
          14.971785,
          9.140513,
          14.308046,
          6.472548,
          14.903074,
          8.086498,
          10.791251,
          13.744502,
          9.022709,
          10.4376745,
          7.145284,
          13.524673,
          7.404212,
          12.385296,
          6.175515,
          10.818721,
          7.2193503,
          12.500651,
          9.873521,
          12.083082,
          11.808331,
          8.886639,
          8.764008,
          13.621935,
          8.450489,
          14.252074
         ],
         "xaxis": "x",
         "y": [
          7.096472,
          8.354393,
          8.437482,
          6.12852,
          7.0045323,
          7.982707,
          9.540406,
          9.601989,
          6.735676,
          7.7000966,
          6.980241,
          9.817738,
          9.35869,
          8.264071,
          8.705242,
          9.676631,
          8.232473,
          9.381088,
          6.742388,
          9.334288,
          6.2329664,
          9.43037,
          8.564694,
          6.864367,
          7.420823,
          9.3529415,
          7.1905813,
          7.186272,
          9.731236,
          6.3675027,
          9.427454,
          8.957265,
          7.246335,
          8.303405,
          8.198698,
          9.377205,
          8.909463,
          7.686298,
          10.087857,
          9.210041,
          9.912961,
          7.745652,
          8.164051,
          8.921795,
          7.722546,
          7.9621563,
          6.761441,
          9.896488,
          7.4016123,
          9.285395,
          7.078303,
          8.756121,
          7.0707436,
          7.5259438,
          10.17723,
          6.981037,
          9.306873,
          9.85318,
          9.135969,
          6.960147,
          9.978277,
          6.9870605,
          7.9344463,
          7.328994,
          6.8704762,
          10.14489,
          8.491186,
          6.07083,
          6.8312707,
          8.668641,
          6.1453238,
          8.54613,
          9.323933,
          9.543672,
          6.5840435,
          6.9663787,
          7.6552253,
          9.532688,
          7.8285537,
          9.321834,
          9.018088,
          7.057584,
          9.371233,
          6.453632,
          8.948679,
          6.591226,
          7.8384795,
          6.5425773,
          9.434365,
          9.257358,
          9.975782,
          6.696046,
          9.522049,
          6.4750514,
          8.260019,
          9.683669,
          6.7198734,
          9.9624605,
          6.8836684,
          10.235693,
          7.367886,
          9.592674,
          6.9939704,
          9.77189,
          7.342566,
          8.948406,
          9.768831,
          9.297479,
          8.044134,
          8.617757,
          9.2452135,
          9.20533,
          9.056806,
          9.418115
         ],
         "yaxis": "y"
        }
       ],
       "layout": {
        "height": 1000,
        "legend": {
         "tracegroupgap": 0
        },
        "plot_bgcolor": "#255799",
        "template": {
         "data": {
          "bar": [
           {
            "error_x": {
             "color": "#2a3f5f"
            },
            "error_y": {
             "color": "#2a3f5f"
            },
            "marker": {
             "line": {
              "color": "#E5ECF6",
              "width": 0.5
             },
             "pattern": {
              "fillmode": "overlay",
              "size": 10,
              "solidity": 0.2
             }
            },
            "type": "bar"
           }
          ],
          "barpolar": [
           {
            "marker": {
             "line": {
              "color": "#E5ECF6",
              "width": 0.5
             },
             "pattern": {
              "fillmode": "overlay",
              "size": 10,
              "solidity": 0.2
             }
            },
            "type": "barpolar"
           }
          ],
          "carpet": [
           {
            "aaxis": {
             "endlinecolor": "#2a3f5f",
             "gridcolor": "white",
             "linecolor": "white",
             "minorgridcolor": "white",
             "startlinecolor": "#2a3f5f"
            },
            "baxis": {
             "endlinecolor": "#2a3f5f",
             "gridcolor": "white",
             "linecolor": "white",
             "minorgridcolor": "white",
             "startlinecolor": "#2a3f5f"
            },
            "type": "carpet"
           }
          ],
          "choropleth": [
           {
            "colorbar": {
             "outlinewidth": 0,
             "ticks": ""
            },
            "type": "choropleth"
           }
          ],
          "contour": [
           {
            "colorbar": {
             "outlinewidth": 0,
             "ticks": ""
            },
            "colorscale": [
             [
              0,
              "#0d0887"
             ],
             [
              0.1111111111111111,
              "#46039f"
             ],
             [
              0.2222222222222222,
              "#7201a8"
             ],
             [
              0.3333333333333333,
              "#9c179e"
             ],
             [
              0.4444444444444444,
              "#bd3786"
             ],
             [
              0.5555555555555556,
              "#d8576b"
             ],
             [
              0.6666666666666666,
              "#ed7953"
             ],
             [
              0.7777777777777778,
              "#fb9f3a"
             ],
             [
              0.8888888888888888,
              "#fdca26"
             ],
             [
              1,
              "#f0f921"
             ]
            ],
            "type": "contour"
           }
          ],
          "contourcarpet": [
           {
            "colorbar": {
             "outlinewidth": 0,
             "ticks": ""
            },
            "type": "contourcarpet"
           }
          ],
          "heatmap": [
           {
            "colorbar": {
             "outlinewidth": 0,
             "ticks": ""
            },
            "colorscale": [
             [
              0,
              "#0d0887"
             ],
             [
              0.1111111111111111,
              "#46039f"
             ],
             [
              0.2222222222222222,
              "#7201a8"
             ],
             [
              0.3333333333333333,
              "#9c179e"
             ],
             [
              0.4444444444444444,
              "#bd3786"
             ],
             [
              0.5555555555555556,
              "#d8576b"
             ],
             [
              0.6666666666666666,
              "#ed7953"
             ],
             [
              0.7777777777777778,
              "#fb9f3a"
             ],
             [
              0.8888888888888888,
              "#fdca26"
             ],
             [
              1,
              "#f0f921"
             ]
            ],
            "type": "heatmap"
           }
          ],
          "heatmapgl": [
           {
            "colorbar": {
             "outlinewidth": 0,
             "ticks": ""
            },
            "colorscale": [
             [
              0,
              "#0d0887"
             ],
             [
              0.1111111111111111,
              "#46039f"
             ],
             [
              0.2222222222222222,
              "#7201a8"
             ],
             [
              0.3333333333333333,
              "#9c179e"
             ],
             [
              0.4444444444444444,
              "#bd3786"
             ],
             [
              0.5555555555555556,
              "#d8576b"
             ],
             [
              0.6666666666666666,
              "#ed7953"
             ],
             [
              0.7777777777777778,
              "#fb9f3a"
             ],
             [
              0.8888888888888888,
              "#fdca26"
             ],
             [
              1,
              "#f0f921"
             ]
            ],
            "type": "heatmapgl"
           }
          ],
          "histogram": [
           {
            "marker": {
             "pattern": {
              "fillmode": "overlay",
              "size": 10,
              "solidity": 0.2
             }
            },
            "type": "histogram"
           }
          ],
          "histogram2d": [
           {
            "colorbar": {
             "outlinewidth": 0,
             "ticks": ""
            },
            "colorscale": [
             [
              0,
              "#0d0887"
             ],
             [
              0.1111111111111111,
              "#46039f"
             ],
             [
              0.2222222222222222,
              "#7201a8"
             ],
             [
              0.3333333333333333,
              "#9c179e"
             ],
             [
              0.4444444444444444,
              "#bd3786"
             ],
             [
              0.5555555555555556,
              "#d8576b"
             ],
             [
              0.6666666666666666,
              "#ed7953"
             ],
             [
              0.7777777777777778,
              "#fb9f3a"
             ],
             [
              0.8888888888888888,
              "#fdca26"
             ],
             [
              1,
              "#f0f921"
             ]
            ],
            "type": "histogram2d"
           }
          ],
          "histogram2dcontour": [
           {
            "colorbar": {
             "outlinewidth": 0,
             "ticks": ""
            },
            "colorscale": [
             [
              0,
              "#0d0887"
             ],
             [
              0.1111111111111111,
              "#46039f"
             ],
             [
              0.2222222222222222,
              "#7201a8"
             ],
             [
              0.3333333333333333,
              "#9c179e"
             ],
             [
              0.4444444444444444,
              "#bd3786"
             ],
             [
              0.5555555555555556,
              "#d8576b"
             ],
             [
              0.6666666666666666,
              "#ed7953"
             ],
             [
              0.7777777777777778,
              "#fb9f3a"
             ],
             [
              0.8888888888888888,
              "#fdca26"
             ],
             [
              1,
              "#f0f921"
             ]
            ],
            "type": "histogram2dcontour"
           }
          ],
          "mesh3d": [
           {
            "colorbar": {
             "outlinewidth": 0,
             "ticks": ""
            },
            "type": "mesh3d"
           }
          ],
          "parcoords": [
           {
            "line": {
             "colorbar": {
              "outlinewidth": 0,
              "ticks": ""
             }
            },
            "type": "parcoords"
           }
          ],
          "pie": [
           {
            "automargin": true,
            "type": "pie"
           }
          ],
          "scatter": [
           {
            "fillpattern": {
             "fillmode": "overlay",
             "size": 10,
             "solidity": 0.2
            },
            "type": "scatter"
           }
          ],
          "scatter3d": [
           {
            "line": {
             "colorbar": {
              "outlinewidth": 0,
              "ticks": ""
             }
            },
            "marker": {
             "colorbar": {
              "outlinewidth": 0,
              "ticks": ""
             }
            },
            "type": "scatter3d"
           }
          ],
          "scattercarpet": [
           {
            "marker": {
             "colorbar": {
              "outlinewidth": 0,
              "ticks": ""
             }
            },
            "type": "scattercarpet"
           }
          ],
          "scattergeo": [
           {
            "marker": {
             "colorbar": {
              "outlinewidth": 0,
              "ticks": ""
             }
            },
            "type": "scattergeo"
           }
          ],
          "scattergl": [
           {
            "marker": {
             "colorbar": {
              "outlinewidth": 0,
              "ticks": ""
             }
            },
            "type": "scattergl"
           }
          ],
          "scattermapbox": [
           {
            "marker": {
             "colorbar": {
              "outlinewidth": 0,
              "ticks": ""
             }
            },
            "type": "scattermapbox"
           }
          ],
          "scatterpolar": [
           {
            "marker": {
             "colorbar": {
              "outlinewidth": 0,
              "ticks": ""
             }
            },
            "type": "scatterpolar"
           }
          ],
          "scatterpolargl": [
           {
            "marker": {
             "colorbar": {
              "outlinewidth": 0,
              "ticks": ""
             }
            },
            "type": "scatterpolargl"
           }
          ],
          "scatterternary": [
           {
            "marker": {
             "colorbar": {
              "outlinewidth": 0,
              "ticks": ""
             }
            },
            "type": "scatterternary"
           }
          ],
          "surface": [
           {
            "colorbar": {
             "outlinewidth": 0,
             "ticks": ""
            },
            "colorscale": [
             [
              0,
              "#0d0887"
             ],
             [
              0.1111111111111111,
              "#46039f"
             ],
             [
              0.2222222222222222,
              "#7201a8"
             ],
             [
              0.3333333333333333,
              "#9c179e"
             ],
             [
              0.4444444444444444,
              "#bd3786"
             ],
             [
              0.5555555555555556,
              "#d8576b"
             ],
             [
              0.6666666666666666,
              "#ed7953"
             ],
             [
              0.7777777777777778,
              "#fb9f3a"
             ],
             [
              0.8888888888888888,
              "#fdca26"
             ],
             [
              1,
              "#f0f921"
             ]
            ],
            "type": "surface"
           }
          ],
          "table": [
           {
            "cells": {
             "fill": {
              "color": "#EBF0F8"
             },
             "line": {
              "color": "white"
             }
            },
            "header": {
             "fill": {
              "color": "#C8D4E3"
             },
             "line": {
              "color": "white"
             }
            },
            "type": "table"
           }
          ]
         },
         "layout": {
          "annotationdefaults": {
           "arrowcolor": "#2a3f5f",
           "arrowhead": 0,
           "arrowwidth": 1
          },
          "autotypenumbers": "strict",
          "coloraxis": {
           "colorbar": {
            "outlinewidth": 0,
            "ticks": ""
           }
          },
          "colorscale": {
           "diverging": [
            [
             0,
             "#8e0152"
            ],
            [
             0.1,
             "#c51b7d"
            ],
            [
             0.2,
             "#de77ae"
            ],
            [
             0.3,
             "#f1b6da"
            ],
            [
             0.4,
             "#fde0ef"
            ],
            [
             0.5,
             "#f7f7f7"
            ],
            [
             0.6,
             "#e6f5d0"
            ],
            [
             0.7,
             "#b8e186"
            ],
            [
             0.8,
             "#7fbc41"
            ],
            [
             0.9,
             "#4d9221"
            ],
            [
             1,
             "#276419"
            ]
           ],
           "sequential": [
            [
             0,
             "#0d0887"
            ],
            [
             0.1111111111111111,
             "#46039f"
            ],
            [
             0.2222222222222222,
             "#7201a8"
            ],
            [
             0.3333333333333333,
             "#9c179e"
            ],
            [
             0.4444444444444444,
             "#bd3786"
            ],
            [
             0.5555555555555556,
             "#d8576b"
            ],
            [
             0.6666666666666666,
             "#ed7953"
            ],
            [
             0.7777777777777778,
             "#fb9f3a"
            ],
            [
             0.8888888888888888,
             "#fdca26"
            ],
            [
             1,
             "#f0f921"
            ]
           ],
           "sequentialminus": [
            [
             0,
             "#0d0887"
            ],
            [
             0.1111111111111111,
             "#46039f"
            ],
            [
             0.2222222222222222,
             "#7201a8"
            ],
            [
             0.3333333333333333,
             "#9c179e"
            ],
            [
             0.4444444444444444,
             "#bd3786"
            ],
            [
             0.5555555555555556,
             "#d8576b"
            ],
            [
             0.6666666666666666,
             "#ed7953"
            ],
            [
             0.7777777777777778,
             "#fb9f3a"
            ],
            [
             0.8888888888888888,
             "#fdca26"
            ],
            [
             1,
             "#f0f921"
            ]
           ]
          },
          "colorway": [
           "#636efa",
           "#EF553B",
           "#00cc96",
           "#ab63fa",
           "#FFA15A",
           "#19d3f3",
           "#FF6692",
           "#B6E880",
           "#FF97FF",
           "#FECB52"
          ],
          "font": {
           "color": "#2a3f5f"
          },
          "geo": {
           "bgcolor": "white",
           "lakecolor": "white",
           "landcolor": "#E5ECF6",
           "showlakes": true,
           "showland": true,
           "subunitcolor": "white"
          },
          "hoverlabel": {
           "align": "left"
          },
          "hovermode": "closest",
          "mapbox": {
           "style": "light"
          },
          "paper_bgcolor": "white",
          "plot_bgcolor": "#E5ECF6",
          "polar": {
           "angularaxis": {
            "gridcolor": "white",
            "linecolor": "white",
            "ticks": ""
           },
           "bgcolor": "#E5ECF6",
           "radialaxis": {
            "gridcolor": "white",
            "linecolor": "white",
            "ticks": ""
           }
          },
          "scene": {
           "xaxis": {
            "backgroundcolor": "#E5ECF6",
            "gridcolor": "white",
            "gridwidth": 2,
            "linecolor": "white",
            "showbackground": true,
            "ticks": "",
            "zerolinecolor": "white"
           },
           "yaxis": {
            "backgroundcolor": "#E5ECF6",
            "gridcolor": "white",
            "gridwidth": 2,
            "linecolor": "white",
            "showbackground": true,
            "ticks": "",
            "zerolinecolor": "white"
           },
           "zaxis": {
            "backgroundcolor": "#E5ECF6",
            "gridcolor": "white",
            "gridwidth": 2,
            "linecolor": "white",
            "showbackground": true,
            "ticks": "",
            "zerolinecolor": "white"
           }
          },
          "shapedefaults": {
           "line": {
            "color": "#2a3f5f"
           }
          },
          "ternary": {
           "aaxis": {
            "gridcolor": "white",
            "linecolor": "white",
            "ticks": ""
           },
           "baxis": {
            "gridcolor": "white",
            "linecolor": "white",
            "ticks": ""
           },
           "bgcolor": "#E5ECF6",
           "caxis": {
            "gridcolor": "white",
            "linecolor": "white",
            "ticks": ""
           }
          },
          "title": {
           "x": 0.05
          },
          "xaxis": {
           "automargin": true,
           "gridcolor": "white",
           "linecolor": "white",
           "ticks": "",
           "title": {
            "standoff": 15
           },
           "zerolinecolor": "white",
           "zerolinewidth": 2
          },
          "yaxis": {
           "automargin": true,
           "gridcolor": "white",
           "linecolor": "white",
           "ticks": "",
           "title": {
            "standoff": 15
           },
           "zerolinecolor": "white",
           "zerolinewidth": 2
          }
         }
        },
        "title": {
         "text": "UMAP with 6 PCA Components"
        },
        "width": 1000,
        "xaxis": {
         "anchor": "y",
         "domain": [
          0,
          1
         ],
         "showticklabels": false,
         "title": {
          "text": ""
         }
        },
        "yaxis": {
         "anchor": "x",
         "domain": [
          0,
          1
         ],
         "showticklabels": false,
         "title": {
          "text": ""
         }
        }
       }
      }
     },
     "metadata": {},
     "output_type": "display_data"
    }
   ],
   "source": [
    "# Run UMAPs by iterating through different number of PCA components\n",
    "pca_result = PCA().fit_transform(feature_matrix)\n",
    "\n",
    "for num_components in config['pca_components_to_try']:\n",
    "    pca_reduced_features = pca_result[:, :num_components]\n",
    "    umap_result = UMAP(random_state=123).fit_transform(pca_reduced_features)\n",
    "    umap_df_pca = pd.DataFrame(umap_result, columns=[\"V1\", \"V2\"])\n",
    "    umap_df_pca['Faculty_Full_Name'] = raw_data['Faculty_Full_Name']\n",
    "    umap_df_pca = umap_df_pca.merge(top_mesh_terms_df, on='Faculty_Full_Name', how='left')\n",
    "    fig = px.scatter(umap_df_pca, x=\"V1\", y=\"V2\", title=f\"UMAP with {num_components} PCA Components\",\n",
    "                     hover_name=\"Faculty_Full_Name\",\n",
    "                     hover_data={\"V1\": False, \"V2\": False,\n",
    "                                 'Top_Mesh_Terms': True},\n",
    "                     width=1000, height=1000, color_discrete_sequence=['#fecc07'])\n",
    "    fig_show(fig)"
   ]
  },
  {
   "cell_type": "markdown",
   "id": "5f55cbfd",
   "metadata": {},
   "source": [
    "# UMAP with PCA components\n",
    "UMAP takes into account different dimensions and represnts the information in 2D. If you want smaller and more refined clusters, then use more components. But the starting number of components is usually based on the elbow plot."
   ]
  },
  {
   "cell_type": "code",
   "execution_count": 23,
   "id": "e7efbd71",
   "metadata": {},
   "outputs": [
    {
     "name": "stderr",
     "output_type": "stream",
     "text": [
      "/Users/mitalimittal/anaconda3/lib/python3.11/site-packages/umap/umap_.py:1943: UserWarning:\n",
      "\n",
      "n_jobs value -1 overridden to 1 by setting random_state. Use no seed for parallelism.\n",
      "\n"
     ]
    },
    {
     "data": {
      "application/vnd.plotly.v1+json": {
       "config": {
        "plotlyServerURL": "https://plot.ly"
       },
       "data": [
        {
         "customdata": [
          [
           [
            "Soil",
            "Droughts",
            "Resilience__Psychological",
            "Temperature",
            "Interdisciplinary_Research"
           ]
          ],
          [
           [
            "Phosphorylation",
            "Computational_Biology",
            "Genetics",
            "Hippo_Signaling_Pathway",
            "Cell_Line__Tumor"
           ]
          ],
          [
           [
            "Molecular_Biology",
            "Immunity",
            "Carcinogenesis",
            "T_Lymphocytes",
            "Phosphorylation"
           ]
          ],
          [
           [
            "Biomechanical_Phenomena",
            "Aging",
            "Temperature"
           ]
          ],
          [
           []
          ],
          [
           [
            "Phosphorylation",
            "Ligands",
            "Diabetes_Mellitus",
            "Child",
            "Alleles"
           ]
          ],
          [
           [
            "Obesity",
            "Pregnancy",
            "Chromatin",
            "Multiomics",
            "DNA"
           ]
          ],
          [
           [
            "Induced_Pluripotent_Stem_Cells",
            "Cytokines",
            "Macrophages",
            "Disease_Progression",
            "Monocytes"
           ]
          ],
          [
           [
            "Biodiversity",
            "Ecological_and_Environmental_Phenomena"
           ]
          ],
          [
           [
            "Phylogeny",
            "Clustered_Regularly_Interspaced_Short_Palindromic_Repeats",
            "Evolution__Molecular"
           ]
          ],
          [
           []
          ],
          [
           [
            "Down_Syndrome",
            "Cognitive_Dysfunction",
            "Proteomics",
            "Pregnancy",
            "Amyloid_beta_Peptides"
           ]
          ],
          [
           [
            "Magnetic_Resonance_Imaging"
           ]
          ],
          [
           [
            "Gene_Regulatory_Networks",
            "Chromatin",
            "Multiomics",
            "Cell_Differentiation",
            "Computational_Biology"
           ]
          ],
          [
           [
            "Neuroimaging",
            "Magnetic_Resonance_Imaging",
            "Pregnancy",
            "Computer_Simulation",
            "Adolescent"
           ]
          ],
          [
           [
            "Cell_Line",
            "Computational_Biology",
            "Aging"
           ]
          ],
          [
           [
            "Magnetic_Resonance_Imaging",
            "Temperature",
            "Genotype",
            "Ligands"
           ]
          ],
          [
           [
            "Synapses"
           ]
          ],
          [
           [
            "Diet",
            "Temperature"
           ]
          ],
          [
           [
            "Neuronal_Plasticity",
            "Synapses",
            "Astrocytes",
            "Apoptosis",
            "Proteomics"
           ]
          ],
          [
           [
            "Biomechanical_Phenomena",
            "Resilience__Psychological",
            "Interdisciplinary_Research",
            "Computer_Simulation"
           ]
          ],
          [
           [
            "Neurodegenerative_Diseases",
            "Stem_Cells",
            "Chromatin",
            "Cell_Line"
           ]
          ],
          [
           [
            "Antiviral_Agents",
            "Virus_Diseases",
            "RNA",
            "Cell_Line",
            "Single_Cell_Gene_Expression_Analysis"
           ]
          ],
          [
           [
            "CRISPR_Cas_Systems",
            "Tumor_Microenvironment",
            "Nutrients",
            "Ligands",
            "Alleles"
           ]
          ],
          [
           [
            "Genotype",
            "Alleles",
            "Evolution__Molecular",
            "Chromatin",
            "Gene_Regulatory_Networks"
           ]
          ],
          [
           [
            "Zebrafish",
            "Cell_Communication",
            "Macrophages"
           ]
          ],
          [
           [
            "Temperature",
            "Soil",
            "Resilience__Psychological",
            "Droughts",
            "Computer_Simulation"
           ]
          ],
          [
           [
            "Substance_Related_Disorders"
           ]
          ],
          [
           [
            "Nicotine",
            "Chromatin",
            "Microscopy",
            "Clustered_Regularly_Interspaced_Short_Palindromic_Repeats",
            "Cocaine"
           ]
          ],
          [
           [
            "Biological_Evolution",
            "Computer_Simulation",
            "Computational_Biology",
            "Ecological_and_Environmental_Phenomena",
            "Genetics"
           ]
          ],
          [
           [
            "Astrocytes",
            "Magnetic_Resonance_Imaging",
            "Neuronal_Plasticity",
            "Neuroimaging"
           ]
          ],
          [
           [
            "Cell_Line",
            "Cell_Proliferation",
            "Apoptosis",
            "Child",
            "Heterografts"
           ]
          ],
          [
           [
            "Genetic_Variation",
            "Chromatin",
            "Epigenomics",
            "Temperature",
            "Droughts"
           ]
          ],
          [
           [
            "Diet",
            "Zebrafish",
            "Proteomics",
            "Temperature",
            "Ecological_and_Environmental_Phenomena"
           ]
          ],
          [
           [
            "Proteomics",
            "Mass_Spectrometry",
            "Escherichia_coli",
            "DNA",
            "Antiviral_Agents"
           ]
          ],
          [
           [
            "Aging",
            "Bacteriophages",
            "Immunity",
            "Neurodegenerative_Diseases",
            "Amyloid_beta_Peptides"
           ]
          ],
          [
           [
            "Cryoelectron_Microscopy",
            "Bacteriophages",
            "Microscopy",
            "Gastrointestinal_Microbiome",
            "Anti_Bacterial_Agents"
           ]
          ],
          [
           [
            "Anti_Bacterial_Agents",
            "Pandemics",
            "Nutrients",
            "Molecular_Biology",
            "Ligands"
           ]
          ],
          [
           [
            "Cell_Proliferation",
            "Amyloid_beta_Peptides",
            "Monocytes",
            "Bone_Marrow",
            "Macrophages"
           ]
          ],
          [
           [
            "Ligands",
            "Magnetic_Resonance_Imaging",
            "Neuroimaging",
            "Child",
            "Oxidation_Reduction"
           ]
          ],
          [
           [
            "Amyloid_beta_Peptides",
            "Aged__80_and_over",
            "Cognitive_Dysfunction",
            "Disease_Progression",
            "Neurodegenerative_Diseases"
           ]
          ],
          [
           [
            "Neurodegenerative_Diseases",
            "Anti_Bacterial_Agents",
            "Computer_Simulation",
            "Anti_Infective_Agents",
            "Computational_Biology"
           ]
          ],
          [
           [
            "Pancreatic_Neoplasms",
            "Tumor_Microenvironment",
            "Fibroblasts",
            "Oxidation_Reduction",
            "Liver_Neoplasms"
           ]
          ],
          [
           [
            "Gastrointestinal_Microbiome",
            "Parasites",
            "Ecological_and_Environmental_Phenomena",
            "Genetics",
            "Diet"
           ]
          ],
          [
           [
            "Nitrogenase",
            "Escherichia_coli",
            "Cell_Line__Tumor",
            "Aged__80_and_over",
            "Phylogeny"
           ]
          ],
          [
           [
            "Colorectal_Neoplasms",
            "Incidence",
            "Survival_Rate",
            "Astrocytes",
            "Tumor_Microenvironment"
           ]
          ],
          [
           [
            "Temperature",
            "Ecological_and_Environmental_Phenomena",
            "Soil",
            "Nutrients",
            "Biodiversity"
           ]
          ],
          [
           [
            "Hematopoietic_Stem_Cell_Transplantation",
            "Graft_vs_Host_Disease",
            "T_Lymphocytes__Regulatory",
            "Bone_Marrow",
            "Apoptosis"
           ]
          ],
          [
           [
            "CRISPR_Cas_Systems",
            "Genetics",
            "RNA",
            "Magnetic_Resonance_Imaging",
            "Cell_Death"
           ]
          ],
          [
           [
            "Aged__80_and_over",
            "Cognitive_Dysfunction",
            "Aging",
            "Magnetic_Resonance_Imaging",
            "Incidence"
           ]
          ],
          [
           [
            "Adolescent",
            "Genotype"
           ]
          ],
          [
           [
            "Colorectal_Neoplasms",
            "Nutrients",
            "Carcinogenesis",
            "Heterografts",
            "AMP_Activated_Protein_Kinases"
           ]
          ],
          [
           []
          ],
          [
           [
            "Chromatin",
            "Organoids",
            "Alleles",
            "Phylogeny",
            "Evolution__Molecular"
           ]
          ],
          [
           [
            "Amyloid_beta_Peptides",
            "Proteomics",
            "Aged__80_and_over",
            "Induced_Pluripotent_Stem_Cells",
            "Single_Cell_Gene_Expression_Analysis"
           ]
          ],
          [
           [
            "Temperature",
            "Ecological_and_Environmental_Phenomena",
            "Biodiversity"
           ]
          ],
          [
           [
            "Stem_Cells",
            "RNA",
            "Cell_Differentiation",
            "Computational_Biology",
            "Single_Cell_Analysis"
           ]
          ],
          [
           [
            "COVID_19",
            "Neuroinflammatory_Diseases",
            "Pandemics",
            "Multiple_Sclerosis",
            "Virus_Diseases"
           ]
          ],
          [
           [
            "Aging",
            "Cell_Proliferation",
            "Cues",
            "Cell_Differentiation",
            "Microscopy"
           ]
          ],
          [
           [
            "Parasites",
            "Diet",
            "Epigenomics",
            "Evolution__Molecular",
            "Nutrients"
           ]
          ],
          [
           [
            "Toxoplasma",
            "Parasites",
            "Monocytes",
            "Phagocytosis",
            "Cytokines"
           ]
          ],
          [
           [
            "Genotype",
            "Aging",
            "Macrophages",
            "Persistent_Infection",
            "CRISPR_Cas_Systems"
           ]
          ],
          [
           [
            "Computational_Biology",
            "T_Lymphocytes",
            "Hippo_Signaling_Pathway",
            "Escherichia_coli",
            "Cell_Line__Tumor"
           ]
          ],
          [
           [
            "Aging",
            "Synapses",
            "Computer_Simulation",
            "Memory_Consolidation",
            "Genetics"
           ]
          ],
          [
           [
            "Temperature",
            "Ecological_and_Environmental_Phenomena"
           ]
          ],
          [
           [
            "Amyloid_beta_Peptides",
            "Gastrointestinal_Microbiome",
            "Astrocytes",
            "Disease_Progression",
            "T_Lymphocytes__Regulatory"
           ]
          ],
          [
           [
            "Reward",
            "Substance_Related_Disorders",
            "Genetics",
            "Adolescent",
            "Neuronal_Plasticity"
           ]
          ],
          [
           [
            "Biomechanical_Phenomena",
            "Biological_Evolution",
            "Ecological_and_Environmental_Phenomena",
            "Evolution__Molecular",
            "Phylogeny"
           ]
          ],
          [
           [
            "Temperature",
            "Ecological_and_Environmental_Phenomena",
            "Biodiversity",
            "Genetics",
            "Anti_Bacterial_Agents"
           ]
          ],
          [
           [
            "Soil",
            "Gastrointestinal_Microbiome",
            "Diet",
            "Diabetes_Mellitus",
            "Anti_Bacterial_Agents"
           ]
          ],
          [
           [
            "Biomechanical_Phenomena",
            "Cues",
            "Ecological_and_Environmental_Phenomena",
            "Zebrafish"
           ]
          ],
          [
           [
            "Sleep",
            "Cues",
            "Neuronal_Plasticity",
            "Synapses",
            "Memory_Consolidation"
           ]
          ],
          [
           [
            "Inflammasomes",
            "NLR_Family__Pyrin_Domain_Containing_3_Protein",
            "Cryoelectron_Microscopy",
            "CRISPR_Cas_Systems",
            "Apoptosis"
           ]
          ],
          [
           [
            "Nicotine",
            "Cognitive_Dysfunction"
           ]
          ],
          [
           [
            "Biological_Evolution",
            "Droughts",
            "Alleles",
            "Genetic_Variation",
            "Biodiversity"
           ]
          ],
          [
           [
            "Immunity__Innate",
            "Virus_Diseases",
            "Antiviral_Agents",
            "Incidence",
            "Pandemics"
           ]
          ],
          [
           [
            "Parasites",
            "Toxoplasma",
            "Ligands",
            "Fibroblasts"
           ]
          ],
          [
           [
            "Aging",
            "Amyloid_beta_Peptides",
            "Gene_Regulatory_Networks",
            "Single_Cell_Analysis",
            "Chromatin"
           ]
          ],
          [
           [
            "Cytokines",
            "Flow_Cytometry",
            "Cell_Line",
            "Single_Cell_Gene_Expression_Analysis",
            "T_Lymphocytes"
           ]
          ],
          [
           [
            "Cell_Communication",
            "Gene_Regulatory_Networks",
            "Single_Cell_Analysis",
            "Single_Cell_Gene_Expression_Analysis",
            "Computational_Biology"
           ]
          ],
          [
           [
            "Zebrafish",
            "Pancreatic_Neoplasms",
            "Gastrointestinal_Microbiome",
            "Disease_Progression",
            "Child"
           ]
          ],
          [
           []
          ],
          [
           [
            "Single_Cell_Gene_Expression_Analysis",
            "Stem_Cells",
            "Fibroblasts",
            "Cell_Communication",
            "Aging"
           ]
          ],
          [
           [
            "Evolution__Molecular",
            "Phylogeny",
            "Ecological_and_Environmental_Phenomena",
            "Biological_Evolution",
            "Genetics"
           ]
          ],
          [
           [
            "Triple_Negative_Breast_Neoplasms",
            "Oxidative_Phosphorylation",
            "Mitochondria",
            "Survival_Rate",
            "Immune_Checkpoint_Inhibitors"
           ]
          ],
          [
           [
            "Soil",
            "Droughts",
            "Biological_Evolution",
            "Pandemics",
            "Ecological_and_Environmental_Phenomena"
           ]
          ],
          [
           [
            "Nitrogenase",
            "Oxidation_Reduction",
            "Escherichia_coli",
            "Phylogeny",
            "Evolution__Molecular"
           ]
          ],
          [
           [
            "Nutrients",
            "Biodiversity",
            "Escherichia_coli",
            "Anti_Bacterial_Agents",
            "Evolution__Molecular"
           ]
          ],
          [
           [
            "Sleep",
            "Memory_Consolidation",
            "Cues",
            "Magnetic_Resonance_Imaging",
            "Neuroimaging"
           ]
          ],
          [
           [
            "Zebrafish",
            "Computer_Simulation",
            "Cell_Proliferation",
            "Biomechanical_Phenomena",
            "Biological_Evolution"
           ]
          ],
          [
           [
            "Proteomics",
            "Mass_Spectrometry",
            "Astrocytes",
            "Microscopy",
            "Multiomics"
           ]
          ],
          [
           [
            "Biodiversity",
            "Ecological_and_Environmental_Phenomena",
            "Temperature"
           ]
          ],
          [
           [
            "Aging",
            "Magnetic_Resonance_Imaging",
            "Cognitive_Dysfunction",
            "Neuroimaging",
            "Amyloid_beta_Peptides"
           ]
          ],
          [
           [
            "Biological_Evolution"
           ]
          ],
          [
           [
            "Microscopy",
            "RNA",
            "Stem_Cells",
            "Pregnancy",
            "Escherichia_coli"
           ]
          ],
          [
           [
            "Nicotine",
            "Reward",
            "Pregnancy",
            "Cognitive_Dysfunction",
            "Cytokines"
           ]
          ],
          [
           [
            "Incidence",
            "Cell_Proliferation",
            "Tumor_Microenvironment",
            "RNA",
            "Carcinogenesis"
           ]
          ],
          [
           [
            "White_Matter",
            "Neurodegenerative_Diseases",
            "Neuroinflammatory_Diseases",
            "Astrocytes",
            "Proteomics"
           ]
          ],
          [
           [
            "Biodiversity",
            "Interdisciplinary_Research",
            "Temperature",
            "Resilience__Psychological",
            "Diet"
           ]
          ],
          [
           [
            "Neuroinflammatory_Diseases",
            "Phagocytosis",
            "Neurodegenerative_Diseases",
            "Amyloid_beta_Peptides",
            "Astrocytes"
           ]
          ],
          [
           [
            "Alleles",
            "Mitochondria",
            "Cell_Death",
            "Neurodegenerative_Diseases"
           ]
          ],
          [
           [
            "Induced_Pluripotent_Stem_Cells",
            "Neurodegenerative_Diseases",
            "Clustered_Regularly_Interspaced_Short_Palindromic_Repeats",
            "Disease_Progression",
            "Cognitive_Dysfunction"
           ]
          ],
          [
           [
            "Ecological_and_Environmental_Phenomena",
            "Phylogeny",
            "Computer_Simulation",
            "Alleles"
           ]
          ],
          [
           [
            "CD8_Positive_T_Lymphocytes",
            "Immune_Checkpoint_Inhibitors",
            "Persistent_Infection",
            "Virus_Diseases",
            "HIV_Infections"
           ]
          ],
          [
           [
            "Soil",
            "Temperature",
            "Resilience__Psychological",
            "Droughts",
            "Genotype"
           ]
          ],
          [
           [
            "COVID_19",
            "Child",
            "Magnetic_Resonance_Imaging",
            "Aged__80_and_over",
            "Cell_Differentiation"
           ]
          ],
          [
           [
            "T_Lymphocytes__Regulatory",
            "Multiple_Sclerosis",
            "Stem_Cells",
            "White_Matter",
            "Macrophages"
           ]
          ],
          [
           [
            "Hippo_Signaling_Pathway",
            "Cell_Proliferation",
            "Carcinogenesis",
            "Apoptosis",
            "Child"
           ]
          ],
          [
           [
            "Genetics",
            "Hippo_Signaling_Pathway",
            "Phosphorylation",
            "Cell_Line__Tumor"
           ]
          ],
          [
           [
            "Bacteriophages",
            "Anti_Bacterial_Agents",
            "Gastrointestinal_Microbiome",
            "Escherichia_coli",
            "Nutrients"
           ]
          ],
          [
           [
            "Zebrafish",
            "Gastrointestinal_Microbiome",
            "Bacteriophages",
            "Anti_Bacterial_Agents",
            "Soil"
           ]
          ],
          [
           [
            "Substance_Related_Disorders",
            "Cocaine",
            "Cues",
            "Reward",
            "Neuronal_Plasticity"
           ]
          ],
          [
           [
            "Gastrointestinal_Microbiome",
            "Phylogeny"
           ]
          ],
          [
           [
            "Magnetic_Resonance_Imaging",
            "Neuroimaging",
            "Cognitive_Dysfunction",
            "Interdisciplinary_Research",
            "Child"
           ]
          ]
         ],
         "hovertemplate": "<b>%{hovertext}</b><br><br>Top_Mesh_Terms=%{customdata[0]}<extra></extra>",
         "hovertext": [
          "Allison, Steven",
          "Arora, Kavita",
          "Atwood, Scott",
          "Azizi, Emanuel",
          "Baker, Nicholas",
          "Bardwell, Lee",
          "Blumberg, Bruce",
          "Blurton-Jones, Mathew",
          "Bracken, Matthew",
          "Briscoe, Adriana",
          "Burley, Nancy",
          "Busciglio, Jorge",
          "Cahill, Larry",
          "Cho, Ken",
          "Chrastil, Elizabeth",
          "Cinquin, Olivier",
          "Cocco, Melanie",
          "Cohen-Cory, Susana",
          "Connor, Kwasi",
          "Cramer, Karina",
          "Daley, Monica",
          "Donovan, Peter",
          "Drayman, Nir",
          "Edinger, Aimee",
          "Emerson, J.J.",
          "Eom, Dae Seok",
          "Faiola, Celia",
          "Fortin, Norbert",
          "Fowler, Christie",
          "Frank, Steven",
          "Frostig, Ron",
          "Fruman, David",
          "Gaut, Brandon",
          "German, Donovan",
          "Gershon, Paul",
          "Glabe, Charles",
          "Gonen, Shane",
          "Goulding, Celia",
          "Green, Kim",
          "Green, Michael",
          "Grill, Joshua",
          "Gross, Steven",
          "Halbrook, Christopher",
          "Hammer, Tobin",
          "Hu, Yilin",
          "Hughes, Christopher",
          "Huxman, Travis",
          "Inlay, Matthew",
          "James, Anthony",
          "Kawas, Claudia",
          "Kim, Seungsoo",
          "Kong, Mei",
          "Konieczny, Piotr",
          "Kvon, Evgeny",
          "LaFerla, Frank",
          "Lamb, Joleah",
          "Lander, Arthur",
          "Lane, Thomas",
          "Lara-Gonzalez, Pablo",
          "Lee, Grace",
          "Lodoen, Melissa",
          "Long, Anthony",
          "Luo, Ray",
          "Lur, Gyorgy",
          "Lutterschmidt, Deborah",
          "MacGregor, Grant",
          "Mahler, Stephen",
          "Martinez, Christopher",
          "Martiny, Adam",
          "Martiny, Jennifer",
          "McHenry, Matthew",
          "McNaughton, Bruce",
          "McNulty, Reginald",
          "Metherate, Raju",
          "Mooney, Kailen",
          "Morehouse, Benjamin",
          "Morrissette, Naomi",
          "Mortazavi, Ali",
          "Nicholas, Dequina",
          "Nie, Qing",
          "Parsons, Michael",
          "Pizzagalli, Diego",
          "Plikus, Maksim",
          "Ranz, Jose",
          "Razorenova, Olga",
          "Rebolleda-Gomez, Maria",
          "Ribbe, Markus",
          "Rodriguez Verdugo, Alejandra",
          "Schechtman-Drayman, Eitan",
          "Schilling, Thomas",
          "Shi, Xiaoyu",
          "Sorte, Cascade",
          "Stark, Craig",
          "Striedter, Georg",
          "Suetterlin, Christine",
          "Sumikawa, Katumi",
          "Sun, Sha",
          "Swarup, Vivek",
          "Symons, Celia",
          "Tenner, Andrea",
          "Thompson-Peer, Katherine",
          "Thompson, Leslie",
          "Thornton, Kevin",
          "Tinoco, Roberto",
          "Treseder, Kathleen",
          "Tsai, Shiou-Chuan",
          "Walsh, Craig",
          "Wang, Wenqi",
          "Warrior, Rahul",
          "Whiteson, Katrine",
          "Wiles, Travis",
          "Wood, Marcelo",
          "Xue, Katherine",
          "Yassa, Michael"
         ],
         "legendgroup": "",
         "marker": {
          "color": "#fecc07",
          "symbol": "circle"
         },
         "mode": "markers",
         "name": "",
         "orientation": "v",
         "showlegend": false,
         "type": "scatter",
         "x": [
          5.3664227,
          7.015878,
          7.2251625,
          4.4973764,
          5.1451354,
          6.3821435,
          8.189323,
          8.0829315,
          4.2616196,
          5.6538467,
          5.2972555,
          9.551877,
          9.939803,
          6.968785,
          6.3457065,
          9.491572,
          5.7380786,
          8.61307,
          5.4084864,
          8.206942,
          4.5904136,
          8.277707,
          7.4783025,
          5.9137516,
          5.6791534,
          7.0386305,
          5.1391735,
          5.373299,
          9.448917,
          4.629628,
          8.970231,
          7.6989074,
          4.8819265,
          6.474538,
          7.9246364,
          7.820811,
          7.14601,
          6.367066,
          7.848781,
          8.093354,
          9.456664,
          5.8943777,
          8.001632,
          6.4477654,
          6.3838077,
          6.8206587,
          4.6368365,
          8.432617,
          6.0148478,
          9.847562,
          5.575335,
          7.7859507,
          5.348688,
          5.463941,
          8.8532095,
          4.829601,
          7.907319,
          8.339186,
          8.605213,
          5.3488936,
          8.141708,
          5.140677,
          6.13732,
          5.506574,
          4.362182,
          7.529185,
          7.2731204,
          4.305608,
          4.6280026,
          6.6650615,
          4.366466,
          5.3807154,
          8.1538725,
          9.359648,
          4.7064676,
          5.540885,
          6.5175323,
          8.829478,
          6.2892456,
          7.439676,
          7.1901784,
          5.138185,
          7.5511875,
          4.4627094,
          8.365535,
          4.843538,
          6.621378,
          4.6188993,
          10.04969,
          7.2581997,
          9.672647,
          4.3159847,
          10.110923,
          4.725529,
          7.43995,
          9.466996,
          5.9408865,
          8.298151,
          4.9306746,
          8.206693,
          5.539399,
          8.141166,
          4.2783546,
          8.477477,
          5.4004636,
          7.6012936,
          8.109075,
          8.863428,
          6.800698,
          7.0843945,
          6.9043016,
          9.261253,
          6.497141,
          9.271827
         ],
         "xaxis": "x",
         "y": [
          8.62386,
          13.002153,
          12.32066,
          11.653602,
          11.903501,
          12.990856,
          8.773644,
          8.809062,
          8.09615,
          8.81999,
          11.723094,
          11.541628,
          11.714442,
          12.178931,
          13.151628,
          11.877386,
          12.51428,
          11.970275,
          11.5928,
          11.806452,
          11.689718,
          12.603699,
          12.442021,
          12.483927,
          8.212385,
          8.908326,
          8.105835,
          11.88328,
          12.049973,
          9.287298,
          11.873011,
          12.647676,
          8.611103,
          8.781754,
          12.712669,
          11.958586,
          9.49754,
          11.757155,
          9.683604,
          12.781187,
          11.474261,
          8.414107,
          8.988387,
          9.771111,
          12.816451,
          11.995704,
          8.290805,
          10.330552,
          12.208321,
          11.838574,
          12.073789,
          12.776213,
          11.620516,
          8.270225,
          11.300848,
          8.223127,
          8.7795515,
          9.806938,
          12.491133,
          10.117743,
          9.19536,
          9.019498,
          11.9494095,
          8.288063,
          8.04268,
          10.609557,
          12.785611,
          11.369272,
          8.351351,
          9.937578,
          11.499058,
          12.247654,
          9.527073,
          11.947369,
          9.381955,
          10.475945,
          11.885176,
          12.183982,
          11.473239,
          8.857727,
          9.202947,
          11.751821,
          8.656904,
          8.8065605,
          12.471359,
          9.2652025,
          12.765338,
          8.688754,
          11.998155,
          8.968764,
          11.388749,
          8.021302,
          11.864461,
          9.614508,
          11.911786,
          11.83112,
          10.990098,
          9.590241,
          8.189921,
          10.918716,
          8.117071,
          12.273465,
          8.119485,
          9.699774,
          8.416674,
          12.396161,
          9.036147,
          12.230988,
          13.058366,
          10.157896,
          9.246821,
          12.421815,
          9.590627,
          11.93612
         ],
         "yaxis": "y"
        }
       ],
       "layout": {
        "height": 1000,
        "legend": {
         "tracegroupgap": 0
        },
        "plot_bgcolor": "#255799",
        "template": {
         "data": {
          "bar": [
           {
            "error_x": {
             "color": "#2a3f5f"
            },
            "error_y": {
             "color": "#2a3f5f"
            },
            "marker": {
             "line": {
              "color": "#E5ECF6",
              "width": 0.5
             },
             "pattern": {
              "fillmode": "overlay",
              "size": 10,
              "solidity": 0.2
             }
            },
            "type": "bar"
           }
          ],
          "barpolar": [
           {
            "marker": {
             "line": {
              "color": "#E5ECF6",
              "width": 0.5
             },
             "pattern": {
              "fillmode": "overlay",
              "size": 10,
              "solidity": 0.2
             }
            },
            "type": "barpolar"
           }
          ],
          "carpet": [
           {
            "aaxis": {
             "endlinecolor": "#2a3f5f",
             "gridcolor": "white",
             "linecolor": "white",
             "minorgridcolor": "white",
             "startlinecolor": "#2a3f5f"
            },
            "baxis": {
             "endlinecolor": "#2a3f5f",
             "gridcolor": "white",
             "linecolor": "white",
             "minorgridcolor": "white",
             "startlinecolor": "#2a3f5f"
            },
            "type": "carpet"
           }
          ],
          "choropleth": [
           {
            "colorbar": {
             "outlinewidth": 0,
             "ticks": ""
            },
            "type": "choropleth"
           }
          ],
          "contour": [
           {
            "colorbar": {
             "outlinewidth": 0,
             "ticks": ""
            },
            "colorscale": [
             [
              0,
              "#0d0887"
             ],
             [
              0.1111111111111111,
              "#46039f"
             ],
             [
              0.2222222222222222,
              "#7201a8"
             ],
             [
              0.3333333333333333,
              "#9c179e"
             ],
             [
              0.4444444444444444,
              "#bd3786"
             ],
             [
              0.5555555555555556,
              "#d8576b"
             ],
             [
              0.6666666666666666,
              "#ed7953"
             ],
             [
              0.7777777777777778,
              "#fb9f3a"
             ],
             [
              0.8888888888888888,
              "#fdca26"
             ],
             [
              1,
              "#f0f921"
             ]
            ],
            "type": "contour"
           }
          ],
          "contourcarpet": [
           {
            "colorbar": {
             "outlinewidth": 0,
             "ticks": ""
            },
            "type": "contourcarpet"
           }
          ],
          "heatmap": [
           {
            "colorbar": {
             "outlinewidth": 0,
             "ticks": ""
            },
            "colorscale": [
             [
              0,
              "#0d0887"
             ],
             [
              0.1111111111111111,
              "#46039f"
             ],
             [
              0.2222222222222222,
              "#7201a8"
             ],
             [
              0.3333333333333333,
              "#9c179e"
             ],
             [
              0.4444444444444444,
              "#bd3786"
             ],
             [
              0.5555555555555556,
              "#d8576b"
             ],
             [
              0.6666666666666666,
              "#ed7953"
             ],
             [
              0.7777777777777778,
              "#fb9f3a"
             ],
             [
              0.8888888888888888,
              "#fdca26"
             ],
             [
              1,
              "#f0f921"
             ]
            ],
            "type": "heatmap"
           }
          ],
          "heatmapgl": [
           {
            "colorbar": {
             "outlinewidth": 0,
             "ticks": ""
            },
            "colorscale": [
             [
              0,
              "#0d0887"
             ],
             [
              0.1111111111111111,
              "#46039f"
             ],
             [
              0.2222222222222222,
              "#7201a8"
             ],
             [
              0.3333333333333333,
              "#9c179e"
             ],
             [
              0.4444444444444444,
              "#bd3786"
             ],
             [
              0.5555555555555556,
              "#d8576b"
             ],
             [
              0.6666666666666666,
              "#ed7953"
             ],
             [
              0.7777777777777778,
              "#fb9f3a"
             ],
             [
              0.8888888888888888,
              "#fdca26"
             ],
             [
              1,
              "#f0f921"
             ]
            ],
            "type": "heatmapgl"
           }
          ],
          "histogram": [
           {
            "marker": {
             "pattern": {
              "fillmode": "overlay",
              "size": 10,
              "solidity": 0.2
             }
            },
            "type": "histogram"
           }
          ],
          "histogram2d": [
           {
            "colorbar": {
             "outlinewidth": 0,
             "ticks": ""
            },
            "colorscale": [
             [
              0,
              "#0d0887"
             ],
             [
              0.1111111111111111,
              "#46039f"
             ],
             [
              0.2222222222222222,
              "#7201a8"
             ],
             [
              0.3333333333333333,
              "#9c179e"
             ],
             [
              0.4444444444444444,
              "#bd3786"
             ],
             [
              0.5555555555555556,
              "#d8576b"
             ],
             [
              0.6666666666666666,
              "#ed7953"
             ],
             [
              0.7777777777777778,
              "#fb9f3a"
             ],
             [
              0.8888888888888888,
              "#fdca26"
             ],
             [
              1,
              "#f0f921"
             ]
            ],
            "type": "histogram2d"
           }
          ],
          "histogram2dcontour": [
           {
            "colorbar": {
             "outlinewidth": 0,
             "ticks": ""
            },
            "colorscale": [
             [
              0,
              "#0d0887"
             ],
             [
              0.1111111111111111,
              "#46039f"
             ],
             [
              0.2222222222222222,
              "#7201a8"
             ],
             [
              0.3333333333333333,
              "#9c179e"
             ],
             [
              0.4444444444444444,
              "#bd3786"
             ],
             [
              0.5555555555555556,
              "#d8576b"
             ],
             [
              0.6666666666666666,
              "#ed7953"
             ],
             [
              0.7777777777777778,
              "#fb9f3a"
             ],
             [
              0.8888888888888888,
              "#fdca26"
             ],
             [
              1,
              "#f0f921"
             ]
            ],
            "type": "histogram2dcontour"
           }
          ],
          "mesh3d": [
           {
            "colorbar": {
             "outlinewidth": 0,
             "ticks": ""
            },
            "type": "mesh3d"
           }
          ],
          "parcoords": [
           {
            "line": {
             "colorbar": {
              "outlinewidth": 0,
              "ticks": ""
             }
            },
            "type": "parcoords"
           }
          ],
          "pie": [
           {
            "automargin": true,
            "type": "pie"
           }
          ],
          "scatter": [
           {
            "fillpattern": {
             "fillmode": "overlay",
             "size": 10,
             "solidity": 0.2
            },
            "type": "scatter"
           }
          ],
          "scatter3d": [
           {
            "line": {
             "colorbar": {
              "outlinewidth": 0,
              "ticks": ""
             }
            },
            "marker": {
             "colorbar": {
              "outlinewidth": 0,
              "ticks": ""
             }
            },
            "type": "scatter3d"
           }
          ],
          "scattercarpet": [
           {
            "marker": {
             "colorbar": {
              "outlinewidth": 0,
              "ticks": ""
             }
            },
            "type": "scattercarpet"
           }
          ],
          "scattergeo": [
           {
            "marker": {
             "colorbar": {
              "outlinewidth": 0,
              "ticks": ""
             }
            },
            "type": "scattergeo"
           }
          ],
          "scattergl": [
           {
            "marker": {
             "colorbar": {
              "outlinewidth": 0,
              "ticks": ""
             }
            },
            "type": "scattergl"
           }
          ],
          "scattermapbox": [
           {
            "marker": {
             "colorbar": {
              "outlinewidth": 0,
              "ticks": ""
             }
            },
            "type": "scattermapbox"
           }
          ],
          "scatterpolar": [
           {
            "marker": {
             "colorbar": {
              "outlinewidth": 0,
              "ticks": ""
             }
            },
            "type": "scatterpolar"
           }
          ],
          "scatterpolargl": [
           {
            "marker": {
             "colorbar": {
              "outlinewidth": 0,
              "ticks": ""
             }
            },
            "type": "scatterpolargl"
           }
          ],
          "scatterternary": [
           {
            "marker": {
             "colorbar": {
              "outlinewidth": 0,
              "ticks": ""
             }
            },
            "type": "scatterternary"
           }
          ],
          "surface": [
           {
            "colorbar": {
             "outlinewidth": 0,
             "ticks": ""
            },
            "colorscale": [
             [
              0,
              "#0d0887"
             ],
             [
              0.1111111111111111,
              "#46039f"
             ],
             [
              0.2222222222222222,
              "#7201a8"
             ],
             [
              0.3333333333333333,
              "#9c179e"
             ],
             [
              0.4444444444444444,
              "#bd3786"
             ],
             [
              0.5555555555555556,
              "#d8576b"
             ],
             [
              0.6666666666666666,
              "#ed7953"
             ],
             [
              0.7777777777777778,
              "#fb9f3a"
             ],
             [
              0.8888888888888888,
              "#fdca26"
             ],
             [
              1,
              "#f0f921"
             ]
            ],
            "type": "surface"
           }
          ],
          "table": [
           {
            "cells": {
             "fill": {
              "color": "#EBF0F8"
             },
             "line": {
              "color": "white"
             }
            },
            "header": {
             "fill": {
              "color": "#C8D4E3"
             },
             "line": {
              "color": "white"
             }
            },
            "type": "table"
           }
          ]
         },
         "layout": {
          "annotationdefaults": {
           "arrowcolor": "#2a3f5f",
           "arrowhead": 0,
           "arrowwidth": 1
          },
          "autotypenumbers": "strict",
          "coloraxis": {
           "colorbar": {
            "outlinewidth": 0,
            "ticks": ""
           }
          },
          "colorscale": {
           "diverging": [
            [
             0,
             "#8e0152"
            ],
            [
             0.1,
             "#c51b7d"
            ],
            [
             0.2,
             "#de77ae"
            ],
            [
             0.3,
             "#f1b6da"
            ],
            [
             0.4,
             "#fde0ef"
            ],
            [
             0.5,
             "#f7f7f7"
            ],
            [
             0.6,
             "#e6f5d0"
            ],
            [
             0.7,
             "#b8e186"
            ],
            [
             0.8,
             "#7fbc41"
            ],
            [
             0.9,
             "#4d9221"
            ],
            [
             1,
             "#276419"
            ]
           ],
           "sequential": [
            [
             0,
             "#0d0887"
            ],
            [
             0.1111111111111111,
             "#46039f"
            ],
            [
             0.2222222222222222,
             "#7201a8"
            ],
            [
             0.3333333333333333,
             "#9c179e"
            ],
            [
             0.4444444444444444,
             "#bd3786"
            ],
            [
             0.5555555555555556,
             "#d8576b"
            ],
            [
             0.6666666666666666,
             "#ed7953"
            ],
            [
             0.7777777777777778,
             "#fb9f3a"
            ],
            [
             0.8888888888888888,
             "#fdca26"
            ],
            [
             1,
             "#f0f921"
            ]
           ],
           "sequentialminus": [
            [
             0,
             "#0d0887"
            ],
            [
             0.1111111111111111,
             "#46039f"
            ],
            [
             0.2222222222222222,
             "#7201a8"
            ],
            [
             0.3333333333333333,
             "#9c179e"
            ],
            [
             0.4444444444444444,
             "#bd3786"
            ],
            [
             0.5555555555555556,
             "#d8576b"
            ],
            [
             0.6666666666666666,
             "#ed7953"
            ],
            [
             0.7777777777777778,
             "#fb9f3a"
            ],
            [
             0.8888888888888888,
             "#fdca26"
            ],
            [
             1,
             "#f0f921"
            ]
           ]
          },
          "colorway": [
           "#636efa",
           "#EF553B",
           "#00cc96",
           "#ab63fa",
           "#FFA15A",
           "#19d3f3",
           "#FF6692",
           "#B6E880",
           "#FF97FF",
           "#FECB52"
          ],
          "font": {
           "color": "#2a3f5f"
          },
          "geo": {
           "bgcolor": "white",
           "lakecolor": "white",
           "landcolor": "#E5ECF6",
           "showlakes": true,
           "showland": true,
           "subunitcolor": "white"
          },
          "hoverlabel": {
           "align": "left"
          },
          "hovermode": "closest",
          "mapbox": {
           "style": "light"
          },
          "paper_bgcolor": "white",
          "plot_bgcolor": "#E5ECF6",
          "polar": {
           "angularaxis": {
            "gridcolor": "white",
            "linecolor": "white",
            "ticks": ""
           },
           "bgcolor": "#E5ECF6",
           "radialaxis": {
            "gridcolor": "white",
            "linecolor": "white",
            "ticks": ""
           }
          },
          "scene": {
           "xaxis": {
            "backgroundcolor": "#E5ECF6",
            "gridcolor": "white",
            "gridwidth": 2,
            "linecolor": "white",
            "showbackground": true,
            "ticks": "",
            "zerolinecolor": "white"
           },
           "yaxis": {
            "backgroundcolor": "#E5ECF6",
            "gridcolor": "white",
            "gridwidth": 2,
            "linecolor": "white",
            "showbackground": true,
            "ticks": "",
            "zerolinecolor": "white"
           },
           "zaxis": {
            "backgroundcolor": "#E5ECF6",
            "gridcolor": "white",
            "gridwidth": 2,
            "linecolor": "white",
            "showbackground": true,
            "ticks": "",
            "zerolinecolor": "white"
           }
          },
          "shapedefaults": {
           "line": {
            "color": "#2a3f5f"
           }
          },
          "ternary": {
           "aaxis": {
            "gridcolor": "white",
            "linecolor": "white",
            "ticks": ""
           },
           "baxis": {
            "gridcolor": "white",
            "linecolor": "white",
            "ticks": ""
           },
           "bgcolor": "#E5ECF6",
           "caxis": {
            "gridcolor": "white",
            "linecolor": "white",
            "ticks": ""
           }
          },
          "title": {
           "x": 0.05
          },
          "xaxis": {
           "automargin": true,
           "gridcolor": "white",
           "linecolor": "white",
           "ticks": "",
           "title": {
            "standoff": 15
           },
           "zerolinecolor": "white",
           "zerolinewidth": 2
          },
          "yaxis": {
           "automargin": true,
           "gridcolor": "white",
           "linecolor": "white",
           "ticks": "",
           "title": {
            "standoff": 15
           },
           "zerolinecolor": "white",
           "zerolinewidth": 2
          }
         }
        },
        "title": {
         "text": "UMAP on PCA Components"
        },
        "width": 1000,
        "xaxis": {
         "anchor": "y",
         "domain": [
          0,
          1
         ],
         "showticklabels": false,
         "title": {
          "text": ""
         }
        },
        "yaxis": {
         "anchor": "x",
         "domain": [
          0,
          1
         ],
         "showticklabels": false,
         "title": {
          "text": ""
         }
        }
       }
      }
     },
     "metadata": {},
     "output_type": "display_data"
    }
   ],
   "source": [
    "# Run UMAP with PCA components\n",
    "#pca_result = PCA().fit_transform(feature_matrix)\n",
    "num_components = int(input('Enter the number of PCA components to use for UMAP after looking at the iteration and elbow plot: '))\n",
    "pca_reduced_features = pca_result[:, :num_components]\n",
    "umap_result = UMAP(random_state=123).fit_transform(pca_reduced_features)\n",
    "umap_df_pca = pd.DataFrame(umap_result, columns=[\"V1\", \"V2\"])\n",
    "umap_df_pca['Faculty_Full_Name'] = raw_data['Faculty_Full_Name']\n",
    "umap_df_pca = umap_df_pca.merge(top_mesh_terms_df, on='Faculty_Full_Name', how='left')\n",
    "fig = px.scatter(umap_df_pca, x=\"V1\", y=\"V2\", title=\"UMAP on PCA Components\", hover_name=\"Faculty_Full_Name\",\n",
    "                 hover_data={\"V1\": False, \"V2\": False,\n",
    "                             'Top_Mesh_Terms': True},\n",
    "                 width=1000, height=1000, color_discrete_sequence=['#fecc07'])\n",
    "fig_show(fig)"
   ]
  },
  {
   "cell_type": "markdown",
   "id": "e7967e31",
   "metadata": {},
   "source": [
    "# K-means clustering on UMAP coordinates"
   ]
  },
  {
   "cell_type": "markdown",
   "id": "a96dbcf2",
   "metadata": {},
   "source": [
    "## Identify optimal number of clusters using silhouette score\n",
    "Can go with highest peak but then won't include as many clusters. Can have a rule that I want X number of clusters."
   ]
  },
  {
   "cell_type": "code",
   "execution_count": 24,
   "id": "95878171",
   "metadata": {},
   "outputs": [
    {
     "data": {
      "image/png": "[encoded data removed]",
      "text/plain": [
       "<Figure size 1000x600 with 1 Axes>"
      ]
     },
     "metadata": {},
     "output_type": "display_data"
    },
    {
     "name": "stdout",
     "output_type": "stream",
     "text": [
      "Optimal number of clusters based on silhouette score: 4\n"
     ]
    }
   ],
   "source": [
    "def avg_silhouette(data, k):\n",
    "    kmeans = KMeans(n_clusters=k, random_state=123, n_init=\"auto\").fit(data)\n",
    "    labels = kmeans.labels_\n",
    "    sil_score = silhouette_score(data, labels)\n",
    "    return sil_score\n",
    "\n",
    "# Create a clean dataframe with only numeric columns for clustering\n",
    "umap_embeddings_for_silhouette = umap_df_pca[['V1', 'V2']].copy()\n",
    "\n",
    "# Calculate silhouette scores for different K values\n",
    "k_values = range(2, 10)\n",
    "silhouette_scores = [avg_silhouette(umap_embeddings_for_silhouette, k) for k in k_values]\n",
    "\n",
    "# Calculate silhouette scores for different K\n",
    "# Min number of clusters is 2. Max number of clusters is 50.\n",
    "# Plot the results\n",
    "plt.figure(figsize=(10, 6))\n",
    "plt.plot(k_values, silhouette_scores, 'b*-')\n",
    "plt.xlabel('Number of clusters K')\n",
    "plt.ylabel('Average Silhouette Width')\n",
    "plt.title('Silhouette Score for Different K')\n",
    "plt.grid(True, linestyle='--', alpha=0.7)\n",
    "plt.show()\n",
    "\n",
    "# Find the optimal number of clusters\n",
    "optimal_k = k_values[np.argmax(silhouette_scores)]\n",
    "print(f\"Optimal number of clusters based on silhouette score: {optimal_k}\")"
   ]
  },
  {
   "cell_type": "code",
   "execution_count": 25,
   "id": "9c166a25",
   "metadata": {},
   "outputs": [
    {
     "name": "stdout",
     "output_type": "stream",
     "text": [
      "Number of K-means clusters: 4\n"
     ]
    },
    {
     "data": {
      "application/vnd.plotly.v1+json": {
       "config": {
        "plotlyServerURL": "https://plot.ly"
       },
       "data": [
        {
         "customdata": [
          [
           [
            "Soil",
            "Droughts",
            "Resilience__Psychological",
            "Temperature",
            "Interdisciplinary_Research"
           ]
          ],
          [
           [
            "Biodiversity",
            "Ecological_and_Environmental_Phenomena"
           ]
          ],
          [
           [
            "Phylogeny",
            "Clustered_Regularly_Interspaced_Short_Palindromic_Repeats",
            "Evolution__Molecular"
           ]
          ],
          [
           [
            "Genotype",
            "Alleles",
            "Evolution__Molecular",
            "Chromatin",
            "Gene_Regulatory_Networks"
           ]
          ],
          [
           [
            "Temperature",
            "Soil",
            "Resilience__Psychological",
            "Droughts",
            "Computer_Simulation"
           ]
          ],
          [
           [
            "Biological_Evolution",
            "Computer_Simulation",
            "Computational_Biology",
            "Ecological_and_Environmental_Phenomena",
            "Genetics"
           ]
          ],
          [
           [
            "Genetic_Variation",
            "Chromatin",
            "Epigenomics",
            "Temperature",
            "Droughts"
           ]
          ],
          [
           [
            "Neurodegenerative_Diseases",
            "Anti_Bacterial_Agents",
            "Computer_Simulation",
            "Anti_Infective_Agents",
            "Computational_Biology"
           ]
          ],
          [
           [
            "Temperature",
            "Ecological_and_Environmental_Phenomena",
            "Soil",
            "Nutrients",
            "Biodiversity"
           ]
          ],
          [
           [
            "Chromatin",
            "Organoids",
            "Alleles",
            "Phylogeny",
            "Evolution__Molecular"
           ]
          ],
          [
           [
            "Temperature",
            "Ecological_and_Environmental_Phenomena",
            "Biodiversity"
           ]
          ],
          [
           [
            "Parasites",
            "Diet",
            "Epigenomics",
            "Evolution__Molecular",
            "Nutrients"
           ]
          ],
          [
           [
            "Genotype",
            "Aging",
            "Macrophages",
            "Persistent_Infection",
            "CRISPR_Cas_Systems"
           ]
          ],
          [
           [
            "Aging",
            "Synapses",
            "Computer_Simulation",
            "Memory_Consolidation",
            "Genetics"
           ]
          ],
          [
           [
            "Temperature",
            "Ecological_and_Environmental_Phenomena"
           ]
          ],
          [
           [
            "Temperature",
            "Ecological_and_Environmental_Phenomena",
            "Biodiversity",
            "Genetics",
            "Anti_Bacterial_Agents"
           ]
          ],
          [
           [
            "Biological_Evolution",
            "Droughts",
            "Alleles",
            "Genetic_Variation",
            "Biodiversity"
           ]
          ],
          [
           [
            "Evolution__Molecular",
            "Phylogeny",
            "Ecological_and_Environmental_Phenomena",
            "Biological_Evolution",
            "Genetics"
           ]
          ],
          [
           [
            "Soil",
            "Droughts",
            "Biological_Evolution",
            "Pandemics",
            "Ecological_and_Environmental_Phenomena"
           ]
          ],
          [
           [
            "Nutrients",
            "Biodiversity",
            "Escherichia_coli",
            "Anti_Bacterial_Agents",
            "Evolution__Molecular"
           ]
          ],
          [
           [
            "Biodiversity",
            "Ecological_and_Environmental_Phenomena",
            "Temperature"
           ]
          ],
          [
           [
            "Biological_Evolution"
           ]
          ],
          [
           [
            "Biodiversity",
            "Interdisciplinary_Research",
            "Temperature",
            "Resilience__Psychological",
            "Diet"
           ]
          ],
          [
           [
            "Alleles",
            "Mitochondria",
            "Cell_Death",
            "Neurodegenerative_Diseases"
           ]
          ],
          [
           [
            "Ecological_and_Environmental_Phenomena",
            "Phylogeny",
            "Computer_Simulation",
            "Alleles"
           ]
          ],
          [
           [
            "Soil",
            "Temperature",
            "Resilience__Psychological",
            "Droughts",
            "Genotype"
           ]
          ]
         ],
         "hovertemplate": "<b>%{hovertext}</b><br><br>kmeans_cluster=2<br>Top_Mesh_Terms=%{customdata[0]}<extra></extra>",
         "hovertext": [
          "Allison, Steven",
          "Bracken, Matthew",
          "Briscoe, Adriana",
          "Emerson, J.J.",
          "Faiola, Celia",
          "Frank, Steven",
          "Gaut, Brandon",
          "Gross, Steven",
          "Huxman, Travis",
          "Kvon, Evgeny",
          "Lamb, Joleah",
          "Lee, Grace",
          "Long, Anthony",
          "Lur, Gyorgy",
          "Lutterschmidt, Deborah",
          "Martiny, Adam",
          "Mooney, Kailen",
          "Ranz, Jose",
          "Rebolleda-Gomez, Maria",
          "Rodriguez Verdugo, Alejandra",
          "Sorte, Cascade",
          "Striedter, Georg",
          "Symons, Celia",
          "Thompson-Peer, Katherine",
          "Thornton, Kevin",
          "Treseder, Kathleen"
         ],
         "legendgroup": "2",
         "marker": {
          "color": "rgb(231, 63, 116)",
          "symbol": "circle"
         },
         "mode": "markers",
         "name": "2",
         "orientation": "v",
         "showlegend": true,
         "type": "scatter",
         "x": [
          5.3664227,
          4.2616196,
          5.6538467,
          5.6791534,
          5.1391735,
          4.629628,
          4.8819265,
          5.8943777,
          4.6368365,
          5.463941,
          4.829601,
          5.3488936,
          5.140677,
          5.506574,
          4.362182,
          4.6280026,
          4.7064676,
          4.4627094,
          4.843538,
          4.6188993,
          4.3159847,
          4.725529,
          4.9306746,
          5.539399,
          4.2783546,
          5.4004636
         ],
         "xaxis": "x",
         "y": [
          8.62386,
          8.09615,
          8.81999,
          8.212385,
          8.105835,
          9.287298,
          8.611103,
          8.414107,
          8.290805,
          8.270225,
          8.223127,
          10.117743,
          9.019498,
          8.288063,
          8.04268,
          8.351351,
          9.381955,
          8.8065605,
          9.2652025,
          8.688754,
          8.021302,
          9.614508,
          8.189921,
          8.117071,
          8.119485,
          8.416674
         ],
         "yaxis": "y"
        },
        {
         "customdata": [
          [
           [
            "Phosphorylation",
            "Computational_Biology",
            "Genetics",
            "Hippo_Signaling_Pathway",
            "Cell_Line__Tumor"
           ]
          ],
          [
           [
            "Molecular_Biology",
            "Immunity",
            "Carcinogenesis",
            "T_Lymphocytes",
            "Phosphorylation"
           ]
          ],
          [
           [
            "Biomechanical_Phenomena",
            "Aging",
            "Temperature"
           ]
          ],
          [
           []
          ],
          [
           [
            "Phosphorylation",
            "Ligands",
            "Diabetes_Mellitus",
            "Child",
            "Alleles"
           ]
          ],
          [
           []
          ],
          [
           [
            "Gene_Regulatory_Networks",
            "Chromatin",
            "Multiomics",
            "Cell_Differentiation",
            "Computational_Biology"
           ]
          ],
          [
           [
            "Neuroimaging",
            "Magnetic_Resonance_Imaging",
            "Pregnancy",
            "Computer_Simulation",
            "Adolescent"
           ]
          ],
          [
           [
            "Magnetic_Resonance_Imaging",
            "Temperature",
            "Genotype",
            "Ligands"
           ]
          ],
          [
           [
            "Diet",
            "Temperature"
           ]
          ],
          [
           [
            "Biomechanical_Phenomena",
            "Resilience__Psychological",
            "Interdisciplinary_Research",
            "Computer_Simulation"
           ]
          ],
          [
           [
            "CRISPR_Cas_Systems",
            "Tumor_Microenvironment",
            "Nutrients",
            "Ligands",
            "Alleles"
           ]
          ],
          [
           [
            "Substance_Related_Disorders"
           ]
          ],
          [
           [
            "Anti_Bacterial_Agents",
            "Pandemics",
            "Nutrients",
            "Molecular_Biology",
            "Ligands"
           ]
          ],
          [
           [
            "Nitrogenase",
            "Escherichia_coli",
            "Cell_Line__Tumor",
            "Aged__80_and_over",
            "Phylogeny"
           ]
          ],
          [
           [
            "Colorectal_Neoplasms",
            "Incidence",
            "Survival_Rate",
            "Astrocytes",
            "Tumor_Microenvironment"
           ]
          ],
          [
           [
            "CRISPR_Cas_Systems",
            "Genetics",
            "RNA",
            "Magnetic_Resonance_Imaging",
            "Cell_Death"
           ]
          ],
          [
           [
            "Adolescent",
            "Genotype"
           ]
          ],
          [
           []
          ],
          [
           [
            "Computational_Biology",
            "T_Lymphocytes",
            "Hippo_Signaling_Pathway",
            "Escherichia_coli",
            "Cell_Line__Tumor"
           ]
          ],
          [
           [
            "Reward",
            "Substance_Related_Disorders",
            "Genetics",
            "Adolescent",
            "Neuronal_Plasticity"
           ]
          ],
          [
           [
            "Biomechanical_Phenomena",
            "Biological_Evolution",
            "Ecological_and_Environmental_Phenomena",
            "Evolution__Molecular",
            "Phylogeny"
           ]
          ],
          [
           [
            "Biomechanical_Phenomena",
            "Cues",
            "Ecological_and_Environmental_Phenomena",
            "Zebrafish"
           ]
          ],
          [
           [
            "Sleep",
            "Cues",
            "Neuronal_Plasticity",
            "Synapses",
            "Memory_Consolidation"
           ]
          ],
          [
           [
            "Immunity__Innate",
            "Virus_Diseases",
            "Antiviral_Agents",
            "Incidence",
            "Pandemics"
           ]
          ],
          [
           [
            "Parasites",
            "Toxoplasma",
            "Ligands",
            "Fibroblasts"
           ]
          ],
          [
           [
            "Cytokines",
            "Flow_Cytometry",
            "Cell_Line",
            "Single_Cell_Gene_Expression_Analysis",
            "T_Lymphocytes"
           ]
          ],
          [
           []
          ],
          [
           [
            "Nitrogenase",
            "Oxidation_Reduction",
            "Escherichia_coli",
            "Phylogeny",
            "Evolution__Molecular"
           ]
          ],
          [
           [
            "Incidence",
            "Cell_Proliferation",
            "Tumor_Microenvironment",
            "RNA",
            "Carcinogenesis"
           ]
          ],
          [
           [
            "Genetics",
            "Hippo_Signaling_Pathway",
            "Phosphorylation",
            "Cell_Line__Tumor"
           ]
          ]
         ],
         "hovertemplate": "<b>%{hovertext}</b><br><br>kmeans_cluster=1<br>Top_Mesh_Terms=%{customdata[0]}<extra></extra>",
         "hovertext": [
          "Arora, Kavita",
          "Atwood, Scott",
          "Azizi, Emanuel",
          "Baker, Nicholas",
          "Bardwell, Lee",
          "Burley, Nancy",
          "Cho, Ken",
          "Chrastil, Elizabeth",
          "Cocco, Melanie",
          "Connor, Kwasi",
          "Daley, Monica",
          "Edinger, Aimee",
          "Fortin, Norbert",
          "Goulding, Celia",
          "Hu, Yilin",
          "Hughes, Christopher",
          "James, Anthony",
          "Kim, Seungsoo",
          "Konieczny, Piotr",
          "Luo, Ray",
          "Mahler, Stephen",
          "Martinez, Christopher",
          "McHenry, Matthew",
          "McNaughton, Bruce",
          "Morehouse, Benjamin",
          "Morrissette, Naomi",
          "Nicholas, Dequina",
          "Pizzagalli, Diego",
          "Ribbe, Markus",
          "Sun, Sha",
          "Warrior, Rahul"
         ],
         "legendgroup": "1",
         "marker": {
          "color": "rgb(128, 186, 90)",
          "symbol": "circle"
         },
         "mode": "markers",
         "name": "1",
         "orientation": "v",
         "showlegend": true,
         "type": "scatter",
         "x": [
          7.015878,
          7.2251625,
          4.4973764,
          5.1451354,
          6.3821435,
          5.2972555,
          6.968785,
          6.3457065,
          5.7380786,
          5.4084864,
          4.5904136,
          5.9137516,
          5.373299,
          6.367066,
          6.3838077,
          6.8206587,
          6.0148478,
          5.575335,
          5.348688,
          6.13732,
          7.2731204,
          4.305608,
          4.366466,
          5.3807154,
          5.540885,
          6.5175323,
          6.2892456,
          5.138185,
          6.621378,
          5.9408865,
          6.800698
         ],
         "xaxis": "x",
         "y": [
          13.002153,
          12.32066,
          11.653602,
          11.903501,
          12.990856,
          11.723094,
          12.178931,
          13.151628,
          12.51428,
          11.5928,
          11.689718,
          12.483927,
          11.88328,
          11.757155,
          12.816451,
          11.995704,
          12.208321,
          12.073789,
          11.620516,
          11.9494095,
          12.785611,
          11.369272,
          11.499058,
          12.247654,
          10.475945,
          11.885176,
          11.473239,
          11.751821,
          12.765338,
          10.990098,
          13.058366
         ],
         "yaxis": "y"
        },
        {
         "customdata": [
          [
           [
            "Obesity",
            "Pregnancy",
            "Chromatin",
            "Multiomics",
            "DNA"
           ]
          ],
          [
           [
            "Induced_Pluripotent_Stem_Cells",
            "Cytokines",
            "Macrophages",
            "Disease_Progression",
            "Monocytes"
           ]
          ],
          [
           [
            "Zebrafish",
            "Cell_Communication",
            "Macrophages"
           ]
          ],
          [
           [
            "Diet",
            "Zebrafish",
            "Proteomics",
            "Temperature",
            "Ecological_and_Environmental_Phenomena"
           ]
          ],
          [
           [
            "Cryoelectron_Microscopy",
            "Bacteriophages",
            "Microscopy",
            "Gastrointestinal_Microbiome",
            "Anti_Bacterial_Agents"
           ]
          ],
          [
           [
            "Cell_Proliferation",
            "Amyloid_beta_Peptides",
            "Monocytes",
            "Bone_Marrow",
            "Macrophages"
           ]
          ],
          [
           [
            "Pancreatic_Neoplasms",
            "Tumor_Microenvironment",
            "Fibroblasts",
            "Oxidation_Reduction",
            "Liver_Neoplasms"
           ]
          ],
          [
           [
            "Gastrointestinal_Microbiome",
            "Parasites",
            "Ecological_and_Environmental_Phenomena",
            "Genetics",
            "Diet"
           ]
          ],
          [
           [
            "Hematopoietic_Stem_Cell_Transplantation",
            "Graft_vs_Host_Disease",
            "T_Lymphocytes__Regulatory",
            "Bone_Marrow",
            "Apoptosis"
           ]
          ],
          [
           [
            "Stem_Cells",
            "RNA",
            "Cell_Differentiation",
            "Computational_Biology",
            "Single_Cell_Analysis"
           ]
          ],
          [
           [
            "COVID_19",
            "Neuroinflammatory_Diseases",
            "Pandemics",
            "Multiple_Sclerosis",
            "Virus_Diseases"
           ]
          ],
          [
           [
            "Toxoplasma",
            "Parasites",
            "Monocytes",
            "Phagocytosis",
            "Cytokines"
           ]
          ],
          [
           [
            "Amyloid_beta_Peptides",
            "Gastrointestinal_Microbiome",
            "Astrocytes",
            "Disease_Progression",
            "T_Lymphocytes__Regulatory"
           ]
          ],
          [
           [
            "Soil",
            "Gastrointestinal_Microbiome",
            "Diet",
            "Diabetes_Mellitus",
            "Anti_Bacterial_Agents"
           ]
          ],
          [
           [
            "Inflammasomes",
            "NLR_Family__Pyrin_Domain_Containing_3_Protein",
            "Cryoelectron_Microscopy",
            "CRISPR_Cas_Systems",
            "Apoptosis"
           ]
          ],
          [
           [
            "Cell_Communication",
            "Gene_Regulatory_Networks",
            "Single_Cell_Analysis",
            "Single_Cell_Gene_Expression_Analysis",
            "Computational_Biology"
           ]
          ],
          [
           [
            "Zebrafish",
            "Pancreatic_Neoplasms",
            "Gastrointestinal_Microbiome",
            "Disease_Progression",
            "Child"
           ]
          ],
          [
           [
            "Single_Cell_Gene_Expression_Analysis",
            "Stem_Cells",
            "Fibroblasts",
            "Cell_Communication",
            "Aging"
           ]
          ],
          [
           [
            "Zebrafish",
            "Computer_Simulation",
            "Cell_Proliferation",
            "Biomechanical_Phenomena",
            "Biological_Evolution"
           ]
          ],
          [
           [
            "White_Matter",
            "Neurodegenerative_Diseases",
            "Neuroinflammatory_Diseases",
            "Astrocytes",
            "Proteomics"
           ]
          ],
          [
           [
            "CD8_Positive_T_Lymphocytes",
            "Immune_Checkpoint_Inhibitors",
            "Persistent_Infection",
            "Virus_Diseases",
            "HIV_Infections"
           ]
          ],
          [
           [
            "T_Lymphocytes__Regulatory",
            "Multiple_Sclerosis",
            "Stem_Cells",
            "White_Matter",
            "Macrophages"
           ]
          ],
          [
           [
            "Bacteriophages",
            "Anti_Bacterial_Agents",
            "Gastrointestinal_Microbiome",
            "Escherichia_coli",
            "Nutrients"
           ]
          ],
          [
           [
            "Zebrafish",
            "Gastrointestinal_Microbiome",
            "Bacteriophages",
            "Anti_Bacterial_Agents",
            "Soil"
           ]
          ],
          [
           [
            "Gastrointestinal_Microbiome",
            "Phylogeny"
           ]
          ]
         ],
         "hovertemplate": "<b>%{hovertext}</b><br><br>kmeans_cluster=0<br>Top_Mesh_Terms=%{customdata[0]}<extra></extra>",
         "hovertext": [
          "Blumberg, Bruce",
          "Blurton-Jones, Mathew",
          "Eom, Dae Seok",
          "German, Donovan",
          "Gonen, Shane",
          "Green, Kim",
          "Halbrook, Christopher",
          "Hammer, Tobin",
          "Inlay, Matthew",
          "Lander, Arthur",
          "Lane, Thomas",
          "Lodoen, Melissa",
          "MacGregor, Grant",
          "Martiny, Jennifer",
          "McNulty, Reginald",
          "Nie, Qing",
          "Parsons, Michael",
          "Plikus, Maksim",
          "Schilling, Thomas",
          "Swarup, Vivek",
          "Tinoco, Roberto",
          "Walsh, Craig",
          "Whiteson, Katrine",
          "Wiles, Travis",
          "Xue, Katherine"
         ],
         "legendgroup": "0",
         "marker": {
          "color": "rgb(230, 131, 16)",
          "symbol": "circle"
         },
         "mode": "markers",
         "name": "0",
         "orientation": "v",
         "showlegend": true,
         "type": "scatter",
         "x": [
          8.189323,
          8.0829315,
          7.0386305,
          6.474538,
          7.14601,
          7.848781,
          8.001632,
          6.4477654,
          8.432617,
          7.907319,
          8.339186,
          8.141708,
          7.529185,
          6.6650615,
          8.1538725,
          7.439676,
          7.1901784,
          7.5511875,
          7.2581997,
          8.298151,
          8.477477,
          8.109075,
          7.0843945,
          6.9043016,
          6.497141
         ],
         "xaxis": "x",
         "y": [
          8.773644,
          8.809062,
          8.908326,
          8.781754,
          9.49754,
          9.683604,
          8.988387,
          9.771111,
          10.330552,
          8.7795515,
          9.806938,
          9.19536,
          10.609557,
          9.937578,
          9.527073,
          8.857727,
          9.202947,
          8.656904,
          8.968764,
          9.590241,
          9.699774,
          9.036147,
          10.157896,
          9.246821,
          9.590627
         ],
         "yaxis": "y"
        },
        {
         "customdata": [
          [
           [
            "Down_Syndrome",
            "Cognitive_Dysfunction",
            "Proteomics",
            "Pregnancy",
            "Amyloid_beta_Peptides"
           ]
          ],
          [
           [
            "Magnetic_Resonance_Imaging"
           ]
          ],
          [
           [
            "Cell_Line",
            "Computational_Biology",
            "Aging"
           ]
          ],
          [
           [
            "Synapses"
           ]
          ],
          [
           [
            "Neuronal_Plasticity",
            "Synapses",
            "Astrocytes",
            "Apoptosis",
            "Proteomics"
           ]
          ],
          [
           [
            "Neurodegenerative_Diseases",
            "Stem_Cells",
            "Chromatin",
            "Cell_Line"
           ]
          ],
          [
           [
            "Antiviral_Agents",
            "Virus_Diseases",
            "RNA",
            "Cell_Line",
            "Single_Cell_Gene_Expression_Analysis"
           ]
          ],
          [
           [
            "Nicotine",
            "Chromatin",
            "Microscopy",
            "Clustered_Regularly_Interspaced_Short_Palindromic_Repeats",
            "Cocaine"
           ]
          ],
          [
           [
            "Astrocytes",
            "Magnetic_Resonance_Imaging",
            "Neuronal_Plasticity",
            "Neuroimaging"
           ]
          ],
          [
           [
            "Cell_Line",
            "Cell_Proliferation",
            "Apoptosis",
            "Child",
            "Heterografts"
           ]
          ],
          [
           [
            "Proteomics",
            "Mass_Spectrometry",
            "Escherichia_coli",
            "DNA",
            "Antiviral_Agents"
           ]
          ],
          [
           [
            "Aging",
            "Bacteriophages",
            "Immunity",
            "Neurodegenerative_Diseases",
            "Amyloid_beta_Peptides"
           ]
          ],
          [
           [
            "Ligands",
            "Magnetic_Resonance_Imaging",
            "Neuroimaging",
            "Child",
            "Oxidation_Reduction"
           ]
          ],
          [
           [
            "Amyloid_beta_Peptides",
            "Aged__80_and_over",
            "Cognitive_Dysfunction",
            "Disease_Progression",
            "Neurodegenerative_Diseases"
           ]
          ],
          [
           [
            "Aged__80_and_over",
            "Cognitive_Dysfunction",
            "Aging",
            "Magnetic_Resonance_Imaging",
            "Incidence"
           ]
          ],
          [
           [
            "Colorectal_Neoplasms",
            "Nutrients",
            "Carcinogenesis",
            "Heterografts",
            "AMP_Activated_Protein_Kinases"
           ]
          ],
          [
           [
            "Amyloid_beta_Peptides",
            "Proteomics",
            "Aged__80_and_over",
            "Induced_Pluripotent_Stem_Cells",
            "Single_Cell_Gene_Expression_Analysis"
           ]
          ],
          [
           [
            "Aging",
            "Cell_Proliferation",
            "Cues",
            "Cell_Differentiation",
            "Microscopy"
           ]
          ],
          [
           [
            "Nicotine",
            "Cognitive_Dysfunction"
           ]
          ],
          [
           [
            "Aging",
            "Amyloid_beta_Peptides",
            "Gene_Regulatory_Networks",
            "Single_Cell_Analysis",
            "Chromatin"
           ]
          ],
          [
           [
            "Triple_Negative_Breast_Neoplasms",
            "Oxidative_Phosphorylation",
            "Mitochondria",
            "Survival_Rate",
            "Immune_Checkpoint_Inhibitors"
           ]
          ],
          [
           [
            "Sleep",
            "Memory_Consolidation",
            "Cues",
            "Magnetic_Resonance_Imaging",
            "Neuroimaging"
           ]
          ],
          [
           [
            "Proteomics",
            "Mass_Spectrometry",
            "Astrocytes",
            "Microscopy",
            "Multiomics"
           ]
          ],
          [
           [
            "Aging",
            "Magnetic_Resonance_Imaging",
            "Cognitive_Dysfunction",
            "Neuroimaging",
            "Amyloid_beta_Peptides"
           ]
          ],
          [
           [
            "Microscopy",
            "RNA",
            "Stem_Cells",
            "Pregnancy",
            "Escherichia_coli"
           ]
          ],
          [
           [
            "Nicotine",
            "Reward",
            "Pregnancy",
            "Cognitive_Dysfunction",
            "Cytokines"
           ]
          ],
          [
           [
            "Neuroinflammatory_Diseases",
            "Phagocytosis",
            "Neurodegenerative_Diseases",
            "Amyloid_beta_Peptides",
            "Astrocytes"
           ]
          ],
          [
           [
            "Induced_Pluripotent_Stem_Cells",
            "Neurodegenerative_Diseases",
            "Clustered_Regularly_Interspaced_Short_Palindromic_Repeats",
            "Disease_Progression",
            "Cognitive_Dysfunction"
           ]
          ],
          [
           [
            "COVID_19",
            "Child",
            "Magnetic_Resonance_Imaging",
            "Aged__80_and_over",
            "Cell_Differentiation"
           ]
          ],
          [
           [
            "Hippo_Signaling_Pathway",
            "Cell_Proliferation",
            "Carcinogenesis",
            "Apoptosis",
            "Child"
           ]
          ],
          [
           [
            "Substance_Related_Disorders",
            "Cocaine",
            "Cues",
            "Reward",
            "Neuronal_Plasticity"
           ]
          ],
          [
           [
            "Magnetic_Resonance_Imaging",
            "Neuroimaging",
            "Cognitive_Dysfunction",
            "Interdisciplinary_Research",
            "Child"
           ]
          ]
         ],
         "hovertemplate": "<b>%{hovertext}</b><br><br>kmeans_cluster=3<br>Top_Mesh_Terms=%{customdata[0]}<extra></extra>",
         "hovertext": [
          "Busciglio, Jorge",
          "Cahill, Larry",
          "Cinquin, Olivier",
          "Cohen-Cory, Susana",
          "Cramer, Karina",
          "Donovan, Peter",
          "Drayman, Nir",
          "Fowler, Christie",
          "Frostig, Ron",
          "Fruman, David",
          "Gershon, Paul",
          "Glabe, Charles",
          "Green, Michael",
          "Grill, Joshua",
          "Kawas, Claudia",
          "Kong, Mei",
          "LaFerla, Frank",
          "Lara-Gonzalez, Pablo",
          "Metherate, Raju",
          "Mortazavi, Ali",
          "Razorenova, Olga",
          "Schechtman-Drayman, Eitan",
          "Shi, Xiaoyu",
          "Stark, Craig",
          "Suetterlin, Christine",
          "Sumikawa, Katumi",
          "Tenner, Andrea",
          "Thompson, Leslie",
          "Tsai, Shiou-Chuan",
          "Wang, Wenqi",
          "Wood, Marcelo",
          "Yassa, Michael"
         ],
         "legendgroup": "3",
         "marker": {
          "color": "rgb(0, 134, 149)",
          "symbol": "circle"
         },
         "mode": "markers",
         "name": "3",
         "orientation": "v",
         "showlegend": true,
         "type": "scatter",
         "x": [
          9.551877,
          9.939803,
          9.491572,
          8.61307,
          8.206942,
          8.277707,
          7.4783025,
          9.448917,
          8.970231,
          7.6989074,
          7.9246364,
          7.820811,
          8.093354,
          9.456664,
          9.847562,
          7.7859507,
          8.8532095,
          8.605213,
          9.359648,
          8.829478,
          8.365535,
          10.04969,
          9.672647,
          10.110923,
          7.43995,
          9.466996,
          8.206693,
          8.141166,
          7.6012936,
          8.863428,
          9.261253,
          9.271827
         ],
         "xaxis": "x",
         "y": [
          11.541628,
          11.714442,
          11.877386,
          11.970275,
          11.806452,
          12.603699,
          12.442021,
          12.049973,
          11.873011,
          12.647676,
          12.712669,
          11.958586,
          12.781187,
          11.474261,
          11.838574,
          12.776213,
          11.300848,
          12.491133,
          11.947369,
          12.183982,
          12.471359,
          11.998155,
          11.388749,
          11.864461,
          11.911786,
          11.83112,
          10.918716,
          12.273465,
          12.396161,
          12.230988,
          12.421815,
          11.93612
         ],
         "yaxis": "y"
        }
       ],
       "layout": {
        "height": 1000,
        "legend": {
         "title": {
          "text": "kmeans_cluster"
         },
         "tracegroupgap": 0
        },
        "plot_bgcolor": "#255799",
        "template": {
         "data": {
          "bar": [
           {
            "error_x": {
             "color": "#2a3f5f"
            },
            "error_y": {
             "color": "#2a3f5f"
            },
            "marker": {
             "line": {
              "color": "#E5ECF6",
              "width": 0.5
             },
             "pattern": {
              "fillmode": "overlay",
              "size": 10,
              "solidity": 0.2
             }
            },
            "type": "bar"
           }
          ],
          "barpolar": [
           {
            "marker": {
             "line": {
              "color": "#E5ECF6",
              "width": 0.5
             },
             "pattern": {
              "fillmode": "overlay",
              "size": 10,
              "solidity": 0.2
             }
            },
            "type": "barpolar"
           }
          ],
          "carpet": [
           {
            "aaxis": {
             "endlinecolor": "#2a3f5f",
             "gridcolor": "white",
             "linecolor": "white",
             "minorgridcolor": "white",
             "startlinecolor": "#2a3f5f"
            },
            "baxis": {
             "endlinecolor": "#2a3f5f",
             "gridcolor": "white",
             "linecolor": "white",
             "minorgridcolor": "white",
             "startlinecolor": "#2a3f5f"
            },
            "type": "carpet"
           }
          ],
          "choropleth": [
           {
            "colorbar": {
             "outlinewidth": 0,
             "ticks": ""
            },
            "type": "choropleth"
           }
          ],
          "contour": [
           {
            "colorbar": {
             "outlinewidth": 0,
             "ticks": ""
            },
            "colorscale": [
             [
              0,
              "#0d0887"
             ],
             [
              0.1111111111111111,
              "#46039f"
             ],
             [
              0.2222222222222222,
              "#7201a8"
             ],
             [
              0.3333333333333333,
              "#9c179e"
             ],
             [
              0.4444444444444444,
              "#bd3786"
             ],
             [
              0.5555555555555556,
              "#d8576b"
             ],
             [
              0.6666666666666666,
              "#ed7953"
             ],
             [
              0.7777777777777778,
              "#fb9f3a"
             ],
             [
              0.8888888888888888,
              "#fdca26"
             ],
             [
              1,
              "#f0f921"
             ]
            ],
            "type": "contour"
           }
          ],
          "contourcarpet": [
           {
            "colorbar": {
             "outlinewidth": 0,
             "ticks": ""
            },
            "type": "contourcarpet"
           }
          ],
          "heatmap": [
           {
            "colorbar": {
             "outlinewidth": 0,
             "ticks": ""
            },
            "colorscale": [
             [
              0,
              "#0d0887"
             ],
             [
              0.1111111111111111,
              "#46039f"
             ],
             [
              0.2222222222222222,
              "#7201a8"
             ],
             [
              0.3333333333333333,
              "#9c179e"
             ],
             [
              0.4444444444444444,
              "#bd3786"
             ],
             [
              0.5555555555555556,
              "#d8576b"
             ],
             [
              0.6666666666666666,
              "#ed7953"
             ],
             [
              0.7777777777777778,
              "#fb9f3a"
             ],
             [
              0.8888888888888888,
              "#fdca26"
             ],
             [
              1,
              "#f0f921"
             ]
            ],
            "type": "heatmap"
           }
          ],
          "heatmapgl": [
           {
            "colorbar": {
             "outlinewidth": 0,
             "ticks": ""
            },
            "colorscale": [
             [
              0,
              "#0d0887"
             ],
             [
              0.1111111111111111,
              "#46039f"
             ],
             [
              0.2222222222222222,
              "#7201a8"
             ],
             [
              0.3333333333333333,
              "#9c179e"
             ],
             [
              0.4444444444444444,
              "#bd3786"
             ],
             [
              0.5555555555555556,
              "#d8576b"
             ],
             [
              0.6666666666666666,
              "#ed7953"
             ],
             [
              0.7777777777777778,
              "#fb9f3a"
             ],
             [
              0.8888888888888888,
              "#fdca26"
             ],
             [
              1,
              "#f0f921"
             ]
            ],
            "type": "heatmapgl"
           }
          ],
          "histogram": [
           {
            "marker": {
             "pattern": {
              "fillmode": "overlay",
              "size": 10,
              "solidity": 0.2
             }
            },
            "type": "histogram"
           }
          ],
          "histogram2d": [
           {
            "colorbar": {
             "outlinewidth": 0,
             "ticks": ""
            },
            "colorscale": [
             [
              0,
              "#0d0887"
             ],
             [
              0.1111111111111111,
              "#46039f"
             ],
             [
              0.2222222222222222,
              "#7201a8"
             ],
             [
              0.3333333333333333,
              "#9c179e"
             ],
             [
              0.4444444444444444,
              "#bd3786"
             ],
             [
              0.5555555555555556,
              "#d8576b"
             ],
             [
              0.6666666666666666,
              "#ed7953"
             ],
             [
              0.7777777777777778,
              "#fb9f3a"
             ],
             [
              0.8888888888888888,
              "#fdca26"
             ],
             [
              1,
              "#f0f921"
             ]
            ],
            "type": "histogram2d"
           }
          ],
          "histogram2dcontour": [
           {
            "colorbar": {
             "outlinewidth": 0,
             "ticks": ""
            },
            "colorscale": [
             [
              0,
              "#0d0887"
             ],
             [
              0.1111111111111111,
              "#46039f"
             ],
             [
              0.2222222222222222,
              "#7201a8"
             ],
             [
              0.3333333333333333,
              "#9c179e"
             ],
             [
              0.4444444444444444,
              "#bd3786"
             ],
             [
              0.5555555555555556,
              "#d8576b"
             ],
             [
              0.6666666666666666,
              "#ed7953"
             ],
             [
              0.7777777777777778,
              "#fb9f3a"
             ],
             [
              0.8888888888888888,
              "#fdca26"
             ],
             [
              1,
              "#f0f921"
             ]
            ],
            "type": "histogram2dcontour"
           }
          ],
          "mesh3d": [
           {
            "colorbar": {
             "outlinewidth": 0,
             "ticks": ""
            },
            "type": "mesh3d"
           }
          ],
          "parcoords": [
           {
            "line": {
             "colorbar": {
              "outlinewidth": 0,
              "ticks": ""
             }
            },
            "type": "parcoords"
           }
          ],
          "pie": [
           {
            "automargin": true,
            "type": "pie"
           }
          ],
          "scatter": [
           {
            "fillpattern": {
             "fillmode": "overlay",
             "size": 10,
             "solidity": 0.2
            },
            "type": "scatter"
           }
          ],
          "scatter3d": [
           {
            "line": {
             "colorbar": {
              "outlinewidth": 0,
              "ticks": ""
             }
            },
            "marker": {
             "colorbar": {
              "outlinewidth": 0,
              "ticks": ""
             }
            },
            "type": "scatter3d"
           }
          ],
          "scattercarpet": [
           {
            "marker": {
             "colorbar": {
              "outlinewidth": 0,
              "ticks": ""
             }
            },
            "type": "scattercarpet"
           }
          ],
          "scattergeo": [
           {
            "marker": {
             "colorbar": {
              "outlinewidth": 0,
              "ticks": ""
             }
            },
            "type": "scattergeo"
           }
          ],
          "scattergl": [
           {
            "marker": {
             "colorbar": {
              "outlinewidth": 0,
              "ticks": ""
             }
            },
            "type": "scattergl"
           }
          ],
          "scattermapbox": [
           {
            "marker": {
             "colorbar": {
              "outlinewidth": 0,
              "ticks": ""
             }
            },
            "type": "scattermapbox"
           }
          ],
          "scatterpolar": [
           {
            "marker": {
             "colorbar": {
              "outlinewidth": 0,
              "ticks": ""
             }
            },
            "type": "scatterpolar"
           }
          ],
          "scatterpolargl": [
           {
            "marker": {
             "colorbar": {
              "outlinewidth": 0,
              "ticks": ""
             }
            },
            "type": "scatterpolargl"
           }
          ],
          "scatterternary": [
           {
            "marker": {
             "colorbar": {
              "outlinewidth": 0,
              "ticks": ""
             }
            },
            "type": "scatterternary"
           }
          ],
          "surface": [
           {
            "colorbar": {
             "outlinewidth": 0,
             "ticks": ""
            },
            "colorscale": [
             [
              0,
              "#0d0887"
             ],
             [
              0.1111111111111111,
              "#46039f"
             ],
             [
              0.2222222222222222,
              "#7201a8"
             ],
             [
              0.3333333333333333,
              "#9c179e"
             ],
             [
              0.4444444444444444,
              "#bd3786"
             ],
             [
              0.5555555555555556,
              "#d8576b"
             ],
             [
              0.6666666666666666,
              "#ed7953"
             ],
             [
              0.7777777777777778,
              "#fb9f3a"
             ],
             [
              0.8888888888888888,
              "#fdca26"
             ],
             [
              1,
              "#f0f921"
             ]
            ],
            "type": "surface"
           }
          ],
          "table": [
           {
            "cells": {
             "fill": {
              "color": "#EBF0F8"
             },
             "line": {
              "color": "white"
             }
            },
            "header": {
             "fill": {
              "color": "#C8D4E3"
             },
             "line": {
              "color": "white"
             }
            },
            "type": "table"
           }
          ]
         },
         "layout": {
          "annotationdefaults": {
           "arrowcolor": "#2a3f5f",
           "arrowhead": 0,
           "arrowwidth": 1
          },
          "autotypenumbers": "strict",
          "coloraxis": {
           "colorbar": {
            "outlinewidth": 0,
            "ticks": ""
           }
          },
          "colorscale": {
           "diverging": [
            [
             0,
             "#8e0152"
            ],
            [
             0.1,
             "#c51b7d"
            ],
            [
             0.2,
             "#de77ae"
            ],
            [
             0.3,
             "#f1b6da"
            ],
            [
             0.4,
             "#fde0ef"
            ],
            [
             0.5,
             "#f7f7f7"
            ],
            [
             0.6,
             "#e6f5d0"
            ],
            [
             0.7,
             "#b8e186"
            ],
            [
             0.8,
             "#7fbc41"
            ],
            [
             0.9,
             "#4d9221"
            ],
            [
             1,
             "#276419"
            ]
           ],
           "sequential": [
            [
             0,
             "#0d0887"
            ],
            [
             0.1111111111111111,
             "#46039f"
            ],
            [
             0.2222222222222222,
             "#7201a8"
            ],
            [
             0.3333333333333333,
             "#9c179e"
            ],
            [
             0.4444444444444444,
             "#bd3786"
            ],
            [
             0.5555555555555556,
             "#d8576b"
            ],
            [
             0.6666666666666666,
             "#ed7953"
            ],
            [
             0.7777777777777778,
             "#fb9f3a"
            ],
            [
             0.8888888888888888,
             "#fdca26"
            ],
            [
             1,
             "#f0f921"
            ]
           ],
           "sequentialminus": [
            [
             0,
             "#0d0887"
            ],
            [
             0.1111111111111111,
             "#46039f"
            ],
            [
             0.2222222222222222,
             "#7201a8"
            ],
            [
             0.3333333333333333,
             "#9c179e"
            ],
            [
             0.4444444444444444,
             "#bd3786"
            ],
            [
             0.5555555555555556,
             "#d8576b"
            ],
            [
             0.6666666666666666,
             "#ed7953"
            ],
            [
             0.7777777777777778,
             "#fb9f3a"
            ],
            [
             0.8888888888888888,
             "#fdca26"
            ],
            [
             1,
             "#f0f921"
            ]
           ]
          },
          "colorway": [
           "#636efa",
           "#EF553B",
           "#00cc96",
           "#ab63fa",
           "#FFA15A",
           "#19d3f3",
           "#FF6692",
           "#B6E880",
           "#FF97FF",
           "#FECB52"
          ],
          "font": {
           "color": "#2a3f5f"
          },
          "geo": {
           "bgcolor": "white",
           "lakecolor": "white",
           "landcolor": "#E5ECF6",
           "showlakes": true,
           "showland": true,
           "subunitcolor": "white"
          },
          "hoverlabel": {
           "align": "left"
          },
          "hovermode": "closest",
          "mapbox": {
           "style": "light"
          },
          "paper_bgcolor": "white",
          "plot_bgcolor": "#E5ECF6",
          "polar": {
           "angularaxis": {
            "gridcolor": "white",
            "linecolor": "white",
            "ticks": ""
           },
           "bgcolor": "#E5ECF6",
           "radialaxis": {
            "gridcolor": "white",
            "linecolor": "white",
            "ticks": ""
           }
          },
          "scene": {
           "xaxis": {
            "backgroundcolor": "#E5ECF6",
            "gridcolor": "white",
            "gridwidth": 2,
            "linecolor": "white",
            "showbackground": true,
            "ticks": "",
            "zerolinecolor": "white"
           },
           "yaxis": {
            "backgroundcolor": "#E5ECF6",
            "gridcolor": "white",
            "gridwidth": 2,
            "linecolor": "white",
            "showbackground": true,
            "ticks": "",
            "zerolinecolor": "white"
           },
           "zaxis": {
            "backgroundcolor": "#E5ECF6",
            "gridcolor": "white",
            "gridwidth": 2,
            "linecolor": "white",
            "showbackground": true,
            "ticks": "",
            "zerolinecolor": "white"
           }
          },
          "shapedefaults": {
           "line": {
            "color": "#2a3f5f"
           }
          },
          "ternary": {
           "aaxis": {
            "gridcolor": "white",
            "linecolor": "white",
            "ticks": ""
           },
           "baxis": {
            "gridcolor": "white",
            "linecolor": "white",
            "ticks": ""
           },
           "bgcolor": "#E5ECF6",
           "caxis": {
            "gridcolor": "white",
            "linecolor": "white",
            "ticks": ""
           }
          },
          "title": {
           "x": 0.05
          },
          "xaxis": {
           "automargin": true,
           "gridcolor": "white",
           "linecolor": "white",
           "ticks": "",
           "title": {
            "standoff": 15
           },
           "zerolinecolor": "white",
           "zerolinewidth": 2
          },
          "yaxis": {
           "automargin": true,
           "gridcolor": "white",
           "linecolor": "white",
           "ticks": "",
           "title": {
            "standoff": 15
           },
           "zerolinecolor": "white",
           "zerolinewidth": 2
          }
         }
        },
        "title": {
         "text": "UMAP with K-means Clusters (k=4)"
        },
        "width": 1000,
        "xaxis": {
         "anchor": "y",
         "domain": [
          0,
          1
         ],
         "showticklabels": false,
         "title": {
          "text": ""
         }
        },
        "yaxis": {
         "anchor": "x",
         "domain": [
          0,
          1
         ],
         "showticklabels": false,
         "title": {
          "text": ""
         }
        }
       }
      }
     },
     "metadata": {},
     "output_type": "display_data"
    }
   ],
   "source": [
    "# K-means clustering on UMAP coordinates\n",
    "# Number of clusters for K-means\n",
    "n_clusters = int(input(f\"Enter the number of clusters you want (optimal = {optimal_k}): \")) # You can adjust this parameter to get desired number of clusters\n",
    "\n",
    "# Perform K-means clustering on UMAP coordinates\n",
    "kmeans = KMeans(n_clusters=n_clusters, random_state=42, n_init=10)\n",
    "cluster_labels = kmeans.fit_predict(umap_result)\n",
    "\n",
    "# Add K-means cluster assignments to the dataframe\n",
    "umap_df_pca['kmeans_cluster'] = cluster_labels\n",
    "\n",
    "# Print the number of clusters\n",
    "print(f\"Number of K-means clusters: {n_clusters}\")\n",
    "\n",
    "# Visualize UMAP with K-means clusters\n",
    "umap_df_pca['Faculty_Full_Name'] = raw_data['Faculty_Full_Name']\n",
    "umap_df_pca['kmeans_cluster'] = umap_df_pca['kmeans_cluster'].astype(str)\n",
    "fig = px.scatter(\n",
    "    umap_df_pca,\n",
    "    x=\"V1\",\n",
    "    y=\"V2\",\n",
    "    color='kmeans_cluster',\n",
    "    title=f\"UMAP with K-means Clusters (k={n_clusters})\",\n",
    "    hover_name=\"Faculty_Full_Name\",\n",
    "    hover_data={\"V1\": False, \"V2\": False, 'Top_Mesh_Terms': True},\n",
    "    width=1000,\n",
    "    height=1000,\n",
    "    color_discrete_sequence=px.colors.qualitative.Bold,\n",
    "    category_orders={'kmeans_cluster': sorted(umap_df_pca['kmeans_cluster'].astype(float))}\n",
    ")\n",
    "fig_show(fig)\n",
    "\n",
    "# Process clustering results and prepare for analysis\n",
    "## This block creates a dataframe with numeric data, adds cluster labels, ensures proper data types, and identifies feature columns for further analysis\n",
    "filtered_data_df = pd.DataFrame(feature_matrix)  # Create a new dataframe with numeric data\n",
    "filtered_data_df['cluster'] = kmeans.labels_  # Add cluster labels to the dataframe\n",
    "\n",
    "# Create a clustered dataframe for analysis\n",
    "cluster_feature_matrix = filtered_data_df\n",
    "\n",
    "# Ensure the cluster column is properly formatted\n",
    "cluster_feature_matrix['cluster'] = cluster_feature_matrix['cluster'].astype('category')"
   ]
  },
  {
   "cell_type": "code",
   "execution_count": 26,
   "id": "b3962819",
   "metadata": {},
   "outputs": [],
   "source": [
    "fig.write_html(\"kmeans_umap_clusters.html\")"
   ]
  },
  {
   "cell_type": "markdown",
   "id": "64c6b4ac",
   "metadata": {},
   "source": [
    "# Drill down into clusters"
   ]
  },
  {
   "cell_type": "code",
   "execution_count": 27,
   "id": "b8f4a425",
   "metadata": {},
   "outputs": [],
   "source": [
    "# Display all unique mesh terms associated with professor\n",
    "def get_faculty_mesh_terms(faculty_list, raw_data, mesh_term_columns):\n",
    "    faculty_mesh_terms = {}\n",
    "    all_terms = []\n",
    "\n",
    "    for faculty_name in faculty_list:\n",
    "        if faculty_name in raw_data['Faculty_Full_Name'].values:\n",
    "            faculty_row = raw_data[raw_data['Faculty_Full_Name'] == faculty_name].iloc[0]\n",
    "            unique_terms = [term for term in mesh_term_columns if faculty_row[term] > 0]\n",
    "            faculty_mesh_terms[faculty_name] = unique_terms\n",
    "            all_terms.extend(unique_terms)\n",
    "        else:\n",
    "            faculty_mesh_terms[faculty_name] = f\"Faculty member '{faculty_name}' not found in the data.\"\n",
    "\n",
    "    # Find overlapping terms\n",
    "    term_counts = Counter(all_terms)\n",
    "    overlapping_terms = {term for term, count in term_counts.items() if count == len(faculty_list) and term in [term for terms in faculty_mesh_terms.values() if isinstance(terms, list) for term in terms]}\n",
    "\n",
    "    return faculty_mesh_terms, overlapping_terms\n",
    "\n",
    "# Create a new dataframe with faculty names and their cluster assignments\n",
    "faculty_clusters_df = pd.DataFrame({\n",
    "    'Faculty_Full_Name': raw_data['Faculty_Full_Name'],\n",
    "    'Cluster': kmeans.labels_  # Use the kmeans labels directly\n",
    "})\n",
    "\n",
    "faculty_clusters_df.to_csv('Professor_clusters.csv', index=False)\n",
    "\n",
    "# Returns faculty MeSH terms from a chosen cluster\n",
    "cluster_input = int((input(f\"Enter cluster number: \")))\n",
    "\n",
    "faculty_in_cluster_list = []\n",
    "\n",
    "for index, row in faculty_clusters_df.iterrows():\n",
    "    if row['Cluster'] == cluster_input:\n",
    "        faculty_in_cluster = row['Faculty_Full_Name']\n",
    "        faculty_in_cluster_list.append(faculty_in_cluster)\n",
    "\n",
    "faculty_to_check = faculty_in_cluster_list\n",
    "faculty_mesh_results, common_terms = get_faculty_mesh_terms(faculty_to_check, raw_data, mesh_term_columns)\n",
    "\n",
    "# Prepare data for DataFrame\n",
    "# We'll create a list of dictionaries, where each dictionary will become a row in the DataFrame.\n",
    "csv_data = []\n",
    "for faculty_name, terms_or_message in faculty_mesh_results.items():\n",
    "    if isinstance(terms_or_message, list):\n",
    "        # Join the list of terms into a single comma-separated string\n",
    "        terms_string = \", \".join(terms_or_message)\n",
    "    else:\n",
    "        # If it's a string (e.g., \"Faculty not found\"), use it directly\n",
    "        terms_string = terms_or_message\n",
    "    \n",
    "    csv_data.append({\n",
    "        'Faculty_Full_Name': faculty_name,\n",
    "        'Associated_MeSH_Terms': terms_string\n",
    "    })\n",
    "\n",
    "# Create a pandas DataFrame from the prepared data\n",
    "df_mesh_results = pd.DataFrame(csv_data)\n",
    "\n",
    "# Save the DataFrame to a CSV file\n",
    "# 'index=False' prevents pandas from writing the DataFrame index as a column in the CSV.\n",
    "output_filename = f\"faculty_in_cluster_{cluster_input}.csv\"\n",
    "df_mesh_results.to_csv(output_filename, index=False)"
   ]
  },
  {
   "cell_type": "code",
   "execution_count": null,
   "id": "8d135cc6",
   "metadata": {},
   "outputs": [],
   "source": []
  },
  {
   "cell_type": "code",
   "execution_count": 28,
   "id": "1d1d1c2d",
   "metadata": {},
   "outputs": [],
   "source": [
    "# # Import unique faculty members' MeSH terms as a dictionary\n",
    "# faculty_unique_mesh_terms_df = pd.read_excel(\"faculty_unique_mesh_terms.xlsx\")\n",
    "\n",
    "# faculty_unique_mesh_terms_dict = {}\n",
    "# for index, row in faculty_unique_mesh_terms_df.iterrows():\n",
    "#     faculty_name = row['Faculty_Full_Name']\n",
    "#     mesh_terms = row['Unique_Mesh_Terms'].split(', ') if pd.notna(row['Unique_Mesh_Terms']) else []\n",
    "#     faculty_unique_mesh_terms_dict[faculty_name] = mesh_terms\n",
    "\n",
    "# selected_faculty_unique_mesh_terms = faculty_unique_mesh_terms_dict[input(\"Enter faculty name to get unique MeSH terms: \")]\n",
    "\n",
    "# # Split each string by semicolon and flatten the list\n",
    "# all_terms = [term.strip() for group in selected_faculty_unique_mesh_terms for term in group.split(';')]\n",
    "\n",
    "# # Remove 'nan' and empty strings\n",
    "# cleaned_terms = [term for term in all_terms if term.lower() != 'nan' and term]\n",
    "\n",
    "# # Print each term on a new line\n",
    "# for term in cleaned_terms:\n",
    "#     print(term)"
   ]
  }
 ],
 "metadata": {
  "kernelspec": {
   "display_name": "Python 3.11.5",
   "language": "python",
   "name": "python3"
  },
  "language_info": {
   "codemirror_mode": {
    "name": "ipython",
    "version": 3
   },
   "file_extension": ".py",
   "mimetype": "text/x-python",
   "name": "python",
   "nbconvert_exporter": "python",
   "pygments_lexer": "ipython3",
   "version": "3.11.5"
  },
  "vscode": {
   "interpreter": {
    "hash": "28b2c97abd1662b6f94e87bf0ebe7f03f4c682147a70f751f03b3d06ce655544"
   }
  }
 },
 "nbformat": 4,
 "nbformat_minor": 5
}
